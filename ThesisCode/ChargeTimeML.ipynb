{
 "cells": [
  {
   "cell_type": "markdown",
   "id": "625f4b16",
   "metadata": {},
   "source": [
    "# Charge Time Machine Learning Algorithm Generation"
   ]
  },
  {
   "cell_type": "markdown",
   "id": "7efbcb81",
   "metadata": {},
   "source": [
    "## Splitting the data"
   ]
  },
  {
   "cell_type": "code",
   "execution_count": 1,
   "id": "8def5098",
   "metadata": {},
   "outputs": [],
   "source": [
    "import pandas as pd\n",
    "import datetime as td\n",
    "import  numpy as np\n",
    "import datetime \n",
    "import datetime as dt\n",
    "import math as ma\n",
    "df = pd.read_csv('data/chargeML.csv')\n",
    "df=df._convert(numeric=True)\n",
    "df=df.dropna()\n",
    "#df['date2'] =  pd.to_datetime(df['date2'])\n",
    "#df.index.to_pydatetime() \n",
    "#df=df.date2.to_pydatetime() \n",
    "df['date2']=pd.to_datetime(df.date2)\n",
    "#df['date2'] =  pd.to_datetime(df['date2'])\n",
    "df[\"dayInMonth\"] =df['date2'].dt.day\n",
    "inData=dataSet=df\n",
    "## Need to add a cos function for day of week\n",
    "\n",
    "df[\"cos_week\"] = np.cos(df[\"dayOfWeek\"]/7*2*ma.pi)\n",
    "df[\"sin_hour\"]=np.sin(df[\"dayOfWeek\"]/7*2*ma.pi)"
   ]
  },
  {
   "cell_type": "code",
   "execution_count": 2,
   "id": "d80decb1",
   "metadata": {},
   "outputs": [],
   "source": [
    "from sklearn.model_selection import train_test_split\n",
    "import numpy as np\n",
    "\n",
    "splitOption = 1 # split per day of the month\n",
    "\n",
    "#cutOffTestDate=2022.01.01\n",
    "cutOffTestDate = datetime.datetime(2022, 3, 1)\n",
    "testSet = dataSet.loc[(inData.date2 > cutOffTestDate), :]\n",
    "mainSet = dataSet.loc[(inData.date2 <= cutOffTestDate), :]\n",
    "trainSet = dataSet.loc[(dataSet.dayInMonth > 0) & (dataSet.dayInMonth < 23), :]\n",
    "validSet = dataSet.loc[(dataSet.dayInMonth >= 23) & (inData.date2 <= cutOffTestDate), :]\n",
    "ogWindTrain = trainSet.ActualWind\n",
    "ogWindValid = validSet.ActualWind\n",
    "ogTrainSet=trainSet\n",
    "ogValidSet=validSet"
   ]
  },
  {
   "cell_type": "markdown",
   "id": "f8066827",
   "metadata": {},
   "source": [
    "### Normalising the data"
   ]
  },
  {
   "cell_type": "code",
   "execution_count": 3,
   "id": "4043a9ed",
   "metadata": {},
   "outputs": [],
   "source": [
    "trainDate=trainSet.date2\n",
    "validDate=validSet.date2\n",
    "testDate=testSet.date2"
   ]
  },
  {
   "cell_type": "code",
   "execution_count": 4,
   "id": "d7aa66ff",
   "metadata": {},
   "outputs": [
    {
     "name": "stderr",
     "output_type": "stream",
     "text": [
      "/tmp/ipykernel_778614/1176180537.py:1: FutureWarning: In a future version of pandas all arguments of DataFrame.drop except for the argument 'labels' will be keyword-only.\n",
      "  trainSet=trainSet.drop('date2',1)\n",
      "/tmp/ipykernel_778614/1176180537.py:2: FutureWarning: In a future version of pandas all arguments of DataFrame.drop except for the argument 'labels' will be keyword-only.\n",
      "  validSet=validSet.drop('date2',1)\n",
      "/tmp/ipykernel_778614/1176180537.py:3: FutureWarning: In a future version of pandas all arguments of DataFrame.drop except for the argument 'labels' will be keyword-only.\n",
      "  testSet=testSet.drop('date2',1)\n",
      "/tmp/ipykernel_778614/1176180537.py:4: FutureWarning: In a future version of pandas all arguments of DataFrame.drop except for the argument 'labels' will be keyword-only.\n",
      "  trainSet=trainSet.drop('dayInMonth',1)\n",
      "/tmp/ipykernel_778614/1176180537.py:5: FutureWarning: In a future version of pandas all arguments of DataFrame.drop except for the argument 'labels' will be keyword-only.\n",
      "  validSet=validSet.drop('dayInMonth',1)\n",
      "/tmp/ipykernel_778614/1176180537.py:6: FutureWarning: In a future version of pandas all arguments of DataFrame.drop except for the argument 'labels' will be keyword-only.\n",
      "  testSet=testSet.drop('dayInMonth',1)\n",
      "/tmp/ipykernel_778614/1176180537.py:7: FutureWarning: In a future version of pandas all arguments of DataFrame.drop except for the argument 'labels' will be keyword-only.\n",
      "  trainSet=trainSet.drop('dayOfWeek',1)\n",
      "/tmp/ipykernel_778614/1176180537.py:8: FutureWarning: In a future version of pandas all arguments of DataFrame.drop except for the argument 'labels' will be keyword-only.\n",
      "  validSet=validSet.drop('dayOfWeek',1)\n",
      "/tmp/ipykernel_778614/1176180537.py:9: FutureWarning: In a future version of pandas all arguments of DataFrame.drop except for the argument 'labels' will be keyword-only.\n",
      "  testSet=testSet.drop('dayOfWeek',1)\n",
      "/tmp/ipykernel_778614/1176180537.py:10: FutureWarning: In a future version of pandas all arguments of DataFrame.drop except for the argument 'labels' will be keyword-only.\n",
      "  trainSet=trainSet.drop('dayOfYear',1)\n",
      "/tmp/ipykernel_778614/1176180537.py:11: FutureWarning: In a future version of pandas all arguments of DataFrame.drop except for the argument 'labels' will be keyword-only.\n",
      "  validSet=validSet.drop('dayOfYear',1)\n",
      "/tmp/ipykernel_778614/1176180537.py:12: FutureWarning: In a future version of pandas all arguments of DataFrame.drop except for the argument 'labels' will be keyword-only.\n",
      "  testSet=testSet.drop('dayOfYear',1)\n",
      "/tmp/ipykernel_778614/1176180537.py:13: FutureWarning: In a future version of pandas all arguments of DataFrame.drop except for the argument 'labels' will be keyword-only.\n",
      "  trainSet=trainSet.drop('hour',1)\n",
      "/tmp/ipykernel_778614/1176180537.py:14: FutureWarning: In a future version of pandas all arguments of DataFrame.drop except for the argument 'labels' will be keyword-only.\n",
      "  validSet=validSet.drop('hour',1)\n",
      "/tmp/ipykernel_778614/1176180537.py:15: FutureWarning: In a future version of pandas all arguments of DataFrame.drop except for the argument 'labels' will be keyword-only.\n",
      "  testSet=testSet.drop('hour',1)\n"
     ]
    }
   ],
   "source": [
    "trainSet=trainSet.drop('date2',1)\n",
    "validSet=validSet.drop('date2',1)\n",
    "testSet=testSet.drop('date2',1)\n",
    "trainSet=trainSet.drop('dayInMonth',1)\n",
    "validSet=validSet.drop('dayInMonth',1)\n",
    "testSet=testSet.drop('dayInMonth',1)\n",
    "trainSet=trainSet.drop('dayOfWeek',1)\n",
    "validSet=validSet.drop('dayOfWeek',1)\n",
    "testSet=testSet.drop('dayOfWeek',1)\n",
    "trainSet=trainSet.drop('dayOfYear',1)\n",
    "validSet=validSet.drop('dayOfYear',1)\n",
    "testSet=testSet.drop('dayOfYear',1)\n",
    "trainSet=trainSet.drop('hour',1)\n",
    "validSet=validSet.drop('hour',1)\n",
    "testSet=testSet.drop('hour',1)"
   ]
  },
  {
   "cell_type": "code",
   "execution_count": 5,
   "id": "ce75fb89",
   "metadata": {},
   "outputs": [
    {
     "data": {
      "text/plain": [
       "Index(['ActualGenerationMW', 'ForecastWind', 'ActualWind', 'ActualDemand',\n",
       "       'dub_wddir', 'dub_wdsp', 'dub_temp', 'dub_msl', 'don_wddir', 'don_wdsp',\n",
       "       'don_temp', 'don_msl', 'cla_wddir', 'cla_wdsp', 'cla_temp', 'cla_msl',\n",
       "       'cor_wddir', 'cor_wdsp', 'cor_temp', 'cor_msl', 'sin_hour', 'sin_day',\n",
       "       'cos_hour', 'cos_day', 'sin_dub_wddir', 'cos_dub_wddir',\n",
       "       'sin_cor_wddir', 'cos_cor_wddir', 'sin_cla_wddir', 'cos_cla_wddir',\n",
       "       'sin_don_wddir', 'cos_don_wddir', 'cos_dub_vec', 'sin_dub_vec',\n",
       "       'cos_cor_vec', 'sin_cor_vec', 'cos_cla_vec', 'sin_cla_vec',\n",
       "       'cos_don_vec', 'sin_don_vec', 'year', 'month', 'totalImbalance',\n",
       "       'totalImbalancep', 'imbalanceAverage', 'imbalanceVar',\n",
       "       'imbalanceVarAvg', 'cos_week'],\n",
       "      dtype='object')"
      ]
     },
     "execution_count": 5,
     "metadata": {},
     "output_type": "execute_result"
    }
   ],
   "source": [
    "trainSet.columns"
   ]
  },
  {
   "cell_type": "code",
   "execution_count": 6,
   "id": "ab7b9421",
   "metadata": {},
   "outputs": [],
   "source": [
    "usedColsForecast=['dub_wddir','dub_wdsp','dub_temp','dub_msl',\n",
    "    'don_wddir','don_wdsp','don_temp','don_msl',\n",
    "    'cla_wddir','cla_wdsp','cla_temp','cla_msl',\n",
    "    'cor_wddir','cor_wdsp','cor_temp','cor_msl']\n",
    "\n",
    "usedColsForecastVec=['dub_wddir','dub_wdsp','dub_temp','dub_msl',\n",
    "    'don_wddir','don_wdsp','don_temp','don_msl',\n",
    "    'cla_wddir','cla_wdsp','cla_temp','cla_msl',\n",
    "    'cor_wddir','cor_wdsp','cor_temp','cor_msl',\n",
    "    'cos_dub_vec', 'sin_dub_vec',\n",
    "    'cos_cor_vec', 'sin_cor_vec', 'cos_cla_vec', \n",
    "    'sin_cla_vec','cos_don_vec', 'sin_don_vec']"
   ]
  },
  {
   "cell_type": "code",
   "execution_count": 7,
   "id": "85053619",
   "metadata": {},
   "outputs": [],
   "source": [
    "train_mean = trainSet.mean()\n",
    "train_std = trainSet.std()\n",
    "\n",
    "\n",
    "train_meanSave=train_mean[usedColsForecast]\n",
    "train_stdSave =train_std[usedColsForecast]\n",
    "\n",
    "# Saving columns which are used to transform data used in future predictive modelling\n",
    "np.savetxt(\"./models/train_meanSave.csv\", train_meanSave, delimiter=\",\")\n",
    "np.savetxt(\"./models/train_stdSave.csv\", train_meanSave, delimiter=\",\")\n",
    "\n",
    "train_df = (trainSet - train_mean) / train_std\n",
    "val_df = (validSet - train_mean) / train_std\n",
    "test_df = (testSet - train_mean) / train_std\n",
    "\n",
    "\n",
    "train_meanSaveVec=train_mean[usedColsForecastVec]\n",
    "train_stdSaveVec =train_std[usedColsForecastVec]\n",
    "\n",
    "# Saving columns which are used to transform data used in future predictive modelling\n",
    "np.savetxt(\"./models/train_meanSaveVec.csv\", train_meanSave, delimiter=\",\")\n",
    "np.savetxt(\"./models/train_stdSaveVec.csv\", train_meanSave, delimiter=\",\")\n"
   ]
  },
  {
   "cell_type": "code",
   "execution_count": 8,
   "id": "47333de7",
   "metadata": {},
   "outputs": [],
   "source": [
    "#re-creating date-column\n",
    "train_df['date2']=trainDate\n",
    "val_df['date2']=validDate\n",
    "test_df['date2']=testDate\n",
    "\n",
    "# Re-adding removed columns\n",
    "train_df['hour']=train_df['date2'].dt.hour\n",
    "train_df['dayOfWeek']=train_df['date2'].dt.day_of_week\n",
    "train_df['dayOfYear']=train_df['date2'].dt.day_of_year\n",
    "train_df[\"dayInMonth\"] =train_df['date2'].dt.day\n",
    "# Re-adding removed columns\n",
    "val_df['hour']=val_df['date2'].dt.hour\n",
    "val_df['dayOfWeek']=val_df['date2'].dt.day_of_week\n",
    "val_df['dayOfYear']=val_df['date2'].dt.day_of_year\n",
    "val_df[\"dayInMonth\"] =val_df['date2'].dt.day\n",
    "# Re-adding removed columns\n",
    "test_df['hour']=test_df['date2'].dt.hour\n",
    "test_df['dayOfWeek']=test_df['date2'].dt.day_of_week\n",
    "test_df['dayOfYear']=test_df['date2'].dt.day_of_year\n",
    "test_df[\"dayInMonth\"] =test_df['date2'].dt.day\n",
    "\n",
    "#Resetting the Actual Generation to be non-continuous\n",
    "train_df['ActualGenerationMW']=train_df['ActualGenerationMW']*train_std['ActualGenerationMW']+train_mean['ActualGenerationMW']\n",
    "val_df['ActualGenerationMW']=val_df['ActualGenerationMW']*train_std['ActualGenerationMW']+train_mean['ActualGenerationMW']\n",
    "test_df['ActualGenerationMW']=test_df['ActualGenerationMW']*train_std['ActualGenerationMW']+train_mean['ActualGenerationMW']\n",
    "# Re-setting the names of the columns\n",
    "trainSet=train_df\n",
    "validSet=val_df\n",
    "testSet=test_df"
   ]
  },
  {
   "cell_type": "code",
   "execution_count": 77,
   "id": "811cd393",
   "metadata": {},
   "outputs": [],
   "source": [
    "y_train = ogTrainSet.ActualWind\n",
    "y_valid = ogValidSet.ActualWind\n",
    "y_test = testSet.ActualWind\n",
    "X_train = trainSet\n",
    "X_valid = validSet "
   ]
  },
  {
   "cell_type": "markdown",
   "id": "9ff054ba",
   "metadata": {},
   "source": [
    "## Random forest generation"
   ]
  },
  {
   "cell_type": "markdown",
   "id": "d7bc21e3",
   "metadata": {},
   "source": [
    "### Choosing Columns"
   ]
  },
  {
   "cell_type": "code",
   "execution_count": 10,
   "id": "09b9ada9",
   "metadata": {},
   "outputs": [],
   "source": [
    "#Version 1; Causing failures on kernel for ? reason\n",
    "X_train1 = X_train[['ForecastWind','dayOfWeek','dub_msl','hour','dub_wddir',]]\n",
    "X_valid1 = X_valid[['ForecastWind','dayOfWeek','dub_msl','hour','dub_wddir']]"
   ]
  },
  {
   "cell_type": "code",
   "execution_count": 11,
   "id": "feec4eec",
   "metadata": {},
   "outputs": [
    {
     "data": {
      "text/plain": [
       "Index(['ActualGenerationMW', 'ForecastWind', 'ActualWind', 'ActualDemand',\n",
       "       'dub_wddir', 'dub_wdsp', 'dub_temp', 'dub_msl', 'don_wddir', 'don_wdsp',\n",
       "       'don_temp', 'don_msl', 'cla_wddir', 'cla_wdsp', 'cla_temp', 'cla_msl',\n",
       "       'cor_wddir', 'cor_wdsp', 'cor_temp', 'cor_msl', 'sin_hour', 'sin_day',\n",
       "       'cos_hour', 'cos_day', 'sin_dub_wddir', 'cos_dub_wddir',\n",
       "       'sin_cor_wddir', 'cos_cor_wddir', 'sin_cla_wddir', 'cos_cla_wddir',\n",
       "       'sin_don_wddir', 'cos_don_wddir', 'cos_dub_vec', 'sin_dub_vec',\n",
       "       'cos_cor_vec', 'sin_cor_vec', 'cos_cla_vec', 'sin_cla_vec',\n",
       "       'cos_don_vec', 'sin_don_vec', 'year', 'month', 'totalImbalance',\n",
       "       'totalImbalancep', 'imbalanceAverage', 'imbalanceVar',\n",
       "       'imbalanceVarAvg', 'cos_week', 'date2', 'hour', 'dayOfWeek',\n",
       "       'dayOfYear', 'dayInMonth'],\n",
       "      dtype='object')"
      ]
     },
     "execution_count": 11,
     "metadata": {},
     "output_type": "execute_result"
    }
   ],
   "source": [
    "X_valid.columns"
   ]
  },
  {
   "cell_type": "code",
   "execution_count": 12,
   "id": "e064343a",
   "metadata": {},
   "outputs": [],
   "source": [
    "#Version 1; Causing failures on kernel for ? reason\n",
    "X_train1 = X_train[['ForecastWind','sin_day','sin_hour','cos_day','cos_hour','dub_wddir','dub_wdsp','dub_msl']]\n",
    "X_valid1 = X_valid[['ForecastWind','sin_day','sin_hour','cos_day','cos_hour','dub_wddir','dub_wdsp','dub_msl']]\n",
    "\n",
    "# Version 2\n",
    "X_train1 = X_train[['sin_day','sin_hour','cos_day','cos_hour','dub_wddir','dub_wdsp','dub_msl']]\n",
    "X_valid1 = X_valid[['sin_day','sin_hour','cos_day','cos_hour','dub_wddir','dub_wdsp','dub_msl']]\n",
    "\n",
    "\n",
    "# Version \n",
    "\n",
    "X_train1 = X_train[['sin_day','sin_hour','cos_day','cos_hour','dub_wddir','dub_wdsp','don_wdsp','cor_wdsp','cla_wdsp','dub_msl','don_wdsp','cos_cor_wddir','sin_cor_wddir','dub_temp','cos_dub_wddir','sin_dub_wddir']]\n",
    "X_valid1 = X_valid[['sin_day','sin_hour','cos_day','cos_hour','dub_wddir','dub_wdsp','don_wdsp','cor_wdsp','cla_wdsp','dub_msl','don_wdsp','cos_cor_wddir','sin_cor_wddir','dub_temp','cos_dub_wddir','sin_dub_wddir']]\n"
   ]
  },
  {
   "cell_type": "code",
   "execution_count": 78,
   "id": "39c931bb",
   "metadata": {},
   "outputs": [],
   "source": [
    "#Version 2:\n",
    "X_train2 = X_train[usedColsForecastVec]\n",
    "X_valid2 = X_valid[usedColsForecastVec]\n",
    "# Above produces shitty results for ?? reason\n",
    "\n",
    "#Version 3:\n",
    "X_train3 = X_train[['sin_day','sin_hour','cos_day','cos_hour','dub_wddir','dub_wdsp','dub_msl','sin_cor_vec','cos_cor_vec','cos_cla_vec','sin_cla_vec']]\n",
    "X_valid3 = X_valid[['sin_day','sin_hour','cos_day','cos_hour','dub_wddir','dub_wdsp','dub_msl','sin_cor_vec','cos_cor_vec','cos_cla_vec','sin_cla_vec']]"
   ]
  },
  {
   "cell_type": "code",
   "execution_count": 14,
   "id": "f1f7dede",
   "metadata": {},
   "outputs": [
    {
     "data": {
      "text/plain": [
       "'\\n#Import Random Forest \"Classifier\" Model\\nfrom sklearn.ensemble import RandomForestClassifier\\n\\n#Create a Gaussian Classifier\\n#clf=RandomForestClassifier(n_estimators=50,random_state = 42, max_depth=50, max_leaf_nodes=30)\\nclf=RandomForestClassifier(n_estimators=100,random_state = 42, max_depth=100, max_leaf_nodes=100)\\n#clf=RandomForestClassifier(n_estimators=100,random_state = 43)\\nprint(clf.get_params())\\n#Train the model using the training sets y_pred=clf.predict(X_test)\\n\\n# Training the model\\nclf.fit(X_train1,y_train)\\n\\n#Returning predicted data\\ny_pred=clf.predict(X_valid1)\\n\\n#Using test for training data will run into issues\\n\\n#X_test1 = X_test[[\\'ForecastWind\\',\\'dayOfWeek\\',\\'dub_msl\\',\\'hour\\',\\'dub_wddir\\']]\\n#y_testpred=clf.predict(X_test1)\\n\\n\\n# Plotting last week of data\\nimport matplotlib.pyplot as plt \\nfrom matplotlib.pyplot import figure\\n\\nplt.plot(X_valid[\\'date2\\'][-7*24:],y_pred[-7*24:],color = \\'blue\\')\\nplt.plot(X_valid[\\'date2\\'][-7*24:],y_valid[-7*24:],color = \\'red\\')\\nfig = plt.gcf()\\nfig.set_size_inches(18.5, 10.5)\\nfig.savefig(\\'test2png.png\\', dpi=100)\\n\\nfrom sklearn import metrics\\n\\nprint(\\'Mean Absolute Error:\\', metrics.mean_absolute_error(y_valid, y_pred))\\nprint(\\'Mean Squared Error:\\', metrics.mean_squared_error(y_valid, y_pred))\\nprint(\\'Root Mean Squared Error:\\', np.sqrt(metrics.mean_squared_error(y_valid, y_pred)))'"
      ]
     },
     "execution_count": 14,
     "metadata": {},
     "output_type": "execute_result"
    }
   ],
   "source": [
    "'''\n",
    "#Import Random Forest \"Classifier\" Model\n",
    "from sklearn.ensemble import RandomForestClassifier\n",
    "\n",
    "#Create a Gaussian Classifier\n",
    "#clf=RandomForestClassifier(n_estimators=50,random_state = 42, max_depth=50, max_leaf_nodes=30)\n",
    "clf=RandomForestClassifier(n_estimators=100,random_state = 42, max_depth=100, max_leaf_nodes=100)\n",
    "#clf=RandomForestClassifier(n_estimators=100,random_state = 43)\n",
    "print(clf.get_params())\n",
    "#Train the model using the training sets y_pred=clf.predict(X_test)\n",
    "\n",
    "# Training the model\n",
    "clf.fit(X_train1,y_train)\n",
    "\n",
    "#Returning predicted data\n",
    "y_pred=clf.predict(X_valid1)\n",
    "\n",
    "#Using test for training data will run into issues\n",
    "\n",
    "#X_test1 = X_test[['ForecastWind','dayOfWeek','dub_msl','hour','dub_wddir']]\n",
    "#y_testpred=clf.predict(X_test1)\n",
    "\n",
    "\n",
    "# Plotting last week of data\n",
    "import matplotlib.pyplot as plt \n",
    "from matplotlib.pyplot import figure\n",
    "\n",
    "plt.plot(X_valid['date2'][-7*24:],y_pred[-7*24:],color = 'blue')\n",
    "plt.plot(X_valid['date2'][-7*24:],y_valid[-7*24:],color = 'red')\n",
    "fig = plt.gcf()\n",
    "fig.set_size_inches(18.5, 10.5)\n",
    "fig.savefig('test2png.png', dpi=100)\n",
    "\n",
    "from sklearn import metrics\n",
    "\n",
    "print('Mean Absolute Error:', metrics.mean_absolute_error(y_valid, y_pred))\n",
    "print('Mean Squared Error:', metrics.mean_squared_error(y_valid, y_pred))\n",
    "print('Root Mean Squared Error:', np.sqrt(metrics.mean_squared_error(y_valid, y_pred)))'''"
   ]
  },
  {
   "cell_type": "markdown",
   "id": "ab523414",
   "metadata": {},
   "source": [
    "\n",
    "### Example Baselines \n",
    "\n",
    "clf=RandomForestClassifier(n_estimators=50,random_state = 42, max_depth=50, max_leaf_nodes=30)\n",
    "\n",
    "Using  [['ForecastWind','sin_day','sin_hour']]\n",
    "Mean Absolute Error: 574.4672045420589\n",
    "Mean Squared Error: 532948.2448827133\n",
    "Root Mean Squared Error: 730.0330436923477\n",
    "\n",
    "\n",
    "\n",
    "clf=RandomForestClassifier(n_estimators=50,random_state = 42, max_depth=50, max_leaf_nodes=30)\n",
    "\n",
    "Using [['ForecastWind','sin_day','sin_hour','dub_wddir','dub_wdsp','dub_msl']]\n",
    "Mean Absolute Error: 594.1552368145824\n",
    "Mean Squared Error: 585698.313312416\n",
    "Root Mean Squared Error: 765.3092925820357\n"
   ]
  },
  {
   "cell_type": "markdown",
   "id": "2d4b5cd6",
   "metadata": {},
   "source": [
    "### Reggresion model"
   ]
  },
  {
   "cell_type": "code",
   "execution_count": 15,
   "id": "e8849ed3",
   "metadata": {},
   "outputs": [],
   "source": [
    "from sklearn.ensemble import RandomForestRegressor\n",
    "\n",
    "rrf=RandomForestRegressor(n_estimators=500,random_state = 42, max_depth=400, max_leaf_nodes=400)\n",
    "#rrf=RandomForestRegressor(n_estimators=100,random_state = 42)\n",
    "\n",
    "#clf=RandomForestClassifier(n_estimators=100,random_state = 43)\n",
    "#print(clf.get_params())\n",
    "#Train the model using the training sets y_pred=clf.predict(X_test"
   ]
  },
  {
   "cell_type": "code",
   "execution_count": 16,
   "id": "8b1d76b3",
   "metadata": {},
   "outputs": [
    {
     "data": {
      "text/html": [
       "<style>#sk-container-id-1 {color: black;background-color: white;}#sk-container-id-1 pre{padding: 0;}#sk-container-id-1 div.sk-toggleable {background-color: white;}#sk-container-id-1 label.sk-toggleable__label {cursor: pointer;display: block;width: 100%;margin-bottom: 0;padding: 0.3em;box-sizing: border-box;text-align: center;}#sk-container-id-1 label.sk-toggleable__label-arrow:before {content: \"▸\";float: left;margin-right: 0.25em;color: #696969;}#sk-container-id-1 label.sk-toggleable__label-arrow:hover:before {color: black;}#sk-container-id-1 div.sk-estimator:hover label.sk-toggleable__label-arrow:before {color: black;}#sk-container-id-1 div.sk-toggleable__content {max-height: 0;max-width: 0;overflow: hidden;text-align: left;background-color: #f0f8ff;}#sk-container-id-1 div.sk-toggleable__content pre {margin: 0.2em;color: black;border-radius: 0.25em;background-color: #f0f8ff;}#sk-container-id-1 input.sk-toggleable__control:checked~div.sk-toggleable__content {max-height: 200px;max-width: 100%;overflow: auto;}#sk-container-id-1 input.sk-toggleable__control:checked~label.sk-toggleable__label-arrow:before {content: \"▾\";}#sk-container-id-1 div.sk-estimator input.sk-toggleable__control:checked~label.sk-toggleable__label {background-color: #d4ebff;}#sk-container-id-1 div.sk-label input.sk-toggleable__control:checked~label.sk-toggleable__label {background-color: #d4ebff;}#sk-container-id-1 input.sk-hidden--visually {border: 0;clip: rect(1px 1px 1px 1px);clip: rect(1px, 1px, 1px, 1px);height: 1px;margin: -1px;overflow: hidden;padding: 0;position: absolute;width: 1px;}#sk-container-id-1 div.sk-estimator {font-family: monospace;background-color: #f0f8ff;border: 1px dotted black;border-radius: 0.25em;box-sizing: border-box;margin-bottom: 0.5em;}#sk-container-id-1 div.sk-estimator:hover {background-color: #d4ebff;}#sk-container-id-1 div.sk-parallel-item::after {content: \"\";width: 100%;border-bottom: 1px solid gray;flex-grow: 1;}#sk-container-id-1 div.sk-label:hover label.sk-toggleable__label {background-color: #d4ebff;}#sk-container-id-1 div.sk-serial::before {content: \"\";position: absolute;border-left: 1px solid gray;box-sizing: border-box;top: 0;bottom: 0;left: 50%;z-index: 0;}#sk-container-id-1 div.sk-serial {display: flex;flex-direction: column;align-items: center;background-color: white;padding-right: 0.2em;padding-left: 0.2em;position: relative;}#sk-container-id-1 div.sk-item {position: relative;z-index: 1;}#sk-container-id-1 div.sk-parallel {display: flex;align-items: stretch;justify-content: center;background-color: white;position: relative;}#sk-container-id-1 div.sk-item::before, #sk-container-id-1 div.sk-parallel-item::before {content: \"\";position: absolute;border-left: 1px solid gray;box-sizing: border-box;top: 0;bottom: 0;left: 50%;z-index: -1;}#sk-container-id-1 div.sk-parallel-item {display: flex;flex-direction: column;z-index: 1;position: relative;background-color: white;}#sk-container-id-1 div.sk-parallel-item:first-child::after {align-self: flex-end;width: 50%;}#sk-container-id-1 div.sk-parallel-item:last-child::after {align-self: flex-start;width: 50%;}#sk-container-id-1 div.sk-parallel-item:only-child::after {width: 0;}#sk-container-id-1 div.sk-dashed-wrapped {border: 1px dashed gray;margin: 0 0.4em 0.5em 0.4em;box-sizing: border-box;padding-bottom: 0.4em;background-color: white;}#sk-container-id-1 div.sk-label label {font-family: monospace;font-weight: bold;display: inline-block;line-height: 1.2em;}#sk-container-id-1 div.sk-label-container {text-align: center;}#sk-container-id-1 div.sk-container {/* jupyter's `normalize.less` sets `[hidden] { display: none; }` but bootstrap.min.css set `[hidden] { display: none !important; }` so we also need the `!important` here to be able to override the default hidden behavior on the sphinx rendered scikit-learn.org. See: https://github.com/scikit-learn/scikit-learn/issues/21755 */display: inline-block !important;position: relative;}#sk-container-id-1 div.sk-text-repr-fallback {display: none;}</style><div id=\"sk-container-id-1\" class=\"sk-top-container\"><div class=\"sk-text-repr-fallback\"><pre>RandomForestRegressor(max_depth=400, max_leaf_nodes=400, n_estimators=500,\n",
       "                      random_state=42)</pre><b>In a Jupyter environment, please rerun this cell to show the HTML representation or trust the notebook. <br />On GitHub, the HTML representation is unable to render, please try loading this page with nbviewer.org.</b></div><div class=\"sk-container\" hidden><div class=\"sk-item\"><div class=\"sk-estimator sk-toggleable\"><input class=\"sk-toggleable__control sk-hidden--visually\" id=\"sk-estimator-id-1\" type=\"checkbox\" checked><label for=\"sk-estimator-id-1\" class=\"sk-toggleable__label sk-toggleable__label-arrow\">RandomForestRegressor</label><div class=\"sk-toggleable__content\"><pre>RandomForestRegressor(max_depth=400, max_leaf_nodes=400, n_estimators=500,\n",
       "                      random_state=42)</pre></div></div></div></div></div>"
      ],
      "text/plain": [
       "RandomForestRegressor(max_depth=400, max_leaf_nodes=400, n_estimators=500,\n",
       "                      random_state=42)"
      ]
     },
     "execution_count": 16,
     "metadata": {},
     "output_type": "execute_result"
    }
   ],
   "source": [
    "rrf.fit(X_train1,y_train)"
   ]
  },
  {
   "cell_type": "code",
   "execution_count": 17,
   "id": "6314ca82",
   "metadata": {},
   "outputs": [
    {
     "data": {
      "image/png": "[encoded data removed]",
      "text/plain": [
       "<Figure size 792x504 with 1 Axes>"
      ]
     },
     "metadata": {
      "needs_background": "light"
     },
     "output_type": "display_data"
    }
   ],
   "source": [
    "y_pred=rrf.predict(X_valid1)\n",
    "import matplotlib.pyplot as plt \n",
    "from matplotlib.pyplot import figure\n",
    "\n",
    "plt.plot(X_valid['date2'][-6*24:],y_pred[-6*24:],color = 'blue',label = 'RFF Predicted Wind Geneartion')\n",
    "plt.plot(X_valid['date2'][-6*24:],y_valid[-6*24:],color = 'red',label = 'Actual Wind Generation')\n",
    "plt\n",
    "fig = plt.gcf()\n",
    "plt.legend()\n",
    "#plt.size(7,7)\n",
    "fig.set_size_inches(11, 7)\n",
    "\n",
    "fig.savefig('MLImages/rForestForecast2.png', dpi=100)"
   ]
  },
  {
   "cell_type": "code",
   "execution_count": 18,
   "id": "e09ef186",
   "metadata": {},
   "outputs": [
    {
     "name": "stdout",
     "output_type": "stream",
     "text": [
      "Mean Absolute Error: 320.09325885475073\n",
      "Mean Squared Error: 176364.45774249037\n",
      "Root Mean Squared Error: 419.9576856571271\n"
     ]
    }
   ],
   "source": [
    "from sklearn import metrics\n",
    "\n",
    "print('Mean Absolute Error:', metrics.mean_absolute_error(y_valid, y_pred))\n",
    "print('Mean Squared Error:', metrics.mean_squared_error(y_valid, y_pred))\n",
    "print('Root Mean Squared Error:', np.sqrt(metrics.mean_squared_error(y_valid, y_pred)))"
   ]
  },
  {
   "cell_type": "code",
   "execution_count": 19,
   "id": "3ded3073",
   "metadata": {},
   "outputs": [
    {
     "data": {
      "image/png": "[encoded data removed]",
      "text/plain": [
       "<Figure size 432x288 with 1 Axes>"
      ]
     },
     "metadata": {
      "needs_background": "light"
     },
     "output_type": "display_data"
    }
   ],
   "source": [
    "plt.barh(X_valid1.columns, rrf.feature_importances_)\n",
    "plt.title(\"Random Forest Example Feature Importantences\")\n",
    "plt.savefig(\"MLImages/RforestImportances1.png\")\n",
    "plt.show()"
   ]
  },
  {
   "cell_type": "code",
   "execution_count": 20,
   "id": "a243d770",
   "metadata": {},
   "outputs": [
    {
     "data": {
      "text/html": [
       "<style>#sk-container-id-2 {color: black;background-color: white;}#sk-container-id-2 pre{padding: 0;}#sk-container-id-2 div.sk-toggleable {background-color: white;}#sk-container-id-2 label.sk-toggleable__label {cursor: pointer;display: block;width: 100%;margin-bottom: 0;padding: 0.3em;box-sizing: border-box;text-align: center;}#sk-container-id-2 label.sk-toggleable__label-arrow:before {content: \"▸\";float: left;margin-right: 0.25em;color: #696969;}#sk-container-id-2 label.sk-toggleable__label-arrow:hover:before {color: black;}#sk-container-id-2 div.sk-estimator:hover label.sk-toggleable__label-arrow:before {color: black;}#sk-container-id-2 div.sk-toggleable__content {max-height: 0;max-width: 0;overflow: hidden;text-align: left;background-color: #f0f8ff;}#sk-container-id-2 div.sk-toggleable__content pre {margin: 0.2em;color: black;border-radius: 0.25em;background-color: #f0f8ff;}#sk-container-id-2 input.sk-toggleable__control:checked~div.sk-toggleable__content {max-height: 200px;max-width: 100%;overflow: auto;}#sk-container-id-2 input.sk-toggleable__control:checked~label.sk-toggleable__label-arrow:before {content: \"▾\";}#sk-container-id-2 div.sk-estimator input.sk-toggleable__control:checked~label.sk-toggleable__label {background-color: #d4ebff;}#sk-container-id-2 div.sk-label input.sk-toggleable__control:checked~label.sk-toggleable__label {background-color: #d4ebff;}#sk-container-id-2 input.sk-hidden--visually {border: 0;clip: rect(1px 1px 1px 1px);clip: rect(1px, 1px, 1px, 1px);height: 1px;margin: -1px;overflow: hidden;padding: 0;position: absolute;width: 1px;}#sk-container-id-2 div.sk-estimator {font-family: monospace;background-color: #f0f8ff;border: 1px dotted black;border-radius: 0.25em;box-sizing: border-box;margin-bottom: 0.5em;}#sk-container-id-2 div.sk-estimator:hover {background-color: #d4ebff;}#sk-container-id-2 div.sk-parallel-item::after {content: \"\";width: 100%;border-bottom: 1px solid gray;flex-grow: 1;}#sk-container-id-2 div.sk-label:hover label.sk-toggleable__label {background-color: #d4ebff;}#sk-container-id-2 div.sk-serial::before {content: \"\";position: absolute;border-left: 1px solid gray;box-sizing: border-box;top: 0;bottom: 0;left: 50%;z-index: 0;}#sk-container-id-2 div.sk-serial {display: flex;flex-direction: column;align-items: center;background-color: white;padding-right: 0.2em;padding-left: 0.2em;position: relative;}#sk-container-id-2 div.sk-item {position: relative;z-index: 1;}#sk-container-id-2 div.sk-parallel {display: flex;align-items: stretch;justify-content: center;background-color: white;position: relative;}#sk-container-id-2 div.sk-item::before, #sk-container-id-2 div.sk-parallel-item::before {content: \"\";position: absolute;border-left: 1px solid gray;box-sizing: border-box;top: 0;bottom: 0;left: 50%;z-index: -1;}#sk-container-id-2 div.sk-parallel-item {display: flex;flex-direction: column;z-index: 1;position: relative;background-color: white;}#sk-container-id-2 div.sk-parallel-item:first-child::after {align-self: flex-end;width: 50%;}#sk-container-id-2 div.sk-parallel-item:last-child::after {align-self: flex-start;width: 50%;}#sk-container-id-2 div.sk-parallel-item:only-child::after {width: 0;}#sk-container-id-2 div.sk-dashed-wrapped {border: 1px dashed gray;margin: 0 0.4em 0.5em 0.4em;box-sizing: border-box;padding-bottom: 0.4em;background-color: white;}#sk-container-id-2 div.sk-label label {font-family: monospace;font-weight: bold;display: inline-block;line-height: 1.2em;}#sk-container-id-2 div.sk-label-container {text-align: center;}#sk-container-id-2 div.sk-container {/* jupyter's `normalize.less` sets `[hidden] { display: none; }` but bootstrap.min.css set `[hidden] { display: none !important; }` so we also need the `!important` here to be able to override the default hidden behavior on the sphinx rendered scikit-learn.org. See: https://github.com/scikit-learn/scikit-learn/issues/21755 */display: inline-block !important;position: relative;}#sk-container-id-2 div.sk-text-repr-fallback {display: none;}</style><div id=\"sk-container-id-2\" class=\"sk-top-container\"><div class=\"sk-text-repr-fallback\"><pre>RandomForestRegressor(n_estimators=200, random_state=42)</pre><b>In a Jupyter environment, please rerun this cell to show the HTML representation or trust the notebook. <br />On GitHub, the HTML representation is unable to render, please try loading this page with nbviewer.org.</b></div><div class=\"sk-container\" hidden><div class=\"sk-item\"><div class=\"sk-estimator sk-toggleable\"><input class=\"sk-toggleable__control sk-hidden--visually\" id=\"sk-estimator-id-2\" type=\"checkbox\" checked><label for=\"sk-estimator-id-2\" class=\"sk-toggleable__label sk-toggleable__label-arrow\">RandomForestRegressor</label><div class=\"sk-toggleable__content\"><pre>RandomForestRegressor(n_estimators=200, random_state=42)</pre></div></div></div></div></div>"
      ],
      "text/plain": [
       "RandomForestRegressor(n_estimators=200, random_state=42)"
      ]
     },
     "execution_count": 20,
     "metadata": {},
     "output_type": "execute_result"
    }
   ],
   "source": [
    "rrf2=RandomForestRegressor(n_estimators=200,random_state = 42)\n",
    "rrf2.fit(X_train3,y_train)"
   ]
  },
  {
   "cell_type": "code",
   "execution_count": 21,
   "id": "a229a093",
   "metadata": {},
   "outputs": [],
   "source": [
    "y_pred2=rrf2.predict(X_valid3)"
   ]
  },
  {
   "cell_type": "code",
   "execution_count": 22,
   "id": "cb91180e",
   "metadata": {},
   "outputs": [
    {
     "data": {
      "image/png": "[encoded data removed]",
      "text/plain": [
       "<Figure size 1332x756 with 1 Axes>"
      ]
     },
     "metadata": {
      "needs_background": "light"
     },
     "output_type": "display_data"
    }
   ],
   "source": [
    "\n",
    "import matplotlib.pyplot as plt \n",
    "from matplotlib.pyplot import figure\n",
    "\n",
    "plt.plot(X_valid['date2'][-7*24:],y_pred[-7*24:],color = 'blue')\n",
    "plt.plot(X_valid['date2'][-7*24:],y_valid[-7*24:],color = 'red')\n",
    "fig = plt.gcf()\n",
    "fig.set_size_inches(18.5, 10.5)\n",
    "fig.savefig('randomForestVec.png', dpi=100)"
   ]
  },
  {
   "cell_type": "markdown",
   "id": "dab09e71",
   "metadata": {},
   "source": [
    "Y u so bad ?"
   ]
  },
  {
   "cell_type": "code",
   "execution_count": 23,
   "id": "20edf149",
   "metadata": {},
   "outputs": [
    {
     "name": "stdout",
     "output_type": "stream",
     "text": [
      "Mean Absolute Error: 380.6242932085637\n",
      "Mean Squared Error: 248819.73832963983\n",
      "Root Mean Squared Error: 498.81834201404405\n"
     ]
    }
   ],
   "source": [
    "from sklearn import metrics\n",
    "\n",
    "print('Mean Absolute Error:', metrics.mean_absolute_error(y_valid, y_pred2))\n",
    "print('Mean Squared Error:', metrics.mean_squared_error(y_valid, y_pred2))\n",
    "print('Root Mean Squared Error:', np.sqrt(metrics.mean_squared_error(y_valid, y_pred2)))"
   ]
  },
  {
   "cell_type": "code",
   "execution_count": 24,
   "id": "27b92912",
   "metadata": {},
   "outputs": [
    {
     "data": {
      "text/plain": [
       "<BarContainer object of 11 artists>"
      ]
     },
     "execution_count": 24,
     "metadata": {},
     "output_type": "execute_result"
    },
    {
     "data": {
      "image/png": "[encoded data removed]",
      "text/plain": [
       "<Figure size 432x288 with 1 Axes>"
      ]
     },
     "metadata": {
      "needs_background": "light"
     },
     "output_type": "display_data"
    }
   ],
   "source": [
    "plt.barh(X_valid3.columns, rrf2.feature_importances_)"
   ]
  },
  {
   "cell_type": "markdown",
   "id": "3b54fc76",
   "metadata": {},
   "source": [
    "This:-\n",
    "rrf=RandomForestRegressor(n_estimators=100,random_state = 42, max_depth=100, max_leaf_nodes=100)\n",
    "\n",
    "Yields this:-\n",
    "Mean Absolute Error: 465.79800324008335\n",
    "Mean Squared Error: 332345.30211887945\n",
    "Root Mean Squared Error: 576.4939740525302\n",
    "\n",
    "This:-\n",
    "rrf=RandomForestRegressor(n_estimators=100,random_state = 42, max_depth=100, max_leaf_nodes=100)\n",
    "\n",
    "Yields this:-\n",
    "Mean Absolute Error: 479.4909188704617\n",
    "Mean Squared Error: 362932.07708576124\n",
    "Root Mean Squared Error: 602.438442569663"
   ]
  },
  {
   "cell_type": "markdown",
   "id": "cdbaa718",
   "metadata": {},
   "source": [
    "## Using Tenserflow"
   ]
  },
  {
   "cell_type": "code",
   "execution_count": 25,
   "id": "1514edd5",
   "metadata": {},
   "outputs": [
    {
     "name": "stderr",
     "output_type": "stream",
     "text": [
      "2022-07-26 18:46:06.510836: W tensorflow/stream_executor/platform/default/dso_loader.cc:64] Could not load dynamic library 'libcudart.so.11.0'; dlerror: libcudart.so.11.0: cannot open shared object file: No such file or directory\n",
      "2022-07-26 18:46:06.510894: I tensorflow/stream_executor/cuda/cudart_stub.cc:29] Ignore above cudart dlerror if you do not have a GPU set up on your machine.\n"
     ]
    }
   ],
   "source": [
    "import tensorflow_decision_forests as tfdf\n"
   ]
  },
  {
   "cell_type": "code",
   "execution_count": 26,
   "id": "e403d2de",
   "metadata": {},
   "outputs": [],
   "source": [
    "trainSetTF=trainSet\n",
    "validSetTF=validSet\n",
    "testSetTF=testSet"
   ]
  },
  {
   "cell_type": "code",
   "execution_count": 27,
   "id": "ea4a74eb",
   "metadata": {},
   "outputs": [
    {
     "name": "stderr",
     "output_type": "stream",
     "text": [
      "/tmp/ipykernel_778614/4217556139.py:2: FutureWarning: In a future version of pandas all arguments of DataFrame.drop except for the argument 'labels' will be keyword-only.\n",
      "  trainSetTF=trainSetTF.drop('date2',1)\n",
      "/tmp/ipykernel_778614/4217556139.py:3: FutureWarning: In a future version of pandas all arguments of DataFrame.drop except for the argument 'labels' will be keyword-only.\n",
      "  validSetTF=validSetTF.drop('date2',1)\n",
      "/tmp/ipykernel_778614/4217556139.py:4: FutureWarning: In a future version of pandas all arguments of DataFrame.drop except for the argument 'labels' will be keyword-only.\n",
      "  testSetTF=testSetTF.drop('date2',1)\n",
      "/tmp/ipykernel_778614/4217556139.py:5: FutureWarning: In a future version of pandas all arguments of DataFrame.drop except for the argument 'labels' will be keyword-only.\n",
      "  trainSetTF=trainSetTF.drop('dayInMonth',1)\n",
      "/tmp/ipykernel_778614/4217556139.py:6: FutureWarning: In a future version of pandas all arguments of DataFrame.drop except for the argument 'labels' will be keyword-only.\n",
      "  validSetTF=validSetTF.drop('dayInMonth',1)\n",
      "/tmp/ipykernel_778614/4217556139.py:7: FutureWarning: In a future version of pandas all arguments of DataFrame.drop except for the argument 'labels' will be keyword-only.\n",
      "  testSetTF=testSetTF.drop('dayInMonth',1)\n",
      "/tmp/ipykernel_778614/4217556139.py:8: FutureWarning: In a future version of pandas all arguments of DataFrame.drop except for the argument 'labels' will be keyword-only.\n",
      "  trainSetTF=trainSetTF.drop('dayOfWeek',1)\n",
      "/tmp/ipykernel_778614/4217556139.py:9: FutureWarning: In a future version of pandas all arguments of DataFrame.drop except for the argument 'labels' will be keyword-only.\n",
      "  validSetTF=validSetTF.drop('dayOfWeek',1)\n",
      "/tmp/ipykernel_778614/4217556139.py:10: FutureWarning: In a future version of pandas all arguments of DataFrame.drop except for the argument 'labels' will be keyword-only.\n",
      "  testSetTF=testSetTF.drop('dayOfWeek',1)\n",
      "/tmp/ipykernel_778614/4217556139.py:11: FutureWarning: In a future version of pandas all arguments of DataFrame.drop except for the argument 'labels' will be keyword-only.\n",
      "  trainSetTF=trainSetTF.drop('dayOfYear',1)\n",
      "/tmp/ipykernel_778614/4217556139.py:12: FutureWarning: In a future version of pandas all arguments of DataFrame.drop except for the argument 'labels' will be keyword-only.\n",
      "  validSetTF=validSetTF.drop('dayOfYear',1)\n",
      "/tmp/ipykernel_778614/4217556139.py:13: FutureWarning: In a future version of pandas all arguments of DataFrame.drop except for the argument 'labels' will be keyword-only.\n",
      "  testSetTF=testSetTF.drop('dayOfYear',1)\n",
      "/tmp/ipykernel_778614/4217556139.py:14: FutureWarning: In a future version of pandas all arguments of DataFrame.drop except for the argument 'labels' will be keyword-only.\n",
      "  trainSetTF=trainSetTF.drop('hour',1)\n",
      "/tmp/ipykernel_778614/4217556139.py:15: FutureWarning: In a future version of pandas all arguments of DataFrame.drop except for the argument 'labels' will be keyword-only.\n",
      "  validSetTF=validSetTF.drop('hour',1)\n",
      "/tmp/ipykernel_778614/4217556139.py:16: FutureWarning: In a future version of pandas all arguments of DataFrame.drop except for the argument 'labels' will be keyword-only.\n",
      "  testSetTF=testSetTF.drop('hour',1)\n"
     ]
    }
   ],
   "source": [
    "#Dropping time from the train and test columns\n",
    "trainSetTF=trainSetTF.drop('date2',1)\n",
    "validSetTF=validSetTF.drop('date2',1)\n",
    "testSetTF=testSetTF.drop('date2',1)\n",
    "trainSetTF=trainSetTF.drop('dayInMonth',1)\n",
    "validSetTF=validSetTF.drop('dayInMonth',1)\n",
    "testSetTF=testSetTF.drop('dayInMonth',1)\n",
    "trainSetTF=trainSetTF.drop('dayOfWeek',1)\n",
    "validSetTF=validSetTF.drop('dayOfWeek',1)\n",
    "testSetTF=testSetTF.drop('dayOfWeek',1)\n",
    "trainSetTF=trainSetTF.drop('dayOfYear',1)\n",
    "validSetTF=validSetTF.drop('dayOfYear',1)\n",
    "testSetTF=testSetTF.drop('dayOfYear',1)\n",
    "trainSetTF=trainSetTF.drop('hour',1)\n",
    "validSetTF=validSetTF.drop('hour',1)\n",
    "testSetTF=testSetTF.drop('hour',1)"
   ]
  },
  {
   "cell_type": "code",
   "execution_count": 28,
   "id": "95cd9d10",
   "metadata": {},
   "outputs": [
    {
     "data": {
      "text/plain": [
       "'\\ntrainSetTF = tfdf.keras.pd_dataframe_to_tf_dataset(trainSetTF, label=label, task=tfdf.keras.Task.REGRESSION)\\ntestSetTF = tfdf.keras.pd_dataframe_to_tf_dataset(testSetTF, label=label, task=tfdf.keras.Task.REGRESSION)\\n'"
      ]
     },
     "execution_count": 28,
     "metadata": {},
     "output_type": "execute_result"
    }
   ],
   "source": [
    "\n",
    "'''\n",
    "trainSetTF = tfdf.keras.pd_dataframe_to_tf_dataset(trainSetTF, label=label, task=tfdf.keras.Task.REGRESSION)\n",
    "testSetTF = tfdf.keras.pd_dataframe_to_tf_dataset(testSetTF, label=label, task=tfdf.keras.Task.REGRESSION)\n",
    "'''"
   ]
  },
  {
   "cell_type": "code",
   "execution_count": 29,
   "id": "239a42ef",
   "metadata": {},
   "outputs": [],
   "source": [
    "\n",
    "y_trainTF = trainSetTF.ActualGenerationMW\n",
    "y_validTF = validSetTF.ActualGenerationMW\n",
    "y_testTF = testSetTF.ActualGenerationMW\n",
    "\n",
    "#Version 1; Causing failures on kernel for ? reason\n",
    "X_trainTF = trainSetTF[['ForecastWind','sin_day','sin_hour','cos_day','cos_hour','dub_wddir','dub_wdsp','dub_msl','ActualGenerationMW']]\n",
    "X_validTF = validSetTF[['ForecastWind','sin_day','sin_hour','cos_day','cos_hour','dub_wddir','dub_wdsp','dub_msl','ActualGenerationMW']]\n"
   ]
  },
  {
   "cell_type": "code",
   "execution_count": 30,
   "id": "7530edb6",
   "metadata": {},
   "outputs": [
    {
     "name": "stderr",
     "output_type": "stream",
     "text": [
      "/home/ubuntu/.local/lib/python3.8/site-packages/tensorflow_decision_forests/keras/core.py:2542: FutureWarning: In a future version of pandas all arguments of DataFrame.drop except for the argument 'labels' will be keyword-only.\n",
      "  features_dataframe = dataframe.drop(label, 1)\n",
      "2022-07-26 18:46:09.449625: W tensorflow/stream_executor/platform/default/dso_loader.cc:64] Could not load dynamic library 'libcuda.so.1'; dlerror: libcuda.so.1: cannot open shared object file: No such file or directory\n",
      "2022-07-26 18:46:09.449680: W tensorflow/stream_executor/cuda/cuda_driver.cc:269] failed call to cuInit: UNKNOWN ERROR (303)\n",
      "2022-07-26 18:46:09.449713: I tensorflow/stream_executor/cuda/cuda_diagnostics.cc:156] kernel driver does not appear to be running on this host (x20217366): /proc/driver/nvidia/version does not exist\n",
      "/home/ubuntu/.local/lib/python3.8/site-packages/tensorflow_decision_forests/keras/core.py:2542: FutureWarning: In a future version of pandas all arguments of DataFrame.drop except for the argument 'labels' will be keyword-only.\n",
      "  features_dataframe = dataframe.drop(label, 1)\n"
     ]
    }
   ],
   "source": [
    "# Running into difficulty converting these columns, so I reset the value of X_train to include ActualGenerationMW\n",
    "label = \"ActualGenerationMW\"\n",
    "'''\n",
    "y_trainTF = tfdf.keras.pd_dataframe_to_tf_dataset(y_trainTF, label=label, task=tfdf.keras.Task.REGRESSION)\n",
    "y_validTF = tfdf.keras.pd_dataframe_to_tf_dataset(y_validTF, label=label, task=tfdf.keras.Task.REGRESSION)\n",
    "y_testTF = tfdf.keras.pd_dataframe_to_tf_dataset(y_testTF, label=label, task=tfdf.keras.Task.REGRESSION)\n",
    "'''\n",
    "\n",
    "X_trainTF = tfdf.keras.pd_dataframe_to_tf_dataset(X_trainTF, label=label, task=tfdf.keras.Task.REGRESSION)\n",
    "\n",
    "X_validTF = tfdf.keras.pd_dataframe_to_tf_dataset(X_validTF, label=label, task=tfdf.keras.Task.REGRESSION)"
   ]
  },
  {
   "cell_type": "code",
   "execution_count": 31,
   "id": "5dd5848b",
   "metadata": {},
   "outputs": [
    {
     "name": "stdout",
     "output_type": "stream",
     "text": [
      "Use /tmp/tmpvv8c_71v as temporary training directory\n",
      "Reading training dataset...\n",
      "Training dataset read in 0:00:09.204791. Found 19674 examples.\n",
      "Training model...\n"
     ]
    },
    {
     "name": "stderr",
     "output_type": "stream",
     "text": [
      "[INFO kernel.cc:1176] Loading model from path /tmp/tmpvv8c_71v/model/ with prefix 65e8bf45acfc4700\n",
      "[INFO abstract_model.cc:1246] Engine \"RandomForestOptPred\" built\n",
      "[INFO kernel.cc:1022] Use fast generic engine\n"
     ]
    },
    {
     "name": "stdout",
     "output_type": "stream",
     "text": [
      "Model trained in 0:00:18.537798\n",
      "Compiling model...\n",
      "WARNING:tensorflow:AutoGraph could not transform <function simple_ml_inference_op_with_handle at 0x7f9918d9e700> and will run it as-is.\n",
      "Please report this to the TensorFlow team. When filing the bug, set the verbosity to 10 (on Linux, `export AUTOGRAPH_VERBOSITY=10`) and attach the full output.\n",
      "Cause: could not get source code\n",
      "To silence this warning, decorate the function with @tf.autograph.experimental.do_not_convert\n"
     ]
    },
    {
     "name": "stderr",
     "output_type": "stream",
     "text": [
      "WARNING:tensorflow:AutoGraph could not transform <function simple_ml_inference_op_with_handle at 0x7f9918d9e700> and will run it as-is.\n",
      "Please report this to the TensorFlow team. When filing the bug, set the verbosity to 10 (on Linux, `export AUTOGRAPH_VERBOSITY=10`) and attach the full output.\n",
      "Cause: could not get source code\n",
      "To silence this warning, decorate the function with @tf.autograph.experimental.do_not_convert\n"
     ]
    },
    {
     "name": "stdout",
     "output_type": "stream",
     "text": [
      "WARNING: AutoGraph could not transform <function simple_ml_inference_op_with_handle at 0x7f9918d9e700> and will run it as-is.\n",
      "Please report this to the TensorFlow team. When filing the bug, set the verbosity to 10 (on Linux, `export AUTOGRAPH_VERBOSITY=10`) and attach the full output.\n",
      "Cause: could not get source code\n",
      "To silence this warning, decorate the function with @tf.autograph.experimental.do_not_convert\n",
      "Model compiled.\n"
     ]
    },
    {
     "data": {
      "text/plain": [
       "<keras.callbacks.History at 0x7f9918f43eb0>"
      ]
     },
     "execution_count": 31,
     "metadata": {},
     "output_type": "execute_result"
    }
   ],
   "source": [
    "#Using keras\n",
    "model_7 = tfdf.keras.RandomForestModel(task = tfdf.keras.Task.REGRESSION)\n",
    "\n",
    "# Train the model.\n",
    "model_7.fit(x=X_trainTF)"
   ]
  },
  {
   "cell_type": "code",
   "execution_count": 32,
   "id": "878ce4be",
   "metadata": {},
   "outputs": [
    {
     "data": {
      "text/plain": [
       "'\\nimport math\\n# Evaluate the model on the test dataset.\\nmodel_7.compile(metrics=[\"mse\"])\\nevaluation = model_7.evaluate(test_ds, return_dict=True)\\n\\nprint(evaluation)\\nprint()\\nprint(f\"MSE: {evaluation[\\'mse\\']}\")\\nprint(f\"RMSE: {math.sqrt(evaluation[\\'mse\\'])}\")'"
      ]
     },
     "execution_count": 32,
     "metadata": {},
     "output_type": "execute_result"
    }
   ],
   "source": [
    "# Not sure what test_ds should be\n",
    "'''\n",
    "import math\n",
    "# Evaluate the model on the test dataset.\n",
    "model_7.compile(metrics=[\"mse\"])\n",
    "evaluation = model_7.evaluate(test_ds, return_dict=True)\n",
    "\n",
    "print(evaluation)\n",
    "print()\n",
    "print(f\"MSE: {evaluation['mse']}\")\n",
    "print(f\"RMSE: {math.sqrt(evaluation['mse'])}\")'''"
   ]
  },
  {
   "cell_type": "code",
   "execution_count": 33,
   "id": "7704be54",
   "metadata": {},
   "outputs": [
    {
     "data": {
      "text/plain": [
       "\"y_pred=model_7.predict(X_valid1)\\nimport matplotlib.pyplot as plt \\nfrom matplotlib.pyplot import figure\\n\\nplt.plot(X_valid['date2'][-7*24:],y_pred[-7*24:],color = 'blue')\\nplt.plot(X_valid['date2'][-7*24:],y_valid[-7*24:],color = 'red')\\nfig = plt.gcf()\\nfig.set_size_inches(18.5, 10.5)\\nfig.savefig('test2png.png', dpi=100)\""
      ]
     },
     "execution_count": 33,
     "metadata": {},
     "output_type": "execute_result"
    }
   ],
   "source": [
    "# Not sure why, but this is\n",
    "'''y_pred=model_7.predict(X_valid1)\n",
    "import matplotlib.pyplot as plt \n",
    "from matplotlib.pyplot import figure\n",
    "\n",
    "plt.plot(X_valid['date2'][-7*24:],y_pred[-7*24:],color = 'blue')\n",
    "plt.plot(X_valid['date2'][-7*24:],y_valid[-7*24:],color = 'red')\n",
    "fig = plt.gcf()\n",
    "fig.set_size_inches(18.5, 10.5)\n",
    "fig.savefig('test2png.png', dpi=100)'''"
   ]
  },
  {
   "cell_type": "code",
   "execution_count": 34,
   "id": "e78c304d",
   "metadata": {},
   "outputs": [
    {
     "name": "stdout",
     "output_type": "stream",
     "text": [
      "Use /tmp/tmptusmaub5 as temporary training directory\n"
     ]
    }
   ],
   "source": [
    "### Another TF model\n",
    "\n",
    "using_col_list = ['ForecastWind','sin_day','sin_hour','cos_day','cos_hour','dub_wddir','dub_wdsp','dub_msl','ActualGenerationMW']\n",
    "using_col_list.remove('ActualGenerationMW')\n",
    "feature_list = []\n",
    "for col in using_col_list:\n",
    "    feature_list.append(tfdf.keras.FeatureUsage(name=col,semantic=tfdf.keras.FeatureSemantic.NUMERICAL))\n",
    "\n",
    "\n",
    "model8 = tfdf.keras.RandomForestModel(features = feature_list, task = tfdf.keras.Task.REGRESSION,\n",
    "    exclude_non_specified_features=True,\n",
    "    num_trees=1000, max_depth=16,\n",
    "    split_axis=\"SPARSE_OBLIQUE\",categorical_algorithm=\"RANDOM\",\n",
    "    missing_value_policy='RANDOM_LOCAL_IMPUTATION',\n",
    "    sparse_oblique_normalization='STANDARD_DEVIATION',\n",
    "    compute_oob_variable_importances=True,\n",
    "    winner_take_all=False)\n",
    "                                                \n",
    "\n",
    "#model8.compile(metrics=[\"Accuracy\"])\n"
   ]
  },
  {
   "cell_type": "code",
   "execution_count": 35,
   "id": "9a32c5b5",
   "metadata": {},
   "outputs": [
    {
     "name": "stdout",
     "output_type": "stream",
     "text": [
      "Reading training dataset...\n",
      "Training dataset read in 0:00:00.652090. Found 19674 examples.\n",
      "Training model...\n"
     ]
    },
    {
     "name": "stderr",
     "output_type": "stream",
     "text": [
      "[INFO kernel.cc:1176] Loading model from path /tmp/tmptusmaub5/model/ with prefix 6257204bcd9a4556\n",
      "[INFO abstract_model.cc:1246] Engine \"RandomForestGeneric\" built\n",
      "[INFO kernel.cc:1022] Use fast generic engine\n"
     ]
    },
    {
     "name": "stdout",
     "output_type": "stream",
     "text": [
      "Model trained in 0:08:28.039115\n",
      "Compiling model...\n",
      "Model compiled.\n"
     ]
    }
   ],
   "source": [
    "from wurlitzer import sys_pipes\n",
    "with sys_pipes():\n",
    "    model8.fit(X_trainTF)"
   ]
  },
  {
   "cell_type": "code",
   "execution_count": 36,
   "id": "6c795833",
   "metadata": {},
   "outputs": [
    {
     "data": {
      "text/plain": [
       "'\\n# Evaluate the model on the test dataset.\\nmodel8.compile(metrics=[\"mse\"])\\nevaluation = model8.evaluate(test_ds, return_dict=True)\\n\\nprint(evaluation)\\nprint()\\nprint(f\"MSE: {evaluation[\\'mse\\']}\")\\nprint(f\"RMSE: {math.sqrt(evaluation[\\'mse\\'])}\")\\n#print(f\"MAE: {evaluation[\\'mae\\']}\")\\n'"
      ]
     },
     "execution_count": 36,
     "metadata": {},
     "output_type": "execute_result"
    }
   ],
   "source": [
    "# Not sure what test_ds should be\n",
    "'''\n",
    "# Evaluate the model on the test dataset.\n",
    "model8.compile(metrics=[\"mse\"])\n",
    "evaluation = model8.evaluate(test_ds, return_dict=True)\n",
    "\n",
    "print(evaluation)\n",
    "print()\n",
    "print(f\"MSE: {evaluation['mse']}\")\n",
    "print(f\"RMSE: {math.sqrt(evaluation['mse'])}\")\n",
    "#print(f\"MAE: {evaluation['mae']}\")\n",
    "'''"
   ]
  },
  {
   "cell_type": "markdown",
   "id": "fb4274bf",
   "metadata": {},
   "source": [
    "Not sure if I'll get much better then above"
   ]
  },
  {
   "cell_type": "markdown",
   "id": "05dcc2a2",
   "metadata": {},
   "source": [
    "## Tenserflow Setup"
   ]
  },
  {
   "cell_type": "code",
   "execution_count": 37,
   "id": "f0e1dac7",
   "metadata": {},
   "outputs": [
    {
     "data": {
      "text/html": [
       "<div>\n",
       "<style scoped>\n",
       "    .dataframe tbody tr th:only-of-type {\n",
       "        vertical-align: middle;\n",
       "    }\n",
       "\n",
       "    .dataframe tbody tr th {\n",
       "        vertical-align: top;\n",
       "    }\n",
       "\n",
       "    .dataframe thead th {\n",
       "        text-align: right;\n",
       "    }\n",
       "</style>\n",
       "<table border=\"1\" class=\"dataframe\">\n",
       "  <thead>\n",
       "    <tr style=\"text-align: right;\">\n",
       "      <th></th>\n",
       "      <th>ActualGenerationMW</th>\n",
       "      <th>ForecastWind</th>\n",
       "      <th>ActualWind</th>\n",
       "      <th>ActualDemand</th>\n",
       "      <th>dub_wddir</th>\n",
       "      <th>dub_wdsp</th>\n",
       "      <th>dub_temp</th>\n",
       "      <th>dub_msl</th>\n",
       "      <th>don_wddir</th>\n",
       "      <th>don_wdsp</th>\n",
       "      <th>...</th>\n",
       "      <th>totalImbalancep</th>\n",
       "      <th>imbalanceAverage</th>\n",
       "      <th>imbalanceVar</th>\n",
       "      <th>imbalanceVarAvg</th>\n",
       "      <th>cos_week</th>\n",
       "      <th>date2</th>\n",
       "      <th>hour</th>\n",
       "      <th>dayOfWeek</th>\n",
       "      <th>dayOfYear</th>\n",
       "      <th>dayInMonth</th>\n",
       "    </tr>\n",
       "  </thead>\n",
       "  <tbody>\n",
       "    <tr>\n",
       "      <th>358</th>\n",
       "      <td>4424.0</td>\n",
       "      <td>0.522420</td>\n",
       "      <td>0.738779</td>\n",
       "      <td>0.349140</td>\n",
       "      <td>-0.863493</td>\n",
       "      <td>0.920818</td>\n",
       "      <td>-0.369401</td>\n",
       "      <td>-0.125044</td>\n",
       "      <td>-0.591666</td>\n",
       "      <td>0.171683</td>\n",
       "      <td>...</td>\n",
       "      <td>-0.393424</td>\n",
       "      <td>0.155009</td>\n",
       "      <td>-0.611777</td>\n",
       "      <td>0.266910</td>\n",
       "      <td>1.414933</td>\n",
       "      <td>2019-04-15 22:00:00</td>\n",
       "      <td>22</td>\n",
       "      <td>0</td>\n",
       "      <td>105</td>\n",
       "      <td>15</td>\n",
       "    </tr>\n",
       "    <tr>\n",
       "      <th>359</th>\n",
       "      <td>4047.0</td>\n",
       "      <td>0.254813</td>\n",
       "      <td>0.369932</td>\n",
       "      <td>-0.210330</td>\n",
       "      <td>-0.732076</td>\n",
       "      <td>0.745700</td>\n",
       "      <td>-0.408998</td>\n",
       "      <td>-0.078412</td>\n",
       "      <td>-0.477421</td>\n",
       "      <td>0.306909</td>\n",
       "      <td>...</td>\n",
       "      <td>-0.201269</td>\n",
       "      <td>0.156442</td>\n",
       "      <td>-0.485531</td>\n",
       "      <td>0.265035</td>\n",
       "      <td>1.414933</td>\n",
       "      <td>2019-04-15 23:00:00</td>\n",
       "      <td>23</td>\n",
       "      <td>0</td>\n",
       "      <td>105</td>\n",
       "      <td>15</td>\n",
       "    </tr>\n",
       "    <tr>\n",
       "      <th>360</th>\n",
       "      <td>3558.0</td>\n",
       "      <td>-0.011142</td>\n",
       "      <td>-0.154712</td>\n",
       "      <td>-0.667444</td>\n",
       "      <td>-0.994911</td>\n",
       "      <td>0.395463</td>\n",
       "      <td>-0.468392</td>\n",
       "      <td>-0.062868</td>\n",
       "      <td>-0.591666</td>\n",
       "      <td>0.712588</td>\n",
       "      <td>...</td>\n",
       "      <td>-0.378643</td>\n",
       "      <td>0.157464</td>\n",
       "      <td>-0.331951</td>\n",
       "      <td>0.264420</td>\n",
       "      <td>0.881553</td>\n",
       "      <td>2019-04-16 00:00:00</td>\n",
       "      <td>0</td>\n",
       "      <td>1</td>\n",
       "      <td>106</td>\n",
       "      <td>16</td>\n",
       "    </tr>\n",
       "    <tr>\n",
       "      <th>361</th>\n",
       "      <td>3385.0</td>\n",
       "      <td>-0.315916</td>\n",
       "      <td>-0.498218</td>\n",
       "      <td>-0.852384</td>\n",
       "      <td>-0.994911</td>\n",
       "      <td>-0.129892</td>\n",
       "      <td>-0.448594</td>\n",
       "      <td>-0.039552</td>\n",
       "      <td>-0.705911</td>\n",
       "      <td>0.577362</td>\n",
       "      <td>...</td>\n",
       "      <td>-0.404510</td>\n",
       "      <td>0.155858</td>\n",
       "      <td>-0.203451</td>\n",
       "      <td>0.264381</td>\n",
       "      <td>0.881553</td>\n",
       "      <td>2019-04-16 01:00:00</td>\n",
       "      <td>1</td>\n",
       "      <td>1</td>\n",
       "      <td>106</td>\n",
       "      <td>16</td>\n",
       "    </tr>\n",
       "    <tr>\n",
       "      <th>362</th>\n",
       "      <td>3574.0</td>\n",
       "      <td>-0.555441</td>\n",
       "      <td>-0.555469</td>\n",
       "      <td>-1.003592</td>\n",
       "      <td>-0.994911</td>\n",
       "      <td>-0.305011</td>\n",
       "      <td>-0.507989</td>\n",
       "      <td>-0.055096</td>\n",
       "      <td>-0.705911</td>\n",
       "      <td>0.442135</td>\n",
       "      <td>...</td>\n",
       "      <td>0.184888</td>\n",
       "      <td>0.154995</td>\n",
       "      <td>-0.237645</td>\n",
       "      <td>0.262835</td>\n",
       "      <td>0.881553</td>\n",
       "      <td>2019-04-16 02:00:00</td>\n",
       "      <td>2</td>\n",
       "      <td>1</td>\n",
       "      <td>106</td>\n",
       "      <td>16</td>\n",
       "    </tr>\n",
       "    <tr>\n",
       "      <th>...</th>\n",
       "      <td>...</td>\n",
       "      <td>...</td>\n",
       "      <td>...</td>\n",
       "      <td>...</td>\n",
       "      <td>...</td>\n",
       "      <td>...</td>\n",
       "      <td>...</td>\n",
       "      <td>...</td>\n",
       "      <td>...</td>\n",
       "      <td>...</td>\n",
       "      <td>...</td>\n",
       "      <td>...</td>\n",
       "      <td>...</td>\n",
       "      <td>...</td>\n",
       "      <td>...</td>\n",
       "      <td>...</td>\n",
       "      <td>...</td>\n",
       "      <td>...</td>\n",
       "      <td>...</td>\n",
       "      <td>...</td>\n",
       "      <td>...</td>\n",
       "    </tr>\n",
       "    <tr>\n",
       "      <th>27489</th>\n",
       "      <td>4992.0</td>\n",
       "      <td>0.002899</td>\n",
       "      <td>0.406535</td>\n",
       "      <td>-0.071916</td>\n",
       "      <td>0.319266</td>\n",
       "      <td>-0.305011</td>\n",
       "      <td>0.541318</td>\n",
       "      <td>-0.669084</td>\n",
       "      <td>0.550785</td>\n",
       "      <td>-0.098770</td>\n",
       "      <td>...</td>\n",
       "      <td>1.324882</td>\n",
       "      <td>0.709731</td>\n",
       "      <td>-0.678327</td>\n",
       "      <td>-1.113124</td>\n",
       "      <td>0.881553</td>\n",
       "      <td>2022-05-22 20:00:00</td>\n",
       "      <td>20</td>\n",
       "      <td>6</td>\n",
       "      <td>142</td>\n",
       "      <td>22</td>\n",
       "    </tr>\n",
       "    <tr>\n",
       "      <th>27490</th>\n",
       "      <td>4659.0</td>\n",
       "      <td>-0.215977</td>\n",
       "      <td>0.132481</td>\n",
       "      <td>-0.208004</td>\n",
       "      <td>0.450684</td>\n",
       "      <td>-0.305011</td>\n",
       "      <td>0.422529</td>\n",
       "      <td>-0.661312</td>\n",
       "      <td>0.550785</td>\n",
       "      <td>-0.369223</td>\n",
       "      <td>...</td>\n",
       "      <td>0.925792</td>\n",
       "      <td>0.709081</td>\n",
       "      <td>-0.689545</td>\n",
       "      <td>-1.118915</td>\n",
       "      <td>0.881553</td>\n",
       "      <td>2022-05-22 21:00:00</td>\n",
       "      <td>21</td>\n",
       "      <td>6</td>\n",
       "      <td>142</td>\n",
       "      <td>22</td>\n",
       "    </tr>\n",
       "    <tr>\n",
       "      <th>27491</th>\n",
       "      <td>4339.0</td>\n",
       "      <td>-0.374559</td>\n",
       "      <td>-0.114355</td>\n",
       "      <td>-0.277792</td>\n",
       "      <td>0.450684</td>\n",
       "      <td>0.045226</td>\n",
       "      <td>0.204748</td>\n",
       "      <td>-0.676855</td>\n",
       "      <td>0.208050</td>\n",
       "      <td>-0.369223</td>\n",
       "      <td>...</td>\n",
       "      <td>0.445405</td>\n",
       "      <td>0.706679</td>\n",
       "      <td>-0.671697</td>\n",
       "      <td>-1.124584</td>\n",
       "      <td>0.881553</td>\n",
       "      <td>2022-05-22 22:00:00</td>\n",
       "      <td>22</td>\n",
       "      <td>6</td>\n",
       "      <td>142</td>\n",
       "      <td>22</td>\n",
       "    </tr>\n",
       "    <tr>\n",
       "      <th>27492</th>\n",
       "      <td>3757.0</td>\n",
       "      <td>-0.381166</td>\n",
       "      <td>-0.110601</td>\n",
       "      <td>-0.674423</td>\n",
       "      <td>0.582102</td>\n",
       "      <td>0.395463</td>\n",
       "      <td>0.046362</td>\n",
       "      <td>-0.700171</td>\n",
       "      <td>0.093805</td>\n",
       "      <td>-0.098770</td>\n",
       "      <td>...</td>\n",
       "      <td>0.000123</td>\n",
       "      <td>0.702884</td>\n",
       "      <td>-0.577451</td>\n",
       "      <td>-1.129430</td>\n",
       "      <td>0.881553</td>\n",
       "      <td>2022-05-22 23:00:00</td>\n",
       "      <td>23</td>\n",
       "      <td>6</td>\n",
       "      <td>142</td>\n",
       "      <td>22</td>\n",
       "    </tr>\n",
       "    <tr>\n",
       "      <th>27709</th>\n",
       "      <td>3856.0</td>\n",
       "      <td>-0.873431</td>\n",
       "      <td>-0.929947</td>\n",
       "      <td>-0.679076</td>\n",
       "      <td>0.844937</td>\n",
       "      <td>-0.480129</td>\n",
       "      <td>-0.270410</td>\n",
       "      <td>0.224696</td>\n",
       "      <td>1.578991</td>\n",
       "      <td>-0.639676</td>\n",
       "      <td>...</td>\n",
       "      <td>0.190430</td>\n",
       "      <td>0.313749</td>\n",
       "      <td>-0.871164</td>\n",
       "      <td>-1.843330</td>\n",
       "      <td>-0.316939</td>\n",
       "      <td>2022-06-01 00:00:00</td>\n",
       "      <td>0</td>\n",
       "      <td>2</td>\n",
       "      <td>152</td>\n",
       "      <td>1</td>\n",
       "    </tr>\n",
       "  </tbody>\n",
       "</table>\n",
       "<p>19674 rows × 53 columns</p>\n",
       "</div>"
      ],
      "text/plain": [
       "       ActualGenerationMW  ForecastWind  ActualWind  ActualDemand  dub_wddir  \\\n",
       "358                4424.0      0.522420    0.738779      0.349140  -0.863493   \n",
       "359                4047.0      0.254813    0.369932     -0.210330  -0.732076   \n",
       "360                3558.0     -0.011142   -0.154712     -0.667444  -0.994911   \n",
       "361                3385.0     -0.315916   -0.498218     -0.852384  -0.994911   \n",
       "362                3574.0     -0.555441   -0.555469     -1.003592  -0.994911   \n",
       "...                   ...           ...         ...           ...        ...   \n",
       "27489              4992.0      0.002899    0.406535     -0.071916   0.319266   \n",
       "27490              4659.0     -0.215977    0.132481     -0.208004   0.450684   \n",
       "27491              4339.0     -0.374559   -0.114355     -0.277792   0.450684   \n",
       "27492              3757.0     -0.381166   -0.110601     -0.674423   0.582102   \n",
       "27709              3856.0     -0.873431   -0.929947     -0.679076   0.844937   \n",
       "\n",
       "       dub_wdsp  dub_temp   dub_msl  don_wddir  don_wdsp  ...  \\\n",
       "358    0.920818 -0.369401 -0.125044  -0.591666  0.171683  ...   \n",
       "359    0.745700 -0.408998 -0.078412  -0.477421  0.306909  ...   \n",
       "360    0.395463 -0.468392 -0.062868  -0.591666  0.712588  ...   \n",
       "361   -0.129892 -0.448594 -0.039552  -0.705911  0.577362  ...   \n",
       "362   -0.305011 -0.507989 -0.055096  -0.705911  0.442135  ...   \n",
       "...         ...       ...       ...        ...       ...  ...   \n",
       "27489 -0.305011  0.541318 -0.669084   0.550785 -0.098770  ...   \n",
       "27490 -0.305011  0.422529 -0.661312   0.550785 -0.369223  ...   \n",
       "27491  0.045226  0.204748 -0.676855   0.208050 -0.369223  ...   \n",
       "27492  0.395463  0.046362 -0.700171   0.093805 -0.098770  ...   \n",
       "27709 -0.480129 -0.270410  0.224696   1.578991 -0.639676  ...   \n",
       "\n",
       "       totalImbalancep  imbalanceAverage  imbalanceVar  imbalanceVarAvg  \\\n",
       "358          -0.393424          0.155009     -0.611777         0.266910   \n",
       "359          -0.201269          0.156442     -0.485531         0.265035   \n",
       "360          -0.378643          0.157464     -0.331951         0.264420   \n",
       "361          -0.404510          0.155858     -0.203451         0.264381   \n",
       "362           0.184888          0.154995     -0.237645         0.262835   \n",
       "...                ...               ...           ...              ...   \n",
       "27489         1.324882          0.709731     -0.678327        -1.113124   \n",
       "27490         0.925792          0.709081     -0.689545        -1.118915   \n",
       "27491         0.445405          0.706679     -0.671697        -1.124584   \n",
       "27492         0.000123          0.702884     -0.577451        -1.129430   \n",
       "27709         0.190430          0.313749     -0.871164        -1.843330   \n",
       "\n",
       "       cos_week               date2  hour  dayOfWeek  dayOfYear  dayInMonth  \n",
       "358    1.414933 2019-04-15 22:00:00    22          0        105          15  \n",
       "359    1.414933 2019-04-15 23:00:00    23          0        105          15  \n",
       "360    0.881553 2019-04-16 00:00:00     0          1        106          16  \n",
       "361    0.881553 2019-04-16 01:00:00     1          1        106          16  \n",
       "362    0.881553 2019-04-16 02:00:00     2          1        106          16  \n",
       "...         ...                 ...   ...        ...        ...         ...  \n",
       "27489  0.881553 2022-05-22 20:00:00    20          6        142          22  \n",
       "27490  0.881553 2022-05-22 21:00:00    21          6        142          22  \n",
       "27491  0.881553 2022-05-22 22:00:00    22          6        142          22  \n",
       "27492  0.881553 2022-05-22 23:00:00    23          6        142          22  \n",
       "27709 -0.316939 2022-06-01 00:00:00     0          2        152           1  \n",
       "\n",
       "[19674 rows x 53 columns]"
      ]
     },
     "execution_count": 37,
     "metadata": {},
     "output_type": "execute_result"
    }
   ],
   "source": [
    "train_df"
   ]
  },
  {
   "cell_type": "code",
   "execution_count": 38,
   "id": "c4be52e2",
   "metadata": {},
   "outputs": [],
   "source": [
    "usedCols=['sin_day','sin_hour','cos_day','cos_hour','dub_wddir','dub_wdsp','dub_temp','dub_msl',\n",
    "    'don_wddir','don_wdsp','don_temp','don_msl',\n",
    "    'cla_wddir','cla_wdsp','cla_temp','cla_msl',\n",
    "    'cor_wddir','cor_wdsp','cor_temp','cor_msl','ActualGenerationMW']\n",
    "\n",
    "train_df3 = train_df[usedCols]\n",
    "val_df3 = val_df[usedCols]\n",
    "test_df3 = test_df[usedCols]"
   ]
  },
  {
   "cell_type": "code",
   "execution_count": 39,
   "id": "05af7a91",
   "metadata": {},
   "outputs": [],
   "source": [
    "class WindowGenerator():\n",
    "  def __init__(self, input_width, label_width, shift,\n",
    "               train_df=train_df, val_df=val_df, test_df=test_df,\n",
    "               label_columns=None):\n",
    "    # Store the raw data.\n",
    "    self.train_df3 = train_df3\n",
    "    self.val_df3 = val_df3\n",
    "    self.test_df3 = test_df3\n",
    "\n",
    "    # Work out the label column indices.\n",
    "    self.label_columns = label_columns\n",
    "    if label_columns is not None:\n",
    "      self.label_columns_indices = {name: i for i, name in\n",
    "                                    enumerate(label_columns)}\n",
    "    self.column_indices = {name: i for i, name in\n",
    "                           enumerate(train_df3.columns)}\n",
    "\n",
    "    # Work out the window parameters.\n",
    "    self.input_width = input_width\n",
    "    self.label_width = label_width\n",
    "    self.shift = shift\n",
    "\n",
    "    self.total_window_size = input_width + shift\n",
    "\n",
    "    self.input_slice = slice(0, input_width)\n",
    "    self.input_indices = np.arange(self.total_window_size)[self.input_slice]\n",
    "\n",
    "    self.label_start = self.total_window_size - self.label_width\n",
    "    self.labels_slice = slice(self.label_start, None)\n",
    "    self.label_indices = np.arange(self.total_window_size)[self.labels_slice]\n",
    "\n",
    "  def __repr__(self):\n",
    "    return '\\n'.join([\n",
    "        f'Total window size: {self.total_window_size}',\n",
    "        f'Input indices: {self.input_indices}',\n",
    "        f'Label indices: {self.label_indices}',\n",
    "        f'Label column name(s): {self.label_columns}'])\n",
    "\n"
   ]
  },
  {
   "cell_type": "code",
   "execution_count": 40,
   "id": "cb6b880b",
   "metadata": {},
   "outputs": [],
   "source": [
    "@property\n",
    "def train(self):\n",
    "  return self.make_dataset(self.train_df3)\n",
    "\n",
    "@property\n",
    "def val(self):\n",
    "  return self.make_dataset(self.val_df3)\n",
    "\n",
    "@property\n",
    "def test(self):\n",
    "  return self.make_dataset(self.test_df3)\n",
    "\n",
    "@property\n",
    "def example(self):\n",
    "  \"\"\"Get and cache an example batch of `inputs, labels` for plotting.\"\"\"\n",
    "  result = getattr(self, '_example', None)\n",
    "  if result is None:\n",
    "    # No example batch was found, so get one from the `.train` dataset\n",
    "    result = next(iter(self.train))\n",
    "    # And cache it for next time\n",
    "    self._example = result\n",
    "  return result\n",
    "\n",
    "WindowGenerator.train = train\n",
    "WindowGenerator.val = val\n",
    "WindowGenerator.test = test\n",
    "WindowGenerator.example = example\n",
    "\n"
   ]
  },
  {
   "cell_type": "code",
   "execution_count": 41,
   "id": "60de4a23",
   "metadata": {},
   "outputs": [],
   "source": [
    "def split_window(self, features):\n",
    "  inputs = features[:, self.input_slice, :]\n",
    "  labels = features[:, self.labels_slice, :]\n",
    "  if self.label_columns is not None:\n",
    "    labels = tf.stack(\n",
    "        [labels[:, :, self.column_indices[name]] for name in self.label_columns],\n",
    "        axis=-1)\n",
    "\n",
    "  # Slicing doesn't preserve static shape information, so set the shapes\n",
    "  # manually. This way the `tf.data.Datasets` are easier to inspect.\n",
    "  inputs.set_shape([None, self.input_width, None])\n",
    "  labels.set_shape([None, self.label_width, None])\n",
    "\n",
    "  return inputs, labels\n",
    "\n",
    "WindowGenerator.split_window = split_window"
   ]
  },
  {
   "cell_type": "code",
   "execution_count": 42,
   "id": "3d35ed52",
   "metadata": {},
   "outputs": [],
   "source": [
    "def plot(self, model=None, plot_col='ActualGenerationMW', max_subplots=3):\n",
    "  inputs, labels = self.example\n",
    "  plt.figure(figsize=(12, 8))\n",
    "  plot_col_index = self.column_indices[plot_col]\n",
    "  max_n = min(max_subplots, len(inputs))\n",
    "  for n in range(max_n):\n",
    "    plt.subplot(max_n, 1, n+1)\n",
    "    plt.ylabel(f'{plot_col} [normed]')\n",
    "    plt.plot(self.input_indices, inputs[n, :, plot_col_index],\n",
    "             label='Inputs', marker='.', zorder=-10)\n",
    "\n",
    "    if self.label_columns:\n",
    "      label_col_index = self.label_columns_indices.get(plot_col, None)\n",
    "    else:\n",
    "      label_col_index = plot_col_index\n",
    "\n",
    "    if label_col_index is None:\n",
    "      continue\n",
    "\n",
    "    plt.scatter(self.label_indices, labels[n, :, label_col_index],\n",
    "                edgecolors='k', label='Labels', c='#2ca02c', s=64)\n",
    "    if model is not None:\n",
    "      predictions = model(inputs)\n",
    "      plt.scatter(self.label_indices, predictions[n, :, label_col_index],\n",
    "                  marker='X', edgecolors='k', label='Predictions',\n",
    "                  c='#ff7f0e', s=64)\n",
    "\n",
    "    if n == 0:\n",
    "      plt.legend()\n",
    "\n",
    "  plt.xlabel('Time [h]')\n",
    "\n",
    "WindowGenerator.plot = plot"
   ]
  },
  {
   "cell_type": "markdown",
   "id": "517a1a17",
   "metadata": {},
   "source": [
    "\n",
    "# Baseline Model"
   ]
  },
  {
   "cell_type": "code",
   "execution_count": 43,
   "id": "e28f09a4",
   "metadata": {},
   "outputs": [],
   "source": [
    "import tensorflow as tf"
   ]
  },
  {
   "cell_type": "code",
   "execution_count": 44,
   "id": "9887656c",
   "metadata": {},
   "outputs": [
    {
     "data": {
      "text/plain": [
       "Total window size: 2\n",
       "Input indices: [0]\n",
       "Label indices: [1]\n",
       "Label column name(s): ['ActualGenerationMW']"
      ]
     },
     "execution_count": 44,
     "metadata": {},
     "output_type": "execute_result"
    }
   ],
   "source": [
    "column_indices = {name: i for i, name in enumerate(df.columns)}\n",
    "\n",
    "n = len(df)\n",
    "train_df = df[0:int(n*0.7)]\n",
    "val_df = df[int(n*0.7):int(n*0.9)]\n",
    "test_df = df[int(n*0.9):]\n",
    "\n",
    "num_features = df.shape[1]\n",
    "single_step_window = WindowGenerator(\n",
    "    input_width=1, label_width=1, shift=1,\n",
    "    label_columns=['ActualGenerationMW'])\n",
    "single_step_window"
   ]
  },
  {
   "cell_type": "code",
   "execution_count": 45,
   "id": "78460d89",
   "metadata": {},
   "outputs": [],
   "source": [
    "def make_dataset(self, data):\n",
    "  data = np.array(data, dtype=np.float32)\n",
    "  ds = tf.keras.utils.timeseries_dataset_from_array(\n",
    "      data=data,\n",
    "      targets=None,\n",
    "      sequence_length=self.total_window_size,\n",
    "      sequence_stride=1,\n",
    "      shuffle=True,\n",
    "      batch_size=32,)\n",
    "\n",
    "  ds = ds.map(self.split_window)\n",
    "\n",
    "  return ds\n",
    "\n",
    "WindowGenerator.make_dataset = make_dataset"
   ]
  },
  {
   "cell_type": "code",
   "execution_count": 46,
   "id": "a80ba1df",
   "metadata": {},
   "outputs": [
    {
     "name": "stdout",
     "output_type": "stream",
     "text": [
      "221/221 [==============================] - 2s 5ms/step - loss: 18810144.0000 - mean_absolute_error: 4249.8535\n"
     ]
    }
   ],
   "source": [
    "class Baseline(tf.keras.Model):\n",
    "  def __init__(self, label_index=None):\n",
    "    super().__init__()\n",
    "    self.label_index = label_index\n",
    "\n",
    "  def call(self, inputs):\n",
    "    if self.label_index is None:\n",
    "      return inputs\n",
    "    result = inputs[:, :, self.label_index]\n",
    "    return result[:, :, tf.newaxis]\n",
    "\n",
    "baseline = Baseline(label_index=column_indices['ActualGenerationMW'])\n",
    "\n",
    "baseline.compile(loss=tf.keras.losses.MeanSquaredError(),\n",
    "                 metrics=[tf.keras.metrics.MeanAbsoluteError()])\n",
    "\n",
    "val_performance = {}\n",
    "performance = {}\n",
    "val_performance['Baseline'] = baseline.evaluate(single_step_window.val)\n",
    "performance['Baseline'] = baseline.evaluate(single_step_window.test, verbose=0)"
   ]
  },
  {
   "cell_type": "code",
   "execution_count": 47,
   "id": "174b9413",
   "metadata": {},
   "outputs": [
    {
     "data": {
      "text/plain": [
       "Total window size: 25\n",
       "Input indices: [ 0  1  2  3  4  5  6  7  8  9 10 11 12 13 14 15 16 17 18 19 20 21 22 23]\n",
       "Label indices: [ 1  2  3  4  5  6  7  8  9 10 11 12 13 14 15 16 17 18 19 20 21 22 23 24]\n",
       "Label column name(s): ['ActualGenerationMW']"
      ]
     },
     "execution_count": 47,
     "metadata": {},
     "output_type": "execute_result"
    }
   ],
   "source": [
    "wide_window = WindowGenerator(\n",
    "    input_width=24, label_width=24, shift=1,\n",
    "    label_columns=['ActualGenerationMW'])\n",
    "\n",
    "wide_window"
   ]
  },
  {
   "cell_type": "code",
   "execution_count": 48,
   "id": "6fd6bdf5",
   "metadata": {},
   "outputs": [
    {
     "name": "stdout",
     "output_type": "stream",
     "text": [
      "Input shape: (32, 24, 21)\n",
      "Output shape: (32, 24, 1)\n"
     ]
    },
    {
     "data": {
      "image/png": "[encoded data removed]",
      "text/plain": [
       "<Figure size 864x576 with 3 Axes>"
      ]
     },
     "metadata": {
      "needs_background": "light"
     },
     "output_type": "display_data"
    }
   ],
   "source": [
    "print('Input shape:', wide_window.example[0].shape)\n",
    "print('Output shape:', baseline(wide_window.example[0]).shape)\n",
    "wide_window.plot(baseline)"
   ]
  },
  {
   "cell_type": "markdown",
   "id": "6ce9ccad",
   "metadata": {},
   "source": [
    "## Convolutional Neural Network\n"
   ]
  },
  {
   "cell_type": "code",
   "execution_count": 49,
   "id": "6abc7f81",
   "metadata": {},
   "outputs": [
    {
     "data": {
      "text/plain": [
       "\"# I think this could be important,\\n# If convulutional width is set to 3, then given 3 hours of inputs it predicts 1 hour into the future\\n# We want for \\nCONV_WIDTH = 3\\n\\nconv_window = WindowGenerator(\\n    input_width=CONV_WIDTH,\\n    label_width=1,\\n    shift=1,\\n    label_columns=['ActualGenerationMW'])\\n\\nconv_window\""
      ]
     },
     "execution_count": 49,
     "metadata": {},
     "output_type": "execute_result"
    }
   ],
   "source": [
    "'''# I think this could be important,\n",
    "# If convulutional width is set to 3, then given 3 hours of inputs it predicts 1 hour into the future\n",
    "# We want for \n",
    "CONV_WIDTH = 3\n",
    "\n",
    "conv_window = WindowGenerator(\n",
    "    input_width=CONV_WIDTH,\n",
    "    label_width=1,\n",
    "    shift=1,\n",
    "    label_columns=['ActualGenerationMW'])\n",
    "\n",
    "conv_window'''"
   ]
  },
  {
   "cell_type": "code",
   "execution_count": 50,
   "id": "d6534cce",
   "metadata": {},
   "outputs": [
    {
     "data": {
      "text/plain": [
       "\"conv_model = tf.keras.Sequential([\\n    tf.keras.layers.Conv1D(filters=32,\\n                           kernel_size=(CONV_WIDTH,),\\n                           activation='relu'),\\n    tf.keras.layers.Dense(units=32, activation='relu'),\\n    tf.keras.layers.Dense(units=1),\\n])\""
      ]
     },
     "execution_count": 50,
     "metadata": {},
     "output_type": "execute_result"
    }
   ],
   "source": [
    "'''conv_model = tf.keras.Sequential([\n",
    "    tf.keras.layers.Conv1D(filters=32,\n",
    "                           kernel_size=(CONV_WIDTH,),\n",
    "                           activation='relu'),\n",
    "    tf.keras.layers.Dense(units=32, activation='relu'),\n",
    "    tf.keras.layers.Dense(units=1),\n",
    "])'''"
   ]
  },
  {
   "cell_type": "markdown",
   "id": "1518629d",
   "metadata": {},
   "source": [
    "## Artificial Neural Networks"
   ]
  },
  {
   "cell_type": "code",
   "execution_count": 51,
   "id": "ca25cd9f",
   "metadata": {},
   "outputs": [
    {
     "name": "stderr",
     "output_type": "stream",
     "text": [
      "/home/ubuntu/.local/lib/python3.8/site-packages/keras/optimizers/optimizer_v2/adam.py:110: UserWarning: The `lr` argument is deprecated, use `learning_rate` instead.\n",
      "  super(Adam, self).__init__(name, **kwargs)\n"
     ]
    }
   ],
   "source": [
    "import tensorflow as tf\n",
    "ann = tf.keras.models.Sequential([            \n",
    "          tf.keras.layers.Dense(units=111, activation='relu', name=\"Layer_1\"),\n",
    "          tf.keras.layers.Dropout(0.1), #drop-out layer to avoid overfit\n",
    "          tf.keras.layers.Dense(units=111, activation='relu', name=\"Layer_2\"),\n",
    "          tf.keras.layers.Dropout(0.1),\n",
    "          tf.keras.layers.Dense(units=111, activation='relu', name=\"Layer_3\"),\n",
    "          tf.keras.layers.Dropout(0.1),\n",
    "          tf.keras.layers.Dense(units=10, activation='relu', name=\"Layer_4\"),\n",
    "          tf.keras.layers.Dense(units=1, name=\"output_layer\")\n",
    "          ])\n",
    "\n",
    "ann.compile(loss=tf.keras.losses.mae, # mae is short for mean absolute error\n",
    "            optimizer=tf.keras.optimizers.Adam(lr=0.00002),\n",
    "            metrics=[\"mae\"])"
   ]
  },
  {
   "cell_type": "code",
   "execution_count": 52,
   "id": "deb9bdd3",
   "metadata": {},
   "outputs": [],
   "source": [
    "#copying stuff from document...\n",
    "epochs=60\n",
    "learning_rate = 0.1\n",
    "decay_rate = learning_rate / epochs\n",
    "momentum = 0.8\n",
    "\n",
    "#sgd = SGD(lr=learning_rate, momentum=momentum, decay=decay_rate, nesterov=False)\n",
    "ann.compile(loss=tf.keras.losses.mae, # mae is short for mean absolute error\n",
    "            optimizer=tf.keras.optimizers.Adam(lr=0.00002),\n",
    "            metrics=[\"mae\"])"
   ]
  },
  {
   "cell_type": "code",
   "execution_count": 53,
   "id": "e3b2c446",
   "metadata": {},
   "outputs": [],
   "source": [
    "y_train = ogTrainSet.ActualWind"
   ]
  },
  {
   "cell_type": "code",
   "execution_count": 54,
   "id": "e2282213",
   "metadata": {
    "scrolled": true
   },
   "outputs": [
    {
     "name": "stdout",
     "output_type": "stream",
     "text": [
      "Epoch 1/20\n",
      "984/984 [==============================] - 6s 4ms/step - loss: 1435.6732 - mae: 1435.6732\n",
      "Epoch 2/20\n",
      "984/984 [==============================] - 4s 4ms/step - loss: 1331.5662 - mae: 1331.5662\n",
      "Epoch 3/20\n",
      "984/984 [==============================] - 4s 4ms/step - loss: 1014.7663 - mae: 1014.7663\n",
      "Epoch 4/20\n",
      "984/984 [==============================] - 4s 4ms/step - loss: 602.9748 - mae: 602.9748\n",
      "Epoch 5/20\n",
      "984/984 [==============================] - 4s 4ms/step - loss: 497.1585 - mae: 497.1585\n",
      "Epoch 6/20\n",
      "984/984 [==============================] - 4s 4ms/step - loss: 472.1857 - mae: 472.1857\n",
      "Epoch 7/20\n",
      "984/984 [==============================] - 4s 4ms/step - loss: 456.9494 - mae: 456.9495\n",
      "Epoch 8/20\n",
      "984/984 [==============================] - 4s 4ms/step - loss: 443.7839 - mae: 443.7839\n",
      "Epoch 9/20\n",
      "984/984 [==============================] - 4s 4ms/step - loss: 435.0010 - mae: 435.0010\n",
      "Epoch 10/20\n",
      "984/984 [==============================] - 4s 4ms/step - loss: 423.5753 - mae: 423.5753\n",
      "Epoch 11/20\n",
      "984/984 [==============================] - 4s 4ms/step - loss: 416.3392 - mae: 416.3392\n",
      "Epoch 12/20\n",
      "984/984 [==============================] - 4s 4ms/step - loss: 409.8402 - mae: 409.8402\n",
      "Epoch 13/20\n",
      "984/984 [==============================] - 4s 4ms/step - loss: 403.0804 - mae: 403.0804\n",
      "Epoch 14/20\n",
      "984/984 [==============================] - 4s 4ms/step - loss: 397.9763 - mae: 397.9763\n",
      "Epoch 15/20\n",
      "984/984 [==============================] - 4s 4ms/step - loss: 389.7750 - mae: 389.7750\n",
      "Epoch 16/20\n",
      "984/984 [==============================] - 4s 4ms/step - loss: 387.2804 - mae: 387.2804\n",
      "Epoch 17/20\n",
      "984/984 [==============================] - 4s 4ms/step - loss: 382.1406 - mae: 382.1406\n",
      "Epoch 18/20\n",
      "984/984 [==============================] - 4s 4ms/step - loss: 378.1431 - mae: 378.1431\n",
      "Epoch 19/20\n",
      "984/984 [==============================] - 4s 4ms/step - loss: 374.9141 - mae: 374.9141\n",
      "Epoch 20/20\n",
      "984/984 [==============================] - 4s 4ms/step - loss: 371.4788 - mae: 371.4788\n"
     ]
    },
    {
     "data": {
      "text/plain": [
       "<keras.callbacks.History at 0x7f9914597b50>"
      ]
     },
     "execution_count": 54,
     "metadata": {},
     "output_type": "execute_result"
    }
   ],
   "source": [
    "ann.fit(X_train1,y_train, batch_size=20, epochs=20)"
   ]
  },
  {
   "cell_type": "code",
   "execution_count": 55,
   "id": "3f9f7228",
   "metadata": {},
   "outputs": [
    {
     "name": "stdout",
     "output_type": "stream",
     "text": [
      "221/221 [==============================] - 1s 2ms/step\n"
     ]
    }
   ],
   "source": [
    "y_predANN=ann.predict(X_valid1)"
   ]
  },
  {
   "cell_type": "code",
   "execution_count": 56,
   "id": "ca9f358b",
   "metadata": {},
   "outputs": [
    {
     "name": "stdout",
     "output_type": "stream",
     "text": [
      "Mean Absolute Error: 320.09325885475073\n",
      "Mean Squared Error: 176364.45774249037\n",
      "Root Mean Squared Error: 419.9576856571271\n"
     ]
    }
   ],
   "source": [
    "from sklearn import metrics\n",
    "\n",
    "print('Mean Absolute Error:', metrics.mean_absolute_error(y_valid, y_pred))\n",
    "print('Mean Squared Error:', metrics.mean_squared_error(y_valid, y_pred))\n",
    "print('Root Mean Squared Error:', np.sqrt(metrics.mean_squared_error(y_valid, y_pred)))"
   ]
  },
  {
   "cell_type": "markdown",
   "id": "99240c2e",
   "metadata": {},
   "source": [
    "For lr=0.002 and  batch_size=200, epochs=100)\n",
    "\n",
    "Mean Absolute Error: 470.42779251935326\n",
    "Mean Squared Error: 353878.8971401352\n",
    "Root Mean Squared Error: 594.877211817813\n",
    "\n",
    "For lr=0.0002 and  batch_size=200, epochs=100)\n",
    "Mean Absolute Error: 478.03476671201486\n",
    "Mean Squared Error: 364369.589799041\n",
    "Root Mean Squared Error: 603.6303420132565\n",
    "\n",
    "For lr=0.0002 and  batch_size=200, epochs=150)\n",
    "Mean Absolute Error: 470.0360041216103\n",
    "Mean Squared Error: 354797.59158343874\n",
    "Root Mean Squared Error: 595.648882802141"
   ]
  },
  {
   "cell_type": "code",
   "execution_count": 57,
   "id": "d458a2e4",
   "metadata": {},
   "outputs": [
    {
     "data": {
      "image/png": "[encoded data removed]",
      "text/plain": [
       "<Figure size 1332x756 with 1 Axes>"
      ]
     },
     "metadata": {
      "needs_background": "light"
     },
     "output_type": "display_data"
    }
   ],
   "source": [
    "import matplotlib.pyplot as plt \n",
    "from matplotlib.pyplot import figure\n",
    "\n",
    "plt.plot(X_valid['date2'][-7*24:],y_pred[-7*24:])\n",
    "plt.plot(X_valid['date2'][-7*24:],y_valid[-7*24:])\n",
    "fig = plt.gcf()\n",
    "fig.set_size_inches(18.5, 10.5)\n",
    "fig.savefig('test2png.png', dpi=100)"
   ]
  },
  {
   "cell_type": "code",
   "execution_count": 58,
   "id": "57a9cd86",
   "metadata": {},
   "outputs": [],
   "source": [
    "#plt.barh(X_valid1.columns, ann.feature_importances_)"
   ]
  },
  {
   "cell_type": "markdown",
   "id": "f7d3ea70",
   "metadata": {},
   "source": [
    "### Single hour ANN Forecasting"
   ]
  },
  {
   "cell_type": "code",
   "execution_count": 79,
   "id": "c56f59d3",
   "metadata": {},
   "outputs": [
    {
     "name": "stderr",
     "output_type": "stream",
     "text": [
      "/home/ubuntu/.local/lib/python3.8/site-packages/keras/optimizers/optimizer_v2/adam.py:110: UserWarning: The `lr` argument is deprecated, use `learning_rate` instead.\n",
      "  super(Adam, self).__init__(name, **kwargs)\n"
     ]
    }
   ],
   "source": [
    "ann1 = tf.keras.models.Sequential([            \n",
    "        tf.keras.layers.Dense(units=120, activation='relu', name=\"Layer_1\"),\n",
    "        tf.keras.layers.Dropout(0.1), #drop-out layer to avoid overfit\n",
    "        tf.keras.layers.Dense(units=120, activation='relu', name=\"Layer_2\"),\n",
    "        tf.keras.layers.Dropout(0.1),\n",
    "        tf.keras.layers.Dense(units=120, activation='relu', name=\"Layer_3\"),\n",
    "        tf.keras.layers.Dropout(0.1),\n",
    "        tf.keras.layers.Dense(units=10, activation='relu', name=\"Layer_4\"),\n",
    "        tf.keras.layers.Dense(units=1, name=\"output_layer\")\n",
    "        ])\n",
    "\n",
    "ann1.compile(loss=tf.keras.losses.mae, # mae is short for mean absolute error\n",
    "          optimizer=tf.keras.optimizers.Adam(lr=0.002),\n",
    "          metrics=[\"mae\"])\n",
    "\n",
    "\n",
    "\n",
    "history = ann1.fit(X_train2, y_train, epochs = 30, validation_data=(X_valid2,y_valid), verbose=0)\n",
    "# history = ann.fit(X_train_normal, y_train, epochs = 20, validation_data=(X_valid_normal,y_valid), callbacks=[es])\n"
   ]
  },
  {
   "cell_type": "code",
   "execution_count": 81,
   "id": "5582e846",
   "metadata": {},
   "outputs": [
    {
     "data": {
      "image/png": "[encoded data removed]",
      "text/plain": [
       "<Figure size 432x288 with 1 Axes>"
      ]
     },
     "metadata": {
      "needs_background": "light"
     },
     "output_type": "display_data"
    }
   ],
   "source": [
    "loss = history.history['loss']\n",
    "val_loss = history.history['val_loss']\n",
    "\n",
    "epochs = range(1,len(loss)+1)\n",
    "\n",
    "plt.plot(epochs,loss,'bo',label='Training loss')\n",
    "plt.plot(epochs,val_loss, label='Validation loss')\n",
    "plt.title('Training loss ')\n",
    "plt.xlabel('Epochs')\n",
    "plt.ylabel('Loss')\n",
    "plt.legend()\n",
    "plt.show()"
   ]
  },
  {
   "cell_type": "code",
   "execution_count": 82,
   "id": "48aa02f6",
   "metadata": {},
   "outputs": [
    {
     "name": "stderr",
     "output_type": "stream",
     "text": [
      "WARNING:absl:Function `_wrapped_model` contains input name(s) Layer_1_input with unsupported characters which will be renamed to layer_1_input in the SavedModel.\n"
     ]
    },
    {
     "name": "stdout",
     "output_type": "stream",
     "text": [
      "INFO:tensorflow:Assets written to: models/ann_model/assets\n"
     ]
    },
    {
     "name": "stderr",
     "output_type": "stream",
     "text": [
      "INFO:tensorflow:Assets written to: models/ann_model/assets\n"
     ]
    }
   ],
   "source": [
    "ann.save('models/ann_model')"
   ]
  },
  {
   "cell_type": "markdown",
   "id": "4b461a12",
   "metadata": {},
   "source": [
    "## Muliple hour input Forecasting"
   ]
  },
  {
   "cell_type": "markdown",
   "id": "5cd698af",
   "metadata": {},
   "source": [
    "Below from https://www.tensorflow.org/tutorials/structured_data/time_series"
   ]
  },
  {
   "cell_type": "code",
   "execution_count": 59,
   "id": "ed3abd90",
   "metadata": {},
   "outputs": [],
   "source": [
    "import IPython\n",
    "import IPython.display"
   ]
  },
  {
   "cell_type": "code",
   "execution_count": 60,
   "id": "0702cecf",
   "metadata": {},
   "outputs": [
    {
     "data": {
      "text/plain": [
       "Total window size: 6\n",
       "Input indices: [0 1 2 3 4 5]\n",
       "Label indices: [5]\n",
       "Label column name(s): ['ActualGenerationMW']"
      ]
     },
     "execution_count": 60,
     "metadata": {},
     "output_type": "execute_result"
    }
   ],
   "source": [
    "w2 = WindowGenerator(input_width=6, label_width=1, shift=0,\n",
    "                     label_columns=['ActualGenerationMW'])\n",
    "w2"
   ]
  },
  {
   "cell_type": "code",
   "execution_count": 61,
   "id": "54c68c70",
   "metadata": {},
   "outputs": [
    {
     "name": "stdout",
     "output_type": "stream",
     "text": [
      "All shapes are: (batch, time, features)\n",
      "Window shape: (3, 6, 21)\n",
      "Inputs shape: (3, 6, 21)\n",
      "Labels shape: (3, 1, 1)\n"
     ]
    }
   ],
   "source": [
    "\n",
    "\n",
    "# Stack three slices, the length of the total window.\n",
    "example_window = tf.stack([np.array(train_df3[:w2.total_window_size]),\n",
    "                           np.array(train_df3[100:100+w2.total_window_size]),\n",
    "                           np.array(train_df3[200:200+w2.total_window_size])])\n",
    "\n",
    "example_inputs, example_labels = w2.split_window(example_window)\n",
    "\n",
    "print('All shapes are: (batch, time, features)')\n",
    "print(f'Window shape: {example_window.shape}')\n",
    "print(f'Inputs shape: {example_inputs.shape}')\n",
    "print(f'Labels shape: {example_labels.shape}')"
   ]
  },
  {
   "cell_type": "code",
   "execution_count": 62,
   "id": "54664ef9",
   "metadata": {},
   "outputs": [
    {
     "data": {
      "text/plain": [
       "Total window size: 3\n",
       "Input indices: [0 1 2]\n",
       "Label indices: [2]\n",
       "Label column name(s): ['ActualGenerationMW']"
      ]
     },
     "execution_count": 62,
     "metadata": {},
     "output_type": "execute_result"
    }
   ],
   "source": [
    "CONV_WIDTH = 3\n",
    "conv_window = WindowGenerator(\n",
    "    input_width=CONV_WIDTH,\n",
    "    label_width=1,\n",
    "    shift=0,\n",
    "    label_columns=['ActualGenerationMW'])\n",
    "\n",
    "conv_window"
   ]
  },
  {
   "cell_type": "code",
   "execution_count": 63,
   "id": "93296280",
   "metadata": {},
   "outputs": [
    {
     "data": {
      "text/plain": [
       "Text(0.5, 1.0, 'Given 3 hours of inputs, predict 1 hour into the future.')"
      ]
     },
     "execution_count": 63,
     "metadata": {},
     "output_type": "execute_result"
    },
    {
     "data": {
      "image/png": "[encoded data removed]",
      "text/plain": [
       "<Figure size 864x576 with 3 Axes>"
      ]
     },
     "metadata": {
      "needs_background": "light"
     },
     "output_type": "display_data"
    }
   ],
   "source": [
    "conv_window.plot()\n",
    "plt.title(\"Given 3 hours of inputs, predict 1 hour into the future.\")"
   ]
  },
  {
   "cell_type": "code",
   "execution_count": 64,
   "id": "47fcbda0",
   "metadata": {},
   "outputs": [],
   "source": [
    "MAX_EPOCHS = 20\n",
    "\n",
    "def compile_and_fit(model, window, patience=2):\n",
    "  early_stopping = tf.keras.callbacks.EarlyStopping(monitor='val_loss',patience=patience,mode='min')\n",
    "\n",
    "  model.compile(loss=tf.keras.losses.MeanSquaredError(),\n",
    "                optimizer=tf.keras.optimizers.Adam(),\n",
    "                metrics=[tf.keras.metrics.MeanAbsoluteError()])\n",
    "\n",
    "  history = model.fit(window.train, epochs=MAX_EPOCHS,\n",
    "                      validation_data=window.val,\n",
    "                      callbacks=[early_stopping])\n",
    "  return history"
   ]
  },
  {
   "cell_type": "markdown",
   "id": "3ce1451b",
   "metadata": {},
   "source": [
    "### Multi-step dense model"
   ]
  },
  {
   "cell_type": "code",
   "execution_count": 65,
   "id": "52572ae7",
   "metadata": {},
   "outputs": [],
   "source": [
    "multi_step_dense = tf.keras.Sequential([\n",
    "    # Shape: (time, features) => (time*features)\n",
    "    tf.keras.layers.Flatten(),\n",
    "    tf.keras.layers.Dense(units=32, activation='relu'),\n",
    "    tf.keras.layers.Dense(units=32, activation='relu'),\n",
    "    tf.keras.layers.Dense(units=1),\n",
    "    # Add back the time dimension.\n",
    "    # Shape: (outputs) => (1, outputs)\n",
    "    tf.keras.layers.Reshape([1, -1]),\n",
    "])"
   ]
  },
  {
   "cell_type": "code",
   "execution_count": 66,
   "id": "2b66da35",
   "metadata": {},
   "outputs": [
    {
     "name": "stdout",
     "output_type": "stream",
     "text": [
      "221/221 [==============================] - 2s 7ms/step - loss: 10.8234 - mean_absolute_error: 2.9721\n"
     ]
    }
   ],
   "source": [
    "history = compile_and_fit(multi_step_dense, conv_window)\n",
    "\n",
    "IPython.display.clear_output()\n",
    "val_performance['Multi step dense'] = multi_step_dense.evaluate(conv_window.val)\n",
    "performance['Multi step dense'] = multi_step_dense.evaluate(conv_window.test, verbose=0)"
   ]
  },
  {
   "cell_type": "markdown",
   "id": "3b5eff77",
   "metadata": {},
   "source": [
    "### conv_model"
   ]
  },
  {
   "cell_type": "code",
   "execution_count": 67,
   "id": "90eba86e",
   "metadata": {},
   "outputs": [],
   "source": [
    "conv_model = tf.keras.Sequential([\n",
    "    tf.keras.layers.Conv1D(filters=32,kernel_size=(CONV_WIDTH,),activation='relu'),\n",
    "    tf.keras.layers.Dense(units=32, activation='relu'),\n",
    "    tf.keras.layers.Dense(units=1),\n",
    "])"
   ]
  },
  {
   "cell_type": "code",
   "execution_count": 68,
   "id": "25fb8f42",
   "metadata": {},
   "outputs": [
    {
     "name": "stdout",
     "output_type": "stream",
     "text": [
      "221/221 [==============================] - 2s 8ms/step - loss: 0.1287 - mean_absolute_error: 0.2562\n"
     ]
    }
   ],
   "source": [
    "history = compile_and_fit(conv_model, conv_window)\n",
    "\n",
    "IPython.display.clear_output()\n",
    "val_performance['Conv'] = conv_model.evaluate(conv_window.val)\n",
    "performance['Conv'] = conv_model.evaluate(conv_window.test, verbose=0)"
   ]
  },
  {
   "cell_type": "code",
   "execution_count": 69,
   "id": "a479b06a",
   "metadata": {},
   "outputs": [
    {
     "data": {
      "text/plain": [
       "<MapDataset element_spec=(TensorSpec(shape=(None, 3, 21), dtype=tf.float32, name=None), TensorSpec(shape=(None, 1, 1), dtype=tf.float32, name=None))>"
      ]
     },
     "execution_count": 69,
     "metadata": {},
     "output_type": "execute_result"
    }
   ],
   "source": [
    "conv_window.train"
   ]
  },
  {
   "cell_type": "code",
   "execution_count": 70,
   "id": "aea66cf3",
   "metadata": {},
   "outputs": [],
   "source": [
    "MAX_EPOCHS = 20\n",
    "\n",
    "def compile_and_fit(model, window, patience=2):\n",
    "  early_stopping = tf.keras.callbacks.EarlyStopping(monitor='val_loss',patience=patience,mode='min')\n",
    "\n",
    "  model.compile(loss=tf.keras.losses.MeanSquaredError(),\n",
    "                optimizer=tf.keras.optimizers.Adam(),\n",
    "                metrics=[tf.keras.metrics.MeanAbsoluteError()])\n",
    "  print(window.train)\n",
    "  history = model.fit(window.train, epochs=MAX_EPOCHS,\n",
    "                      validation_data=window.val,\n",
    "                      callbacks=[early_stopping])\n",
    "  return history"
   ]
  },
  {
   "cell_type": "code",
   "execution_count": 71,
   "id": "b7756abf",
   "metadata": {},
   "outputs": [],
   "source": [
    "usedCols=['sin_day','sin_hour','cos_day','cos_hour','dub_wddir','dub_wdsp','dub_temp','dub_msl',\n",
    "    'don_wddir','don_wdsp','don_temp','don_msl',\n",
    "    'cla_wddir','cla_wdsp','cla_temp','cla_msl',\n",
    "    'cor_wddir','cor_wdsp','cor_temp','cor_msl','ActualGenerationMW']\n",
    "\n",
    "train_df3 = train_df[usedCols]\n",
    "val_df3 = val_df[usedCols]\n",
    "test_df3 = test_df[usedCols]"
   ]
  },
  {
   "cell_type": "code",
   "execution_count": 72,
   "id": "d8df8d88",
   "metadata": {},
   "outputs": [
    {
     "name": "stdout",
     "output_type": "stream",
     "text": [
      "Data is  given by (5470, 21)\n",
      "Input data is given by (5470, 20)\n",
      "targets are given by (5470, 1)\n",
      "ds is given by  <BatchDataset element_spec=(TensorSpec(shape=(None, None, 20), dtype=tf.float32, name=None), TensorSpec(shape=(None, 1), dtype=tf.float32, name=None))>\n",
      "171/171 [==============================] - 2s 9ms/step - loss: 833469.3750 - mean_absolute_error: 680.2849\n",
      "Data is  given by (2735, 21)\n",
      "Input data is given by (2735, 20)\n",
      "targets are given by (2735, 1)\n",
      "ds is given by  <BatchDataset element_spec=(TensorSpec(shape=(None, None, 20), dtype=tf.float32, name=None), TensorSpec(shape=(None, 1), dtype=tf.float32, name=None))>\n"
     ]
    }
   ],
   "source": [
    "class WindowGenerator():\n",
    "  def __init__(self, input_width, label_width, shift,\n",
    "               train_df=train_df3, val_df=val_df3, test_df=test_df3,\n",
    "               label_columns=None):\n",
    "    # Store the raw data.\n",
    "    self.train_df3 = train_df3\n",
    "    self.val_df3 = val_df3\n",
    "    self.test_df3 = test_df3\n",
    "\n",
    "    # Work out the label column indices.\n",
    "    self.label_columns = label_columns\n",
    "    if label_columns is not None:\n",
    "      self.label_columns_indices = {name: i for i, name in\n",
    "                                    enumerate(label_columns)}\n",
    "    self.column_indices = {name: i for i, name in\n",
    "                           enumerate(train_df3.columns)}\n",
    "\n",
    "    # Work out the window parameters.\n",
    "    self.input_width = input_width\n",
    "    self.label_width = label_width\n",
    "    self.shift = shift\n",
    "\n",
    "    self.total_window_size = input_width + shift\n",
    "\n",
    "    self.input_slice = slice(0, input_width)\n",
    "    self.input_indices = np.arange(self.total_window_size)[self.input_slice]\n",
    "    print(\"self.input_indices are given by \",self.input_indices)\n",
    "    self.label_start = self.total_window_size - self.label_width\n",
    "    self.labels_slice = slice(self.label_start, None)\n",
    "    self.label_indices = np.arange(self.total_window_size)[self.labels_slice]\n",
    "\n",
    "  def __repr__(self):\n",
    "    return '\\n'.join([\n",
    "        f'Total window size: {self.total_window_size}',\n",
    "        f'Input indices: {self.input_indices}',\n",
    "        f'Label indices: {self.label_indices}',\n",
    "        f'Label column name(s): {self.label_columns}'])\n",
    "\n",
    "##----------------------->\n",
    "CONV_WIDTH = 24\n",
    "conv_window = WindowGenerator(\n",
    "    input_width=CONV_WIDTH,\n",
    "    label_width=0,\n",
    "    shift=0,\n",
    "    label_columns=['ActualGenerationMW'])\n",
    "\n",
    "conv_window\n",
    "\n",
    "##----------------------->\n",
    "\n",
    "@property\n",
    "def train(self):\n",
    "  return self.make_dataset(self.train_df3)\n",
    "\n",
    "\n",
    "@property\n",
    "def trainX(self):\n",
    "  return self.make_dataset(self.train_df3X)\n",
    "\n",
    "@property\n",
    "def trainY(self):\n",
    "  return self.make_dataset(self.train_df3Y)\n",
    "\n",
    "\n",
    "@property\n",
    "def val(self):\n",
    "  return self.make_dataset(self.val_df3)\n",
    "\n",
    "@property\n",
    "def valX(self):\n",
    "  return self.make_dataset(self.val_df3X)\n",
    "\n",
    "@property\n",
    "def valY(self):\n",
    "  return self.make_dataset(self.val_df3Y)\n",
    "\n",
    "@property\n",
    "def test(self):\n",
    "  return self.make_dataset(self.test_df3)\n",
    "\n",
    "@property\n",
    "def testX(self):\n",
    "  return self.make_dataset(self.test_df3X)\n",
    "\n",
    "@property\n",
    "def testY(self):\n",
    "  return self.make_dataset(self.test_df3Y)\n",
    "\n",
    "@property\n",
    "def example(self):\n",
    "  \"\"\"Get and cache an example batch of `inputs, labels` for plotting.\"\"\"\n",
    "  result = getattr(self, '_example', None)\n",
    "  if result is None:\n",
    "    # No example batch was found, so get one from the `.train` dataset\n",
    "    result = next(iter(self.train))\n",
    "    # And cache it for next time\n",
    "    self._example = result\n",
    "  return result\n",
    "\n",
    "WindowGenerator.train = train\n",
    "\n",
    "WindowGenerator.val = val\n",
    "\n",
    "\n",
    "WindowGenerator.test = test\n",
    "\n",
    "\n",
    "\n",
    "WindowGenerator.example = example\n",
    "###================================>\n",
    "\n",
    "def split_window(self, features):\n",
    "    print(\"self.input_slice is \",self.input_slice)\n",
    "    print(\"self.labels_slice is \",self.labels_slice)\n",
    "    inputs = features[:, self.input_slice, :]\n",
    "    labels = features[:, self.labels_slice, :]\n",
    "    print(\"labels are given by\", labels)\n",
    "    print(\"inputs are given by\", inputs)\n",
    "\n",
    "    '''if self.label_columns is not None:\n",
    "        labels = tf.stack(\n",
    "        [labels[:, :, self.column_indices[name]] for name in self.label_columns],\n",
    "        axis=-1)'''\n",
    "\n",
    "    # Slicing doesn't preserve static shape information, so set the shapes\n",
    "    # manually. This way the `tf.data.Datasets` are easier to inspect.\n",
    "    inputs.set_shape([None, self.input_width, None])\n",
    "    labels.set_shape([None, self.label_width, None])\n",
    "    print(\"labels are now given by\", labels)\n",
    "    print(\"inputs are now given by\", inputs)\n",
    "    return inputs, labels\n",
    "\n",
    "WindowGenerator.split_window = split_window\n",
    "\n",
    "###================================>\n",
    "\n",
    "def make_dataset(self, data):\n",
    "    data = np.array(data, dtype=np.float32)\n",
    "    print(\"Data is  given by\",data.shape)\n",
    "    \n",
    "    inputData=data[:,:20]\n",
    "    targets=data[:,20:]\n",
    "    print(\"Input data is given by\", inputData.shape)\n",
    "    print(\"targets are given by\",targets.shape)\n",
    "\n",
    "    ds = tf.keras.utils.timeseries_dataset_from_array(\n",
    "        inputData,\n",
    "        targets,\n",
    "        sequence_length=self.total_window_size,\n",
    "        sequence_stride=1,\n",
    "        shuffle=False,\n",
    "        batch_size=32,)\n",
    "    print(\"ds is given by \",ds)\n",
    "    #ds = ds.map(self.split_window)\n",
    "\n",
    "    return ds\n",
    "\n",
    "WindowGenerator.make_dataset = make_dataset\n",
    "\n",
    "###================================>\n",
    "\n",
    "MAX_EPOCHS = 20\n",
    "\n",
    "def compile_and_fit(model, window, patience=2):\n",
    "  early_stopping = tf.keras.callbacks.EarlyStopping(monitor='val_loss',patience=patience,mode='min')\n",
    "\n",
    "  model.compile(loss=tf.keras.losses.MeanSquaredError(),\n",
    "                optimizer=tf.keras.optimizers.Adam(),\n",
    "                metrics=[tf.keras.metrics.MeanAbsoluteError()])\n",
    "  print(window.train)\n",
    "  history = model.fit(window.train, epochs=MAX_EPOCHS,\n",
    "                      validation_data=window.val,\n",
    "                      callbacks=[early_stopping])\n",
    "  return history\n",
    "\n",
    "###================================>\n",
    "\n",
    "conv_model = tf.keras.Sequential([\n",
    "    tf.keras.layers.Conv1D(filters=32,kernel_size=(CONV_WIDTH-1,),activation='relu'),\n",
    "    tf.keras.layers.Dense(units=32, activation='relu'),\n",
    "    tf.keras.layers.Dense(units=1),\n",
    "])\n",
    "###================================>\n",
    "\n",
    "history = compile_and_fit(conv_model, conv_window)\n",
    "\n",
    "IPython.display.clear_output()\n",
    "val_performance['Conv'] = conv_model.evaluate(conv_window.val)\n",
    "performance['Conv'] = conv_model.evaluate(conv_window.test, verbose=0)"
   ]
  },
  {
   "cell_type": "markdown",
   "id": "9910cf20",
   "metadata": {},
   "source": [
    "#### Generating basic plots"
   ]
  },
  {
   "cell_type": "code",
   "execution_count": 73,
   "id": "bc7ff355",
   "metadata": {},
   "outputs": [
    {
     "name": "stdout",
     "output_type": "stream",
     "text": [
      "Data is  given by (5470, 21)\n",
      "Input data is given by (5470, 20)\n",
      "targets are given by (5470, 1)\n",
      "ds is given by  <BatchDataset element_spec=(TensorSpec(shape=(None, None, 20), dtype=tf.float32, name=None), TensorSpec(shape=(None, 1), dtype=tf.float32, name=None))>\n",
      "171/171 [==============================] - 2s 8ms/step\n"
     ]
    },
    {
     "ename": "KeyError",
     "evalue": "'ActualWind'",
     "output_type": "error",
     "traceback": [
      "\u001b[0;31m---------------------------------------------------------------------------\u001b[0m",
      "\u001b[0;31mKeyError\u001b[0m                                  Traceback (most recent call last)",
      "File \u001b[0;32m~/.local/lib/python3.8/site-packages/pandas/core/indexes/base.py:3621\u001b[0m, in \u001b[0;36mIndex.get_loc\u001b[0;34m(self, key, method, tolerance)\u001b[0m\n\u001b[1;32m   3620\u001b[0m \u001b[38;5;28;01mtry\u001b[39;00m:\n\u001b[0;32m-> 3621\u001b[0m     \u001b[38;5;28;01mreturn\u001b[39;00m \u001b[38;5;28;43mself\u001b[39;49m\u001b[38;5;241;43m.\u001b[39;49m\u001b[43m_engine\u001b[49m\u001b[38;5;241;43m.\u001b[39;49m\u001b[43mget_loc\u001b[49m\u001b[43m(\u001b[49m\u001b[43mcasted_key\u001b[49m\u001b[43m)\u001b[49m\n\u001b[1;32m   3622\u001b[0m \u001b[38;5;28;01mexcept\u001b[39;00m \u001b[38;5;167;01mKeyError\u001b[39;00m \u001b[38;5;28;01mas\u001b[39;00m err:\n",
      "File \u001b[0;32m~/.local/lib/python3.8/site-packages/pandas/_libs/index.pyx:136\u001b[0m, in \u001b[0;36mpandas._libs.index.IndexEngine.get_loc\u001b[0;34m()\u001b[0m\n",
      "File \u001b[0;32m~/.local/lib/python3.8/site-packages/pandas/_libs/index.pyx:163\u001b[0m, in \u001b[0;36mpandas._libs.index.IndexEngine.get_loc\u001b[0;34m()\u001b[0m\n",
      "File \u001b[0;32mpandas/_libs/hashtable_class_helper.pxi:5198\u001b[0m, in \u001b[0;36mpandas._libs.hashtable.PyObjectHashTable.get_item\u001b[0;34m()\u001b[0m\n",
      "File \u001b[0;32mpandas/_libs/hashtable_class_helper.pxi:5206\u001b[0m, in \u001b[0;36mpandas._libs.hashtable.PyObjectHashTable.get_item\u001b[0;34m()\u001b[0m\n",
      "\u001b[0;31mKeyError\u001b[0m: 'ActualWind'",
      "\nThe above exception was the direct cause of the following exception:\n",
      "\u001b[0;31mKeyError\u001b[0m                                  Traceback (most recent call last)",
      "Input \u001b[0;32mIn [73]\u001b[0m, in \u001b[0;36m<cell line: 15>\u001b[0;34m()\u001b[0m\n\u001b[1;32m     11\u001b[0m y_pred\u001b[38;5;241m=\u001b[39my_predAr[:,\u001b[38;5;241m0\u001b[39m]\n\u001b[1;32m     12\u001b[0m y_forecast \u001b[38;5;241m=\u001b[39m ogValidSet\u001b[38;5;241m.\u001b[39mForecastWind\n\u001b[0;32m---> 15\u001b[0m y_valid\u001b[38;5;241m=\u001b[39m\u001b[43mval_df3\u001b[49m\u001b[43m[\u001b[49m\u001b[38;5;124;43m'\u001b[39;49m\u001b[38;5;124;43mActualWind\u001b[39;49m\u001b[38;5;124;43m'\u001b[39;49m\u001b[43m]\u001b[49m\n\u001b[1;32m     16\u001b[0m \u001b[38;5;66;03m#og here\u001b[39;00m\n\u001b[1;32m     19\u001b[0m plt\u001b[38;5;241m.\u001b[39mplot(X_valid[\u001b[38;5;124m'\u001b[39m\u001b[38;5;124mdate2\u001b[39m\u001b[38;5;124m'\u001b[39m][\u001b[38;5;241m-\u001b[39m\u001b[38;5;241m6\u001b[39m\u001b[38;5;241m*\u001b[39m\u001b[38;5;241m24\u001b[39m:],y_pred[\u001b[38;5;241m-\u001b[39m\u001b[38;5;241m6\u001b[39m\u001b[38;5;241m*\u001b[39m\u001b[38;5;241m24\u001b[39m:],color \u001b[38;5;241m=\u001b[39m \u001b[38;5;124m'\u001b[39m\u001b[38;5;124mcyan\u001b[39m\u001b[38;5;124m'\u001b[39m,label \u001b[38;5;241m=\u001b[39m \u001b[38;5;124m'\u001b[39m\u001b[38;5;124mANN Modeled Wind Generation\u001b[39m\u001b[38;5;124m'\u001b[39m)\n",
      "File \u001b[0;32m~/.local/lib/python3.8/site-packages/pandas/core/frame.py:3505\u001b[0m, in \u001b[0;36mDataFrame.__getitem__\u001b[0;34m(self, key)\u001b[0m\n\u001b[1;32m   3503\u001b[0m \u001b[38;5;28;01mif\u001b[39;00m \u001b[38;5;28mself\u001b[39m\u001b[38;5;241m.\u001b[39mcolumns\u001b[38;5;241m.\u001b[39mnlevels \u001b[38;5;241m>\u001b[39m \u001b[38;5;241m1\u001b[39m:\n\u001b[1;32m   3504\u001b[0m     \u001b[38;5;28;01mreturn\u001b[39;00m \u001b[38;5;28mself\u001b[39m\u001b[38;5;241m.\u001b[39m_getitem_multilevel(key)\n\u001b[0;32m-> 3505\u001b[0m indexer \u001b[38;5;241m=\u001b[39m \u001b[38;5;28;43mself\u001b[39;49m\u001b[38;5;241;43m.\u001b[39;49m\u001b[43mcolumns\u001b[49m\u001b[38;5;241;43m.\u001b[39;49m\u001b[43mget_loc\u001b[49m\u001b[43m(\u001b[49m\u001b[43mkey\u001b[49m\u001b[43m)\u001b[49m\n\u001b[1;32m   3506\u001b[0m \u001b[38;5;28;01mif\u001b[39;00m is_integer(indexer):\n\u001b[1;32m   3507\u001b[0m     indexer \u001b[38;5;241m=\u001b[39m [indexer]\n",
      "File \u001b[0;32m~/.local/lib/python3.8/site-packages/pandas/core/indexes/base.py:3623\u001b[0m, in \u001b[0;36mIndex.get_loc\u001b[0;34m(self, key, method, tolerance)\u001b[0m\n\u001b[1;32m   3621\u001b[0m     \u001b[38;5;28;01mreturn\u001b[39;00m \u001b[38;5;28mself\u001b[39m\u001b[38;5;241m.\u001b[39m_engine\u001b[38;5;241m.\u001b[39mget_loc(casted_key)\n\u001b[1;32m   3622\u001b[0m \u001b[38;5;28;01mexcept\u001b[39;00m \u001b[38;5;167;01mKeyError\u001b[39;00m \u001b[38;5;28;01mas\u001b[39;00m err:\n\u001b[0;32m-> 3623\u001b[0m     \u001b[38;5;28;01mraise\u001b[39;00m \u001b[38;5;167;01mKeyError\u001b[39;00m(key) \u001b[38;5;28;01mfrom\u001b[39;00m \u001b[38;5;21;01merr\u001b[39;00m\n\u001b[1;32m   3624\u001b[0m \u001b[38;5;28;01mexcept\u001b[39;00m \u001b[38;5;167;01mTypeError\u001b[39;00m:\n\u001b[1;32m   3625\u001b[0m     \u001b[38;5;66;03m# If we have a listlike key, _check_indexing_error will raise\u001b[39;00m\n\u001b[1;32m   3626\u001b[0m     \u001b[38;5;66;03m#  InvalidIndexError. Otherwise we fall through and re-raise\u001b[39;00m\n\u001b[1;32m   3627\u001b[0m     \u001b[38;5;66;03m#  the TypeError.\u001b[39;00m\n\u001b[1;32m   3628\u001b[0m     \u001b[38;5;28mself\u001b[39m\u001b[38;5;241m.\u001b[39m_check_indexing_error(key)\n",
      "\u001b[0;31mKeyError\u001b[0m: 'ActualWind'"
     ]
    }
   ],
   "source": [
    "import matplotlib.pyplot as plt \n",
    "from matplotlib.pyplot import figure\n",
    "\n",
    "y_predRFF=rrf.predict(X_valid1)\n",
    "\n",
    "y_valid =        val_df['ActualWind'].iloc[2:]\n",
    "y_forecasted = val_df['ForecastWind'].iloc[2:]\n",
    "\n",
    "\n",
    "y_predAr=conv_model.predict(conv_window.val)\n",
    "y_pred=y_predAr[:,0]\n",
    "y_forecast = ogValidSet.ForecastWind\n",
    "\n",
    "\n",
    "y_valid=val_df3['ActualWind']\n",
    "#og here\n",
    "\n",
    "\n",
    "plt.plot(X_valid['date2'][-6*24:],y_pred[-6*24:],color = 'cyan',label = 'ANN Modeled Wind Generation')\n",
    "plt.plot(X_valid['date2'][-6*24:],y_valid[-6*24:],color = 'red',label = 'Actual Wind Generation')\n",
    "plt.plot(X_valid['date2'][-6*24:],y_forecast[-6*24:],color = 'blue', label = 'ESB Forecasted Wind Generation')\n",
    "plt.plot(X_valid['date2'][-6*24:],y_predRFF[-6*24:],color = 'purple',label = 'RFF Predicted Wind Geneartion')\n",
    "\n",
    "\n",
    "fig = plt.gcf()\n",
    "fig.set_size_inches(18.5, 10.5)\n",
    "plt.legend(loc=1)\n",
    "fig = plt.gcf()\n",
    "fig.set_size_inches(15, 7)\n",
    "\n",
    "fig.savefig('MLImages/ModelWeekDisplay.png', dpi=100)"
   ]
  },
  {
   "cell_type": "code",
   "execution_count": null,
   "id": "923c8498",
   "metadata": {},
   "outputs": [],
   "source": [
    "from sklearn import metrics \n",
    "#og stuff\n",
    "y_valid =        ogValidSet.ForecastWind.iloc[2:]\n",
    "y_forecasted = ogValidSet.ActualWind.iloc[2:]\n",
    "\n",
    "MAEAN2=metrics.mean_absolute_error(y_valid, y_pred)\n",
    "print('Mean Absolute Error:', metrics.mean_absolute_error(y_valid, y_pred))\n",
    "print('Mean Squared Error:', metrics.mean_squared_error(y_valid, y_pred))\n",
    "print('Root Mean Squared Error:', np.sqrt(metrics.mean_squared_error(y_valid, y_pred)))\n",
    "\n",
    "\n",
    "y_valid2 = ogValidSet['ActualWind']\n",
    "print('\\n')\n",
    "MAEFOR=metrics.mean_absolute_error(y_valid2, y_predRFF)\n",
    "print('Mean Absolute Error:', metrics.mean_absolute_error(y_valid2, y_predRFF))\n",
    "print('Mean Squared Error:', metrics.mean_squared_error(y_valid2, y_predRFF))\n",
    "print('Root Mean Squared Error:', np.sqrt(metrics.mean_squared_error(y_valid2, y_predRFF)))\n",
    "\n",
    "MAERFF=metrics.mean_absolute_error(y_valid, y_forecasted)\n",
    "print('\\n')\n",
    "print('Mean Absolute Error:', metrics.mean_absolute_error(y_valid, y_forecasted))\n",
    "print('Mean Squared Error:', metrics.mean_squared_error(y_valid, y_forecasted))\n",
    "print('Root Mean Squared Error:', np.sqrt(metrics.mean_squared_error(y_valid, y_forecasted)))\n",
    "\n",
    "MAEANN=metrics.mean_absolute_error(y_valid2, y_predANN)\n",
    "print('\\n')\n",
    "print('Mean Absolute Error:', metrics.mean_absolute_error(y_valid2, y_predANN))\n",
    "print('Mean Squared Error:', metrics.mean_squared_error(y_valid2, y_predANN))\n",
    "print('Root Mean Squared Error:', np.sqrt(metrics.mean_squared_error(y_valid2, y_predANN)))\n",
    "\n"
   ]
  },
  {
   "cell_type": "code",
   "execution_count": null,
   "id": "329f0ab0",
   "metadata": {},
   "outputs": [],
   "source": [
    "import numpy as np\n",
    "import matplotlib.pyplot as plt\n",
    "\n",
    "\n",
    "\n",
    "\n",
    "width = 0.25\n",
    "\n",
    "\n",
    "plt.bar(x = 1, height = MAEAN2, color = 'b', width = width, edgecolor = 'black',label='MAE Multi hour')\n",
    "plt.bar(x = 2, height = MAEANN, color = 'r', width = width, edgecolor = 'black',label='MAE single hour ANN')\n",
    "plt.bar(x = 3, height = MAEFOR, color = 'purple', width = width, edgecolor = 'purple',label='MAE  Random Forest')\n",
    "\n",
    "plt.bar(x = 4, height = MAERFF, color = 'cyan', width = width, edgecolor = 'purple',label='MAE Forecast Wind')\n",
    "\n",
    "plt.xlabel(\"Model\")\n",
    "plt.ylabel(\"Mean Absolute Error\")\n",
    "plt.title(\"Accuracy of various ML Algorithms\")\n",
    "\n",
    "# plt.grid(linestyle='--')\n",
    "#plt.xticks(r + width/2,['2018','2019','2020','2021'])\n",
    "plt.legend(loc=[0,0])\n",
    "plt.savefig('MLImages/AccuracyScores.png')\n",
    "plt.show()\n"
   ]
  },
  {
   "cell_type": "code",
   "execution_count": null,
   "id": "7f4eb70e",
   "metadata": {},
   "outputs": [],
   "source": []
  },
  {
   "cell_type": "code",
   "execution_count": null,
   "id": "1f0d5809",
   "metadata": {},
   "outputs": [],
   "source": [
    "conv_model.save('models/conv_model')"
   ]
  },
  {
   "cell_type": "markdown",
   "id": "68e95640",
   "metadata": {},
   "source": [
    "#### Can I get a Hell yeah\n",
    "_Helia_"
   ]
  },
  {
   "cell_type": "code",
   "execution_count": null,
   "id": "e41d2e7b",
   "metadata": {},
   "outputs": [],
   "source": [
    "def plot(self, model=None, plot_col='ActualGenerationMW', max_subplots=3):\n",
    "  inputs, labels = self.example\n",
    "  plt.figure(figsize=(12, 8))\n",
    "  plot_col_index = self.column_indices[plot_col]\n",
    "  max_n = min(max_subplots, len(inputs))\n",
    "  for n in range(max_n):\n",
    "    plt.subplot(max_n, 1, n+1)\n",
    "    plt.ylabel(f'{plot_col} [normed]')\n",
    "    plt.plot(self.input_indices, inputs[n, :, plot_col_index],\n",
    "             label='Inputs', marker='.', zorder=-10)\n",
    "\n",
    "    if self.label_columns:\n",
    "      label_col_index = self.label_columns_indices.get(plot_col, None)\n",
    "    else:\n",
    "      label_col_index = plot_col_index\n",
    "\n",
    "    if label_col_index is None:\n",
    "      continue\n",
    "\n",
    "    plt.scatter(self.label_indices, labels[n, :, label_col_index],\n",
    "                edgecolors='k', label='Labels', c='#2ca02c', s=64)\n",
    "    if model is not None:\n",
    "      predictions = model(inputs)\n",
    "      plt.scatter(self.label_indices, predictions[n, :, label_col_index],\n",
    "                  marker='X', edgecolors='k', label='Predictions',\n",
    "                  c='#ff7f0e', s=64)\n",
    "\n",
    "    if n == 0:\n",
    "      plt.legend()\n",
    "\n",
    "  plt.xlabel('Time [h]')\n",
    "\n",
    "WindowGenerator.plot = plot\n",
    "\n",
    "\n",
    "\n",
    "LABEL_WIDTH = 24\n",
    "INPUT_WIDTH = LABEL_WIDTH + (CONV_WIDTH - 1)\n",
    "wide_conv_window = WindowGenerator(\n",
    "    input_width=INPUT_WIDTH,\n",
    "    label_width=LABEL_WIDTH,\n",
    "    shift=1,\n",
    "    label_columns=['ActualGenerationMW'])\n",
    "\n",
    "wide_conv_window\n",
    "\n",
    "wide_conv_window.plot(conv_model)"
   ]
  },
  {
   "cell_type": "code",
   "execution_count": null,
   "id": "06897190",
   "metadata": {},
   "outputs": [],
   "source": [
    "adsf;ligb"
   ]
  },
  {
   "cell_type": "code",
   "execution_count": null,
   "id": "42434075",
   "metadata": {},
   "outputs": [],
   "source": [
    "usedCols=['sin_day','sin_hour','cos_day','cos_hour','dub_wddir','dub_wdsp','dub_temp','dub_msl',\n",
    "    'don_wddir','don_wdsp','don_temp','don_msl',\n",
    "    'cla_wddir','cla_wdsp','cla_temp','cla_msl',\n",
    "    'cor_wddir','cor_wdsp','cor_temp','cor_msl','ActualWind']\n",
    "\n",
    "\n",
    "train_df3 = train_df[usedCols]\n",
    "val_df3 = val_df[usedCols]\n",
    "test_df3 = test_df[usedCols]"
   ]
  },
  {
   "cell_type": "code",
   "execution_count": null,
   "id": "688d0cfd",
   "metadata": {},
   "outputs": [],
   "source": [
    "\n",
    "class WindowGenerator():\n",
    "  def __init__(self, input_width, label_width, shift,\n",
    "               train_df=train_df3, val_df=val_df3, test_df=test_df3,\n",
    "               label_columns=None):\n",
    "    # Store the raw data.\n",
    "    self.train_df3 = train_df3\n",
    "    self.val_df3 = val_df3\n",
    "    self.test_df3 = test_df3\n",
    "\n",
    "    # Work out the label column indices.\n",
    "    self.label_columns = label_columns\n",
    "    if label_columns is not None:\n",
    "      self.label_columns_indices = {name: i for i, name in\n",
    "                                    enumerate(label_columns)}\n",
    "    self.column_indices = {name: i for i, name in\n",
    "                           enumerate(train_df3.columns)}\n",
    "\n",
    "    # Work out the window parameters.\n",
    "    self.input_width = input_width\n",
    "    self.label_width = label_width\n",
    "    self.shift = shift\n",
    "\n",
    "    self.total_window_size = input_width + shift\n",
    "\n",
    "    self.input_slice = slice(0, input_width)\n",
    "    self.input_indices = np.arange(self.total_window_size)[self.input_slice]\n",
    "    print(\"self.input_indices are given by \",self.input_indices)\n",
    "    self.label_start = self.total_window_size - self.label_width\n",
    "    self.labels_slice = slice(self.label_start, None)\n",
    "    self.label_indices = np.arange(self.total_window_size)[self.labels_slice]\n",
    "\n",
    "  def __repr__(self):\n",
    "    return '\\n'.join([\n",
    "        f'Total window size: {self.total_window_size}',\n",
    "        f'Input indices: {self.input_indices}',\n",
    "        f'Label indices: {self.label_indices}',\n",
    "        f'Label column name(s): {self.label_columns}'])\n",
    "\n",
    "##----------------------->\n",
    "CONV_WIDTH = 3\n",
    "conv_window = WindowGenerator(\n",
    "    input_width=CONV_WIDTH,\n",
    "    label_width=0,\n",
    "    shift=0,\n",
    "    label_columns=['ActualGenerationMW'])\n",
    "\n",
    "conv_window\n",
    "\n",
    "##----------------------->\n",
    "\n",
    "@property\n",
    "def train(self):\n",
    "  return self.make_dataset(self.train_df3)\n",
    "\n",
    "\n",
    "@property\n",
    "def trainX(self):\n",
    "  return self.make_dataset(self.train_df3X)\n",
    "\n",
    "@property\n",
    "def trainY(self):\n",
    "  return self.make_dataset(self.train_df3Y)\n",
    "\n",
    "\n",
    "@property\n",
    "def val(self):\n",
    "  return self.make_dataset(self.val_df3)\n",
    "\n",
    "@property\n",
    "def valX(self):\n",
    "  return self.make_dataset(self.val_df3X)\n",
    "\n",
    "@property\n",
    "def valY(self):\n",
    "  return self.make_dataset(self.val_df3Y)\n",
    "\n",
    "@property\n",
    "def test(self):\n",
    "  return self.make_dataset(self.test_df3)\n",
    "\n",
    "@property\n",
    "def testX(self):\n",
    "  return self.make_dataset(self.test_df3X)\n",
    "\n",
    "@property\n",
    "def testY(self):\n",
    "  return self.make_dataset(self.test_df3Y)\n",
    "\n",
    "@property\n",
    "def example(self):\n",
    "  \"\"\"Get and cache an example batch of `inputs, labels` for plotting.\"\"\"\n",
    "  result = getattr(self, '_example', None)\n",
    "  if result is None:\n",
    "    # No example batch was found, so get one from the `.train` dataset\n",
    "    result = next(iter(self.train))\n",
    "    # And cache it for next time\n",
    "    self._example = result\n",
    "  return result\n",
    "\n",
    "WindowGenerator.train = train\n",
    "\n",
    "WindowGenerator.val = val\n",
    "\n",
    "\n",
    "WindowGenerator.test = test\n",
    "\n",
    "\n",
    "\n",
    "WindowGenerator.example = example\n",
    "###================================>\n",
    "\n",
    "def split_window(self, features):\n",
    "    print(\"self.input_slice is \",self.input_slice)\n",
    "    print(\"self.labels_slice is \",self.labels_slice)\n",
    "    inputs = features[:, self.input_slice, :]\n",
    "    labels = features[:, self.labels_slice, :]\n",
    "    print(\"labels are given by\", labels)\n",
    "    print(\"inputs are given by\", inputs)\n",
    "\n",
    "    '''if self.label_columns is not None:\n",
    "        labels = tf.stack(\n",
    "        [labels[:, :, self.column_indices[name]] for name in self.label_columns],\n",
    "        axis=-1)'''\n",
    "\n",
    "    # Slicing doesn't preserve static shape information, so set the shapes\n",
    "    # manually. This way the `tf.data.Datasets` are easier to inspect.\n",
    "    inputs.set_shape([None, self.input_width, None])\n",
    "    labels.set_shape([None, self.label_width, None])\n",
    "    print(\"labels are now given by\", labels)\n",
    "    print(\"inputs are now given by\", inputs)\n",
    "    return inputs, labels\n",
    "\n",
    "WindowGenerator.split_window = split_window\n",
    "\n",
    "###================================>\n",
    "\n",
    "def make_dataset(self, data):\n",
    "    data = np.array(data, dtype=np.float32)\n",
    "    print(\"Data is  given by\",data.shape)\n",
    "    \n",
    "    inputData=data[:,:20]\n",
    "    targets=data[:,20:]\n",
    "    print(\"Input data is given by\", inputData.shape)\n",
    "    print(\"targets are given by\",targets.shape)\n",
    "\n",
    "    ds = tf.keras.utils.timeseries_dataset_from_array(\n",
    "        inputData,\n",
    "        targets,\n",
    "        sequence_length=self.total_window_size,\n",
    "        sequence_stride=1,\n",
    "        shuffle=False,\n",
    "        batch_size=32,)\n",
    "    print(\"ds is given by \",ds)\n",
    "    #ds = ds.map(self.split_window)\n",
    "\n",
    "    return ds\n",
    "\n",
    "WindowGenerator.make_dataset = make_dataset\n",
    "\n",
    "###================================>\n",
    "\n",
    "MAX_EPOCHS = 20\n",
    "\n",
    "def compile_and_fit(model, window, patience=2):\n",
    "  early_stopping = tf.keras.callbacks.EarlyStopping(monitor='val_loss',patience=patience,mode='min')\n",
    "\n",
    "  model.compile(loss=tf.keras.losses.MeanSquaredError(),\n",
    "                optimizer=tf.keras.optimizers.Adam(),\n",
    "                metrics=[tf.keras.metrics.MeanAbsoluteError()])\n",
    "  print(window.train)\n",
    "  history = model.fit(window.train, epochs=MAX_EPOCHS,\n",
    "                      validation_data=window.val,\n",
    "                      callbacks=[early_stopping])\n",
    "  return history\n",
    "\n",
    "###================================>\n",
    "\n",
    "conv_model = tf.keras.Sequential([\n",
    "    tf.keras.layers.Conv1D(filters=32,kernel_size=(CONV_WIDTH-1,),activation='relu'),\n",
    "    tf.keras.layers.Dense(units=32, activation='relu'),\n",
    "    tf.keras.layers.Dense(units=1),\n",
    "])\n",
    "###================================>\n",
    "\n",
    "history = compile_and_fit(conv_model, conv_window)\n",
    "\n",
    "IPython.display.clear_output()\n",
    "val_performance['Conv'] = conv_model.evaluate(conv_window.val)\n",
    "performance['Conv'] = conv_model.evaluate(conv_window.test, verbose=0)"
   ]
  },
  {
   "cell_type": "code",
   "execution_count": null,
   "id": "c6963254",
   "metadata": {},
   "outputs": [],
   "source": [
    "LABEL_WIDTH = 24\n",
    "INPUT_WIDTH = LABEL_WIDTH + (CONV_WIDTH - 1)\n",
    "wide_conv_window = WindowGenerator(\n",
    "    input_width=INPUT_WIDTH,\n",
    "    label_width=LABEL_WIDTH,\n",
    "    shift=1,\n",
    "    label_columns=['ActualGenerationMW'])\n",
    "\n",
    "wide_conv_window\n",
    "\n",
    "wide_conv_window.plot(conv_model)"
   ]
  },
  {
   "cell_type": "markdown",
   "id": "9affe71d",
   "metadata": {},
   "source": [
    "### Transforming new data for the model"
   ]
  },
  {
   "cell_type": "markdown",
   "id": "42b41a20",
   "metadata": {},
   "source": [
    "### Saving the model in a directory"
   ]
  },
  {
   "cell_type": "code",
   "execution_count": null,
   "id": "13104496",
   "metadata": {},
   "outputs": [],
   "source": [
    "conv_model.save('models/conv_model')"
   ]
  },
  {
   "cell_type": "markdown",
   "id": "43e26bf4",
   "metadata": {},
   "source": [
    "## Comparing baselines - Predicting wind power"
   ]
  },
  {
   "cell_type": "code",
   "execution_count": null,
   "id": "30841dbf",
   "metadata": {},
   "outputs": [],
   "source": [
    "train_df"
   ]
  },
  {
   "cell_type": "code",
   "execution_count": null,
   "id": "bc9f3219",
   "metadata": {},
   "outputs": [],
   "source": [
    "usedCols=['sin_day','sin_hour','cos_day','cos_hour','dub_wddir','dub_wdsp','dub_temp','dub_msl',\n",
    "    'don_wddir','don_wdsp','don_temp','don_msl',\n",
    "    'cla_wddir','cla_wdsp','cla_temp','cla_msl',\n",
    "    'cor_wddir','cor_wdsp','cor_temp','cor_msl','ActualWind']\n",
    "\n",
    "train_df3 = train_df[usedCols]\n",
    "val_df3 = val_df[usedCols]\n",
    "test_df3 = test_df[usedCols]\n",
    "\n",
    "#Resetting the Actual Generation to be non-continuous\n",
    "train_df3['ActualWind']=train_df3['ActualWind']*train_std['ActualWind']+train_mean['ActualWind']\n",
    "val_df3['ActualWind']=val_df3['ActualWind']*train_std['ActualWind']+train_mean['ActualWind']\n",
    "test_df3['ActualWind']=test_df3['ActualWind']*train_std['ActualWind']+train_mean['ActualWind']\n",
    "#og"
   ]
  },
  {
   "cell_type": "code",
   "execution_count": null,
   "id": "15af5e52",
   "metadata": {},
   "outputs": [],
   "source": [
    "class WindowGenerator():\n",
    "  def __init__(self, input_width, label_width, shift,\n",
    "               train_df=train_df3, val_df=val_df3, test_df=test_df3,\n",
    "               label_columns=None):\n",
    "    # Store the raw data.\n",
    "    self.train_df3 = train_df3\n",
    "    self.val_df3 = val_df3\n",
    "    self.test_df3 = test_df3\n",
    "\n",
    "    # Work out the label column indices.\n",
    "    self.label_columns = label_columns\n",
    "    if label_columns is not None:\n",
    "      self.label_columns_indices = {name: i for i, name in\n",
    "                                    enumerate(label_columns)}\n",
    "    self.column_indices = {name: i for i, name in\n",
    "                           enumerate(train_df3.columns)}\n",
    "\n",
    "    # Work out the window parameters.\n",
    "    self.input_width = input_width\n",
    "    self.label_width = label_width\n",
    "    self.shift = shift\n",
    "\n",
    "    self.total_window_size = input_width + shift\n",
    "\n",
    "    self.input_slice = slice(0, input_width)\n",
    "    self.input_indices = np.arange(self.total_window_size)[self.input_slice]\n",
    "    print(\"self.input_indices are given by \",self.input_indices)\n",
    "    self.label_start = self.total_window_size - self.label_width\n",
    "    self.labels_slice = slice(self.label_start, None)\n",
    "    self.label_indices = np.arange(self.total_window_size)[self.labels_slice]\n",
    "\n",
    "  def __repr__(self):\n",
    "    return '\\n'.join([\n",
    "        f'Total window size: {self.total_window_size}',\n",
    "        f'Input indices: {self.input_indices}',\n",
    "        f'Label indices: {self.label_indices}',\n",
    "        f'Label column name(s): {self.label_columns}'])\n",
    "\n",
    "##----------------------->\n",
    "CONV_WIDTH = 3\n",
    "conv_window = WindowGenerator(\n",
    "    input_width=CONV_WIDTH,\n",
    "    label_width=0,\n",
    "    shift=0,\n",
    "    label_columns=['ActualGenerationMW'])\n",
    "\n",
    "conv_window\n",
    "\n",
    "##----------------------->\n",
    "\n",
    "@property\n",
    "def train(self):\n",
    "  return self.make_dataset(self.train_df3)\n",
    "\n",
    "\n",
    "@property\n",
    "def trainX(self):\n",
    "  return self.make_dataset(self.train_df3X)\n",
    "\n",
    "@property\n",
    "def trainY(self):\n",
    "  return self.make_dataset(self.train_df3Y)\n",
    "\n",
    "\n",
    "@property\n",
    "def val(self):\n",
    "  return self.make_dataset(self.val_df3)\n",
    "\n",
    "@property\n",
    "def valX(self):\n",
    "  return self.make_dataset(self.val_df3X)\n",
    "\n",
    "@property\n",
    "def valY(self):\n",
    "  return self.make_dataset(self.val_df3Y)\n",
    "\n",
    "@property\n",
    "def test(self):\n",
    "  return self.make_dataset(self.test_df3)\n",
    "\n",
    "@property\n",
    "def testX(self):\n",
    "  return self.make_dataset(self.test_df3X)\n",
    "\n",
    "@property\n",
    "def testY(self):\n",
    "  return self.make_dataset(self.test_df3Y)\n",
    "\n",
    "@property\n",
    "def example(self):\n",
    "  \"\"\"Get and cache an example batch of `inputs, labels` for plotting.\"\"\"\n",
    "  result = getattr(self, '_example', None)\n",
    "  if result is None:\n",
    "    # No example batch was found, so get one from the `.train` dataset\n",
    "    result = next(iter(self.train))\n",
    "    # And cache it for next time\n",
    "    self._example = result\n",
    "  return result\n",
    "\n",
    "WindowGenerator.train = train\n",
    "\n",
    "WindowGenerator.val = val\n",
    "\n",
    "\n",
    "WindowGenerator.test = test\n",
    "\n",
    "\n",
    "\n",
    "WindowGenerator.example = example\n",
    "###================================>\n",
    "\n",
    "def split_window(self, features):\n",
    "    print(\"self.input_slice is \",self.input_slice)\n",
    "    print(\"self.labels_slice is \",self.labels_slice)\n",
    "    inputs = features[:, self.input_slice, :]\n",
    "    labels = features[:, self.labels_slice, :]\n",
    "    print(\"labels are given by\", labels)\n",
    "    print(\"inputs are given by\", inputs)\n",
    "\n",
    "    '''if self.label_columns is not None:\n",
    "        labels = tf.stack(\n",
    "        [labels[:, :, self.column_indices[name]] for name in self.label_columns],\n",
    "        axis=-1)'''\n",
    "\n",
    "    # Slicing doesn't preserve static shape information, so set the shapes\n",
    "    # manually. This way the `tf.data.Datasets` are easier to inspect.\n",
    "    inputs.set_shape([None, self.input_width, None])\n",
    "    labels.set_shape([None, self.label_width, None])\n",
    "    print(\"labels are now given by\", labels)\n",
    "    print(\"inputs are now given by\", inputs)\n",
    "    return inputs, labels\n",
    "\n",
    "WindowGenerator.split_window = split_window\n",
    "\n",
    "###================================>\n",
    "\n",
    "def make_dataset(self, data):\n",
    "    data = np.array(data, dtype=np.float32)\n",
    "    print(\"Data is  given by\",data.shape)\n",
    "    \n",
    "    inputData=data[:,:20]\n",
    "    targets=data[:,20:]\n",
    "    print(\"Input data is given by\", inputData.shape)\n",
    "    print(\"targets are given by\",targets.shape)\n",
    "\n",
    "    ds = tf.keras.utils.timeseries_dataset_from_array(\n",
    "        inputData,\n",
    "        targets,\n",
    "        sequence_length=self.total_window_size,\n",
    "        sequence_stride=1,\n",
    "        shuffle=False,\n",
    "        batch_size=32,)\n",
    "    print(\"ds is given by \",ds)\n",
    "    #ds = ds.map(self.split_window)\n",
    "\n",
    "    return ds\n",
    "\n",
    "WindowGenerator.make_dataset = make_dataset\n",
    "\n",
    "###================================>\n",
    "\n",
    "MAX_EPOCHS = 20\n",
    "\n",
    "def compile_and_fit(model, window, patience=2):\n",
    "  early_stopping = tf.keras.callbacks.EarlyStopping(monitor='val_loss',patience=patience,mode='min')\n",
    "\n",
    "  model.compile(loss=tf.keras.losses.MeanSquaredError(),\n",
    "                optimizer=tf.keras.optimizers.Adam(),\n",
    "                metrics=[tf.keras.metrics.MeanAbsoluteError()])\n",
    "  print(window.train)\n",
    "  history = model.fit(window.train, epochs=MAX_EPOCHS,\n",
    "                      validation_data=window.val,\n",
    "                      callbacks=[early_stopping])\n",
    "  return history\n",
    "\n",
    "###================================>\n",
    "\n",
    "conv_model = tf.keras.Sequential([\n",
    "    tf.keras.layers.Conv1D(filters=32,kernel_size=(CONV_WIDTH-1,),activation='relu'),\n",
    "    tf.keras.layers.Dense(units=32, activation='relu'),\n",
    "    tf.keras.layers.Dense(units=1),\n",
    "])\n",
    "###================================>\n",
    "\n",
    "history = compile_and_fit(conv_model, conv_window)\n",
    "\n",
    "IPython.display.clear_output()\n",
    "val_performance['Conv'] = conv_model.evaluate(conv_window.val)\n",
    "performance['Conv'] = conv_model.evaluate(conv_window.test, verbose=0)"
   ]
  },
  {
   "cell_type": "code",
   "execution_count": null,
   "id": "ef7d55f4",
   "metadata": {},
   "outputs": [],
   "source": [
    "def plot(self, model=None, plot_col='ActualWind', max_subplots=3):\n",
    "  inputs, labels = self.example\n",
    "  plt.figure(figsize=(12, 8))\n",
    "  plot_col_index = self.column_indices[plot_col]\n",
    "  max_n = min(max_subplots, len(inputs))\n",
    "  for n in range(max_n):\n",
    "    plt.subplot(max_n, 1, n+1)\n",
    "    plt.ylabel(f'{plot_col} [normed]')\n",
    "    plt.plot(self.input_indices, inputs[n, :, plot_col_index],\n",
    "             label='Inputs', marker='.', zorder=-10)\n",
    "\n",
    "    if self.label_columns:\n",
    "      label_col_index = self.label_columns_indices.get(plot_col, None)\n",
    "    else:\n",
    "      label_col_index = plot_col_index\n",
    "\n",
    "    if label_col_index is None:\n",
    "      continue\n",
    "\n",
    "    plt.scatter(self.label_indices, labels[n, :, label_col_index],\n",
    "                edgecolors='k', label='Labels', c='#2ca02c', s=64)\n",
    "    if model is not None:\n",
    "      predictions = model(inputs)\n",
    "      plt.scatter(self.label_indices, predictions[n, :, label_col_index],\n",
    "                  marker='X', edgecolors='k', label='Predictions',\n",
    "                  c='#ff7f0e', s=64)\n",
    "\n",
    "    if n == 0:\n",
    "      plt.legend()\n",
    "\n",
    "  plt.xlabel('Time [h]')\n",
    "\n",
    "WindowGenerator.plot = plot\n",
    "\n",
    "\n",
    "\n",
    "LABEL_WIDTH = 24\n",
    "INPUT_WIDTH = LABEL_WIDTH + (CONV_WIDTH - 1)\n",
    "wide_conv_window = WindowGenerator(\n",
    "    input_width=INPUT_WIDTH,\n",
    "    label_width=LABEL_WIDTH,\n",
    "    shift=1,\n",
    "    label_columns=['ActualGenerationMW'])\n",
    "\n",
    "wide_conv_window\n",
    "\n",
    "wide_conv_window.plot(conv_model)"
   ]
  },
  {
   "cell_type": "code",
   "execution_count": null,
   "id": "364acb5e",
   "metadata": {},
   "outputs": [],
   "source": [
    "val_df3"
   ]
  },
  {
   "cell_type": "code",
   "execution_count": null,
   "id": "e86f8d23",
   "metadata": {},
   "outputs": [],
   "source": [
    "val_df"
   ]
  },
  {
   "cell_type": "code",
   "execution_count": null,
   "id": "4b3b96ab",
   "metadata": {},
   "outputs": [],
   "source": [
    "import matplotlib.pyplot as plt \n",
    "from matplotlib.pyplot import figure\n",
    "\n",
    "# Creating predicted column\n",
    "y_predAr=conv_model.predict(conv_window.val)\n",
    "y_pred=y_predAr[:,0]\n",
    "\n",
    "\n",
    "\n",
    "# Setting the values\n",
    "y_valid =        val_df['ActualWind'].iloc[2:]\n",
    "y_forecasted = val_df['ForecastWind'].iloc[2:]\n",
    "\n",
    "val_df3Plot=val_df3.iloc[2:]\n",
    "\n",
    "print(len(y_forecasted))\n",
    "print(len(y_valid))\n",
    "print(len(y_pred))\n",
    "print(len(val_df['ActualWind']))\n",
    "print(len(val_df3Plot['ActualWind']))\n",
    "\n",
    "val_df3Plot['forecasted']=y_forecasted\n",
    "\n",
    "val_df3Plot['predicted']=y_pred\n",
    "\n",
    "plt.plot(X_valid['date2'][-7*24:],y_pred[-7*24:],color = 'cyan',label = 'ESB Forecasted Wind Generation')\n",
    "plt.plot(X_valid['date2'][-7*24:],y_valid[-7*24:],color = 'red',label = 'Actual Wind Generation')\n",
    "plt.plot(X_valid['date2'][-7*24:],y_forecasted[-7*24:],color = 'blue', label = 'Kevins Modeled Wind Generation')\n",
    "\n",
    "plt.legend(loc=1)\n",
    "fig = plt.gcf()\n",
    "fig.set_size_inches(18.5, 10.5)\n",
    "fig.savefig('test2png.png', dpi=100)"
   ]
  },
  {
   "cell_type": "code",
   "execution_count": null,
   "id": "1ef0ce92",
   "metadata": {},
   "outputs": [],
   "source": [
    "val_df3[['forecasted','ActualWind']].diff().abs().mean()"
   ]
  },
  {
   "cell_type": "code",
   "execution_count": null,
   "id": "b469a83f",
   "metadata": {},
   "outputs": [],
   "source": [
    "val_df3Plot[['forecasted']]"
   ]
  },
  {
   "cell_type": "code",
   "execution_count": null,
   "id": "5aa8e25f",
   "metadata": {},
   "outputs": [],
   "source": [
    "np.array(val_df3Plot[['ActualWind']])"
   ]
  },
  {
   "cell_type": "code",
   "execution_count": null,
   "id": "9143693f",
   "metadata": {},
   "outputs": [],
   "source": [
    "np.mean(abs(np.array(val_df3Plot[['forecasted']])-np.array(val_df3Plot[['ActualWind']])))"
   ]
  },
  {
   "cell_type": "code",
   "execution_count": null,
   "id": "01054116",
   "metadata": {},
   "outputs": [],
   "source": [
    "np.mean(abs(np.array(val_df3Plot[['predicted']])-np.array(val_df3Plot[['ActualWind']])))"
   ]
  },
  {
   "cell_type": "code",
   "execution_count": null,
   "id": "9b78474c",
   "metadata": {},
   "outputs": [],
   "source": [
    "val_df3[['ActualWind','predicted']].diff().abs().mean()"
   ]
  }
 ],
 "metadata": {
  "kernelspec": {
   "display_name": "Python 3 (ipykernel)",
   "language": "python",
   "name": "python3"
  },
  "language_info": {
   "codemirror_mode": {
    "name": "ipython",
    "version": 3
   },
   "file_extension": ".py",
   "mimetype": "text/x-python",
   "name": "python",
   "nbconvert_exporter": "python",
   "pygments_lexer": "ipython3",
   "version": "3.8.10"
  }
 },
 "nbformat": 4,
 "nbformat_minor": 5
}
