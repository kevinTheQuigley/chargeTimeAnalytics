{
 "cells": [
  {
   "cell_type": "markdown",
   "id": "91a0facf",
   "metadata": {},
   "source": [
    "# Prediction Training"
   ]
  },
  {
   "cell_type": "code",
   "execution_count": 1,
   "id": "eb35d7e6",
   "metadata": {},
   "outputs": [],
   "source": [
    "import pandas as pd\n",
    "import datetime as td\n",
    "import  numpy as np\n",
    "import datetime \n",
    "import datetime as dt\n",
    "import numpy as np\n",
    "import sys\n"
   ]
  },
  {
   "cell_type": "code",
   "execution_count": 2,
   "id": "c8be7322",
   "metadata": {},
   "outputs": [
    {
     "name": "stderr",
     "output_type": "stream",
     "text": [
      "/tmp/ipykernel_469066/2035226236.py:2: FutureWarning: In a future version of pandas all arguments of DataFrame.drop except for the argument 'labels' will be keyword-only.\n",
      "  forecast=forecastRaw.drop(['windGust'],1)\n"
     ]
    }
   ],
   "source": [
    "forecastRaw = pd.read_csv('forecastData/PPForecast.csv')\n",
    "forecast=forecastRaw.drop(['windGust'],1)\n",
    "forecast= forecast.dropna()\n",
    "forecast.columns=['date','dub_temp','dub_wddir','dub_wdsp','dub_hum','dub_press']\n",
    "forecast=forecast._convert(numeric=True)\n",
    "rawTemp=forecast['dub_temp']"
   ]
  },
  {
   "cell_type": "code",
   "execution_count": 3,
   "id": "1e3e5c57",
   "metadata": {},
   "outputs": [
    {
     "data": {
      "text/html": [
       "<div>\n",
       "<style scoped>\n",
       "    .dataframe tbody tr th:only-of-type {\n",
       "        vertical-align: middle;\n",
       "    }\n",
       "\n",
       "    .dataframe tbody tr th {\n",
       "        vertical-align: top;\n",
       "    }\n",
       "\n",
       "    .dataframe thead th {\n",
       "        text-align: right;\n",
       "    }\n",
       "</style>\n",
       "<table border=\"1\" class=\"dataframe\">\n",
       "  <thead>\n",
       "    <tr style=\"text-align: right;\">\n",
       "      <th></th>\n",
       "      <th>date</th>\n",
       "      <th>dub_temp</th>\n",
       "      <th>dub_wddir</th>\n",
       "      <th>dub_wdsp</th>\n",
       "      <th>dub_hum</th>\n",
       "      <th>dub_press</th>\n",
       "    </tr>\n",
       "  </thead>\n",
       "  <tbody>\n",
       "    <tr>\n",
       "      <th>0</th>\n",
       "      <td>2022-07-16T17:00:00Z</td>\n",
       "      <td>24.3</td>\n",
       "      <td>221.8</td>\n",
       "      <td>3.7</td>\n",
       "      <td>52.4</td>\n",
       "      <td>1024.2</td>\n",
       "    </tr>\n",
       "    <tr>\n",
       "      <th>2</th>\n",
       "      <td>2022-07-16T18:00:00Z</td>\n",
       "      <td>24.0</td>\n",
       "      <td>218.0</td>\n",
       "      <td>3.1</td>\n",
       "      <td>50.7</td>\n",
       "      <td>1023.9</td>\n",
       "    </tr>\n",
       "    <tr>\n",
       "      <th>4</th>\n",
       "      <td>2022-07-16T19:00:00Z</td>\n",
       "      <td>22.8</td>\n",
       "      <td>206.8</td>\n",
       "      <td>3.5</td>\n",
       "      <td>51.5</td>\n",
       "      <td>1023.9</td>\n",
       "    </tr>\n",
       "    <tr>\n",
       "      <th>6</th>\n",
       "      <td>2022-07-16T20:00:00Z</td>\n",
       "      <td>21.7</td>\n",
       "      <td>162.3</td>\n",
       "      <td>2.4</td>\n",
       "      <td>51.3</td>\n",
       "      <td>1023.1</td>\n",
       "    </tr>\n",
       "    <tr>\n",
       "      <th>8</th>\n",
       "      <td>2022-07-16T21:00:00Z</td>\n",
       "      <td>21.0</td>\n",
       "      <td>146.8</td>\n",
       "      <td>1.2</td>\n",
       "      <td>53.2</td>\n",
       "      <td>1023.7</td>\n",
       "    </tr>\n",
       "    <tr>\n",
       "      <th>...</th>\n",
       "      <td>...</td>\n",
       "      <td>...</td>\n",
       "      <td>...</td>\n",
       "      <td>...</td>\n",
       "      <td>...</td>\n",
       "      <td>...</td>\n",
       "    </tr>\n",
       "    <tr>\n",
       "      <th>206</th>\n",
       "      <td>2022-07-25T00:00:00Z</td>\n",
       "      <td>16.1</td>\n",
       "      <td>239.3</td>\n",
       "      <td>5.7</td>\n",
       "      <td>86.0</td>\n",
       "      <td>1002.8</td>\n",
       "    </tr>\n",
       "    <tr>\n",
       "      <th>208</th>\n",
       "      <td>2022-07-25T06:00:00Z</td>\n",
       "      <td>14.0</td>\n",
       "      <td>267.2</td>\n",
       "      <td>8.5</td>\n",
       "      <td>84.2</td>\n",
       "      <td>1005.9</td>\n",
       "    </tr>\n",
       "    <tr>\n",
       "      <th>210</th>\n",
       "      <td>2022-07-25T12:00:00Z</td>\n",
       "      <td>16.6</td>\n",
       "      <td>282.9</td>\n",
       "      <td>8.2</td>\n",
       "      <td>63.8</td>\n",
       "      <td>1011.1</td>\n",
       "    </tr>\n",
       "    <tr>\n",
       "      <th>212</th>\n",
       "      <td>2022-07-25T18:00:00Z</td>\n",
       "      <td>17.2</td>\n",
       "      <td>280.1</td>\n",
       "      <td>5.5</td>\n",
       "      <td>58.2</td>\n",
       "      <td>1012.4</td>\n",
       "    </tr>\n",
       "    <tr>\n",
       "      <th>214</th>\n",
       "      <td>2022-07-26T00:00:00Z</td>\n",
       "      <td>13.7</td>\n",
       "      <td>253.9</td>\n",
       "      <td>3.4</td>\n",
       "      <td>72.3</td>\n",
       "      <td>1013.8</td>\n",
       "    </tr>\n",
       "  </tbody>\n",
       "</table>\n",
       "<p>108 rows × 6 columns</p>\n",
       "</div>"
      ],
      "text/plain": [
       "                     date  dub_temp  dub_wddir  dub_wdsp  dub_hum  dub_press\n",
       "0    2022-07-16T17:00:00Z      24.3      221.8       3.7     52.4     1024.2\n",
       "2    2022-07-16T18:00:00Z      24.0      218.0       3.1     50.7     1023.9\n",
       "4    2022-07-16T19:00:00Z      22.8      206.8       3.5     51.5     1023.9\n",
       "6    2022-07-16T20:00:00Z      21.7      162.3       2.4     51.3     1023.1\n",
       "8    2022-07-16T21:00:00Z      21.0      146.8       1.2     53.2     1023.7\n",
       "..                    ...       ...        ...       ...      ...        ...\n",
       "206  2022-07-25T00:00:00Z      16.1      239.3       5.7     86.0     1002.8\n",
       "208  2022-07-25T06:00:00Z      14.0      267.2       8.5     84.2     1005.9\n",
       "210  2022-07-25T12:00:00Z      16.6      282.9       8.2     63.8     1011.1\n",
       "212  2022-07-25T18:00:00Z      17.2      280.1       5.5     58.2     1012.4\n",
       "214  2022-07-26T00:00:00Z      13.7      253.9       3.4     72.3     1013.8\n",
       "\n",
       "[108 rows x 6 columns]"
      ]
     },
     "execution_count": 3,
     "metadata": {},
     "output_type": "execute_result"
    }
   ],
   "source": [
    "forecast"
   ]
  },
  {
   "cell_type": "code",
   "execution_count": 4,
   "id": "8635263c",
   "metadata": {},
   "outputs": [
    {
     "name": "stderr",
     "output_type": "stream",
     "text": [
      "/tmp/ipykernel_469066/1133376207.py:2: FutureWarning: In a future version of pandas all arguments of DataFrame.drop except for the argument 'labels' will be keyword-only.\n",
      "  forecast=forecast.drop(['windGust'],1)\n",
      "/tmp/ipykernel_469066/1133376207.py:20: FutureWarning: In a future version of pandas all arguments of DataFrame.drop except for the argument 'labels' will be keyword-only.\n",
      "  forecast=forecast.drop('date',1)\n"
     ]
    }
   ],
   "source": [
    "forecast = pd.read_csv('forecastData/PPForecast.csv')\n",
    "forecast=forecast.drop(['windGust'],1)\n",
    "forecast= forecast.dropna()\n",
    "forecast.columns=['date','dub_temp','dub_wddir','dub_wdsp','dub_hum','dub_press']\n",
    "forecast=forecast._convert(numeric=True)\n",
    "\n",
    "\n",
    "#Just taking the columns used in prediction\n",
    "finalCols= ['date','dub_temp','dub_wddir','dub_wdsp']\n",
    "forecast = forecast[finalCols]\n",
    "\n",
    "train_mean = np.loadtxt(\"./models/train_meanSave.csv\",delimiter=',')\n",
    "train_std = np.loadtxt(\"./models/train_stdSave.csv\",delimiter=',')\n",
    "\n",
    "\n",
    "\n",
    "forecast['date']=pd.to_datetime(forecast.date)\n",
    "\n",
    "dateCol=forecast['date']\n",
    "forecast=forecast.drop('date',1)\n",
    "\n",
    "\n",
    "forecast = (forecast - train_mean) / train_std\n",
    "\n",
    "forecast['date']=dateCol\n",
    "forecast[\"dayInMonth\"] =forecast['date'].dt.day\n",
    "\n",
    "## Need to add a cos function for day of week\n",
    "import math as ma\n",
    "forecast['hour']=forecast['date'].dt.hour\n",
    "forecast['dayOfWeek']=forecast['date'].dt.day_of_week\n",
    "forecast['dayOfYear']=forecast['date'].dt.day_of_year\n",
    "\n",
    "forecast[\"sin_hour\"]=np.sin(forecast[\"hour\"]/24*2*ma.pi)\n",
    "forecast[\"sin_day\"]=np.sin(forecast[\"dayOfYear\"]/365*(2*ma.pi))\n",
    "\n",
    "\n",
    "forecast[\"cos_hour\"]=np.sin(forecast[\"hour\"]/24*2*ma.pi)\n",
    "forecast[\"cos_day\"]=np.sin(forecast[\"dayOfYear\"]/365*(2*ma.pi))\n"
   ]
  },
  {
   "cell_type": "code",
   "execution_count": 5,
   "id": "446f9224",
   "metadata": {},
   "outputs": [],
   "source": [
    "usedCols=['sin_day','sin_hour','cos_day','cos_hour','dub_wddir','dub_wdsp','dub_temp']"
   ]
  },
  {
   "cell_type": "markdown",
   "id": "b7576691",
   "metadata": {},
   "source": [
    "### Using tensorflow make dataset"
   ]
  },
  {
   "cell_type": "code",
   "execution_count": 6,
   "id": "dc82c30e",
   "metadata": {},
   "outputs": [],
   "source": [
    "def make_dataset(self, data):\n",
    "  data = np.array(data, dtype=np.float32)\n",
    "  ds = tf.keras.utils.timeseries_dataset_from_array(\n",
    "      data=data,\n",
    "      targets=None,\n",
    "      sequence_length=self.total_window_size,\n",
    "      sequence_stride=1,\n",
    "      shuffle=True,\n",
    "      batch_size=32,)\n",
    "\n",
    "  ds = ds.map(self.split_window)\n",
    "\n",
    "  return ds"
   ]
  },
  {
   "cell_type": "code",
   "execution_count": 7,
   "id": "7642ccb3",
   "metadata": {},
   "outputs": [],
   "source": [
    "@property\n",
    "def val(self):\n",
    "  return self.make_dataset(self.val_df3)"
   ]
  },
  {
   "cell_type": "markdown",
   "id": "7ccf1a8f",
   "metadata": {},
   "source": [
    "### Importing the model"
   ]
  },
  {
   "cell_type": "code",
   "execution_count": 8,
   "id": "c707dcf1",
   "metadata": {},
   "outputs": [
    {
     "name": "stderr",
     "output_type": "stream",
     "text": [
      "2022-07-16 20:58:18.725283: W tensorflow/stream_executor/platform/default/dso_loader.cc:64] Could not load dynamic library 'libcudart.so.11.0'; dlerror: libcudart.so.11.0: cannot open shared object file: No such file or directory\n",
      "2022-07-16 20:58:18.725333: I tensorflow/stream_executor/cuda/cudart_stub.cc:29] Ignore above cudart dlerror if you do not have a GPU set up on your machine.\n",
      "2022-07-16 20:58:21.686155: W tensorflow/stream_executor/platform/default/dso_loader.cc:64] Could not load dynamic library 'libcuda.so.1'; dlerror: libcuda.so.1: cannot open shared object file: No such file or directory\n",
      "2022-07-16 20:58:21.686227: W tensorflow/stream_executor/cuda/cuda_driver.cc:269] failed call to cuInit: UNKNOWN ERROR (303)\n",
      "2022-07-16 20:58:21.686263: I tensorflow/stream_executor/cuda/cuda_diagnostics.cc:156] kernel driver does not appear to be running on this host (x20217366): /proc/driver/nvidia/version does not exist\n"
     ]
    },
    {
     "name": "stdout",
     "output_type": "stream",
     "text": [
      "Model: \"sequential_5\"\n",
      "_________________________________________________________________\n",
      " Layer (type)                Output Shape              Param #   \n",
      "=================================================================\n",
      " conv1d_3 (Conv1D)           (None, None, 32)          480       \n",
      "                                                                 \n",
      " dense_9 (Dense)             (None, None, 32)          1056      \n",
      "                                                                 \n",
      " dense_10 (Dense)            (None, None, 1)           33        \n",
      "                                                                 \n",
      "=================================================================\n",
      "Total params: 1,569\n",
      "Trainable params: 1,569\n",
      "Non-trainable params: 0\n",
      "_________________________________________________________________\n"
     ]
    }
   ],
   "source": [
    "import tensorflow as tf\n",
    "conv_model = tf.keras.models.load_model('models/conv_model')\n",
    "\n",
    "# Check its architecture\n",
    "conv_model.summary()"
   ]
  },
  {
   "cell_type": "code",
   "execution_count": 9,
   "id": "8c6d3ef8",
   "metadata": {},
   "outputs": [
    {
     "name": "stderr",
     "output_type": "stream",
     "text": [
      "/tmp/ipykernel_469066/3350166663.py:1: FutureWarning: In a future version of pandas all arguments of DataFrame.drop except for the argument 'labels' will be keyword-only.\n",
      "  forecastData= forecast.drop(['date','dayInMonth','hour','dayOfWeek','dayOfYear'],1)\n"
     ]
    }
   ],
   "source": [
    "forecastData= forecast.drop(['date','dayInMonth','hour','dayOfWeek','dayOfYear'],1)\n",
    "forecastData= forecastData[['sin_day', 'sin_hour', 'cos_day', 'cos_hour', 'dub_wddir', 'dub_wdsp','dub_temp']]"
   ]
  },
  {
   "cell_type": "code",
   "execution_count": 10,
   "id": "c3a91fe0",
   "metadata": {},
   "outputs": [],
   "source": [
    "def make_dataset( data):\n",
    "    data = np.array(data, dtype=np.float32)\n",
    "    print(\"Data is  given by\",data.shape)\n",
    "    inputData=data\n",
    "    print(\"Input data is given by\", inputData.shape)\n",
    "\n",
    "    ds = tf.keras.utils.timeseries_dataset_from_array(\n",
    "        inputData,\n",
    "        targets=None,\n",
    "        sequence_length=3,\n",
    "        sequence_stride=1,\n",
    "        shuffle=False,\n",
    "        batch_size=32,)\n",
    "    print(\"ds is given by \",ds)\n",
    "    #ds = ds.map(self.split_window)\n",
    "\n",
    "    return ds"
   ]
  },
  {
   "cell_type": "code",
   "execution_count": 11,
   "id": "00dcca74",
   "metadata": {},
   "outputs": [
    {
     "name": "stdout",
     "output_type": "stream",
     "text": [
      "Data is  given by (108, 7)\n",
      "Input data is given by (108, 7)\n",
      "ds is given by  <BatchDataset element_spec=TensorSpec(shape=(None, None, 7), dtype=tf.float32, name=None)>\n"
     ]
    }
   ],
   "source": [
    "forecastDs=make_dataset(forecastData)"
   ]
  },
  {
   "cell_type": "code",
   "execution_count": 12,
   "id": "68a32767",
   "metadata": {},
   "outputs": [
    {
     "name": "stdout",
     "output_type": "stream",
     "text": [
      "4/4 [==============================] - 1s 7ms/step\n"
     ]
    }
   ],
   "source": [
    "forecastArr=conv_model.predict(forecastDs)"
   ]
  },
  {
   "cell_type": "code",
   "execution_count": null,
   "id": "a4297396",
   "metadata": {},
   "outputs": [],
   "source": []
  },
  {
   "cell_type": "code",
   "execution_count": 13,
   "id": "33882f85",
   "metadata": {},
   "outputs": [
    {
     "data": {
      "text/plain": [
       "212"
      ]
     },
     "execution_count": 13,
     "metadata": {},
     "output_type": "execute_result"
    }
   ],
   "source": [
    "len(forecastArr.ravel())"
   ]
  },
  {
   "cell_type": "code",
   "execution_count": 14,
   "id": "267e9c0a",
   "metadata": {},
   "outputs": [],
   "source": [
    "forecastPred=forecastArr[:,1]\n",
    "\n",
    "#forecastArr.ravel()"
   ]
  },
  {
   "cell_type": "code",
   "execution_count": 17,
   "id": "17ccb76e",
   "metadata": {},
   "outputs": [
    {
     "data": {
      "text/plain": [
       "\"\\nimport matplotlib.pyplot as plt \\nfrom matplotlib.pyplot import figure\\nplt.plot(X_valid['date2'][-7*24:],y_pred[-7*24:],color = 'blue')\\nplt.plot(X_valid['date2'][-7*24:],y_valid[-7*24:],color = 'red')\\nfig = plt.gcf()\\nfig.set_size_inches(18.5, 10.5)\\nfig.savefig('test2png.png', dpi=100)\\n\""
      ]
     },
     "execution_count": 17,
     "metadata": {},
     "output_type": "execute_result"
    }
   ],
   "source": [
    "'''\n",
    "import matplotlib.pyplot as plt \n",
    "from matplotlib.pyplot import figure\n",
    "plt.plot(X_valid['date2'][-7*24:],y_pred[-7*24:],color = 'blue')\n",
    "plt.plot(X_valid['date2'][-7*24:],y_valid[-7*24:],color = 'red')\n",
    "fig = plt.gcf()\n",
    "fig.set_size_inches(18.5, 10.5)\n",
    "fig.savefig('test2png.png', dpi=100)\n",
    "'''"
   ]
  },
  {
   "cell_type": "code",
   "execution_count": 19,
   "id": "98e5dc7d",
   "metadata": {},
   "outputs": [],
   "source": [
    "#X_forecast = tf.keras.pd_dataframe_to_tf_dataset(forecast, label=label, task=tfdf.keras.Task.REGRESSION)"
   ]
  },
  {
   "cell_type": "code",
   "execution_count": 20,
   "id": "5a897ec2",
   "metadata": {},
   "outputs": [
    {
     "data": {
      "text/html": [
       "<div>\n",
       "<style scoped>\n",
       "    .dataframe tbody tr th:only-of-type {\n",
       "        vertical-align: middle;\n",
       "    }\n",
       "\n",
       "    .dataframe tbody tr th {\n",
       "        vertical-align: top;\n",
       "    }\n",
       "\n",
       "    .dataframe thead th {\n",
       "        text-align: right;\n",
       "    }\n",
       "</style>\n",
       "<table border=\"1\" class=\"dataframe\">\n",
       "  <thead>\n",
       "    <tr style=\"text-align: right;\">\n",
       "      <th></th>\n",
       "      <th>dub_temp</th>\n",
       "      <th>dub_wddir</th>\n",
       "      <th>dub_wdsp</th>\n",
       "      <th>date</th>\n",
       "      <th>dayInMonth</th>\n",
       "      <th>hour</th>\n",
       "      <th>dayOfWeek</th>\n",
       "      <th>dayOfYear</th>\n",
       "      <th>sin_hour</th>\n",
       "      <th>sin_day</th>\n",
       "      <th>cos_hour</th>\n",
       "      <th>cos_day</th>\n",
       "    </tr>\n",
       "  </thead>\n",
       "  <tbody>\n",
       "    <tr>\n",
       "      <th>4</th>\n",
       "      <td>6.479736e+16</td>\n",
       "      <td>-4.286924e+18</td>\n",
       "      <td>-4.743936e+16</td>\n",
       "      <td>2022-07-16 19:00:00+00:00</td>\n",
       "      <td>16</td>\n",
       "      <td>19</td>\n",
       "      <td>5</td>\n",
       "      <td>197</td>\n",
       "      <td>-9.659258e-01</td>\n",
       "      <td>-0.247022</td>\n",
       "      <td>-9.659258e-01</td>\n",
       "      <td>-0.247022</td>\n",
       "    </tr>\n",
       "    <tr>\n",
       "      <th>6</th>\n",
       "      <td>6.167117e+16</td>\n",
       "      <td>-3.364447e+18</td>\n",
       "      <td>-3.252985e+16</td>\n",
       "      <td>2022-07-16 20:00:00+00:00</td>\n",
       "      <td>16</td>\n",
       "      <td>20</td>\n",
       "      <td>5</td>\n",
       "      <td>197</td>\n",
       "      <td>-8.660254e-01</td>\n",
       "      <td>-0.247022</td>\n",
       "      <td>-8.660254e-01</td>\n",
       "      <td>-0.247022</td>\n",
       "    </tr>\n",
       "    <tr>\n",
       "      <th>8</th>\n",
       "      <td>5.968177e+16</td>\n",
       "      <td>-3.043135e+18</td>\n",
       "      <td>-1.626492e+16</td>\n",
       "      <td>2022-07-16 21:00:00+00:00</td>\n",
       "      <td>16</td>\n",
       "      <td>21</td>\n",
       "      <td>5</td>\n",
       "      <td>197</td>\n",
       "      <td>-7.071068e-01</td>\n",
       "      <td>-0.247022</td>\n",
       "      <td>-7.071068e-01</td>\n",
       "      <td>-0.247022</td>\n",
       "    </tr>\n",
       "    <tr>\n",
       "      <th>10</th>\n",
       "      <td>5.712398e+16</td>\n",
       "      <td>-4.552265e+18</td>\n",
       "      <td>-2.575280e+16</td>\n",
       "      <td>2022-07-16 22:00:00+00:00</td>\n",
       "      <td>16</td>\n",
       "      <td>22</td>\n",
       "      <td>5</td>\n",
       "      <td>197</td>\n",
       "      <td>-5.000000e-01</td>\n",
       "      <td>-0.247022</td>\n",
       "      <td>-5.000000e-01</td>\n",
       "      <td>-0.247022</td>\n",
       "    </tr>\n",
       "    <tr>\n",
       "      <th>12</th>\n",
       "      <td>5.570299e+16</td>\n",
       "      <td>-3.729292e+18</td>\n",
       "      <td>-2.575280e+16</td>\n",
       "      <td>2022-07-16 23:00:00+00:00</td>\n",
       "      <td>16</td>\n",
       "      <td>23</td>\n",
       "      <td>5</td>\n",
       "      <td>197</td>\n",
       "      <td>-2.588190e-01</td>\n",
       "      <td>-0.247022</td>\n",
       "      <td>-2.588190e-01</td>\n",
       "      <td>-0.247022</td>\n",
       "    </tr>\n",
       "    <tr>\n",
       "      <th>...</th>\n",
       "      <td>...</td>\n",
       "      <td>...</td>\n",
       "      <td>...</td>\n",
       "      <td>...</td>\n",
       "      <td>...</td>\n",
       "      <td>...</td>\n",
       "      <td>...</td>\n",
       "      <td>...</td>\n",
       "      <td>...</td>\n",
       "      <td>...</td>\n",
       "      <td>...</td>\n",
       "      <td>...</td>\n",
       "    </tr>\n",
       "    <tr>\n",
       "      <th>206</th>\n",
       "      <td>4.575603e+16</td>\n",
       "      <td>-4.960642e+18</td>\n",
       "      <td>-7.725839e+16</td>\n",
       "      <td>2022-07-25 00:00:00+00:00</td>\n",
       "      <td>25</td>\n",
       "      <td>0</td>\n",
       "      <td>0</td>\n",
       "      <td>206</td>\n",
       "      <td>0.000000e+00</td>\n",
       "      <td>-0.393590</td>\n",
       "      <td>0.000000e+00</td>\n",
       "      <td>-0.393590</td>\n",
       "    </tr>\n",
       "    <tr>\n",
       "      <th>208</th>\n",
       "      <td>3.978785e+16</td>\n",
       "      <td>-5.539004e+18</td>\n",
       "      <td>-1.152099e+17</td>\n",
       "      <td>2022-07-25 06:00:00+00:00</td>\n",
       "      <td>25</td>\n",
       "      <td>6</td>\n",
       "      <td>0</td>\n",
       "      <td>206</td>\n",
       "      <td>1.000000e+00</td>\n",
       "      <td>-0.393590</td>\n",
       "      <td>1.000000e+00</td>\n",
       "      <td>-0.393590</td>\n",
       "    </tr>\n",
       "    <tr>\n",
       "      <th>210</th>\n",
       "      <td>4.717702e+16</td>\n",
       "      <td>-5.864462e+18</td>\n",
       "      <td>-1.111436e+17</td>\n",
       "      <td>2022-07-25 12:00:00+00:00</td>\n",
       "      <td>25</td>\n",
       "      <td>12</td>\n",
       "      <td>0</td>\n",
       "      <td>206</td>\n",
       "      <td>1.224647e-16</td>\n",
       "      <td>-0.393590</td>\n",
       "      <td>1.224647e-16</td>\n",
       "      <td>-0.393590</td>\n",
       "    </tr>\n",
       "    <tr>\n",
       "      <th>212</th>\n",
       "      <td>4.888222e+16</td>\n",
       "      <td>-5.806418e+18</td>\n",
       "      <td>-7.454756e+16</td>\n",
       "      <td>2022-07-25 18:00:00+00:00</td>\n",
       "      <td>25</td>\n",
       "      <td>18</td>\n",
       "      <td>0</td>\n",
       "      <td>206</td>\n",
       "      <td>-1.000000e+00</td>\n",
       "      <td>-0.393590</td>\n",
       "      <td>-1.000000e+00</td>\n",
       "      <td>-0.393590</td>\n",
       "    </tr>\n",
       "    <tr>\n",
       "      <th>214</th>\n",
       "      <td>3.893525e+16</td>\n",
       "      <td>-5.263297e+18</td>\n",
       "      <td>-4.608395e+16</td>\n",
       "      <td>2022-07-26 00:00:00+00:00</td>\n",
       "      <td>26</td>\n",
       "      <td>0</td>\n",
       "      <td>1</td>\n",
       "      <td>207</td>\n",
       "      <td>0.000000e+00</td>\n",
       "      <td>-0.409356</td>\n",
       "      <td>0.000000e+00</td>\n",
       "      <td>-0.409356</td>\n",
       "    </tr>\n",
       "  </tbody>\n",
       "</table>\n",
       "<p>106 rows × 12 columns</p>\n",
       "</div>"
      ],
      "text/plain": [
       "         dub_temp     dub_wddir      dub_wdsp                      date  \\\n",
       "4    6.479736e+16 -4.286924e+18 -4.743936e+16 2022-07-16 19:00:00+00:00   \n",
       "6    6.167117e+16 -3.364447e+18 -3.252985e+16 2022-07-16 20:00:00+00:00   \n",
       "8    5.968177e+16 -3.043135e+18 -1.626492e+16 2022-07-16 21:00:00+00:00   \n",
       "10   5.712398e+16 -4.552265e+18 -2.575280e+16 2022-07-16 22:00:00+00:00   \n",
       "12   5.570299e+16 -3.729292e+18 -2.575280e+16 2022-07-16 23:00:00+00:00   \n",
       "..            ...           ...           ...                       ...   \n",
       "206  4.575603e+16 -4.960642e+18 -7.725839e+16 2022-07-25 00:00:00+00:00   \n",
       "208  3.978785e+16 -5.539004e+18 -1.152099e+17 2022-07-25 06:00:00+00:00   \n",
       "210  4.717702e+16 -5.864462e+18 -1.111436e+17 2022-07-25 12:00:00+00:00   \n",
       "212  4.888222e+16 -5.806418e+18 -7.454756e+16 2022-07-25 18:00:00+00:00   \n",
       "214  3.893525e+16 -5.263297e+18 -4.608395e+16 2022-07-26 00:00:00+00:00   \n",
       "\n",
       "     dayInMonth  hour  dayOfWeek  dayOfYear      sin_hour   sin_day  \\\n",
       "4            16    19          5        197 -9.659258e-01 -0.247022   \n",
       "6            16    20          5        197 -8.660254e-01 -0.247022   \n",
       "8            16    21          5        197 -7.071068e-01 -0.247022   \n",
       "10           16    22          5        197 -5.000000e-01 -0.247022   \n",
       "12           16    23          5        197 -2.588190e-01 -0.247022   \n",
       "..          ...   ...        ...        ...           ...       ...   \n",
       "206          25     0          0        206  0.000000e+00 -0.393590   \n",
       "208          25     6          0        206  1.000000e+00 -0.393590   \n",
       "210          25    12          0        206  1.224647e-16 -0.393590   \n",
       "212          25    18          0        206 -1.000000e+00 -0.393590   \n",
       "214          26     0          1        207  0.000000e+00 -0.409356   \n",
       "\n",
       "         cos_hour   cos_day  \n",
       "4   -9.659258e-01 -0.247022  \n",
       "6   -8.660254e-01 -0.247022  \n",
       "8   -7.071068e-01 -0.247022  \n",
       "10  -5.000000e-01 -0.247022  \n",
       "12  -2.588190e-01 -0.247022  \n",
       "..            ...       ...  \n",
       "206  0.000000e+00 -0.393590  \n",
       "208  1.000000e+00 -0.393590  \n",
       "210  1.224647e-16 -0.393590  \n",
       "212 -1.000000e+00 -0.393590  \n",
       "214  0.000000e+00 -0.409356  \n",
       "\n",
       "[106 rows x 12 columns]"
      ]
     },
     "execution_count": 20,
     "metadata": {},
     "output_type": "execute_result"
    }
   ],
   "source": [
    "forecast.iloc[2:]"
   ]
  },
  {
   "cell_type": "code",
   "execution_count": 21,
   "id": "8d4d9b75",
   "metadata": {},
   "outputs": [
    {
     "ename": "AttributeError",
     "evalue": "'numpy.ndarray' object has no attribute 'rolling'",
     "output_type": "error",
     "traceback": [
      "\u001b[0;31m---------------------------------------------------------------------------\u001b[0m",
      "\u001b[0;31mAttributeError\u001b[0m                            Traceback (most recent call last)",
      "Input \u001b[0;32mIn [21]\u001b[0m, in \u001b[0;36m<cell line: 1>\u001b[0;34m()\u001b[0m\n\u001b[0;32m----> 1\u001b[0m \u001b[43mforecastPred\u001b[49m\u001b[38;5;241;43m.\u001b[39;49m\u001b[43mrolling\u001b[49m(window\u001b[38;5;241m=\u001b[39m\u001b[38;5;241m6\u001b[39m)\n",
      "\u001b[0;31mAttributeError\u001b[0m: 'numpy.ndarray' object has no attribute 'rolling'"
     ]
    }
   ],
   "source": [
    "forecastPred.rolling(window=6)"
   ]
  },
  {
   "cell_type": "code",
   "execution_count": 22,
   "id": "f890c41d",
   "metadata": {},
   "outputs": [],
   "source": [
    "#Finding the rolling average\n",
    "forecastpd=pd.Series(forecastPred.ravel())\n",
    "forecastRoll=forecastpd.rolling(5, center =True).mean()\n",
    "forecastAvg=forecastRoll.dropna().mean()\n",
    "forecastRoll=forecastRoll.fillna(forecastAvg)\n",
    "\n",
    "#Finding the rolling minima\n",
    "rollMin=forecastRoll.rolling(12, center=True).min()\n",
    "rollMin=rollMin.fillna(forecastRoll.mean())\n"
   ]
  },
  {
   "cell_type": "code",
   "execution_count": 23,
   "id": "bf3fb52c",
   "metadata": {},
   "outputs": [
    {
     "data": {
      "text/plain": [
       "11    True\n",
       "37    True\n",
       "51    True\n",
       "69    True\n",
       "90    True\n",
       "dtype: bool"
      ]
     },
     "execution_count": 23,
     "metadata": {},
     "output_type": "execute_result"
    }
   ],
   "source": [
    "highlights=(rollMin== forecastRoll)\n",
    "highlights[0]=False\n",
    "#highlights[1]=False\n",
    "highlights[highlights]"
   ]
  },
  {
   "cell_type": "code",
   "execution_count": 26,
   "id": "afbb1e63",
   "metadata": {},
   "outputs": [
    {
     "name": "stderr",
     "output_type": "stream",
     "text": [
      "/tmp/ipykernel_469066/2825828548.py:5: SettingWithCopyWarning: \n",
      "A value is trying to be set on a copy of a slice from a DataFrame.\n",
      "Try using .loc[row_indexer,col_indexer] = value instead\n",
      "\n",
      "See the caveats in the documentation: https://pandas.pydata.org/pandas-docs/stable/user_guide/indexing.html#returning-a-view-versus-a-copy\n",
      "  forecastPlot['index']=range(len(forecastPlot))\n"
     ]
    },
    {
     "name": "stdout",
     "output_type": "stream",
     "text": [
      "Itererating with I and J 0 0\n",
      "Itererating with I and J 1 0\n",
      "Itererating with I and J 2 0\n",
      "Itererating with I and J 3 0\n",
      "Itererating with I and J 4 0\n",
      "Itererating with I and J 5 0\n",
      "Itererating with I and J 6 0\n",
      "Itererating with I and J 7 0\n",
      "Itererating with I and J 8 0\n",
      "Itererating with I and J 9 0\n",
      "Itererating with I and J 10 0\n",
      "Itererating with I and J 11 0\n",
      "Plotting with i and j are given by 11 1 And the date-time being 2022-07-17 06:00:00+00:00\n",
      "Itererating with I and J 13 1\n",
      "Itererating with I and J 14 0\n",
      "Itererating with I and J 15 0\n",
      "Itererating with I and J 16 0\n",
      "Itererating with I and J 17 0\n",
      "Itererating with I and J 18 0\n",
      "Itererating with I and J 19 0\n",
      "Itererating with I and J 20 0\n",
      "Itererating with I and J 21 0\n",
      "Itererating with I and J 22 0\n",
      "Itererating with I and J 23 0\n",
      "Itererating with I and J 24 0\n",
      "Itererating with I and J 25 0\n",
      "Itererating with I and J 26 0\n",
      "Itererating with I and J 27 0\n",
      "Itererating with I and J 28 0\n",
      "Itererating with I and J 29 0\n",
      "Itererating with I and J 30 0\n",
      "Itererating with I and J 31 0\n",
      "Itererating with I and J 32 0\n",
      "Itererating with I and J 33 0\n",
      "Itererating with I and J 34 0\n",
      "Itererating with I and J 35 0\n",
      "Itererating with I and J 36 0\n",
      "Itererating with I and J 37 0\n",
      "Plotting with i and j are given by 37 1 And the date-time being 2022-07-18 08:00:00+00:00\n",
      "Itererating with I and J 39 1\n",
      "Itererating with I and J 40 0\n",
      "Itererating with I and J 41 0\n",
      "Itererating with I and J 42 0\n",
      "Itererating with I and J 43 0\n",
      "Itererating with I and J 44 0\n",
      "Itererating with I and J 45 0\n",
      "Itererating with I and J 46 0\n",
      "Itererating with I and J 47 0\n",
      "Itererating with I and J 48 0\n",
      "Itererating with I and J 49 0\n",
      "Itererating with I and J 50 0\n",
      "Itererating with I and J 51 0\n",
      "Plotting with i and j are given by 51 1 And the date-time being 2022-07-18 22:00:00+00:00\n",
      "Itererating with I and J 53 1\n",
      "Itererating with I and J 54 0\n",
      "Itererating with I and J 55 0\n",
      "Itererating with I and J 56 0\n",
      "Itererating with I and J 57 0\n",
      "Itererating with I and J 58 0\n",
      "Itererating with I and J 59 0\n",
      "Itererating with I and J 60 0\n",
      "Itererating with I and J 61 0\n",
      "Itererating with I and J 62 0\n",
      "Itererating with I and J 63 0\n",
      "Itererating with I and J 64 0\n",
      "Itererating with I and J 65 0\n",
      "Itererating with I and J 66 0\n",
      "Itererating with I and J 67 0\n",
      "Itererating with I and J 68 0\n",
      "Itererating with I and J 69 0\n",
      "Plotting with i and j are given by 69 1 And the date-time being 2022-07-19 16:00:00+00:00\n",
      "Itererating with I and J 71 1\n",
      "Itererating with I and J 72 0\n",
      "Itererating with I and J 73 0\n",
      "Itererating with I and J 74 0\n",
      "Itererating with I and J 75 0\n",
      "Itererating with I and J 76 0\n",
      "Itererating with I and J 77 0\n",
      "Itererating with I and J 78 0\n",
      "Itererating with I and J 79 0\n",
      "Itererating with I and J 80 0\n",
      "Itererating with I and J 81 0\n",
      "Itererating with I and J 82 0\n",
      "Itererating with I and J 83 0\n",
      "Itererating with I and J 84 0\n",
      "Itererating with I and J 85 0\n",
      "Itererating with I and J 86 0\n",
      "Itererating with I and J 87 0\n",
      "Itererating with I and J 88 0\n",
      "Itererating with I and J 89 0\n",
      "Itererating with I and J 90 0\n",
      "Plotting with i and j are given by 90 1 And the date-time being 2022-07-22 06:00:00+00:00\n",
      "Itererating with I and J 92 1\n",
      "Itererating with I and J 93 0\n",
      "Itererating with I and J 94 0\n",
      "Itererating with I and J 95 0\n",
      "Itererating with I and J 96 0\n",
      "Itererating with I and J 97 0\n",
      "Itererating with I and J 98 0\n",
      "Itererating with I and J 99 0\n",
      "Itererating with I and J 100 0\n",
      "Itererating with I and J 101 0\n",
      "Itererating with I and J 102 0\n",
      "Itererating with I and J 103 0\n",
      "Itererating with I and J 104 0\n",
      "Itererating with I and J 105 0\n"
     ]
    },
    {
     "data": {
      "image/png": "[encoded data removed]",
      "text/plain": [
       "<Figure size 1332x756 with 1 Axes>"
      ]
     },
     "metadata": {
      "needs_background": "light"
     },
     "output_type": "display_data"
    }
   ],
   "source": [
    "import matplotlib.pyplot as plt \n",
    "from matplotlib.pyplot import figure\n",
    "\n",
    "forecastPlot=forecast.iloc[2:]\n",
    "forecastPlot['index']=range(len(forecastPlot))\n",
    "forecastPlot.index=range(len(forecastPlot))\n",
    "forecastPlot.set_index('index')\n",
    "\n",
    "forecastPlot= forecastPlot.reindex()\n",
    "\n",
    "\n",
    "forecastPlot['predictedGeneration'] = forecastPred\n",
    "\n",
    "fig, ax = plt.subplots(figsize=(4, 4))\n",
    "\n",
    "plt.plot(forecastPlot['date'],forecastPred,color = 'blue')\n",
    "plt.plot(forecastPlot['date'],forecastRoll,color = 'cyan')\n",
    "forcastLen=len(forecastPlot['date'])\n",
    "# highlight a time range\n",
    "\n",
    "#ax.axvspan(forecastPlot['date'][0],forecastPlot['date'][2], color=\"blue\", alpha=0.3)\n",
    "i=0\n",
    "j=0\n",
    "while i < forcastLen:\n",
    "    print(\"Itererating with I and J\",i,j)\n",
    "    j = 0\n",
    "\n",
    "    while ((i+j) <= forcastLen) and ( highlights[i]):\n",
    "        if (i+j != forcastLen) and (highlights[i+j]):\n",
    "            j=j+1\n",
    "        elif(i+j != forcastLen):\n",
    "            print(\"Plotting with i and j are given by\",i,j,\"And the date-time being\",forecastPlot['date'][i])\n",
    "            ax.axvspan(forecastPlot['date'][i-1],forecastPlot['date'][j+i+1], color=\"blue\", alpha=0.3)\n",
    "            i = i+j\n",
    "        else:\n",
    "            print(\"Plotting with i and j are given by\",i,j,\"And the date-time being\",forecastPlot['date'][i])\n",
    "            ax.axvspan(forecastPlot['date'][i-1],forecastPlot['date'][i], color=\"blue\", alpha=0.3)\n",
    "            i = i+j\n",
    "    i=i+1\n",
    "        \n",
    "forecastPlot['rawTemp']=rawTemp\n",
    "forecastPlot.to_csv(path_or_buf='./dashboard/chargeTimeDashboard/forecastPlot.csv',index=False)\n",
    "\n",
    "\n",
    "fig = plt.gcf()\n",
    "fig.set_size_inches(18.5, 10.5)\n",
    "fig.savefig('forecast.png', dpi=100)\n"
   ]
  },
  {
   "cell_type": "code",
   "execution_count": null,
   "id": "2f81a281",
   "metadata": {},
   "outputs": [],
   "source": [
    "\n",
    "= pd.read_csv('forecastPlot.csv', parse_dates=['date'])"
   ]
  },
  {
   "cell_type": "code",
   "execution_count": null,
   "id": "af996279",
   "metadata": {},
   "outputs": [],
   "source": [
    "forecastPlot"
   ]
  },
  {
   "cell_type": "code",
   "execution_count": null,
   "id": "39d87f05",
   "metadata": {},
   "outputs": [],
   "source": [
    "import plost\n",
    "\n",
    "plost.time_hist(\n",
    "    data=forecastPlot,\n",
    "    date='date',\n",
    "    x_unit='hour',\n",
    "    y_unit='day',\n",
    "    color='predictedGeneration',\n",
    "    aggregate='median',\n",
    "    legend=None)\n"
   ]
  },
  {
   "cell_type": "code",
   "execution_count": null,
   "id": "5e904708",
   "metadata": {},
   "outputs": [],
   "source": [
    "forecast=forecast.drop('date',1)\n",
    "forecast=forecast.drop('dayInMonth',1)\n",
    "forecast=forecast.drop('hour',1)\n",
    "forecast=forecast.drop('dayOfWeek',1)\n",
    "forecast=forecast.drop('dayOfYear',1)"
   ]
  },
  {
   "cell_type": "code",
   "execution_count": null,
   "id": "cd772c94",
   "metadata": {},
   "outputs": [],
   "source": [
    "len(forecast.columns)"
   ]
  },
  {
   "cell_type": "code",
   "execution_count": null,
   "id": "f653a56c",
   "metadata": {},
   "outputs": [],
   "source": [
    "tf_forecast=tf.convert_to_tensor(forecast)"
   ]
  },
  {
   "cell_type": "code",
   "execution_count": null,
   "id": "89d84f68",
   "metadata": {},
   "outputs": [],
   "source": [
    "conv_model.predict(tf_forecast)"
   ]
  },
  {
   "cell_type": "code",
   "execution_count": null,
   "id": "8418ce84",
   "metadata": {},
   "outputs": [],
   "source": [
    "[print(i.shape, i.dtype, i.name) for i in conv_model.inputs]\n"
   ]
  }
 ],
 "metadata": {
  "kernelspec": {
   "display_name": "Python 3 (ipykernel)",
   "language": "python",
   "name": "python3"
  },
  "language_info": {
   "codemirror_mode": {
    "name": "ipython",
    "version": 3
   },
   "file_extension": ".py",
   "mimetype": "text/x-python",
   "name": "python",
   "nbconvert_exporter": "python",
   "pygments_lexer": "ipython3",
   "version": "3.8.10"
  }
 },
 "nbformat": 4,
 "nbformat_minor": 5
}
