{
 "cells": [
  {
   "cell_type": "markdown",
   "id": "625f4b16",
   "metadata": {},
   "source": [
    "# Charge Time Machine Learning Algorithm Generation"
   ]
  },
  {
   "cell_type": "markdown",
   "id": "7efbcb81",
   "metadata": {},
   "source": [
    "## Splitting the data"
   ]
  },
  {
   "cell_type": "code",
   "execution_count": 1,
   "id": "8def5098",
   "metadata": {},
   "outputs": [],
   "source": [
    "import pandas as pd\n",
    "import datetime as td\n",
    "import  numpy as np\n",
    "import datetime \n",
    "import datetime as dt\n",
    "import math as ma\n",
    "from sklearn.model_selection import train_test_split\n",
    "df = pd.read_csv('data/chargeML.csv')\n",
    "df=df._convert(numeric=True)\n",
    "df=df.dropna()\n",
    "#df['date2'] =  pd.to_datetime(df['date2'])\n",
    "#df.index.to_pydatetime() \n",
    "#df=df.date2.to_pydatetime() \n",
    "df['date2']=pd.to_datetime(df.date2)\n",
    "#df['date2'] =  pd.to_datetime(df['date2'])\n",
    "df[\"dayInMonth\"] =df['date2'].dt.day\n",
    "inData=dataSet=df\n",
    "\n",
    "## Need to add a cos function for day of week\n",
    "df[\"cos_week\"] = np.cos(df[\"dayOfWeek\"]/7*2*ma.pi)\n",
    "df[\"sin_hour\"]=np.sin(df[\"dayOfWeek\"]/7*2*ma.pi)"
   ]
  },
  {
   "cell_type": "code",
   "execution_count": 2,
   "id": "d80decb1",
   "metadata": {},
   "outputs": [],
   "source": [
    "splitOption = 1 # split per day of the month\n",
    "\n",
    "#cutOffTestDate=2022.01.01\n",
    "cutOffTestDate = datetime.datetime(2022, 1, 1)\n",
    "testSet = dataSet.loc[(inData.date2 > cutOffTestDate), :]\n",
    "mainSet = dataSet.loc[(inData.date2 <= cutOffTestDate), :]\n",
    "\n",
    "trainSet = dataSet.loc[(dataSet.dayInMonth > 0) & (dataSet.dayInMonth < 23), :]\n",
    "validSet = dataSet.loc[(dataSet.dayInMonth >= 23) & (inData.date2 <= cutOffTestDate), :]"
   ]
  },
  {
   "cell_type": "markdown",
   "id": "f8066827",
   "metadata": {},
   "source": [
    "### Normalising the data"
   ]
  },
  {
   "cell_type": "code",
   "execution_count": 3,
   "id": "cfe9b456",
   "metadata": {},
   "outputs": [
    {
     "name": "stderr",
     "output_type": "stream",
     "text": [
      "/tmp/ipykernel_118793/1333164848.py:18: FutureWarning: In a future version of pandas all arguments of DataFrame.drop except for the argument 'labels' will be keyword-only.\n",
      "  trainSetNorm=trainSet.drop(['date2','dayInMonth','dayOfWeek','dayOfYear','hour','ForecastWind','ActualGenerationMW'],1)\n",
      "/tmp/ipykernel_118793/1333164848.py:19: FutureWarning: In a future version of pandas all arguments of DataFrame.drop except for the argument 'labels' will be keyword-only.\n",
      "  testSetNorm=testSet.drop(['date2','dayInMonth','dayOfWeek','dayOfYear','hour','ForecastWind','ActualGenerationMW'],1)\n",
      "/tmp/ipykernel_118793/1333164848.py:20: FutureWarning: In a future version of pandas all arguments of DataFrame.drop except for the argument 'labels' will be keyword-only.\n",
      "  validSetNorm=validSet.drop(['date2','dayInMonth','dayOfWeek','dayOfYear','hour','ForecastWind','ActualGenerationMW'],1)\n"
     ]
    }
   ],
   "source": [
    "trainDate=trainSet.date2\n",
    "validDate=validSet.date2\n",
    "testDate=testSet.date2\n",
    "\n",
    "trainGen=trainSet.ActualGenerationMW\n",
    "validGen=validSet.ActualGenerationMW\n",
    "testGen=testSet.ActualGenerationMW\n",
    "\n",
    "trainWind=trainSet.ForecastWind\n",
    "validWind=validSet.ForecastWind\n",
    "testWind=testSet.ForecastWind\n",
    "\n",
    "trainActWind=trainSet.ActualWind\n",
    "validActWind=validSet.ActualWind\n",
    "testActWind=testSet.ActualWind\n",
    "\n",
    "\n",
    "trainSetNorm=trainSet.drop(['date2','dayInMonth','dayOfWeek','dayOfYear','hour','ForecastWind','ActualGenerationMW'],1)\n",
    "testSetNorm=testSet.drop(['date2','dayInMonth','dayOfWeek','dayOfYear','hour','ForecastWind','ActualGenerationMW'],1)\n",
    "validSetNorm=validSet.drop(['date2','dayInMonth','dayOfWeek','dayOfYear','hour','ForecastWind','ActualGenerationMW'],1)"
   ]
  },
  {
   "cell_type": "code",
   "execution_count": 4,
   "id": "ab7b9421",
   "metadata": {},
   "outputs": [],
   "source": [
    "usedColsForecast=['dub_temp','dub_wddir','dub_wdsp']\n",
    "\n",
    "train_mean = trainSetNorm.mean()\n",
    "train_std = trainSetNorm.std()\n"
   ]
  },
  {
   "cell_type": "code",
   "execution_count": 5,
   "id": "3de80aa9",
   "metadata": {},
   "outputs": [],
   "source": [
    "train_meanSave=train_mean[usedColsForecast]\n",
    "train_stdSave =train_std[usedColsForecast]\n",
    "np.savetxt(\"./models/train_meanSave.csv\", train_meanSave, delimiter=\",\")\n",
    "np.savetxt(\"./models/train_stdSave.csv\", train_meanSave, delimiter=\",\")"
   ]
  },
  {
   "cell_type": "code",
   "execution_count": 6,
   "id": "47333de7",
   "metadata": {},
   "outputs": [],
   "source": [
    "#Getting the mean and std\n",
    "train_df = (trainSetNorm - train_mean) / train_std\n",
    "val_df = (validSetNorm - train_mean) / train_std\n",
    "test_df = (testSetNorm - train_mean) / train_std\n",
    "\n",
    "#print(\"The mean is \",train_mean['ActualGenerationMW'])\n",
    "#print(\"The std is \",train_std['ActualGenerationMW'])\n",
    "\n",
    "\n",
    "#re-creating date-column\n",
    "train_df['date2']=trainDate\n",
    "val_df['date2']=validDate\n",
    "test_df['date2']=testDate\n",
    "\n",
    "# Re-adding removed columns\n",
    "train_df['hour']=train_df['date2'].dt.hour\n",
    "train_df['dayOfWeek']=train_df['date2'].dt.day_of_week\n",
    "train_df['dayOfYear']=train_df['date2'].dt.day_of_year\n",
    "train_df[\"dayInMonth\"] =train_df['date2'].dt.day\n",
    "# Re-adding removed columns\n",
    "val_df['hour']=val_df['date2'].dt.hour\n",
    "val_df['dayOfWeek']=val_df['date2'].dt.day_of_week\n",
    "val_df['dayOfYear']=val_df['date2'].dt.day_of_year\n",
    "val_df[\"dayInMonth\"] =val_df['date2'].dt.day\n",
    "# Re-adding removed columns\n",
    "test_df['hour']=test_df['date2'].dt.hour\n",
    "test_df['dayOfWeek']=test_df['date2'].dt.day_of_week\n",
    "test_df['dayOfYear']=test_df['date2'].dt.day_of_year\n",
    "test_df[\"dayInMonth\"] =test_df['date2'].dt.day\n",
    "\n",
    "\n",
    "\n",
    "\n",
    "\n",
    "\n",
    "\n",
    "#Resetting the Actual Generation to be non-continuous\n",
    "train_df['ActualGenerationMW']=trainGen\n",
    "val_df['ActualGenerationMW']= validGen\n",
    "test_df['ActualGenerationMW']= testGen\n",
    "\n",
    "#Resetting the Actual Generation to be non-continuous\n",
    "train_df['ForecastWind']=trainWind\n",
    "val_df['ForecastWind']= validWind\n",
    "test_df['ForecastWind']= testWind\n",
    "\n",
    "#Resetting the Actual Generation to be non-continuous\n",
    "train_df['ActualWind']=trainActWind\n",
    "val_df['ActualWind']= validActWind\n",
    "test_df['ActualWind']= testActWind\n",
    "\n",
    "\n",
    "#Resetting the Actual Generation to be non-continuous\n",
    "train_df['ActualGenerationMW']=trainGen\n",
    "val_df['ActualGenerationMW']= validGen\n",
    "test_df['ActualGenerationMW']= testGen\n",
    "\n",
    "\n",
    "# Re-setting the names of the columns\n",
    "trainSet=train_df\n",
    "validSet=val_df\n",
    "testSet=test_df\n",
    "y_train = trainSet.ActualGenerationMW\n",
    "y_valid = validSet.ActualGenerationMW\n",
    "y_test = testSet.ActualGenerationMW\t\n",
    "X_train = trainSet\n",
    "X_valid = validSet "
   ]
  },
  {
   "cell_type": "markdown",
   "id": "9ff054ba",
   "metadata": {},
   "source": [
    "## Random forest generation"
   ]
  },
  {
   "cell_type": "markdown",
   "id": "d7bc21e3",
   "metadata": {},
   "source": [
    "### Choosing Columns"
   ]
  },
  {
   "cell_type": "code",
   "execution_count": 7,
   "id": "e064343a",
   "metadata": {},
   "outputs": [],
   "source": [
    "#Version 2; Causing failures on kernel for ? reason\n",
    "X_train1 = X_train[['ForecastWind','sin_day','sin_hour','cos_day','cos_hour','dub_wddir','dub_wdsp','dub_msl']]\n",
    "X_valid1 = X_valid[['ForecastWind','sin_day','sin_hour','cos_day','cos_hour','dub_wddir','dub_wdsp','dub_msl']]"
   ]
  },
  {
   "cell_type": "markdown",
   "id": "2d4b5cd6",
   "metadata": {},
   "source": [
    "### Reggresion model"
   ]
  },
  {
   "cell_type": "code",
   "execution_count": 8,
   "id": "e8849ed3",
   "metadata": {},
   "outputs": [],
   "source": [
    "from sklearn.ensemble import RandomForestRegressor\n",
    "\n",
    "#rrf=RandomForestRegressor(n_estimators=100,random_state = 42, max_depth=100, max_leaf_nodes=100)\n",
    "rrf=RandomForestRegressor(n_estimators=100,random_state = 42)\n",
    "\n",
    "#clf=RandomForestClassifier(n_estimators=100,random_state = 43)\n",
    "#print(clf.get_params())\n",
    "#Train the model using the training sets y_pred=clf.predict(X_test"
   ]
  },
  {
   "cell_type": "code",
   "execution_count": 9,
   "id": "05b597aa",
   "metadata": {},
   "outputs": [
    {
     "data": {
      "text/plain": [
       "{'bootstrap': True,\n",
       " 'ccp_alpha': 0.0,\n",
       " 'criterion': 'squared_error',\n",
       " 'max_depth': None,\n",
       " 'max_features': 1.0,\n",
       " 'max_leaf_nodes': None,\n",
       " 'max_samples': None,\n",
       " 'min_impurity_decrease': 0.0,\n",
       " 'min_samples_leaf': 1,\n",
       " 'min_samples_split': 2,\n",
       " 'min_weight_fraction_leaf': 0.0,\n",
       " 'n_estimators': 100,\n",
       " 'n_jobs': None,\n",
       " 'oob_score': False,\n",
       " 'random_state': 42,\n",
       " 'verbose': 0,\n",
       " 'warm_start': False}"
      ]
     },
     "execution_count": 9,
     "metadata": {},
     "output_type": "execute_result"
    }
   ],
   "source": [
    "rrf.get_params()"
   ]
  },
  {
   "cell_type": "code",
   "execution_count": 10,
   "id": "8b1d76b3",
   "metadata": {},
   "outputs": [
    {
     "data": {
      "text/html": [
       "<style>#sk-container-id-1 {color: black;background-color: white;}#sk-container-id-1 pre{padding: 0;}#sk-container-id-1 div.sk-toggleable {background-color: white;}#sk-container-id-1 label.sk-toggleable__label {cursor: pointer;display: block;width: 100%;margin-bottom: 0;padding: 0.3em;box-sizing: border-box;text-align: center;}#sk-container-id-1 label.sk-toggleable__label-arrow:before {content: \"▸\";float: left;margin-right: 0.25em;color: #696969;}#sk-container-id-1 label.sk-toggleable__label-arrow:hover:before {color: black;}#sk-container-id-1 div.sk-estimator:hover label.sk-toggleable__label-arrow:before {color: black;}#sk-container-id-1 div.sk-toggleable__content {max-height: 0;max-width: 0;overflow: hidden;text-align: left;background-color: #f0f8ff;}#sk-container-id-1 div.sk-toggleable__content pre {margin: 0.2em;color: black;border-radius: 0.25em;background-color: #f0f8ff;}#sk-container-id-1 input.sk-toggleable__control:checked~div.sk-toggleable__content {max-height: 200px;max-width: 100%;overflow: auto;}#sk-container-id-1 input.sk-toggleable__control:checked~label.sk-toggleable__label-arrow:before {content: \"▾\";}#sk-container-id-1 div.sk-estimator input.sk-toggleable__control:checked~label.sk-toggleable__label {background-color: #d4ebff;}#sk-container-id-1 div.sk-label input.sk-toggleable__control:checked~label.sk-toggleable__label {background-color: #d4ebff;}#sk-container-id-1 input.sk-hidden--visually {border: 0;clip: rect(1px 1px 1px 1px);clip: rect(1px, 1px, 1px, 1px);height: 1px;margin: -1px;overflow: hidden;padding: 0;position: absolute;width: 1px;}#sk-container-id-1 div.sk-estimator {font-family: monospace;background-color: #f0f8ff;border: 1px dotted black;border-radius: 0.25em;box-sizing: border-box;margin-bottom: 0.5em;}#sk-container-id-1 div.sk-estimator:hover {background-color: #d4ebff;}#sk-container-id-1 div.sk-parallel-item::after {content: \"\";width: 100%;border-bottom: 1px solid gray;flex-grow: 1;}#sk-container-id-1 div.sk-label:hover label.sk-toggleable__label {background-color: #d4ebff;}#sk-container-id-1 div.sk-serial::before {content: \"\";position: absolute;border-left: 1px solid gray;box-sizing: border-box;top: 0;bottom: 0;left: 50%;z-index: 0;}#sk-container-id-1 div.sk-serial {display: flex;flex-direction: column;align-items: center;background-color: white;padding-right: 0.2em;padding-left: 0.2em;position: relative;}#sk-container-id-1 div.sk-item {position: relative;z-index: 1;}#sk-container-id-1 div.sk-parallel {display: flex;align-items: stretch;justify-content: center;background-color: white;position: relative;}#sk-container-id-1 div.sk-item::before, #sk-container-id-1 div.sk-parallel-item::before {content: \"\";position: absolute;border-left: 1px solid gray;box-sizing: border-box;top: 0;bottom: 0;left: 50%;z-index: -1;}#sk-container-id-1 div.sk-parallel-item {display: flex;flex-direction: column;z-index: 1;position: relative;background-color: white;}#sk-container-id-1 div.sk-parallel-item:first-child::after {align-self: flex-end;width: 50%;}#sk-container-id-1 div.sk-parallel-item:last-child::after {align-self: flex-start;width: 50%;}#sk-container-id-1 div.sk-parallel-item:only-child::after {width: 0;}#sk-container-id-1 div.sk-dashed-wrapped {border: 1px dashed gray;margin: 0 0.4em 0.5em 0.4em;box-sizing: border-box;padding-bottom: 0.4em;background-color: white;}#sk-container-id-1 div.sk-label label {font-family: monospace;font-weight: bold;display: inline-block;line-height: 1.2em;}#sk-container-id-1 div.sk-label-container {text-align: center;}#sk-container-id-1 div.sk-container {/* jupyter's `normalize.less` sets `[hidden] { display: none; }` but bootstrap.min.css set `[hidden] { display: none !important; }` so we also need the `!important` here to be able to override the default hidden behavior on the sphinx rendered scikit-learn.org. See: https://github.com/scikit-learn/scikit-learn/issues/21755 */display: inline-block !important;position: relative;}#sk-container-id-1 div.sk-text-repr-fallback {display: none;}</style><div id=\"sk-container-id-1\" class=\"sk-top-container\"><div class=\"sk-text-repr-fallback\"><pre>RandomForestRegressor(random_state=42)</pre><b>In a Jupyter environment, please rerun this cell to show the HTML representation or trust the notebook. <br />On GitHub, the HTML representation is unable to render, please try loading this page with nbviewer.org.</b></div><div class=\"sk-container\" hidden><div class=\"sk-item\"><div class=\"sk-estimator sk-toggleable\"><input class=\"sk-toggleable__control sk-hidden--visually\" id=\"sk-estimator-id-1\" type=\"checkbox\" checked><label for=\"sk-estimator-id-1\" class=\"sk-toggleable__label sk-toggleable__label-arrow\">RandomForestRegressor</label><div class=\"sk-toggleable__content\"><pre>RandomForestRegressor(random_state=42)</pre></div></div></div></div></div>"
      ],
      "text/plain": [
       "RandomForestRegressor(random_state=42)"
      ]
     },
     "execution_count": 10,
     "metadata": {},
     "output_type": "execute_result"
    }
   ],
   "source": [
    "rrf.fit(X_train1,y_train)"
   ]
  },
  {
   "cell_type": "code",
   "execution_count": 11,
   "id": "6314ca82",
   "metadata": {},
   "outputs": [
    {
     "data": {
      "image/png": "[encoded data removed]",
      "text/plain": [
       "<Figure size 1332x756 with 1 Axes>"
      ]
     },
     "metadata": {
      "needs_background": "light"
     },
     "output_type": "display_data"
    }
   ],
   "source": [
    "y_pred=rrf.predict(X_valid1)\n",
    "import matplotlib.pyplot as plt \n",
    "from matplotlib.pyplot import figure\n",
    "\n",
    "plt.plot(X_valid['date2'][-7*24:],y_pred[-7*24:],color = 'blue')\n",
    "plt.plot(X_valid['date2'][-7*24:],y_valid[-7*24:],color = 'red')\n",
    "fig = plt.gcf()\n",
    "fig.set_size_inches(18.5, 10.5)\n",
    "fig.savefig('test2png.png', dpi=100)"
   ]
  },
  {
   "cell_type": "code",
   "execution_count": 12,
   "id": "e09ef186",
   "metadata": {},
   "outputs": [
    {
     "name": "stdout",
     "output_type": "stream",
     "text": [
      "Mean Absolute Error: 480.9514178992977\n",
      "Mean Squared Error: 363258.53369302256\n",
      "Root Mean Squared Error: 602.7093276970438\n"
     ]
    }
   ],
   "source": [
    "from sklearn import metrics\n",
    "\n",
    "print('Mean Absolute Error:', metrics.mean_absolute_error(y_valid, y_pred))\n",
    "print('Mean Squared Error:', metrics.mean_squared_error(y_valid, y_pred))\n",
    "print('Root Mean Squared Error:', np.sqrt(metrics.mean_squared_error(y_valid, y_pred)))"
   ]
  },
  {
   "cell_type": "code",
   "execution_count": 13,
   "id": "3ded3073",
   "metadata": {},
   "outputs": [
    {
     "data": {
      "text/plain": [
       "<BarContainer object of 8 artists>"
      ]
     },
     "execution_count": 13,
     "metadata": {},
     "output_type": "execute_result"
    },
    {
     "data": {
      "image/png": "[encoded data removed]",
      "text/plain": [
       "<Figure size 432x288 with 1 Axes>"
      ]
     },
     "metadata": {
      "needs_background": "light"
     },
     "output_type": "display_data"
    }
   ],
   "source": [
    "plt.barh(X_valid1.columns, rrf.feature_importances_)"
   ]
  },
  {
   "cell_type": "markdown",
   "id": "3b54fc76",
   "metadata": {},
   "source": [
    "This:-\n",
    "rrf=RandomForestRegressor(n_estimators=100,random_state = 42, max_depth=100, max_leaf_nodes=100)\n",
    "\n",
    "Yields this:-\n",
    "Mean Absolute Error: 465.79800324008335\n",
    "Mean Squared Error: 332345.30211887945\n",
    "Root Mean Squared Error: 576.4939740525302\n",
    "\n",
    "This:-\n",
    "rrf=RandomForestRegressor(n_estimators=100,random_state = 42, max_depth=100, max_leaf_nodes=100)\n",
    "\n",
    "Yields this:-\n",
    "Mean Absolute Error: 479.4909188704617\n",
    "Mean Squared Error: 362932.07708576124\n",
    "Root Mean Squared Error: 602.438442569663"
   ]
  },
  {
   "cell_type": "markdown",
   "id": "cdbaa718",
   "metadata": {},
   "source": [
    "## Using Tenserflow"
   ]
  },
  {
   "cell_type": "code",
   "execution_count": 14,
   "id": "1514edd5",
   "metadata": {},
   "outputs": [
    {
     "name": "stderr",
     "output_type": "stream",
     "text": [
      "2022-07-31 10:57:30.759527: W tensorflow/stream_executor/platform/default/dso_loader.cc:64] Could not load dynamic library 'libcudart.so.11.0'; dlerror: libcudart.so.11.0: cannot open shared object file: No such file or directory\n",
      "2022-07-31 10:57:30.759595: I tensorflow/stream_executor/cuda/cudart_stub.cc:29] Ignore above cudart dlerror if you do not have a GPU set up on your machine.\n"
     ]
    }
   ],
   "source": [
    "import tensorflow_decision_forests as tfdf\n"
   ]
  },
  {
   "cell_type": "code",
   "execution_count": 15,
   "id": "e403d2de",
   "metadata": {},
   "outputs": [],
   "source": [
    "trainSetTF=trainSet\n",
    "validSetTF=validSet\n",
    "testSetTF=testSet"
   ]
  },
  {
   "cell_type": "code",
   "execution_count": 16,
   "id": "ea4a74eb",
   "metadata": {},
   "outputs": [
    {
     "name": "stderr",
     "output_type": "stream",
     "text": [
      "/tmp/ipykernel_118793/4217556139.py:2: FutureWarning: In a future version of pandas all arguments of DataFrame.drop except for the argument 'labels' will be keyword-only.\n",
      "  trainSetTF=trainSetTF.drop('date2',1)\n",
      "/tmp/ipykernel_118793/4217556139.py:3: FutureWarning: In a future version of pandas all arguments of DataFrame.drop except for the argument 'labels' will be keyword-only.\n",
      "  validSetTF=validSetTF.drop('date2',1)\n",
      "/tmp/ipykernel_118793/4217556139.py:4: FutureWarning: In a future version of pandas all arguments of DataFrame.drop except for the argument 'labels' will be keyword-only.\n",
      "  testSetTF=testSetTF.drop('date2',1)\n",
      "/tmp/ipykernel_118793/4217556139.py:5: FutureWarning: In a future version of pandas all arguments of DataFrame.drop except for the argument 'labels' will be keyword-only.\n",
      "  trainSetTF=trainSetTF.drop('dayInMonth',1)\n",
      "/tmp/ipykernel_118793/4217556139.py:6: FutureWarning: In a future version of pandas all arguments of DataFrame.drop except for the argument 'labels' will be keyword-only.\n",
      "  validSetTF=validSetTF.drop('dayInMonth',1)\n",
      "/tmp/ipykernel_118793/4217556139.py:7: FutureWarning: In a future version of pandas all arguments of DataFrame.drop except for the argument 'labels' will be keyword-only.\n",
      "  testSetTF=testSetTF.drop('dayInMonth',1)\n",
      "/tmp/ipykernel_118793/4217556139.py:8: FutureWarning: In a future version of pandas all arguments of DataFrame.drop except for the argument 'labels' will be keyword-only.\n",
      "  trainSetTF=trainSetTF.drop('dayOfWeek',1)\n",
      "/tmp/ipykernel_118793/4217556139.py:9: FutureWarning: In a future version of pandas all arguments of DataFrame.drop except for the argument 'labels' will be keyword-only.\n",
      "  validSetTF=validSetTF.drop('dayOfWeek',1)\n",
      "/tmp/ipykernel_118793/4217556139.py:10: FutureWarning: In a future version of pandas all arguments of DataFrame.drop except for the argument 'labels' will be keyword-only.\n",
      "  testSetTF=testSetTF.drop('dayOfWeek',1)\n",
      "/tmp/ipykernel_118793/4217556139.py:11: FutureWarning: In a future version of pandas all arguments of DataFrame.drop except for the argument 'labels' will be keyword-only.\n",
      "  trainSetTF=trainSetTF.drop('dayOfYear',1)\n",
      "/tmp/ipykernel_118793/4217556139.py:12: FutureWarning: In a future version of pandas all arguments of DataFrame.drop except for the argument 'labels' will be keyword-only.\n",
      "  validSetTF=validSetTF.drop('dayOfYear',1)\n",
      "/tmp/ipykernel_118793/4217556139.py:13: FutureWarning: In a future version of pandas all arguments of DataFrame.drop except for the argument 'labels' will be keyword-only.\n",
      "  testSetTF=testSetTF.drop('dayOfYear',1)\n",
      "/tmp/ipykernel_118793/4217556139.py:14: FutureWarning: In a future version of pandas all arguments of DataFrame.drop except for the argument 'labels' will be keyword-only.\n",
      "  trainSetTF=trainSetTF.drop('hour',1)\n",
      "/tmp/ipykernel_118793/4217556139.py:15: FutureWarning: In a future version of pandas all arguments of DataFrame.drop except for the argument 'labels' will be keyword-only.\n",
      "  validSetTF=validSetTF.drop('hour',1)\n",
      "/tmp/ipykernel_118793/4217556139.py:16: FutureWarning: In a future version of pandas all arguments of DataFrame.drop except for the argument 'labels' will be keyword-only.\n",
      "  testSetTF=testSetTF.drop('hour',1)\n"
     ]
    }
   ],
   "source": [
    "#Dropping time from the train and test columns\n",
    "trainSetTF=trainSetTF.drop('date2',1)\n",
    "validSetTF=validSetTF.drop('date2',1)\n",
    "testSetTF=testSetTF.drop('date2',1)\n",
    "trainSetTF=trainSetTF.drop('dayInMonth',1)\n",
    "validSetTF=validSetTF.drop('dayInMonth',1)\n",
    "testSetTF=testSetTF.drop('dayInMonth',1)\n",
    "trainSetTF=trainSetTF.drop('dayOfWeek',1)\n",
    "validSetTF=validSetTF.drop('dayOfWeek',1)\n",
    "testSetTF=testSetTF.drop('dayOfWeek',1)\n",
    "trainSetTF=trainSetTF.drop('dayOfYear',1)\n",
    "validSetTF=validSetTF.drop('dayOfYear',1)\n",
    "testSetTF=testSetTF.drop('dayOfYear',1)\n",
    "trainSetTF=trainSetTF.drop('hour',1)\n",
    "validSetTF=validSetTF.drop('hour',1)\n",
    "testSetTF=testSetTF.drop('hour',1)"
   ]
  },
  {
   "cell_type": "code",
   "execution_count": 17,
   "id": "95cd9d10",
   "metadata": {},
   "outputs": [
    {
     "data": {
      "text/plain": [
       "'\\ntrainSetTF = tfdf.keras.pd_dataframe_to_tf_dataset(trainSetTF, label=label, task=tfdf.keras.Task.REGRESSION)\\ntestSetTF = tfdf.keras.pd_dataframe_to_tf_dataset(testSetTF, label=label, task=tfdf.keras.Task.REGRESSION)\\n'"
      ]
     },
     "execution_count": 17,
     "metadata": {},
     "output_type": "execute_result"
    }
   ],
   "source": [
    "\n",
    "'''\n",
    "trainSetTF = tfdf.keras.pd_dataframe_to_tf_dataset(trainSetTF, label=label, task=tfdf.keras.Task.REGRESSION)\n",
    "testSetTF = tfdf.keras.pd_dataframe_to_tf_dataset(testSetTF, label=label, task=tfdf.keras.Task.REGRESSION)\n",
    "'''"
   ]
  },
  {
   "cell_type": "code",
   "execution_count": 18,
   "id": "239a42ef",
   "metadata": {},
   "outputs": [],
   "source": [
    "\n",
    "y_trainTF = trainSetTF.ActualGenerationMW\n",
    "y_validTF = validSetTF.ActualGenerationMW\n",
    "y_testTF = testSetTF.ActualGenerationMW\n",
    "\n",
    "#Version 1; Causing failures on kernel for ? reason\n",
    "X_trainTF = trainSetTF[['ForecastWind','sin_day','sin_hour','cos_day','cos_hour','dub_wddir','dub_wdsp','dub_msl','ActualGenerationMW']]\n",
    "X_validTF = validSetTF[['ForecastWind','sin_day','sin_hour','cos_day','cos_hour','dub_wddir','dub_wdsp','dub_msl','ActualGenerationMW']]\n"
   ]
  },
  {
   "cell_type": "code",
   "execution_count": 19,
   "id": "7530edb6",
   "metadata": {},
   "outputs": [
    {
     "name": "stderr",
     "output_type": "stream",
     "text": [
      "/home/ubuntu/.local/lib/python3.8/site-packages/tensorflow_decision_forests/keras/core.py:2542: FutureWarning: In a future version of pandas all arguments of DataFrame.drop except for the argument 'labels' will be keyword-only.\n",
      "  features_dataframe = dataframe.drop(label, 1)\n",
      "2022-07-31 10:57:34.147624: W tensorflow/stream_executor/platform/default/dso_loader.cc:64] Could not load dynamic library 'libcuda.so.1'; dlerror: libcuda.so.1: cannot open shared object file: No such file or directory\n",
      "2022-07-31 10:57:34.147689: W tensorflow/stream_executor/cuda/cuda_driver.cc:269] failed call to cuInit: UNKNOWN ERROR (303)\n",
      "2022-07-31 10:57:34.147722: I tensorflow/stream_executor/cuda/cuda_diagnostics.cc:156] kernel driver does not appear to be running on this host (x20217366): /proc/driver/nvidia/version does not exist\n",
      "/home/ubuntu/.local/lib/python3.8/site-packages/tensorflow_decision_forests/keras/core.py:2542: FutureWarning: In a future version of pandas all arguments of DataFrame.drop except for the argument 'labels' will be keyword-only.\n",
      "  features_dataframe = dataframe.drop(label, 1)\n"
     ]
    }
   ],
   "source": [
    "# Running into difficulty converting these columns, so I reset the value of X_train to include ActualGenerationMW\n",
    "label = \"ActualGenerationMW\"\n",
    "'''\n",
    "y_trainTF = tfdf.keras.pd_dataframe_to_tf_dataset(y_trainTF, label=label, task=tfdf.keras.Task.REGRESSION)\n",
    "y_validTF = tfdf.keras.pd_dataframe_to_tf_dataset(y_validTF, label=label, task=tfdf.keras.Task.REGRESSION)\n",
    "y_testTF = tfdf.keras.pd_dataframe_to_tf_dataset(y_testTF, label=label, task=tfdf.keras.Task.REGRESSION)\n",
    "'''\n",
    "\n",
    "X_trainTF = tfdf.keras.pd_dataframe_to_tf_dataset(X_trainTF, label=label, task=tfdf.keras.Task.REGRESSION)\n",
    "\n",
    "X_validTF = tfdf.keras.pd_dataframe_to_tf_dataset(X_validTF, label=label, task=tfdf.keras.Task.REGRESSION)"
   ]
  },
  {
   "cell_type": "code",
   "execution_count": 20,
   "id": "5dd5848b",
   "metadata": {},
   "outputs": [
    {
     "name": "stdout",
     "output_type": "stream",
     "text": [
      "Use /tmp/tmpuqmba04m as temporary training directory\n",
      "Reading training dataset...\n",
      "Training dataset read in 0:00:09.254274. Found 19674 examples.\n",
      "Training model...\n"
     ]
    },
    {
     "name": "stderr",
     "output_type": "stream",
     "text": [
      "[INFO kernel.cc:1176] Loading model from path /tmp/tmpuqmba04m/model/ with prefix 6368300fdba24e5e\n",
      "[INFO abstract_model.cc:1246] Engine \"RandomForestOptPred\" built\n",
      "[INFO kernel.cc:1022] Use fast generic engine\n"
     ]
    },
    {
     "name": "stdout",
     "output_type": "stream",
     "text": [
      "Model trained in 0:00:18.818872\n",
      "Compiling model...\n",
      "WARNING:tensorflow:AutoGraph could not transform <function simple_ml_inference_op_with_handle at 0x7f6643974430> and will run it as-is.\n",
      "Please report this to the TensorFlow team. When filing the bug, set the verbosity to 10 (on Linux, `export AUTOGRAPH_VERBOSITY=10`) and attach the full output.\n",
      "Cause: could not get source code\n",
      "To silence this warning, decorate the function with @tf.autograph.experimental.do_not_convert\n"
     ]
    },
    {
     "name": "stderr",
     "output_type": "stream",
     "text": [
      "WARNING:tensorflow:AutoGraph could not transform <function simple_ml_inference_op_with_handle at 0x7f6643974430> and will run it as-is.\n",
      "Please report this to the TensorFlow team. When filing the bug, set the verbosity to 10 (on Linux, `export AUTOGRAPH_VERBOSITY=10`) and attach the full output.\n",
      "Cause: could not get source code\n",
      "To silence this warning, decorate the function with @tf.autograph.experimental.do_not_convert\n"
     ]
    },
    {
     "name": "stdout",
     "output_type": "stream",
     "text": [
      "WARNING: AutoGraph could not transform <function simple_ml_inference_op_with_handle at 0x7f6643974430> and will run it as-is.\n",
      "Please report this to the TensorFlow team. When filing the bug, set the verbosity to 10 (on Linux, `export AUTOGRAPH_VERBOSITY=10`) and attach the full output.\n",
      "Cause: could not get source code\n",
      "To silence this warning, decorate the function with @tf.autograph.experimental.do_not_convert\n",
      "Model compiled.\n"
     ]
    },
    {
     "data": {
      "text/plain": [
       "<keras.callbacks.History at 0x7f664283d820>"
      ]
     },
     "execution_count": 20,
     "metadata": {},
     "output_type": "execute_result"
    }
   ],
   "source": [
    "#Using keras\n",
    "model_7 = tfdf.keras.RandomForestModel(task = tfdf.keras.Task.REGRESSION)\n",
    "\n",
    "# Train the model.\n",
    "model_7.fit(x=X_trainTF)"
   ]
  },
  {
   "cell_type": "code",
   "execution_count": 21,
   "id": "878ce4be",
   "metadata": {},
   "outputs": [
    {
     "data": {
      "text/plain": [
       "'\\nimport math\\n# Evaluate the model on the test dataset.\\nmodel_7.compile(metrics=[\"mse\"])\\nevaluation = model_7.evaluate(test_ds, return_dict=True)\\n\\nprint(evaluation)\\nprint()\\nprint(f\"MSE: {evaluation[\\'mse\\']}\")\\nprint(f\"RMSE: {math.sqrt(evaluation[\\'mse\\'])}\")'"
      ]
     },
     "execution_count": 21,
     "metadata": {},
     "output_type": "execute_result"
    }
   ],
   "source": [
    "# Not sure what test_ds should be\n",
    "'''\n",
    "import math\n",
    "# Evaluate the model on the test dataset.\n",
    "model_7.compile(metrics=[\"mse\"])\n",
    "evaluation = model_7.evaluate(test_ds, return_dict=True)\n",
    "\n",
    "print(evaluation)\n",
    "print()\n",
    "print(f\"MSE: {evaluation['mse']}\")\n",
    "print(f\"RMSE: {math.sqrt(evaluation['mse'])}\")'''"
   ]
  },
  {
   "cell_type": "code",
   "execution_count": 22,
   "id": "7704be54",
   "metadata": {},
   "outputs": [
    {
     "data": {
      "text/plain": [
       "\"y_pred=model_7.predict(X_valid1)\\nimport matplotlib.pyplot as plt \\nfrom matplotlib.pyplot import figure\\n\\nplt.plot(X_valid['date2'][-7*24:],y_pred[-7*24:],color = 'blue')\\nplt.plot(X_valid['date2'][-7*24:],y_valid[-7*24:],color = 'red')\\nfig = plt.gcf()\\nfig.set_size_inches(18.5, 10.5)\\nfig.savefig('test2png.png', dpi=100)\""
      ]
     },
     "execution_count": 22,
     "metadata": {},
     "output_type": "execute_result"
    }
   ],
   "source": [
    "# Not sure why, but this is\n",
    "'''y_pred=model_7.predict(X_valid1)\n",
    "import matplotlib.pyplot as plt \n",
    "from matplotlib.pyplot import figure\n",
    "\n",
    "plt.plot(X_valid['date2'][-7*24:],y_pred[-7*24:],color = 'blue')\n",
    "plt.plot(X_valid['date2'][-7*24:],y_valid[-7*24:],color = 'red')\n",
    "fig = plt.gcf()\n",
    "fig.set_size_inches(18.5, 10.5)\n",
    "fig.savefig('test2png.png', dpi=100)'''"
   ]
  },
  {
   "cell_type": "code",
   "execution_count": 23,
   "id": "e78c304d",
   "metadata": {},
   "outputs": [
    {
     "name": "stdout",
     "output_type": "stream",
     "text": [
      "Use /tmp/tmp6rq_r14m as temporary training directory\n"
     ]
    }
   ],
   "source": [
    "### Another TF model\n",
    "\n",
    "using_col_list = ['ForecastWind','sin_day','sin_hour','cos_day','cos_hour','dub_wddir','dub_wdsp','dub_msl','ActualGenerationMW']\n",
    "using_col_list.remove('ActualGenerationMW')\n",
    "feature_list = []\n",
    "for col in using_col_list:\n",
    "    feature_list.append(tfdf.keras.FeatureUsage(name=col,semantic=tfdf.keras.FeatureSemantic.NUMERICAL))\n",
    "\n",
    "\n",
    "model8 = tfdf.keras.RandomForestModel(features = feature_list, task = tfdf.keras.Task.REGRESSION,\n",
    "    exclude_non_specified_features=True,\n",
    "    num_trees=1000, max_depth=16,\n",
    "    split_axis=\"SPARSE_OBLIQUE\",categorical_algorithm=\"RANDOM\",\n",
    "    missing_value_policy='RANDOM_LOCAL_IMPUTATION',\n",
    "    sparse_oblique_normalization='STANDARD_DEVIATION',\n",
    "    compute_oob_variable_importances=True,\n",
    "    winner_take_all=False)\n",
    "                                                \n",
    "\n",
    "#model8.compile(metrics=[\"Accuracy\"])\n"
   ]
  },
  {
   "cell_type": "code",
   "execution_count": 24,
   "id": "9a32c5b5",
   "metadata": {},
   "outputs": [
    {
     "name": "stdout",
     "output_type": "stream",
     "text": [
      "Reading training dataset...\n",
      "Training dataset read in 0:00:00.637014. Found 19674 examples.\n",
      "Training model...\n"
     ]
    },
    {
     "name": "stderr",
     "output_type": "stream",
     "text": [
      "[INFO kernel.cc:1176] Loading model from path /tmp/tmp6rq_r14m/model/ with prefix e05f8cac1ea6494f\n",
      "[INFO abstract_model.cc:1246] Engine \"RandomForestGeneric\" built\n",
      "[INFO kernel.cc:1022] Use fast generic engine\n"
     ]
    },
    {
     "name": "stdout",
     "output_type": "stream",
     "text": [
      "Model trained in 0:10:06.348798\n",
      "Compiling model...\n",
      "Model compiled.\n"
     ]
    }
   ],
   "source": [
    "from wurlitzer import sys_pipes\n",
    "with sys_pipes():\n",
    "    model8.fit(X_trainTF)"
   ]
  },
  {
   "cell_type": "code",
   "execution_count": 25,
   "id": "6c795833",
   "metadata": {},
   "outputs": [
    {
     "data": {
      "text/plain": [
       "'\\n# Evaluate the model on the test dataset.\\nmodel8.compile(metrics=[\"mse\"])\\nevaluation = model8.evaluate(test_ds, return_dict=True)\\n\\nprint(evaluation)\\nprint()\\nprint(f\"MSE: {evaluation[\\'mse\\']}\")\\nprint(f\"RMSE: {math.sqrt(evaluation[\\'mse\\'])}\")\\n#print(f\"MAE: {evaluation[\\'mae\\']}\")\\n'"
      ]
     },
     "execution_count": 25,
     "metadata": {},
     "output_type": "execute_result"
    }
   ],
   "source": [
    "# Not sure what test_ds should be\n",
    "'''\n",
    "# Evaluate the model on the test dataset.\n",
    "model8.compile(metrics=[\"mse\"])\n",
    "evaluation = model8.evaluate(test_ds, return_dict=True)\n",
    "\n",
    "print(evaluation)\n",
    "print()\n",
    "print(f\"MSE: {evaluation['mse']}\")\n",
    "print(f\"RMSE: {math.sqrt(evaluation['mse'])}\")\n",
    "#print(f\"MAE: {evaluation['mae']}\")\n",
    "'''"
   ]
  },
  {
   "cell_type": "markdown",
   "id": "fb4274bf",
   "metadata": {},
   "source": [
    "Not sure if I'll get much better then above"
   ]
  },
  {
   "cell_type": "markdown",
   "id": "05dcc2a2",
   "metadata": {},
   "source": [
    "## Tenserflow Setup"
   ]
  },
  {
   "cell_type": "code",
   "execution_count": 26,
   "id": "f0e1dac7",
   "metadata": {},
   "outputs": [
    {
     "data": {
      "text/html": [
       "<div>\n",
       "<style scoped>\n",
       "    .dataframe tbody tr th:only-of-type {\n",
       "        vertical-align: middle;\n",
       "    }\n",
       "\n",
       "    .dataframe tbody tr th {\n",
       "        vertical-align: top;\n",
       "    }\n",
       "\n",
       "    .dataframe thead th {\n",
       "        text-align: right;\n",
       "    }\n",
       "</style>\n",
       "<table border=\"1\" class=\"dataframe\">\n",
       "  <thead>\n",
       "    <tr style=\"text-align: right;\">\n",
       "      <th></th>\n",
       "      <th>ActualWind</th>\n",
       "      <th>ActualDemand</th>\n",
       "      <th>dub_wddir</th>\n",
       "      <th>dub_wdsp</th>\n",
       "      <th>dub_temp</th>\n",
       "      <th>dub_msl</th>\n",
       "      <th>don_wddir</th>\n",
       "      <th>don_wdsp</th>\n",
       "      <th>don_temp</th>\n",
       "      <th>don_msl</th>\n",
       "      <th>...</th>\n",
       "      <th>imbalanceVar</th>\n",
       "      <th>imbalanceVarAvg</th>\n",
       "      <th>cos_week</th>\n",
       "      <th>date2</th>\n",
       "      <th>hour</th>\n",
       "      <th>dayOfWeek</th>\n",
       "      <th>dayOfYear</th>\n",
       "      <th>dayInMonth</th>\n",
       "      <th>ActualGenerationMW</th>\n",
       "      <th>ForecastWind</th>\n",
       "    </tr>\n",
       "  </thead>\n",
       "  <tbody>\n",
       "    <tr>\n",
       "      <th>358</th>\n",
       "      <td>2231.0</td>\n",
       "      <td>0.349140</td>\n",
       "      <td>-0.863493</td>\n",
       "      <td>0.920818</td>\n",
       "      <td>-0.369401</td>\n",
       "      <td>-0.125044</td>\n",
       "      <td>-0.591666</td>\n",
       "      <td>0.171683</td>\n",
       "      <td>-0.050609</td>\n",
       "      <td>-0.001631</td>\n",
       "      <td>...</td>\n",
       "      <td>-0.611777</td>\n",
       "      <td>0.266910</td>\n",
       "      <td>1.414933</td>\n",
       "      <td>2019-04-15 22:00:00</td>\n",
       "      <td>22</td>\n",
       "      <td>0</td>\n",
       "      <td>105</td>\n",
       "      <td>15</td>\n",
       "      <td>4424.0</td>\n",
       "      <td>2175.0</td>\n",
       "    </tr>\n",
       "    <tr>\n",
       "      <th>359</th>\n",
       "      <td>1838.0</td>\n",
       "      <td>-0.210330</td>\n",
       "      <td>-0.732076</td>\n",
       "      <td>0.745700</td>\n",
       "      <td>-0.408998</td>\n",
       "      <td>-0.078412</td>\n",
       "      <td>-0.477421</td>\n",
       "      <td>0.306909</td>\n",
       "      <td>-0.393460</td>\n",
       "      <td>0.027411</td>\n",
       "      <td>...</td>\n",
       "      <td>-0.485531</td>\n",
       "      <td>0.265035</td>\n",
       "      <td>1.414933</td>\n",
       "      <td>2019-04-15 23:00:00</td>\n",
       "      <td>23</td>\n",
       "      <td>0</td>\n",
       "      <td>105</td>\n",
       "      <td>15</td>\n",
       "      <td>4047.0</td>\n",
       "      <td>1851.0</td>\n",
       "    </tr>\n",
       "    <tr>\n",
       "      <th>360</th>\n",
       "      <td>1279.0</td>\n",
       "      <td>-0.667444</td>\n",
       "      <td>-0.994911</td>\n",
       "      <td>0.395463</td>\n",
       "      <td>-0.468392</td>\n",
       "      <td>-0.062868</td>\n",
       "      <td>-0.591666</td>\n",
       "      <td>0.712588</td>\n",
       "      <td>-0.630818</td>\n",
       "      <td>0.078235</td>\n",
       "      <td>...</td>\n",
       "      <td>-0.331951</td>\n",
       "      <td>0.264420</td>\n",
       "      <td>0.881553</td>\n",
       "      <td>2019-04-16 00:00:00</td>\n",
       "      <td>0</td>\n",
       "      <td>1</td>\n",
       "      <td>106</td>\n",
       "      <td>16</td>\n",
       "      <td>3558.0</td>\n",
       "      <td>1529.0</td>\n",
       "    </tr>\n",
       "    <tr>\n",
       "      <th>361</th>\n",
       "      <td>913.0</td>\n",
       "      <td>-0.852384</td>\n",
       "      <td>-0.994911</td>\n",
       "      <td>-0.129892</td>\n",
       "      <td>-0.448594</td>\n",
       "      <td>-0.039552</td>\n",
       "      <td>-0.705911</td>\n",
       "      <td>0.577362</td>\n",
       "      <td>-0.683565</td>\n",
       "      <td>0.092756</td>\n",
       "      <td>...</td>\n",
       "      <td>-0.203451</td>\n",
       "      <td>0.264381</td>\n",
       "      <td>0.881553</td>\n",
       "      <td>2019-04-16 01:00:00</td>\n",
       "      <td>1</td>\n",
       "      <td>1</td>\n",
       "      <td>106</td>\n",
       "      <td>16</td>\n",
       "      <td>3385.0</td>\n",
       "      <td>1160.0</td>\n",
       "    </tr>\n",
       "    <tr>\n",
       "      <th>362</th>\n",
       "      <td>852.0</td>\n",
       "      <td>-1.003592</td>\n",
       "      <td>-0.994911</td>\n",
       "      <td>-0.305011</td>\n",
       "      <td>-0.507989</td>\n",
       "      <td>-0.055096</td>\n",
       "      <td>-0.705911</td>\n",
       "      <td>0.442135</td>\n",
       "      <td>-0.683565</td>\n",
       "      <td>0.100017</td>\n",
       "      <td>...</td>\n",
       "      <td>-0.237645</td>\n",
       "      <td>0.262835</td>\n",
       "      <td>0.881553</td>\n",
       "      <td>2019-04-16 02:00:00</td>\n",
       "      <td>2</td>\n",
       "      <td>1</td>\n",
       "      <td>106</td>\n",
       "      <td>16</td>\n",
       "      <td>3574.0</td>\n",
       "      <td>870.0</td>\n",
       "    </tr>\n",
       "    <tr>\n",
       "      <th>...</th>\n",
       "      <td>...</td>\n",
       "      <td>...</td>\n",
       "      <td>...</td>\n",
       "      <td>...</td>\n",
       "      <td>...</td>\n",
       "      <td>...</td>\n",
       "      <td>...</td>\n",
       "      <td>...</td>\n",
       "      <td>...</td>\n",
       "      <td>...</td>\n",
       "      <td>...</td>\n",
       "      <td>...</td>\n",
       "      <td>...</td>\n",
       "      <td>...</td>\n",
       "      <td>...</td>\n",
       "      <td>...</td>\n",
       "      <td>...</td>\n",
       "      <td>...</td>\n",
       "      <td>...</td>\n",
       "      <td>...</td>\n",
       "      <td>...</td>\n",
       "    </tr>\n",
       "    <tr>\n",
       "      <th>27489</th>\n",
       "      <td>1877.0</td>\n",
       "      <td>-0.071916</td>\n",
       "      <td>0.319266</td>\n",
       "      <td>-0.305011</td>\n",
       "      <td>0.541318</td>\n",
       "      <td>-0.669084</td>\n",
       "      <td>0.550785</td>\n",
       "      <td>-0.098770</td>\n",
       "      <td>0.635092</td>\n",
       "      <td>-0.720429</td>\n",
       "      <td>...</td>\n",
       "      <td>-0.678327</td>\n",
       "      <td>-1.113124</td>\n",
       "      <td>0.881553</td>\n",
       "      <td>2022-05-22 20:00:00</td>\n",
       "      <td>20</td>\n",
       "      <td>6</td>\n",
       "      <td>142</td>\n",
       "      <td>22</td>\n",
       "      <td>4992.0</td>\n",
       "      <td>1546.0</td>\n",
       "    </tr>\n",
       "    <tr>\n",
       "      <th>27490</th>\n",
       "      <td>1585.0</td>\n",
       "      <td>-0.208004</td>\n",
       "      <td>0.450684</td>\n",
       "      <td>-0.305011</td>\n",
       "      <td>0.422529</td>\n",
       "      <td>-0.661312</td>\n",
       "      <td>0.550785</td>\n",
       "      <td>-0.369223</td>\n",
       "      <td>0.424107</td>\n",
       "      <td>-0.727689</td>\n",
       "      <td>...</td>\n",
       "      <td>-0.689545</td>\n",
       "      <td>-1.118915</td>\n",
       "      <td>0.881553</td>\n",
       "      <td>2022-05-22 21:00:00</td>\n",
       "      <td>21</td>\n",
       "      <td>6</td>\n",
       "      <td>142</td>\n",
       "      <td>22</td>\n",
       "      <td>4659.0</td>\n",
       "      <td>1281.0</td>\n",
       "    </tr>\n",
       "    <tr>\n",
       "      <th>27491</th>\n",
       "      <td>1322.0</td>\n",
       "      <td>-0.277792</td>\n",
       "      <td>0.450684</td>\n",
       "      <td>0.045226</td>\n",
       "      <td>0.204748</td>\n",
       "      <td>-0.676855</td>\n",
       "      <td>0.208050</td>\n",
       "      <td>-0.369223</td>\n",
       "      <td>0.371361</td>\n",
       "      <td>-0.734950</td>\n",
       "      <td>...</td>\n",
       "      <td>-0.671697</td>\n",
       "      <td>-1.124584</td>\n",
       "      <td>0.881553</td>\n",
       "      <td>2022-05-22 22:00:00</td>\n",
       "      <td>22</td>\n",
       "      <td>6</td>\n",
       "      <td>142</td>\n",
       "      <td>22</td>\n",
       "      <td>4339.0</td>\n",
       "      <td>1089.0</td>\n",
       "    </tr>\n",
       "    <tr>\n",
       "      <th>27492</th>\n",
       "      <td>1326.0</td>\n",
       "      <td>-0.674423</td>\n",
       "      <td>0.582102</td>\n",
       "      <td>0.395463</td>\n",
       "      <td>0.046362</td>\n",
       "      <td>-0.700171</td>\n",
       "      <td>0.093805</td>\n",
       "      <td>-0.098770</td>\n",
       "      <td>0.081256</td>\n",
       "      <td>-0.720429</td>\n",
       "      <td>...</td>\n",
       "      <td>-0.577451</td>\n",
       "      <td>-1.129430</td>\n",
       "      <td>0.881553</td>\n",
       "      <td>2022-05-22 23:00:00</td>\n",
       "      <td>23</td>\n",
       "      <td>6</td>\n",
       "      <td>142</td>\n",
       "      <td>22</td>\n",
       "      <td>3757.0</td>\n",
       "      <td>1081.0</td>\n",
       "    </tr>\n",
       "    <tr>\n",
       "      <th>27709</th>\n",
       "      <td>453.0</td>\n",
       "      <td>-0.679076</td>\n",
       "      <td>0.844937</td>\n",
       "      <td>-0.480129</td>\n",
       "      <td>-0.270410</td>\n",
       "      <td>0.224696</td>\n",
       "      <td>1.578991</td>\n",
       "      <td>-0.639676</td>\n",
       "      <td>0.002137</td>\n",
       "      <td>0.332356</td>\n",
       "      <td>...</td>\n",
       "      <td>-0.871164</td>\n",
       "      <td>-1.843330</td>\n",
       "      <td>-0.316939</td>\n",
       "      <td>2022-06-01 00:00:00</td>\n",
       "      <td>0</td>\n",
       "      <td>2</td>\n",
       "      <td>152</td>\n",
       "      <td>1</td>\n",
       "      <td>3856.0</td>\n",
       "      <td>485.0</td>\n",
       "    </tr>\n",
       "  </tbody>\n",
       "</table>\n",
       "<p>19674 rows × 53 columns</p>\n",
       "</div>"
      ],
      "text/plain": [
       "       ActualWind  ActualDemand  dub_wddir  dub_wdsp  dub_temp   dub_msl  \\\n",
       "358        2231.0      0.349140  -0.863493  0.920818 -0.369401 -0.125044   \n",
       "359        1838.0     -0.210330  -0.732076  0.745700 -0.408998 -0.078412   \n",
       "360        1279.0     -0.667444  -0.994911  0.395463 -0.468392 -0.062868   \n",
       "361         913.0     -0.852384  -0.994911 -0.129892 -0.448594 -0.039552   \n",
       "362         852.0     -1.003592  -0.994911 -0.305011 -0.507989 -0.055096   \n",
       "...           ...           ...        ...       ...       ...       ...   \n",
       "27489      1877.0     -0.071916   0.319266 -0.305011  0.541318 -0.669084   \n",
       "27490      1585.0     -0.208004   0.450684 -0.305011  0.422529 -0.661312   \n",
       "27491      1322.0     -0.277792   0.450684  0.045226  0.204748 -0.676855   \n",
       "27492      1326.0     -0.674423   0.582102  0.395463  0.046362 -0.700171   \n",
       "27709       453.0     -0.679076   0.844937 -0.480129 -0.270410  0.224696   \n",
       "\n",
       "       don_wddir  don_wdsp  don_temp   don_msl  ...  imbalanceVar  \\\n",
       "358    -0.591666  0.171683 -0.050609 -0.001631  ...     -0.611777   \n",
       "359    -0.477421  0.306909 -0.393460  0.027411  ...     -0.485531   \n",
       "360    -0.591666  0.712588 -0.630818  0.078235  ...     -0.331951   \n",
       "361    -0.705911  0.577362 -0.683565  0.092756  ...     -0.203451   \n",
       "362    -0.705911  0.442135 -0.683565  0.100017  ...     -0.237645   \n",
       "...          ...       ...       ...       ...  ...           ...   \n",
       "27489   0.550785 -0.098770  0.635092 -0.720429  ...     -0.678327   \n",
       "27490   0.550785 -0.369223  0.424107 -0.727689  ...     -0.689545   \n",
       "27491   0.208050 -0.369223  0.371361 -0.734950  ...     -0.671697   \n",
       "27492   0.093805 -0.098770  0.081256 -0.720429  ...     -0.577451   \n",
       "27709   1.578991 -0.639676  0.002137  0.332356  ...     -0.871164   \n",
       "\n",
       "       imbalanceVarAvg  cos_week               date2  hour  dayOfWeek  \\\n",
       "358           0.266910  1.414933 2019-04-15 22:00:00    22          0   \n",
       "359           0.265035  1.414933 2019-04-15 23:00:00    23          0   \n",
       "360           0.264420  0.881553 2019-04-16 00:00:00     0          1   \n",
       "361           0.264381  0.881553 2019-04-16 01:00:00     1          1   \n",
       "362           0.262835  0.881553 2019-04-16 02:00:00     2          1   \n",
       "...                ...       ...                 ...   ...        ...   \n",
       "27489        -1.113124  0.881553 2022-05-22 20:00:00    20          6   \n",
       "27490        -1.118915  0.881553 2022-05-22 21:00:00    21          6   \n",
       "27491        -1.124584  0.881553 2022-05-22 22:00:00    22          6   \n",
       "27492        -1.129430  0.881553 2022-05-22 23:00:00    23          6   \n",
       "27709        -1.843330 -0.316939 2022-06-01 00:00:00     0          2   \n",
       "\n",
       "       dayOfYear  dayInMonth  ActualGenerationMW  ForecastWind  \n",
       "358          105          15              4424.0        2175.0  \n",
       "359          105          15              4047.0        1851.0  \n",
       "360          106          16              3558.0        1529.0  \n",
       "361          106          16              3385.0        1160.0  \n",
       "362          106          16              3574.0         870.0  \n",
       "...          ...         ...                 ...           ...  \n",
       "27489        142          22              4992.0        1546.0  \n",
       "27490        142          22              4659.0        1281.0  \n",
       "27491        142          22              4339.0        1089.0  \n",
       "27492        142          22              3757.0        1081.0  \n",
       "27709        152           1              3856.0         485.0  \n",
       "\n",
       "[19674 rows x 53 columns]"
      ]
     },
     "execution_count": 26,
     "metadata": {},
     "output_type": "execute_result"
    }
   ],
   "source": [
    "train_df"
   ]
  },
  {
   "cell_type": "code",
   "execution_count": 27,
   "id": "c4be52e2",
   "metadata": {},
   "outputs": [],
   "source": [
    "usedCols=['sin_day','sin_hour','cos_day','cos_hour','dub_wddir','dub_wdsp','dub_temp','ActualGenerationMW']\n",
    "train_df3 = train_df[usedCols]\n",
    "val_df3 = val_df[usedCols]\n",
    "test_df3 = test_df[usedCols]"
   ]
  },
  {
   "cell_type": "code",
   "execution_count": 28,
   "id": "05af7a91",
   "metadata": {},
   "outputs": [],
   "source": [
    "class WindowGenerator():\n",
    "  def __init__(self, input_width, label_width, shift,\n",
    "               train_df=train_df, val_df=val_df, test_df=test_df,\n",
    "               label_columns=None):\n",
    "    # Store the raw data.\n",
    "    self.train_df3 = train_df3\n",
    "    self.val_df3 = val_df3\n",
    "    self.test_df3 = test_df3\n",
    "\n",
    "    # Work out the label column indices.\n",
    "    self.label_columns = label_columns\n",
    "    if label_columns is not None:\n",
    "      self.label_columns_indices = {name: i for i, name in\n",
    "                                    enumerate(label_columns)}\n",
    "    self.column_indices = {name: i for i, name in\n",
    "                           enumerate(train_df3.columns)}\n",
    "\n",
    "    # Work out the window parameters.\n",
    "    self.input_width = input_width\n",
    "    self.label_width = label_width\n",
    "    self.shift = shift\n",
    "\n",
    "    self.total_window_size = input_width + shift\n",
    "\n",
    "    self.input_slice = slice(0, input_width)\n",
    "    self.input_indices = np.arange(self.total_window_size)[self.input_slice]\n",
    "\n",
    "    self.label_start = self.total_window_size - self.label_width\n",
    "    self.labels_slice = slice(self.label_start, None)\n",
    "    self.label_indices = np.arange(self.total_window_size)[self.labels_slice]\n",
    "\n",
    "  def __repr__(self):\n",
    "    return '\\n'.join([\n",
    "        f'Total window size: {self.total_window_size}',\n",
    "        f'Input indices: {self.input_indices}',\n",
    "        f'Label indices: {self.label_indices}',\n",
    "        f'Label column name(s): {self.label_columns}'])\n",
    "\n"
   ]
  },
  {
   "cell_type": "code",
   "execution_count": 29,
   "id": "bd7c07d8",
   "metadata": {},
   "outputs": [
    {
     "data": {
      "text/html": [
       "<div>\n",
       "<style scoped>\n",
       "    .dataframe tbody tr th:only-of-type {\n",
       "        vertical-align: middle;\n",
       "    }\n",
       "\n",
       "    .dataframe tbody tr th {\n",
       "        vertical-align: top;\n",
       "    }\n",
       "\n",
       "    .dataframe thead th {\n",
       "        text-align: right;\n",
       "    }\n",
       "</style>\n",
       "<table border=\"1\" class=\"dataframe\">\n",
       "  <thead>\n",
       "    <tr style=\"text-align: right;\">\n",
       "      <th></th>\n",
       "      <th>sin_day</th>\n",
       "      <th>sin_hour</th>\n",
       "      <th>cos_day</th>\n",
       "      <th>cos_hour</th>\n",
       "      <th>dub_wddir</th>\n",
       "      <th>dub_wdsp</th>\n",
       "      <th>dub_temp</th>\n",
       "      <th>ActualGenerationMW</th>\n",
       "    </tr>\n",
       "  </thead>\n",
       "  <tbody>\n",
       "    <tr>\n",
       "      <th>528</th>\n",
       "      <td>1.263931</td>\n",
       "      <td>1.103152</td>\n",
       "      <td>1.263931</td>\n",
       "      <td>0.000301</td>\n",
       "      <td>-0.469240</td>\n",
       "      <td>-1.180603</td>\n",
       "      <td>0.343336</td>\n",
       "      <td>2829.0</td>\n",
       "    </tr>\n",
       "    <tr>\n",
       "      <th>529</th>\n",
       "      <td>1.263931</td>\n",
       "      <td>1.103152</td>\n",
       "      <td>1.263931</td>\n",
       "      <td>0.366353</td>\n",
       "      <td>2.027696</td>\n",
       "      <td>-1.180603</td>\n",
       "      <td>0.442327</td>\n",
       "      <td>2898.0</td>\n",
       "    </tr>\n",
       "    <tr>\n",
       "      <th>530</th>\n",
       "      <td>1.263931</td>\n",
       "      <td>1.103152</td>\n",
       "      <td>1.263931</td>\n",
       "      <td>0.707460</td>\n",
       "      <td>-2.440506</td>\n",
       "      <td>-1.355722</td>\n",
       "      <td>0.264143</td>\n",
       "      <td>2894.0</td>\n",
       "    </tr>\n",
       "    <tr>\n",
       "      <th>531</th>\n",
       "      <td>1.263931</td>\n",
       "      <td>1.103152</td>\n",
       "      <td>1.263931</td>\n",
       "      <td>1.000374</td>\n",
       "      <td>-1.914835</td>\n",
       "      <td>-1.180603</td>\n",
       "      <td>0.085958</td>\n",
       "      <td>2803.0</td>\n",
       "    </tr>\n",
       "    <tr>\n",
       "      <th>532</th>\n",
       "      <td>1.263931</td>\n",
       "      <td>1.103152</td>\n",
       "      <td>1.263931</td>\n",
       "      <td>1.225135</td>\n",
       "      <td>-1.389164</td>\n",
       "      <td>-1.005485</td>\n",
       "      <td>0.105757</td>\n",
       "      <td>2775.0</td>\n",
       "    </tr>\n",
       "    <tr>\n",
       "      <th>...</th>\n",
       "      <td>...</td>\n",
       "      <td>...</td>\n",
       "      <td>...</td>\n",
       "      <td>...</td>\n",
       "      <td>...</td>\n",
       "      <td>...</td>\n",
       "      <td>...</td>\n",
       "      <td>...</td>\n",
       "    </tr>\n",
       "    <tr>\n",
       "      <th>24081</th>\n",
       "      <td>-0.044637</td>\n",
       "      <td>-0.613111</td>\n",
       "      <td>-0.044637</td>\n",
       "      <td>-1.365824</td>\n",
       "      <td>0.056431</td>\n",
       "      <td>0.920818</td>\n",
       "      <td>0.561116</td>\n",
       "      <td>5705.0</td>\n",
       "    </tr>\n",
       "    <tr>\n",
       "      <th>24082</th>\n",
       "      <td>-0.044637</td>\n",
       "      <td>-0.613111</td>\n",
       "      <td>-0.044637</td>\n",
       "      <td>-1.224533</td>\n",
       "      <td>-0.074987</td>\n",
       "      <td>0.570581</td>\n",
       "      <td>0.580915</td>\n",
       "      <td>5501.0</td>\n",
       "    </tr>\n",
       "    <tr>\n",
       "      <th>24083</th>\n",
       "      <td>-0.044637</td>\n",
       "      <td>-0.613111</td>\n",
       "      <td>-0.044637</td>\n",
       "      <td>-0.999772</td>\n",
       "      <td>-0.206405</td>\n",
       "      <td>0.745700</td>\n",
       "      <td>0.759099</td>\n",
       "      <td>5235.0</td>\n",
       "    </tr>\n",
       "    <tr>\n",
       "      <th>24084</th>\n",
       "      <td>-0.044637</td>\n",
       "      <td>-0.613111</td>\n",
       "      <td>-0.044637</td>\n",
       "      <td>-0.706857</td>\n",
       "      <td>-0.206405</td>\n",
       "      <td>1.446174</td>\n",
       "      <td>0.739301</td>\n",
       "      <td>4964.0</td>\n",
       "    </tr>\n",
       "    <tr>\n",
       "      <th>24085</th>\n",
       "      <td>-0.044637</td>\n",
       "      <td>-0.613111</td>\n",
       "      <td>-0.044637</td>\n",
       "      <td>-0.365751</td>\n",
       "      <td>-0.337822</td>\n",
       "      <td>1.796411</td>\n",
       "      <td>0.660108</td>\n",
       "      <td>4785.0</td>\n",
       "    </tr>\n",
       "  </tbody>\n",
       "</table>\n",
       "<p>6693 rows × 8 columns</p>\n",
       "</div>"
      ],
      "text/plain": [
       "        sin_day  sin_hour   cos_day  cos_hour  dub_wddir  dub_wdsp  dub_temp  \\\n",
       "528    1.263931  1.103152  1.263931  0.000301  -0.469240 -1.180603  0.343336   \n",
       "529    1.263931  1.103152  1.263931  0.366353   2.027696 -1.180603  0.442327   \n",
       "530    1.263931  1.103152  1.263931  0.707460  -2.440506 -1.355722  0.264143   \n",
       "531    1.263931  1.103152  1.263931  1.000374  -1.914835 -1.180603  0.085958   \n",
       "532    1.263931  1.103152  1.263931  1.225135  -1.389164 -1.005485  0.105757   \n",
       "...         ...       ...       ...       ...        ...       ...       ...   \n",
       "24081 -0.044637 -0.613111 -0.044637 -1.365824   0.056431  0.920818  0.561116   \n",
       "24082 -0.044637 -0.613111 -0.044637 -1.224533  -0.074987  0.570581  0.580915   \n",
       "24083 -0.044637 -0.613111 -0.044637 -0.999772  -0.206405  0.745700  0.759099   \n",
       "24084 -0.044637 -0.613111 -0.044637 -0.706857  -0.206405  1.446174  0.739301   \n",
       "24085 -0.044637 -0.613111 -0.044637 -0.365751  -0.337822  1.796411  0.660108   \n",
       "\n",
       "       ActualGenerationMW  \n",
       "528                2829.0  \n",
       "529                2898.0  \n",
       "530                2894.0  \n",
       "531                2803.0  \n",
       "532                2775.0  \n",
       "...                   ...  \n",
       "24081              5705.0  \n",
       "24082              5501.0  \n",
       "24083              5235.0  \n",
       "24084              4964.0  \n",
       "24085              4785.0  \n",
       "\n",
       "[6693 rows x 8 columns]"
      ]
     },
     "execution_count": 29,
     "metadata": {},
     "output_type": "execute_result"
    }
   ],
   "source": [
    "val_df3"
   ]
  },
  {
   "cell_type": "code",
   "execution_count": 30,
   "id": "cb6b880b",
   "metadata": {},
   "outputs": [],
   "source": [
    "@property\n",
    "def train(self):\n",
    "  return self.make_dataset(self.train_df3)\n",
    "\n",
    "@property\n",
    "def val(self):\n",
    "  return self.make_dataset(self.val_df3)\n",
    "\n",
    "@property\n",
    "def test(self):\n",
    "  return self.make_dataset(self.test_df3)\n",
    "\n",
    "@property\n",
    "def example(self):\n",
    "  \"\"\"Get and cache an example batch of `inputs, labels` for plotting.\"\"\"\n",
    "  result = getattr(self, '_example', None)\n",
    "  if result is None:\n",
    "    # No example batch was found, so get one from the `.train` dataset\n",
    "    result = next(iter(self.train))\n",
    "    # And cache it for next time\n",
    "    self._example = result\n",
    "  return result\n",
    "\n",
    "WindowGenerator.train = train\n",
    "WindowGenerator.val = val\n",
    "WindowGenerator.test = test\n",
    "WindowGenerator.example = example\n",
    "\n"
   ]
  },
  {
   "cell_type": "code",
   "execution_count": 31,
   "id": "60de4a23",
   "metadata": {},
   "outputs": [],
   "source": [
    "def split_window(self, features):\n",
    "  inputs = features[:, self.input_slice, :]\n",
    "  labels = features[:, self.labels_slice, :]\n",
    "  if self.label_columns is not None:\n",
    "    labels = tf.stack(\n",
    "        [labels[:, :, self.column_indices[name]] for name in self.label_columns],\n",
    "        axis=-1)\n",
    "\n",
    "  # Slicing doesn't preserve static shape information, so set the shapes\n",
    "  # manually. This way the `tf.data.Datasets` are easier to inspect.\n",
    "  inputs.set_shape([None, self.input_width, None])\n",
    "  labels.set_shape([None, self.label_width, None])\n",
    "\n",
    "  return inputs, labels\n",
    "\n",
    "WindowGenerator.split_window = split_window"
   ]
  },
  {
   "cell_type": "code",
   "execution_count": 32,
   "id": "3d35ed52",
   "metadata": {},
   "outputs": [],
   "source": [
    "def plot(self, model=None, plot_col='ActualGenerationMW', max_subplots=3):\n",
    "  inputs, labels = self.example\n",
    "  plt.figure(figsize=(12, 8))\n",
    "  plot_col_index = self.column_indices[plot_col]\n",
    "  max_n = min(max_subplots, len(inputs))\n",
    "  for n in range(max_n):\n",
    "    plt.subplot(max_n, 1, n+1)\n",
    "    plt.ylabel(f'{plot_col} [normed]')\n",
    "    plt.plot(self.input_indices, inputs[n, :, plot_col_index],\n",
    "             label='Inputs', marker='.', zorder=-10)\n",
    "\n",
    "    if self.label_columns:\n",
    "      label_col_index = self.label_columns_indices.get(plot_col, None)\n",
    "    else:\n",
    "      label_col_index = plot_col_index\n",
    "\n",
    "    if label_col_index is None:\n",
    "      continue\n",
    "\n",
    "    plt.scatter(self.label_indices, labels[n, :, label_col_index],\n",
    "                edgecolors='k', label='Labels', c='#2ca02c', s=64)\n",
    "    if model is not None:\n",
    "      predictions = model(inputs)\n",
    "      plt.scatter(self.label_indices, predictions[n, :, label_col_index],\n",
    "                  marker='X', edgecolors='k', label='Predictions',\n",
    "                  c='#ff7f0e', s=64)\n",
    "\n",
    "    if n == 0:\n",
    "      plt.legend()\n",
    "\n",
    "  plt.xlabel('Time [h]')\n",
    "\n",
    "WindowGenerator.plot = plot"
   ]
  },
  {
   "cell_type": "markdown",
   "id": "517a1a17",
   "metadata": {},
   "source": [
    "\n",
    "# Baseline Model"
   ]
  },
  {
   "cell_type": "code",
   "execution_count": 33,
   "id": "e28f09a4",
   "metadata": {},
   "outputs": [],
   "source": [
    "import tensorflow as tf"
   ]
  },
  {
   "cell_type": "code",
   "execution_count": 34,
   "id": "9887656c",
   "metadata": {},
   "outputs": [
    {
     "data": {
      "text/plain": [
       "Total window size: 2\n",
       "Input indices: [0]\n",
       "Label indices: [1]\n",
       "Label column name(s): ['ActualGenerationMW']"
      ]
     },
     "execution_count": 34,
     "metadata": {},
     "output_type": "execute_result"
    }
   ],
   "source": [
    "column_indices = {name: i for i, name in enumerate(df.columns)}\n",
    "\n",
    "n = len(df)\n",
    "train_df = df[0:int(n*0.7)]\n",
    "val_df = df[int(n*0.7):int(n*0.9)]\n",
    "test_df = df[int(n*0.9):]\n",
    "\n",
    "num_features = df.shape[1]\n",
    "single_step_window = WindowGenerator(\n",
    "    input_width=1, label_width=1, shift=1,\n",
    "    label_columns=['ActualGenerationMW'])\n",
    "single_step_window"
   ]
  },
  {
   "cell_type": "code",
   "execution_count": 35,
   "id": "78460d89",
   "metadata": {},
   "outputs": [],
   "source": [
    "def make_dataset(self, data):\n",
    "  data = np.array(data, dtype=np.float32)\n",
    "  ds = tf.keras.utils.timeseries_dataset_from_array(\n",
    "      data=data,\n",
    "      targets=None,\n",
    "      sequence_length=self.total_window_size,\n",
    "      sequence_stride=1,\n",
    "      shuffle=True,\n",
    "      batch_size=32,)\n",
    "\n",
    "  ds = ds.map(self.split_window)\n",
    "\n",
    "  return ds\n",
    "\n",
    "WindowGenerator.make_dataset = make_dataset"
   ]
  },
  {
   "cell_type": "code",
   "execution_count": 36,
   "id": "a80ba1df",
   "metadata": {},
   "outputs": [
    {
     "name": "stdout",
     "output_type": "stream",
     "text": [
      "210/210 [==============================] - 2s 5ms/step - loss: 18385696.0000 - mean_absolute_error: 4205.3311\n"
     ]
    }
   ],
   "source": [
    "class Baseline(tf.keras.Model):\n",
    "  def __init__(self, label_index=None):\n",
    "    super().__init__()\n",
    "    self.label_index = label_index\n",
    "\n",
    "  def call(self, inputs):\n",
    "    if self.label_index is None:\n",
    "      return inputs\n",
    "    result = inputs[:, :, self.label_index]\n",
    "    return result[:, :, tf.newaxis]\n",
    "\n",
    "baseline = Baseline(label_index=column_indices['ActualGenerationMW'])\n",
    "\n",
    "baseline.compile(loss=tf.keras.losses.MeanSquaredError(),\n",
    "                 metrics=[tf.keras.metrics.MeanAbsoluteError()])\n",
    "\n",
    "val_performance = {}\n",
    "performance = {}\n",
    "val_performance['Baseline'] = baseline.evaluate(single_step_window.val)\n",
    "performance['Baseline'] = baseline.evaluate(single_step_window.test, verbose=0)"
   ]
  },
  {
   "cell_type": "code",
   "execution_count": 37,
   "id": "174b9413",
   "metadata": {},
   "outputs": [
    {
     "data": {
      "text/plain": [
       "Total window size: 25\n",
       "Input indices: [ 0  1  2  3  4  5  6  7  8  9 10 11 12 13 14 15 16 17 18 19 20 21 22 23]\n",
       "Label indices: [ 1  2  3  4  5  6  7  8  9 10 11 12 13 14 15 16 17 18 19 20 21 22 23 24]\n",
       "Label column name(s): ['ActualGenerationMW']"
      ]
     },
     "execution_count": 37,
     "metadata": {},
     "output_type": "execute_result"
    }
   ],
   "source": [
    "wide_window = WindowGenerator(\n",
    "    input_width=24, label_width=24, shift=1,\n",
    "    label_columns=['ActualGenerationMW'])\n",
    "\n",
    "wide_window"
   ]
  },
  {
   "cell_type": "code",
   "execution_count": 38,
   "id": "6fd6bdf5",
   "metadata": {},
   "outputs": [
    {
     "name": "stdout",
     "output_type": "stream",
     "text": [
      "Input shape: (32, 24, 8)\n",
      "Output shape: (32, 24, 1)\n"
     ]
    },
    {
     "data": {
      "image/png": "[encoded data removed]",
      "text/plain": [
       "<Figure size 864x576 with 3 Axes>"
      ]
     },
     "metadata": {
      "needs_background": "light"
     },
     "output_type": "display_data"
    }
   ],
   "source": [
    "print('Input shape:', wide_window.example[0].shape)\n",
    "print('Output shape:', baseline(wide_window.example[0]).shape)\n",
    "wide_window.plot(baseline)"
   ]
  },
  {
   "cell_type": "markdown",
   "id": "6ce9ccad",
   "metadata": {},
   "source": [
    "## Convolutional Neural Network\n"
   ]
  },
  {
   "cell_type": "code",
   "execution_count": null,
   "id": "1dc39579",
   "metadata": {},
   "outputs": [],
   "source": []
  },
  {
   "cell_type": "code",
   "execution_count": 39,
   "id": "6abc7f81",
   "metadata": {},
   "outputs": [
    {
     "data": {
      "text/plain": [
       "\"# I think this could be important,\\n# If convulutional width is set to 3, then given 3 hours of inputs it predicts 1 hour into the future\\n# We want for \\nCONV_WIDTH = 3\\n\\nconv_window = WindowGenerator(\\n    input_width=CONV_WIDTH,\\n    label_width=1,\\n    shift=1,\\n    label_columns=['ActualGenerationMW'])\\n\\nconv_window\""
      ]
     },
     "execution_count": 39,
     "metadata": {},
     "output_type": "execute_result"
    }
   ],
   "source": [
    "'''# I think this could be important,\n",
    "# If convulutional width is set to 3, then given 3 hours of inputs it predicts 1 hour into the future\n",
    "# We want for \n",
    "CONV_WIDTH = 3\n",
    "\n",
    "conv_window = WindowGenerator(\n",
    "    input_width=CONV_WIDTH,\n",
    "    label_width=1,\n",
    "    shift=1,\n",
    "    label_columns=['ActualGenerationMW'])\n",
    "\n",
    "conv_window'''"
   ]
  },
  {
   "cell_type": "code",
   "execution_count": 40,
   "id": "d6534cce",
   "metadata": {},
   "outputs": [
    {
     "data": {
      "text/plain": [
       "\"conv_model = tf.keras.Sequential([\\n    tf.keras.layers.Conv1D(filters=32,\\n                           kernel_size=(CONV_WIDTH,),\\n                           activation='relu'),\\n    tf.keras.layers.Dense(units=32, activation='relu'),\\n    tf.keras.layers.Dense(units=1),\\n])\""
      ]
     },
     "execution_count": 40,
     "metadata": {},
     "output_type": "execute_result"
    }
   ],
   "source": [
    "'''conv_model = tf.keras.Sequential([\n",
    "    tf.keras.layers.Conv1D(filters=32,\n",
    "                           kernel_size=(CONV_WIDTH,),\n",
    "                           activation='relu'),\n",
    "    tf.keras.layers.Dense(units=32, activation='relu'),\n",
    "    tf.keras.layers.Dense(units=1),\n",
    "])'''"
   ]
  },
  {
   "cell_type": "markdown",
   "id": "1518629d",
   "metadata": {},
   "source": [
    "## Artificial Neural Networks"
   ]
  },
  {
   "cell_type": "code",
   "execution_count": 41,
   "id": "ca25cd9f",
   "metadata": {},
   "outputs": [
    {
     "name": "stderr",
     "output_type": "stream",
     "text": [
      "/home/ubuntu/.local/lib/python3.8/site-packages/keras/optimizers/optimizer_v2/adam.py:110: UserWarning: The `lr` argument is deprecated, use `learning_rate` instead.\n",
      "  super(Adam, self).__init__(name, **kwargs)\n"
     ]
    }
   ],
   "source": [
    "import tensorflow as tf\n",
    "ann = tf.keras.models.Sequential([            \n",
    "          tf.keras.layers.Dense(units=111, activation='relu', name=\"Layer_1\"),\n",
    "          tf.keras.layers.Dropout(0.1), #drop-out layer to avoid overfit\n",
    "          tf.keras.layers.Dense(units=111, activation='relu', name=\"Layer_2\"),\n",
    "          tf.keras.layers.Dropout(0.1),\n",
    "          tf.keras.layers.Dense(units=111, activation='relu', name=\"Layer_3\"),\n",
    "          tf.keras.layers.Dropout(0.1),\n",
    "          tf.keras.layers.Dense(units=10, activation='relu', name=\"Layer_4\"),\n",
    "          tf.keras.layers.Dense(units=1, name=\"output_layer\")\n",
    "          ])\n",
    "\n",
    "ann.compile(loss=tf.keras.losses.mae, # mae is short for mean absolute error\n",
    "            optimizer=tf.keras.optimizers.Adam(lr=0.00002),\n",
    "            metrics=[\"mae\"])"
   ]
  },
  {
   "cell_type": "code",
   "execution_count": 42,
   "id": "deb9bdd3",
   "metadata": {},
   "outputs": [],
   "source": [
    "#copying stuff from document...\n",
    "epochs=60\n",
    "learning_rate = 0.1\n",
    "decay_rate = learning_rate / epochs\n",
    "momentum = 0.8\n",
    "\n",
    "#sgd = SGD(lr=learning_rate, momentum=momentum, decay=decay_rate, nesterov=False)\n",
    "ann.compile(loss=tf.keras.losses.mae, # mae is short for mean absolute error\n",
    "            optimizer=tf.keras.optimizers.Adam(lr=0.00002),\n",
    "            metrics=[\"mae\"])"
   ]
  },
  {
   "cell_type": "code",
   "execution_count": 43,
   "id": "e2282213",
   "metadata": {
    "scrolled": true
   },
   "outputs": [
    {
     "name": "stdout",
     "output_type": "stream",
     "text": [
      "Epoch 1/20\n",
      "99/99 [==============================] - 2s 7ms/step - loss: 4077.0649 - mae: 4077.0649\n",
      "Epoch 2/20\n",
      "99/99 [==============================] - 1s 7ms/step - loss: 3846.2788 - mae: 3846.2788\n",
      "Epoch 3/20\n",
      "99/99 [==============================] - 1s 7ms/step - loss: 3515.1313 - mae: 3515.1313\n",
      "Epoch 4/20\n",
      "99/99 [==============================] - 1s 7ms/step - loss: 3022.8005 - mae: 3022.8005\n",
      "Epoch 5/20\n",
      "99/99 [==============================] - 1s 7ms/step - loss: 2467.5825 - mae: 2467.5825\n",
      "Epoch 6/20\n",
      "99/99 [==============================] - 1s 7ms/step - loss: 2208.3508 - mae: 2208.3508\n",
      "Epoch 7/20\n",
      "99/99 [==============================] - 1s 7ms/step - loss: 2165.6416 - mae: 2165.6416\n",
      "Epoch 8/20\n",
      "99/99 [==============================] - 1s 7ms/step - loss: 2165.4082 - mae: 2165.4080\n",
      "Epoch 9/20\n",
      "99/99 [==============================] - 1s 7ms/step - loss: 2160.3374 - mae: 2160.3374\n",
      "Epoch 10/20\n",
      "99/99 [==============================] - 1s 7ms/step - loss: 2160.6482 - mae: 2160.6482\n",
      "Epoch 11/20\n",
      "99/99 [==============================] - 1s 7ms/step - loss: 2161.0601 - mae: 2161.0601\n",
      "Epoch 12/20\n",
      "99/99 [==============================] - 1s 7ms/step - loss: 2160.6982 - mae: 2160.6982\n",
      "Epoch 13/20\n",
      "99/99 [==============================] - 1s 7ms/step - loss: 2158.8218 - mae: 2158.8218\n",
      "Epoch 14/20\n",
      "99/99 [==============================] - 1s 7ms/step - loss: 2161.6150 - mae: 2161.6150\n",
      "Epoch 15/20\n",
      "99/99 [==============================] - 1s 7ms/step - loss: 2157.6689 - mae: 2157.6689\n",
      "Epoch 16/20\n",
      "99/99 [==============================] - 1s 7ms/step - loss: 2156.4727 - mae: 2156.4727\n",
      "Epoch 17/20\n",
      "99/99 [==============================] - 1s 7ms/step - loss: 2157.6030 - mae: 2157.6030\n",
      "Epoch 18/20\n",
      "99/99 [==============================] - 1s 7ms/step - loss: 2160.3679 - mae: 2160.3679\n",
      "Epoch 19/20\n",
      "99/99 [==============================] - 1s 7ms/step - loss: 2159.9233 - mae: 2159.9233\n",
      "Epoch 20/20\n",
      "99/99 [==============================] - 1s 7ms/step - loss: 2155.0991 - mae: 2155.0991\n"
     ]
    },
    {
     "data": {
      "text/plain": [
       "<keras.callbacks.History at 0x7f66405023d0>"
      ]
     },
     "execution_count": 43,
     "metadata": {},
     "output_type": "execute_result"
    }
   ],
   "source": [
    "ann.fit(X_train1,y_train, batch_size=200, epochs=20)"
   ]
  },
  {
   "cell_type": "code",
   "execution_count": 44,
   "id": "3f9f7228",
   "metadata": {},
   "outputs": [
    {
     "name": "stdout",
     "output_type": "stream",
     "text": [
      "210/210 [==============================] - 1s 2ms/step\n"
     ]
    }
   ],
   "source": [
    "y_pred=ann.predict(X_valid1)"
   ]
  },
  {
   "cell_type": "code",
   "execution_count": 45,
   "id": "ca9f358b",
   "metadata": {},
   "outputs": [
    {
     "name": "stdout",
     "output_type": "stream",
     "text": [
      "Mean Absolute Error: 1998.8266730280748\n",
      "Mean Squared Error: 5276077.626861232\n",
      "Root Mean Squared Error: 2296.9714031439817\n"
     ]
    }
   ],
   "source": [
    "from sklearn import metrics\n",
    "\n",
    "print('Mean Absolute Error:', metrics.mean_absolute_error(y_valid, y_pred))\n",
    "print('Mean Squared Error:', metrics.mean_squared_error(y_valid, y_pred))\n",
    "print('Root Mean Squared Error:', np.sqrt(metrics.mean_squared_error(y_valid, y_pred)))"
   ]
  },
  {
   "cell_type": "markdown",
   "id": "99240c2e",
   "metadata": {},
   "source": [
    "For lr=0.002 and  batch_size=200, epochs=100)\n",
    "\n",
    "Mean Absolute Error: 470.42779251935326\n",
    "Mean Squared Error: 353878.8971401352\n",
    "Root Mean Squared Error: 594.877211817813\n",
    "\n",
    "For lr=0.0002 and  batch_size=200, epochs=100)\n",
    "Mean Absolute Error: 478.03476671201486\n",
    "Mean Squared Error: 364369.589799041\n",
    "Root Mean Squared Error: 603.6303420132565\n",
    "\n",
    "For lr=0.0002 and  batch_size=200, epochs=150)\n",
    "Mean Absolute Error: 470.0360041216103\n",
    "Mean Squared Error: 354797.59158343874\n",
    "Root Mean Squared Error: 595.648882802141"
   ]
  },
  {
   "cell_type": "code",
   "execution_count": 46,
   "id": "d458a2e4",
   "metadata": {},
   "outputs": [
    {
     "data": {
      "image/png": "[encoded data removed]",
      "text/plain": [
       "<Figure size 1332x756 with 1 Axes>"
      ]
     },
     "metadata": {
      "needs_background": "light"
     },
     "output_type": "display_data"
    }
   ],
   "source": [
    "import matplotlib.pyplot as plt \n",
    "from matplotlib.pyplot import figure\n",
    "\n",
    "plt.plot(X_valid['date2'][-7*24:],y_pred[-7*24:])\n",
    "plt.plot(X_valid['date2'][-7*24:],y_valid[-7*24:])\n",
    "fig = plt.gcf()\n",
    "fig.set_size_inches(18.5, 10.5)\n",
    "fig.savefig('test2png.png', dpi=100)"
   ]
  },
  {
   "cell_type": "code",
   "execution_count": 47,
   "id": "57a9cd86",
   "metadata": {},
   "outputs": [],
   "source": [
    "#plt.barh(X_valid1.columns, ann.feature_importances_)"
   ]
  },
  {
   "cell_type": "markdown",
   "id": "4b461a12",
   "metadata": {},
   "source": [
    "## Muliple hour input Forecasting"
   ]
  },
  {
   "cell_type": "markdown",
   "id": "5cd698af",
   "metadata": {},
   "source": [
    "Below from https://www.tensorflow.org/tutorials/structured_data/time_series"
   ]
  },
  {
   "cell_type": "code",
   "execution_count": 48,
   "id": "ed3abd90",
   "metadata": {},
   "outputs": [],
   "source": [
    "import IPython\n",
    "import IPython.display"
   ]
  },
  {
   "cell_type": "code",
   "execution_count": 49,
   "id": "c6d20554",
   "metadata": {},
   "outputs": [
    {
     "data": {
      "text/plain": [
       "Total window size: 3\n",
       "Input indices: [0 1 2]\n",
       "Label indices: [2]\n",
       "Label column name(s): ['ActualGenerationMW']"
      ]
     },
     "execution_count": 49,
     "metadata": {},
     "output_type": "execute_result"
    }
   ],
   "source": [
    "CONV_WIDTH = 3\n",
    "conv_window = WindowGenerator(\n",
    "    input_width=CONV_WIDTH,\n",
    "    label_width=1,\n",
    "    shift=0,\n",
    "    label_columns=['ActualGenerationMW'])\n",
    "\n",
    "conv_window"
   ]
  },
  {
   "cell_type": "code",
   "execution_count": 50,
   "id": "0702cecf",
   "metadata": {},
   "outputs": [
    {
     "data": {
      "text/plain": [
       "Total window size: 6\n",
       "Input indices: [0 1 2 3 4 5]\n",
       "Label indices: [5]\n",
       "Label column name(s): ['ActualGenerationMW']"
      ]
     },
     "execution_count": 50,
     "metadata": {},
     "output_type": "execute_result"
    }
   ],
   "source": [
    "w2 = WindowGenerator(input_width=6, label_width=1, shift=0,\n",
    "                     label_columns=['ActualGenerationMW'])\n",
    "w2"
   ]
  },
  {
   "cell_type": "code",
   "execution_count": 51,
   "id": "54c68c70",
   "metadata": {},
   "outputs": [
    {
     "name": "stdout",
     "output_type": "stream",
     "text": [
      "All shapes are: (batch, time, features)\n",
      "Window shape: (3, 6, 8)\n",
      "Inputs shape: (3, 6, 8)\n",
      "Labels shape: (3, 1, 1)\n"
     ]
    }
   ],
   "source": [
    "\n",
    "\n",
    "# Stack three slices, the length of the total window.\n",
    "example_window = tf.stack([np.array(train_df3[:w2.total_window_size]),\n",
    "                           np.array(train_df3[100:100+w2.total_window_size]),\n",
    "                           np.array(train_df3[200:200+w2.total_window_size])])\n",
    "\n",
    "example_inputs, example_labels = w2.split_window(example_window)\n",
    "\n",
    "print('All shapes are: (batch, time, features)')\n",
    "print(f'Window shape: {example_window.shape}')\n",
    "print(f'Inputs shape: {example_inputs.shape}')\n",
    "print(f'Labels shape: {example_labels.shape}')"
   ]
  },
  {
   "cell_type": "code",
   "execution_count": 52,
   "id": "54664ef9",
   "metadata": {},
   "outputs": [
    {
     "data": {
      "text/plain": [
       "Total window size: 4\n",
       "Input indices: [0 1 2]\n",
       "Label indices: [3]\n",
       "Label column name(s): ['ActualGenerationMW']"
      ]
     },
     "execution_count": 52,
     "metadata": {},
     "output_type": "execute_result"
    }
   ],
   "source": [
    "CONV_WIDTH = 3\n",
    "conv_window = WindowGenerator(\n",
    "    input_width=CONV_WIDTH,\n",
    "    label_width=1,\n",
    "    shift=1,\n",
    "    label_columns=['ActualGenerationMW'])\n",
    "\n",
    "conv_window"
   ]
  },
  {
   "cell_type": "code",
   "execution_count": 53,
   "id": "93296280",
   "metadata": {},
   "outputs": [
    {
     "data": {
      "text/plain": [
       "Text(0.5, 1.0, 'Given 3 hours of inputs, predict 1 hour into the future.')"
      ]
     },
     "execution_count": 53,
     "metadata": {},
     "output_type": "execute_result"
    },
    {
     "data": {
      "image/png": "[encoded data removed]",
      "text/plain": [
       "<Figure size 864x576 with 3 Axes>"
      ]
     },
     "metadata": {
      "needs_background": "light"
     },
     "output_type": "display_data"
    }
   ],
   "source": [
    "conv_window.plot()\n",
    "plt.title(\"Given 3 hours of inputs, predict 1 hour into the future.\")"
   ]
  },
  {
   "cell_type": "code",
   "execution_count": 54,
   "id": "47fcbda0",
   "metadata": {},
   "outputs": [],
   "source": [
    "MAX_EPOCHS = 20\n",
    "\n",
    "def compile_and_fit(model, window, patience=2):\n",
    "  early_stopping = tf.keras.callbacks.EarlyStopping(monitor='val_loss',patience=patience,mode='min')\n",
    "\n",
    "  model.compile(loss=tf.keras.losses.MeanSquaredError(),\n",
    "                optimizer=tf.keras.optimizers.Adam(),\n",
    "                metrics=[tf.keras.metrics.MeanAbsoluteError()])\n",
    "\n",
    "  history = model.fit(window.train, epochs=MAX_EPOCHS,\n",
    "                      validation_data=window.val,\n",
    "                      callbacks=[early_stopping])\n",
    "  return history"
   ]
  },
  {
   "cell_type": "markdown",
   "id": "3ce1451b",
   "metadata": {},
   "source": [
    "### Multi-step dense model"
   ]
  },
  {
   "cell_type": "code",
   "execution_count": 55,
   "id": "52572ae7",
   "metadata": {},
   "outputs": [],
   "source": [
    "multi_step_dense = tf.keras.Sequential([\n",
    "    # Shape: (time, features) => (time*features)\n",
    "    tf.keras.layers.Flatten(),\n",
    "    tf.keras.layers.Dense(units=32, activation='relu'),\n",
    "    tf.keras.layers.Dense(units=32, activation='relu'),\n",
    "    tf.keras.layers.Dense(units=1),\n",
    "    # Add back the time dimension.\n",
    "    # Shape: (outputs) => (1, outputs)\n",
    "    tf.keras.layers.Reshape([1, -1]),\n",
    "])"
   ]
  },
  {
   "cell_type": "code",
   "execution_count": 56,
   "id": "2b66da35",
   "metadata": {},
   "outputs": [
    {
     "name": "stdout",
     "output_type": "stream",
     "text": [
      "210/210 [==============================] - 1s 5ms/step - loss: 44997.1484 - mean_absolute_error: 156.7710\n"
     ]
    }
   ],
   "source": [
    "history = compile_and_fit(multi_step_dense, conv_window)\n",
    "\n",
    "IPython.display.clear_output()\n",
    "val_performance['Multi step dense'] = multi_step_dense.evaluate(conv_window.val)\n",
    "performance['Multi step dense'] = multi_step_dense.evaluate(conv_window.test, verbose=0)"
   ]
  },
  {
   "cell_type": "markdown",
   "id": "3b5eff77",
   "metadata": {},
   "source": [
    "### conv_model"
   ]
  },
  {
   "cell_type": "code",
   "execution_count": 57,
   "id": "90eba86e",
   "metadata": {},
   "outputs": [],
   "source": [
    "conv_model = tf.keras.Sequential([\n",
    "    tf.keras.layers.Conv1D(filters=32,kernel_size=(CONV_WIDTH,),activation='relu'),\n",
    "    tf.keras.layers.Dense(units=32, activation='relu'),\n",
    "    tf.keras.layers.Dense(units=1),\n",
    "])"
   ]
  },
  {
   "cell_type": "code",
   "execution_count": 58,
   "id": "25fb8f42",
   "metadata": {},
   "outputs": [
    {
     "name": "stdout",
     "output_type": "stream",
     "text": [
      "210/210 [==============================] - 1s 5ms/step - loss: 43432.4336 - mean_absolute_error: 155.4792\n"
     ]
    }
   ],
   "source": [
    "history = compile_and_fit(conv_model, conv_window)\n",
    "\n",
    "IPython.display.clear_output()\n",
    "val_performance['Conv'] = conv_model.evaluate(conv_window.val)\n",
    "performance['Conv'] = conv_model.evaluate(conv_window.test, verbose=0)"
   ]
  },
  {
   "cell_type": "code",
   "execution_count": 59,
   "id": "a479b06a",
   "metadata": {},
   "outputs": [
    {
     "data": {
      "text/plain": [
       "<MapDataset element_spec=(TensorSpec(shape=(None, 3, 8), dtype=tf.float32, name=None), TensorSpec(shape=(None, 1, 1), dtype=tf.float32, name=None))>"
      ]
     },
     "execution_count": 59,
     "metadata": {},
     "output_type": "execute_result"
    }
   ],
   "source": [
    "conv_window.train"
   ]
  },
  {
   "cell_type": "code",
   "execution_count": 60,
   "id": "aea66cf3",
   "metadata": {},
   "outputs": [],
   "source": [
    "MAX_EPOCHS = 20\n",
    "\n",
    "def compile_and_fit(model, window, patience=2):\n",
    "  early_stopping = tf.keras.callbacks.EarlyStopping(monitor='val_loss',patience=patience,mode='min')\n",
    "\n",
    "  model.compile(loss=tf.keras.losses.MeanSquaredError(),\n",
    "                optimizer=tf.keras.optimizers.Adam(),\n",
    "                metrics=[tf.keras.metrics.MeanAbsoluteError()])\n",
    "  print(window.train)\n",
    "  history = model.fit(window.train, epochs=MAX_EPOCHS,\n",
    "                      validation_data=window.val,\n",
    "                      callbacks=[early_stopping])\n",
    "  return history"
   ]
  },
  {
   "cell_type": "code",
   "execution_count": 61,
   "id": "52831a99",
   "metadata": {},
   "outputs": [
    {
     "data": {
      "text/plain": [
       "Total window size: 3\n",
       "Input indices: [0 1 2]\n",
       "Label indices: []\n",
       "Label column name(s): ['ActualGenerationMW']"
      ]
     },
     "execution_count": 61,
     "metadata": {},
     "output_type": "execute_result"
    }
   ],
   "source": [
    "CONV_WIDTH = 3\n",
    "conv_window = WindowGenerator(\n",
    "    input_width=CONV_WIDTH,\n",
    "    label_width=0,\n",
    "    shift=0,\n",
    "    label_columns=['ActualGenerationMW'])\n",
    "\n",
    "conv_window"
   ]
  },
  {
   "cell_type": "code",
   "execution_count": 63,
   "id": "d8df8d88",
   "metadata": {},
   "outputs": [],
   "source": [
    "class WindowGenerator():\n",
    "  def __init__(self, input_width, label_width, shift,\n",
    "               train_df=train_df3, val_df=val_df3, test_df=test_df3,\n",
    "               label_columns=None):\n",
    "    # Store the raw data.\n",
    "    self.train = train_df3\n",
    "    self.val = val_df3\n",
    "    self.test = test_df3\n",
    "\n",
    "    # Work out the label column indices.\n",
    "    self.label_columns = label_columns\n",
    "    if label_columns is not None:\n",
    "      self.label_columns_indices = {name: i for i, name in\n",
    "                                    enumerate(label_columns)}\n",
    "    self.column_indices = {name: i for i, name in\n",
    "                           enumerate(train_df3.columns)}\n",
    "\n",
    "    # Work out the window parameters.\n",
    "    self.input_width = input_width\n",
    "    self.label_width = label_width\n",
    "    self.shift = shift\n",
    "\n",
    "    self.total_window_size = input_width + shift\n",
    "\n",
    "    self.input_slice = slice(0, input_width)\n",
    "    self.input_indices = np.arange(self.total_window_size)[self.input_slice]\n",
    "\n",
    "    self.label_start = self.total_window_size - self.label_width\n",
    "    self.labels_slice = slice(self.label_start, None)\n",
    "    self.label_indices = np.arange(self.total_window_size)[self.labels_slice]\n",
    "\n",
    "  def __repr__(self):\n",
    "    return '\\n'.join([\n",
    "        f'Total window size: {self.total_window_size}',\n",
    "        f'Input indices: {self.input_indices}',\n",
    "        f'Label indices: {self.label_indices}',\n",
    "        f'Label column name(s): {self.label_columns}'])\n",
    "\n"
   ]
  },
  {
   "cell_type": "code",
   "execution_count": 64,
   "id": "688d0cfd",
   "metadata": {},
   "outputs": [
    {
     "name": "stderr",
     "output_type": "stream",
     "text": [
      "/tmp/ipykernel_118793/147977550.py:1: FutureWarning: In a future version of pandas all arguments of DataFrame.drop except for the argument 'labels' will be keyword-only.\n",
      "  train_df3X=train_df3.drop(['ActualGenerationMW'],1)\n",
      "/tmp/ipykernel_118793/147977550.py:3: FutureWarning: In a future version of pandas all arguments of DataFrame.drop except for the argument 'labels' will be keyword-only.\n",
      "  val_df3X=val_df3.drop(['ActualGenerationMW'],1)\n",
      "/tmp/ipykernel_118793/147977550.py:5: FutureWarning: In a future version of pandas all arguments of DataFrame.drop except for the argument 'labels' will be keyword-only.\n",
      "  test_df3X=test_df3.drop(['ActualGenerationMW'],1)\n"
     ]
    },
    {
     "name": "stdout",
     "output_type": "stream",
     "text": [
      "The input_width is given by 2\n",
      "The label_width is given by 1\n",
      "Made it here!\n",
      "Data is given by [[ 1.3221302e+00 -5.8403926e-04  1.3221302e+00 ... -8.6349332e-01\n",
      "   9.2081839e-01 -3.6940125e-01]\n",
      " [ 1.3221302e+00 -5.8403926e-04  1.3221302e+00 ... -7.3207563e-01\n",
      "   7.4569994e-01 -4.0899771e-01]\n",
      " [ 1.3162527e+00  1.1031517e+00  1.3162527e+00 ... -9.9491102e-01\n",
      "   3.9546299e-01 -4.6839246e-01]\n",
      " ...\n",
      " [ 8.5807133e-01 -1.1043198e+00  8.5807133e-01 ...  4.5068380e-01\n",
      "   4.5226034e-02  2.0474793e-01]\n",
      " [ 8.5807133e-01 -1.1043198e+00  8.5807133e-01 ...  5.8210152e-01\n",
      "   3.9546299e-01  4.6361953e-02]\n",
      " [ 6.6009277e-01  1.3757519e+00  6.6009277e-01 ...  8.4493697e-01\n",
      "  -4.8012939e-01 -2.7041000e-01]]\n",
      "The label columns are given by None\n",
      "The inputs are given by slice(1, None, None)\n",
      "Oh Bb\n",
      "The input data is  <MapDataset element_spec=(TensorSpec(shape=(None, 2, 7), dtype=tf.float32, name=None), TensorSpec(shape=(None, 1, 7), dtype=tf.float32, name=None))>\n",
      "And then I got here!\n",
      "Data is given by [[4424.]\n",
      " [4047.]\n",
      " [3558.]\n",
      " ...\n",
      " [4339.]\n",
      " [3757.]\n",
      " [3856.]]\n",
      "The label columns are given by None\n",
      "The inputs are given by slice(1, None, None)\n",
      "Oh Bb\n",
      "The output data is  <MapDataset element_spec=(TensorSpec(shape=(None, 2, 1), dtype=tf.float32, name=None), TensorSpec(shape=(None, 1, 1), dtype=tf.float32, name=None))>\n",
      "Data is given by [[ 1.3221302e+00 -5.8403926e-04  1.3221302e+00 ... -8.6349332e-01\n",
      "   9.2081839e-01 -3.6940125e-01]\n",
      " [ 1.3221302e+00 -5.8403926e-04  1.3221302e+00 ... -7.3207563e-01\n",
      "   7.4569994e-01 -4.0899771e-01]\n",
      " [ 1.3162527e+00  1.1031517e+00  1.3162527e+00 ... -9.9491102e-01\n",
      "   3.9546299e-01 -4.6839246e-01]\n",
      " ...\n",
      " [ 8.5807133e-01 -1.1043198e+00  8.5807133e-01 ...  4.5068380e-01\n",
      "   4.5226034e-02  2.0474793e-01]\n",
      " [ 8.5807133e-01 -1.1043198e+00  8.5807133e-01 ...  5.8210152e-01\n",
      "   3.9546299e-01  4.6361953e-02]\n",
      " [ 6.6009277e-01  1.3757519e+00  6.6009277e-01 ...  8.4493697e-01\n",
      "  -4.8012939e-01 -2.7041000e-01]]\n",
      "The label columns are given by None\n",
      "The inputs are given by slice(1, None, None)\n",
      "Oh Bb\n",
      "Data is given by [[4424.]\n",
      " [4047.]\n",
      " [3558.]\n",
      " ...\n",
      " [4339.]\n",
      " [3757.]\n",
      " [3856.]]\n",
      "The label columns are given by None\n",
      "The inputs are given by slice(1, None, None)\n",
      "Oh Bb\n",
      "Data is given by [[ 1.2639312   1.1031517   1.2639312  ... -0.4692402  -1.1806033\n",
      "   0.34333566]\n",
      " [ 1.2639312   1.1031517   1.2639312  ...  2.0276964  -1.1806033\n",
      "   0.44232687]\n",
      " [ 1.2639312   1.1031517   1.2639312  ... -2.440506   -1.3557217\n",
      "   0.26414266]\n",
      " ...\n",
      " [-0.04463748 -0.61311114 -0.04463748 ... -0.20640476  0.74569994\n",
      "   0.7590988 ]\n",
      " [-0.04463748 -0.61311114 -0.04463748 ... -0.20640476  1.4461738\n",
      "   0.7393006 ]\n",
      " [-0.04463748 -0.61311114 -0.04463748 ... -0.33782247  1.7964108\n",
      "   0.6601076 ]]\n",
      "The label columns are given by None\n",
      "The inputs are given by slice(1, None, None)\n",
      "Oh Bb\n",
      "Data is given by [[2829.]\n",
      " [2898.]\n",
      " [2894.]\n",
      " ...\n",
      " [5235.]\n",
      " [4964.]\n",
      " [4785.]]\n",
      "The label columns are given by None\n",
      "The inputs are given by slice(1, None, None)\n",
      "Oh Bb\n"
     ]
    },
    {
     "ename": "ValueError",
     "evalue": "`y` argument is not supported when using dataset as input.",
     "output_type": "error",
     "traceback": [
      "\u001b[0;31m---------------------------------------------------------------------------\u001b[0m",
      "\u001b[0;31mValueError\u001b[0m                                Traceback (most recent call last)",
      "Input \u001b[0;32mIn [64]\u001b[0m, in \u001b[0;36m<cell line: 230>\u001b[0;34m()\u001b[0m\n\u001b[1;32m    227\u001b[0m     \u001b[38;5;28;01mreturn\u001b[39;00m history\n\u001b[1;32m    229\u001b[0m \u001b[38;5;66;03m#==========================\u001b[39;00m\n\u001b[0;32m--> 230\u001b[0m history \u001b[38;5;241m=\u001b[39m \u001b[43mcompile_and_fit\u001b[49m\u001b[43m(\u001b[49m\u001b[43mconv_model\u001b[49m\u001b[43m,\u001b[49m\u001b[43m \u001b[49m\u001b[43mconv_window\u001b[49m\u001b[43m)\u001b[49m\n\u001b[1;32m    232\u001b[0m IPython\u001b[38;5;241m.\u001b[39mdisplay\u001b[38;5;241m.\u001b[39mclear_output()\n",
      "Input \u001b[0;32mIn [64]\u001b[0m, in \u001b[0;36mcompile_and_fit\u001b[0;34m(model, window, patience)\u001b[0m\n\u001b[1;32m    222\u001b[0m \u001b[38;5;28mprint\u001b[39m(\u001b[38;5;124m\"\u001b[39m\u001b[38;5;124mAnd then I got here!\u001b[39m\u001b[38;5;124m\"\u001b[39m)\n\u001b[1;32m    223\u001b[0m \u001b[38;5;28mprint\u001b[39m(\u001b[38;5;124m\"\u001b[39m\u001b[38;5;124mThe output data is \u001b[39m\u001b[38;5;124m\"\u001b[39m,window\u001b[38;5;241m.\u001b[39mtrainY)\n\u001b[0;32m--> 224\u001b[0m history \u001b[38;5;241m=\u001b[39m \u001b[43mmodel\u001b[49m\u001b[38;5;241;43m.\u001b[39;49m\u001b[43mfit\u001b[49m\u001b[43m(\u001b[49m\u001b[43mwindow\u001b[49m\u001b[38;5;241;43m.\u001b[39;49m\u001b[43mtrainX\u001b[49m\u001b[43m,\u001b[49m\u001b[43mwindow\u001b[49m\u001b[38;5;241;43m.\u001b[39;49m\u001b[43mtrainY\u001b[49m\u001b[43m,\u001b[49m\u001b[43m \u001b[49m\u001b[43mepochs\u001b[49m\u001b[38;5;241;43m=\u001b[39;49m\u001b[43mMAX_EPOCHS\u001b[49m\u001b[43m,\u001b[49m\n\u001b[1;32m    225\u001b[0m \u001b[43m                  \u001b[49m\u001b[43mvalidation_data\u001b[49m\u001b[38;5;241;43m=\u001b[39;49m\u001b[43m(\u001b[49m\u001b[43mwindow\u001b[49m\u001b[38;5;241;43m.\u001b[39;49m\u001b[43mvalX\u001b[49m\u001b[43m,\u001b[49m\u001b[43mwindow\u001b[49m\u001b[38;5;241;43m.\u001b[39;49m\u001b[43mvalY\u001b[49m\u001b[43m)\u001b[49m\u001b[43m,\u001b[49m\n\u001b[1;32m    226\u001b[0m \u001b[43m                  \u001b[49m\u001b[43mcallbacks\u001b[49m\u001b[38;5;241;43m=\u001b[39;49m\u001b[43m[\u001b[49m\u001b[43mearly_stopping\u001b[49m\u001b[43m]\u001b[49m\u001b[43m)\u001b[49m\n\u001b[1;32m    227\u001b[0m \u001b[38;5;28;01mreturn\u001b[39;00m history\n",
      "File \u001b[0;32m~/.local/lib/python3.8/site-packages/keras/utils/traceback_utils.py:67\u001b[0m, in \u001b[0;36mfilter_traceback.<locals>.error_handler\u001b[0;34m(*args, **kwargs)\u001b[0m\n\u001b[1;32m     65\u001b[0m \u001b[38;5;28;01mexcept\u001b[39;00m \u001b[38;5;167;01mException\u001b[39;00m \u001b[38;5;28;01mas\u001b[39;00m e:  \u001b[38;5;66;03m# pylint: disable=broad-except\u001b[39;00m\n\u001b[1;32m     66\u001b[0m   filtered_tb \u001b[38;5;241m=\u001b[39m _process_traceback_frames(e\u001b[38;5;241m.\u001b[39m__traceback__)\n\u001b[0;32m---> 67\u001b[0m   \u001b[38;5;28;01mraise\u001b[39;00m e\u001b[38;5;241m.\u001b[39mwith_traceback(filtered_tb) \u001b[38;5;28;01mfrom\u001b[39;00m \u001b[38;5;28mNone\u001b[39m\n\u001b[1;32m     68\u001b[0m \u001b[38;5;28;01mfinally\u001b[39;00m:\n\u001b[1;32m     69\u001b[0m   \u001b[38;5;28;01mdel\u001b[39;00m filtered_tb\n",
      "File \u001b[0;32m~/.local/lib/python3.8/site-packages/keras/engine/data_adapter.py:747\u001b[0m, in \u001b[0;36mDatasetAdapter._validate_args\u001b[0;34m(self, y, sample_weights, steps)\u001b[0m\n\u001b[1;32m    745\u001b[0m \u001b[38;5;66;03m# Arguments that shouldn't be passed.\u001b[39;00m\n\u001b[1;32m    746\u001b[0m \u001b[38;5;28;01mif\u001b[39;00m \u001b[38;5;129;01mnot\u001b[39;00m is_none_or_empty(y):\n\u001b[0;32m--> 747\u001b[0m   \u001b[38;5;28;01mraise\u001b[39;00m \u001b[38;5;167;01mValueError\u001b[39;00m(\u001b[38;5;124m\"\u001b[39m\u001b[38;5;124m`y` argument is not supported when using \u001b[39m\u001b[38;5;124m\"\u001b[39m\n\u001b[1;32m    748\u001b[0m                    \u001b[38;5;124m\"\u001b[39m\u001b[38;5;124mdataset as input.\u001b[39m\u001b[38;5;124m\"\u001b[39m)\n\u001b[1;32m    749\u001b[0m \u001b[38;5;28;01mif\u001b[39;00m \u001b[38;5;129;01mnot\u001b[39;00m is_none_or_empty(sample_weights):\n\u001b[1;32m    750\u001b[0m   \u001b[38;5;28;01mraise\u001b[39;00m \u001b[38;5;167;01mValueError\u001b[39;00m(\u001b[38;5;124m\"\u001b[39m\u001b[38;5;124m`sample_weight` argument is not supported when using \u001b[39m\u001b[38;5;124m\"\u001b[39m\n\u001b[1;32m    751\u001b[0m                    \u001b[38;5;124m\"\u001b[39m\u001b[38;5;124mdataset as input.\u001b[39m\u001b[38;5;124m\"\u001b[39m)\n",
      "\u001b[0;31mValueError\u001b[0m: `y` argument is not supported when using dataset as input."
     ]
    }
   ],
   "source": [
    "train_df3X=train_df3.drop(['ActualGenerationMW'],1)\n",
    "train_df3Y=train_df3[['ActualGenerationMW']]\n",
    "val_df3X=val_df3.drop(['ActualGenerationMW'],1)\n",
    "val_df3Y=val_df3[['ActualGenerationMW']]\n",
    "test_df3X=test_df3.drop(['ActualGenerationMW'],1)\n",
    "test_df3Y=test_df3[['ActualGenerationMW']]\n",
    "\n",
    "\n",
    "class WindowGenerator2():\n",
    "  def __init__(self, input_width, label_width, shift,\n",
    "               train_df=train_df, val_df=val_df, test_df=test_df,\n",
    "               label_columns=None):\n",
    "    # Store the raw data.\n",
    "    self.train_df3 = train_df3\n",
    "    self.train_df3X = train_df3X\n",
    "    self.train_df3Y = train_df3Y\n",
    "    self.val_df3 = val_df3\n",
    "    self.val_df3X = val_df3X\n",
    "    self.val_df3Y = val_df3Y\n",
    "    self.test_df3 = test_df3\n",
    "    self.test_df3X = test_df3X\n",
    "    self.test_df3Y = test_df3Y\n",
    "\n",
    "    # Work out the label column indices.\n",
    "    self.label_columns = label_columns\n",
    "    if label_columns is not None:\n",
    "      self.label_columns_indices = {name: i for i, name in\n",
    "                                    enumerate(label_columns)}\n",
    "    self.column_indices = {name: i for i, name in\n",
    "                           enumerate(train_df3.columns)}\n",
    "\n",
    "    # Work out the window parameters.\n",
    "    self.input_width = input_width\n",
    "    self.label_width = label_width\n",
    "    self.shift = shift\n",
    "\n",
    "    self.total_window_size = input_width + shift\n",
    "\n",
    "    self.input_slice = slice(0, input_width)\n",
    "    print(\"The input_width is given by\",self.input_width)\n",
    "    self.input_indices = np.arange(self.total_window_size)[self.input_slice]\n",
    "    print(\"The label_width is given by\",self.label_width)\n",
    "    self.label_start = self.total_window_size - self.label_width\n",
    "    self.labels_slice = slice(self.label_start, None)\n",
    "    self.label_indices = np.arange(self.total_window_size)[self.labels_slice]\n",
    "\n",
    "  def __repr__(self):\n",
    "    return '\\n'.join([\n",
    "        f'Total window size: {self.total_window_size}',\n",
    "        f'Input indices: {self.input_indices}',\n",
    "        f'Label indices: {self.label_indices}',\n",
    "        f'Label column name(s): {self.label_columns}'])\n",
    "\n",
    "#======================================\n",
    "CONV_WIDTH = 2\n",
    "conv_window = WindowGenerator2(\n",
    "    input_width=CONV_WIDTH,\n",
    "    label_width=1,\n",
    "    shift=0)#,\n",
    "    #label_columns=['ActualGenerationMW'])\n",
    "\n",
    "conv_window\n",
    "\n",
    "#=====================================\n",
    "\n",
    "@property\n",
    "def train(self):\n",
    "  return self.make_dataset(self.train_df3)\n",
    "\n",
    "\n",
    "@property\n",
    "def trainX(self):\n",
    "  return self.make_dataset(self.train_df3X)\n",
    "\n",
    "@property\n",
    "def trainY(self):\n",
    "  return self.make_dataset(self.train_df3Y)\n",
    "\n",
    "\n",
    "@property\n",
    "def val(self):\n",
    "  return self.make_dataset(self.val_df3)\n",
    "\n",
    "@property\n",
    "def valX(self):\n",
    "  return self.make_dataset(self.val_df3X)\n",
    "\n",
    "@property\n",
    "def valY(self):\n",
    "  return self.make_dataset(self.val_df3Y)\n",
    "\n",
    "@property\n",
    "def test(self):\n",
    "  return self.make_dataset(self.test_df3)\n",
    "\n",
    "@property\n",
    "def testX(self):\n",
    "  return self.make_dataset(self.test_df3X)\n",
    "\n",
    "@property\n",
    "def testY(self):\n",
    "  return self.make_dataset(self.test_df3Y)\n",
    "\n",
    "@property\n",
    "def example(self):\n",
    "  \"\"\"Get and cache an example batch of `inputs, labels` for plotting.\"\"\"\n",
    "  result = getattr(self, '_example', None)\n",
    "  if result is None:\n",
    "    # No example batch was found, so get one from the `.train` dataset\n",
    "    result = next(iter(self.train))\n",
    "    # And cache it for next time\n",
    "    self._example = result\n",
    "  return result\n",
    "\n",
    "WindowGenerator2.train = train\n",
    "WindowGenerator2.trainX = trainX\n",
    "WindowGenerator2.trainY = trainY\n",
    "\n",
    "WindowGenerator2.val = val\n",
    "WindowGenerator2.valX = valX\n",
    "WindowGenerator2.valY = valY\n",
    "\n",
    "WindowGenerator2.test = test\n",
    "WindowGenerator2.testX = testX\n",
    "WindowGenerator2.testY = testY\n",
    "\n",
    "\n",
    "WindowGenerator2.example = example\n",
    "\n",
    "#=====================================\n",
    "def split_window(self, features):\n",
    "  inputs = features[:, self.input_slice, :]\n",
    "  labels = features[:, self.labels_slice, :]\n",
    "  print(\"The label columns are given by\",self.label_columns)\n",
    "  print(\"The inputs are given by\",self.labels_slice)\n",
    "  if self.label_columns is not None:\n",
    "    labels = tf.stack(\n",
    "        [labels[:, :, self.column_indices[name]] for name in self.label_columns],\n",
    "        axis=-1)\n",
    "\n",
    "  # Slicing doesn't preserve static shape information, so set the shapes\n",
    "  # manually. This way the `tf.data.Datasets` are easier to inspect.\n",
    "  inputs.set_shape([None, self.input_width, None])\n",
    "  labels.set_shape([None, self.label_width, None])\n",
    "\n",
    "  return inputs, labels\n",
    "\n",
    "WindowGenerator2.split_window = split_window\n",
    "#=====================================\n",
    "##New version shown below\n",
    "'''\n",
    "def make_dataset(self, data):\n",
    "  data = np.array(data, dtype=np.float32)\n",
    "  print(\"Data is given by\",data)\n",
    "  ds = tf.keras.utils.timeseries_dataset_from_array(\n",
    "      data=data,\n",
    "      targets=['ActualGenerationMW'],\n",
    "      sequence_length=self.total_window_size,\n",
    "      sequence_stride=0,\n",
    "      shuffle=False,\n",
    "      batch_size=32,)\n",
    "\n",
    "  ds = ds.map(self.split_window)\n",
    "\n",
    "  return ds\n",
    "\n",
    "def make_dataset(self, data):\n",
    "    X = data.drop(['ActualGenerationMW'])\n",
    "    Y = data[['ActualGenerationMW']]\n",
    "    data = np.array(data, dtype=np.float32)\n",
    "    print(\"Data is given by\",data)\n",
    "    inputDataset = tf.keras.utils.timeseries_dataset_from_array(\n",
    "      data=X,\n",
    "      sequence_length=self.total_window_size,\n",
    "      sequence_stride=1,\n",
    "      shuffle=False,\n",
    "      batch_size=32,)\n",
    "\n",
    "    outputDatset = tf.keras.utils.timeseries_dataset_from_array(\n",
    "      data=Y,\n",
    "      targets=['ActualGenerationMW'],\n",
    "      sequence_length=self.total_window_size,\n",
    "      sequence_stride=1,\n",
    "      shuffle=False,\n",
    "      batch_size=32,)\n",
    "\n",
    "    inputDataset = inputDataset.map(self.split_window)\n",
    "    outputDataset = outputDataset.map(self.split_window)\n",
    "\n",
    "    return inputDataset,outputDataset\n",
    "'''\n",
    "def make_dataset(self, data):\n",
    "    data = np.array(data, dtype=np.float32)\n",
    "    print(\"Data is given by\",data)\n",
    "    inputDataset = tf.keras.utils.timeseries_dataset_from_array(\n",
    "        data,\n",
    "        None,\n",
    "        sequence_length=self.total_window_size,\n",
    "        sequence_stride=1,\n",
    "        shuffle=False,\n",
    "        batch_size=32)\n",
    "\n",
    "    inputDataset = inputDataset.map(self.split_window)\n",
    "    print(\"Oh Bb\")\n",
    "    return inputDataset\n",
    "    \n",
    "WindowGenerator2.make_dataset = make_dataset\n",
    "#=====================================\n",
    "\n",
    "\n",
    "\n",
    "MAX_EPOCHS = 20\n",
    "\n",
    "def compile_and_fit(model, window, patience=2):\n",
    "    early_stopping = tf.keras.callbacks.EarlyStopping(monitor='val_loss',patience=patience,mode='min')\n",
    "\n",
    "    model.compile(loss=tf.keras.losses.MeanSquaredError(),\n",
    "                optimizer=tf.keras.optimizers.Adam(),\n",
    "                metrics=[tf.keras.metrics.MeanAbsoluteError()])\n",
    "    print(\"Made it here!\")\n",
    "    print(\"The input data is \",window.trainX)\n",
    "    print(\"And then I got here!\")\n",
    "    print(\"The output data is \",window.trainY)\n",
    "    history = model.fit(window.trainX,window.trainY, epochs=MAX_EPOCHS,\n",
    "                      validation_data=(window.valX,window.valY),\n",
    "                      callbacks=[early_stopping])\n",
    "    return history\n",
    "\n",
    "#==========================\n",
    "history = compile_and_fit(conv_model, conv_window)\n",
    "\n",
    "IPython.display.clear_output()\n",
    "#val_performance['Conv'] = conv_model.evaluate(conv_window.val)\n",
    "#performance['Conv'] = conv_model.evaluate(conv_window.test, verbose=0)"
   ]
  },
  {
   "cell_type": "code",
   "execution_count": null,
   "id": "c6963254",
   "metadata": {},
   "outputs": [],
   "source": [
    "LABEL_WIDTH = 24\n",
    "INPUT_WIDTH = LABEL_WIDTH + (CONV_WIDTH - 1)\n",
    "wide_conv_window = WindowGenerator(\n",
    "    input_width=INPUT_WIDTH,\n",
    "    label_width=LABEL_WIDTH,\n",
    "    shift=1,\n",
    "    label_columns=['ActualGenerationMW'])\n",
    "\n",
    "wide_conv_window\n",
    "\n",
    "wide_conv_window.plot(conv_model)"
   ]
  },
  {
   "cell_type": "markdown",
   "id": "9affe71d",
   "metadata": {},
   "source": [
    "### Transforming new data for the model"
   ]
  },
  {
   "cell_type": "code",
   "execution_count": null,
   "id": "e4528168",
   "metadata": {},
   "outputs": [],
   "source": [
    "train_df3"
   ]
  },
  {
   "cell_type": "code",
   "execution_count": null,
   "id": "c95091d5",
   "metadata": {},
   "outputs": [],
   "source": [
    "1"
   ]
  },
  {
   "cell_type": "markdown",
   "id": "42b41a20",
   "metadata": {},
   "source": [
    "### Saving the model in a directory"
   ]
  },
  {
   "cell_type": "code",
   "execution_count": null,
   "id": "13104496",
   "metadata": {},
   "outputs": [],
   "source": [
    "conv_model.save('models/conv_model')"
   ]
  }
 ],
 "metadata": {
  "kernelspec": {
   "display_name": "Python 3 (ipykernel)",
   "language": "python",
   "name": "python3"
  },
  "language_info": {
   "codemirror_mode": {
    "name": "ipython",
    "version": 3
   },
   "file_extension": ".py",
   "mimetype": "text/x-python",
   "name": "python",
   "nbconvert_exporter": "python",
   "pygments_lexer": "ipython3",
   "version": "3.8.10"
  }
 },
 "nbformat": 4,
 "nbformat_minor": 5
}
