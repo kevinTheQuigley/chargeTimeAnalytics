{
 "cells": [
  {
   "cell_type": "markdown",
   "id": "625f4b16",
   "metadata": {},
   "source": [
    "# Charge Time Machine Learning Algorithm Generation"
   ]
  },
  {
   "cell_type": "markdown",
   "id": "7efbcb81",
   "metadata": {},
   "source": [
    "## Splitting the data"
   ]
  },
  {
   "cell_type": "code",
   "execution_count": 1,
   "id": "8def5098",
   "metadata": {},
   "outputs": [],
   "source": [
    "import pandas as pd\n",
    "import datetime as td\n",
    "import  numpy as np\n",
    "import datetime \n",
    "import datetime as dt\n",
    "df = pd.read_csv('data/chargeML.csv')\n",
    "df=df._convert(numeric=True)\n",
    "df=df.dropna()\n",
    "#df['date2'] =  pd.to_datetime(df['date2'])\n",
    "#df.index.to_pydatetime() \n",
    "#df=df.date2.to_pydatetime() \n",
    "df['date2']=pd.to_datetime(df.date2)\n",
    "#df['date2'] =  pd.to_datetime(df['date2'])\n",
    "df[\"dayInMonth\"] =df['date2'].dt.day\n",
    "inData=dataSet=df"
   ]
  },
  {
   "cell_type": "code",
   "execution_count": 2,
   "id": "74a3d902",
   "metadata": {},
   "outputs": [],
   "source": [
    "## Need to add a cos function for day of week\n",
    "import math as ma\n",
    "df[\"cos_week\"] = np.cos(df[\"dayOfWeek\"]/7*2*ma.pi)\n",
    "df[\"sin_hour\"]=np.sin(df[\"dayOfWeek\"]/7*2*ma.pi)"
   ]
  },
  {
   "cell_type": "code",
   "execution_count": 3,
   "id": "d80decb1",
   "metadata": {},
   "outputs": [],
   "source": [
    "from sklearn.model_selection import train_test_split\n",
    "import numpy as np\n",
    "\n",
    "splitOption = 1 # split per day of the month\n",
    "\n",
    "#cutOffTestDate=2022.01.01\n",
    "cutOffTestDate = datetime.datetime(2022, 1, 1)\n",
    "testSet = dataSet.loc[(inData.date2 > cutOffTestDate), :]\n",
    "mainSet = dataSet.loc[(inData.date2 <= cutOffTestDate), :]\n"
   ]
  },
  {
   "cell_type": "code",
   "execution_count": 4,
   "id": "726610bc",
   "metadata": {},
   "outputs": [],
   "source": [
    "trainSet = dataSet.loc[(dataSet.dayInMonth > 0) & (dataSet.dayInMonth < 23), :]\n",
    "validSet = dataSet.loc[(dataSet.dayInMonth >= 23) & (inData.date2 <= cutOffTestDate), :]"
   ]
  },
  {
   "cell_type": "markdown",
   "id": "38d5ac9e",
   "metadata": {},
   "source": [
    "### Doing \"Data Windowing\""
   ]
  },
  {
   "cell_type": "code",
   "execution_count": 5,
   "id": "79e7dd24",
   "metadata": {},
   "outputs": [
    {
     "data": {
      "text/plain": [
       "\"def split_window(self, features):\\n  inputs = features[:, self.input_slice, :]\\n  labels = features[:, self.labels_slice, :]\\n  if self.label_columns is not None:\\n    labels = tf.stack(\\n        [labels[:, :, self.column_indices[name]] for name in self.label_columns],\\n        axis=-1)\\n\\n  # Slicing doesn't preserve static shape information, so set the shapes\\n  # manually. This way the `tf.data.Datasets` are easier to inspect.\\n  inputs.set_shape([None, self.input_width, None])\\n  labels.set_shape([None, self.label_width, None])\\n\\n  return inputs, labels\\n\\nWindowGenerator.split_window = split_window\""
      ]
     },
     "execution_count": 5,
     "metadata": {},
     "output_type": "execute_result"
    }
   ],
   "source": [
    "'''def split_window(self, features):\n",
    "  inputs = features[:, self.input_slice, :]\n",
    "  labels = features[:, self.labels_slice, :]\n",
    "  if self.label_columns is not None:\n",
    "    labels = tf.stack(\n",
    "        [labels[:, :, self.column_indices[name]] for name in self.label_columns],\n",
    "        axis=-1)\n",
    "\n",
    "  # Slicing doesn't preserve static shape information, so set the shapes\n",
    "  # manually. This way the `tf.data.Datasets` are easier to inspect.\n",
    "  inputs.set_shape([None, self.input_width, None])\n",
    "  labels.set_shape([None, self.label_width, None])\n",
    "\n",
    "  return inputs, labels\n",
    "\n",
    "WindowGenerator.split_window = split_window'''"
   ]
  },
  {
   "cell_type": "code",
   "execution_count": 6,
   "id": "01b9ec08",
   "metadata": {},
   "outputs": [],
   "source": [
    "# Above isn't used, I don't think it needs to be"
   ]
  },
  {
   "cell_type": "markdown",
   "id": "f8066827",
   "metadata": {},
   "source": [
    "### Normalising the data"
   ]
  },
  {
   "cell_type": "code",
   "execution_count": 7,
   "id": "4043a9ed",
   "metadata": {},
   "outputs": [],
   "source": [
    "trainDate=trainSet.date2\n",
    "validDate=validSet.date2\n",
    "testDate=testSet.date2"
   ]
  },
  {
   "cell_type": "code",
   "execution_count": 8,
   "id": "d7aa66ff",
   "metadata": {},
   "outputs": [
    {
     "name": "stderr",
     "output_type": "stream",
     "text": [
      "/tmp/ipykernel_76878/1176180537.py:1: FutureWarning: In a future version of pandas all arguments of DataFrame.drop except for the argument 'labels' will be keyword-only.\n",
      "  trainSet=trainSet.drop('date2',1)\n",
      "/tmp/ipykernel_76878/1176180537.py:2: FutureWarning: In a future version of pandas all arguments of DataFrame.drop except for the argument 'labels' will be keyword-only.\n",
      "  validSet=validSet.drop('date2',1)\n",
      "/tmp/ipykernel_76878/1176180537.py:3: FutureWarning: In a future version of pandas all arguments of DataFrame.drop except for the argument 'labels' will be keyword-only.\n",
      "  testSet=testSet.drop('date2',1)\n",
      "/tmp/ipykernel_76878/1176180537.py:4: FutureWarning: In a future version of pandas all arguments of DataFrame.drop except for the argument 'labels' will be keyword-only.\n",
      "  trainSet=trainSet.drop('dayInMonth',1)\n",
      "/tmp/ipykernel_76878/1176180537.py:5: FutureWarning: In a future version of pandas all arguments of DataFrame.drop except for the argument 'labels' will be keyword-only.\n",
      "  validSet=validSet.drop('dayInMonth',1)\n",
      "/tmp/ipykernel_76878/1176180537.py:6: FutureWarning: In a future version of pandas all arguments of DataFrame.drop except for the argument 'labels' will be keyword-only.\n",
      "  testSet=testSet.drop('dayInMonth',1)\n",
      "/tmp/ipykernel_76878/1176180537.py:7: FutureWarning: In a future version of pandas all arguments of DataFrame.drop except for the argument 'labels' will be keyword-only.\n",
      "  trainSet=trainSet.drop('dayOfWeek',1)\n",
      "/tmp/ipykernel_76878/1176180537.py:8: FutureWarning: In a future version of pandas all arguments of DataFrame.drop except for the argument 'labels' will be keyword-only.\n",
      "  validSet=validSet.drop('dayOfWeek',1)\n",
      "/tmp/ipykernel_76878/1176180537.py:9: FutureWarning: In a future version of pandas all arguments of DataFrame.drop except for the argument 'labels' will be keyword-only.\n",
      "  testSet=testSet.drop('dayOfWeek',1)\n",
      "/tmp/ipykernel_76878/1176180537.py:10: FutureWarning: In a future version of pandas all arguments of DataFrame.drop except for the argument 'labels' will be keyword-only.\n",
      "  trainSet=trainSet.drop('dayOfYear',1)\n",
      "/tmp/ipykernel_76878/1176180537.py:11: FutureWarning: In a future version of pandas all arguments of DataFrame.drop except for the argument 'labels' will be keyword-only.\n",
      "  validSet=validSet.drop('dayOfYear',1)\n",
      "/tmp/ipykernel_76878/1176180537.py:12: FutureWarning: In a future version of pandas all arguments of DataFrame.drop except for the argument 'labels' will be keyword-only.\n",
      "  testSet=testSet.drop('dayOfYear',1)\n",
      "/tmp/ipykernel_76878/1176180537.py:13: FutureWarning: In a future version of pandas all arguments of DataFrame.drop except for the argument 'labels' will be keyword-only.\n",
      "  trainSet=trainSet.drop('hour',1)\n",
      "/tmp/ipykernel_76878/1176180537.py:14: FutureWarning: In a future version of pandas all arguments of DataFrame.drop except for the argument 'labels' will be keyword-only.\n",
      "  validSet=validSet.drop('hour',1)\n",
      "/tmp/ipykernel_76878/1176180537.py:15: FutureWarning: In a future version of pandas all arguments of DataFrame.drop except for the argument 'labels' will be keyword-only.\n",
      "  testSet=testSet.drop('hour',1)\n"
     ]
    }
   ],
   "source": [
    "trainSet=trainSet.drop('date2',1)\n",
    "validSet=validSet.drop('date2',1)\n",
    "testSet=testSet.drop('date2',1)\n",
    "trainSet=trainSet.drop('dayInMonth',1)\n",
    "validSet=validSet.drop('dayInMonth',1)\n",
    "testSet=testSet.drop('dayInMonth',1)\n",
    "trainSet=trainSet.drop('dayOfWeek',1)\n",
    "validSet=validSet.drop('dayOfWeek',1)\n",
    "testSet=testSet.drop('dayOfWeek',1)\n",
    "trainSet=trainSet.drop('dayOfYear',1)\n",
    "validSet=validSet.drop('dayOfYear',1)\n",
    "testSet=testSet.drop('dayOfYear',1)\n",
    "trainSet=trainSet.drop('hour',1)\n",
    "validSet=validSet.drop('hour',1)\n",
    "testSet=testSet.drop('hour',1)"
   ]
  },
  {
   "cell_type": "code",
   "execution_count": 9,
   "id": "85053619",
   "metadata": {},
   "outputs": [],
   "source": [
    "train_mean = trainSet.mean()\n",
    "train_std = trainSet.std()"
   ]
  },
  {
   "cell_type": "code",
   "execution_count": 10,
   "id": "6c5375aa",
   "metadata": {},
   "outputs": [],
   "source": [
    "train_df = (trainSet - train_mean) / train_std\n",
    "val_df = (validSet - train_mean) / train_std\n",
    "test_df = (testSet - train_mean) / train_std"
   ]
  },
  {
   "cell_type": "code",
   "execution_count": 11,
   "id": "e2775a30",
   "metadata": {},
   "outputs": [
    {
     "data": {
      "text/plain": [
       "887.6834808327612"
      ]
     },
     "execution_count": 11,
     "metadata": {},
     "output_type": "execute_result"
    }
   ],
   "source": [
    "train_mean['ActualGenerationMW']\n",
    "train_std['ActualGenerationMW']"
   ]
  },
  {
   "cell_type": "code",
   "execution_count": 12,
   "id": "47333de7",
   "metadata": {},
   "outputs": [],
   "source": [
    "#re-creating date-column\n",
    "train_df['date2']=trainDate\n",
    "val_df['date2']=validDate\n",
    "test_df['date2']=testDate\n",
    "\n",
    "# Re-adding removed columns\n",
    "train_df['hour']=train_df['date2'].dt.hour\n",
    "train_df['dayOfWeek']=train_df['date2'].dt.day_of_week\n",
    "train_df['dayOfYear']=train_df['date2'].dt.day_of_year\n",
    "train_df[\"dayInMonth\"] =train_df['date2'].dt.day\n",
    "# Re-adding removed columns\n",
    "val_df['hour']=val_df['date2'].dt.hour\n",
    "val_df['dayOfWeek']=val_df['date2'].dt.day_of_week\n",
    "val_df['dayOfYear']=val_df['date2'].dt.day_of_year\n",
    "val_df[\"dayInMonth\"] =val_df['date2'].dt.day\n",
    "# Re-adding removed columns\n",
    "test_df['hour']=test_df['date2'].dt.hour\n",
    "test_df['dayOfWeek']=test_df['date2'].dt.day_of_week\n",
    "test_df['dayOfYear']=test_df['date2'].dt.day_of_year\n",
    "test_df[\"dayInMonth\"] =test_df['date2'].dt.day\n",
    "\n",
    "#Resetting the Actual Generation to be non-continuous\n",
    "train_df['ActualGenerationMW']=train_df['ActualGenerationMW']*train_std['ActualGenerationMW']+train_mean['ActualGenerationMW']\n",
    "val_df['ActualGenerationMW']=val_df['ActualGenerationMW']*train_std['ActualGenerationMW']+train_mean['ActualGenerationMW']\n",
    "test_df['ActualGenerationMW']=test_df['ActualGenerationMW']*train_std['ActualGenerationMW']+train_mean['ActualGenerationMW']\n",
    "# Re-setting the names of the columns\n",
    "trainSet=train_df\n",
    "validSet=val_df\n",
    "testSet=test_df"
   ]
  },
  {
   "cell_type": "code",
   "execution_count": 13,
   "id": "45f6c259",
   "metadata": {},
   "outputs": [
    {
     "data": {
      "text/plain": [
       "'\\nif (splitOption == 0):  # Standard SkLearn train test split, usually not good for time series\\n\\nelif (splitOption == 1):  # split before / after day of the month\\n  dataSet[\"dayInMonth\"] = 0\\n\\n  def setDayInMonth(row):\\n      row[\"dayInMonth\"] = row.date.day\\n      return row\\n\\n  dataSet = dataSet.apply(setDayInMonth, axis=1)\\n\\n  trainSet = dataSet.loc[(dataSet.dayInMonth > 0) & (dataSet.dayInMonth < 23), :]\\n  validSet = dataSet.loc[(dataSet.dayInMonth >= 23) & (inData.date <= cutOffTestDate), :]\\nelif (splitOption == 2):  # split per period\\n  trainSet = dataSet.loc[(inData.date <= cutOffValidationDate), :]\\n  validSet = dataSet.loc[(inData.date > cutOffValidationDate), :]  \\n  '"
      ]
     },
     "execution_count": 13,
     "metadata": {},
     "output_type": "execute_result"
    }
   ],
   "source": [
    "'''\n",
    "if (splitOption == 0):  # Standard SkLearn train test split, usually not good for time series\n",
    "\n",
    "elif (splitOption == 1):  # split before / after day of the month\n",
    "  dataSet[\"dayInMonth\"] = 0\n",
    "\n",
    "  def setDayInMonth(row):\n",
    "      row[\"dayInMonth\"] = row.date.day\n",
    "      return row\n",
    "\n",
    "  dataSet = dataSet.apply(setDayInMonth, axis=1)\n",
    "\n",
    "  trainSet = dataSet.loc[(dataSet.dayInMonth > 0) & (dataSet.dayInMonth < 23), :]\n",
    "  validSet = dataSet.loc[(dataSet.dayInMonth >= 23) & (inData.date <= cutOffTestDate), :]\n",
    "elif (splitOption == 2):  # split per period\n",
    "  trainSet = dataSet.loc[(inData.date <= cutOffValidationDate), :]\n",
    "  validSet = dataSet.loc[(inData.date > cutOffValidationDate), :]  \n",
    "  '''"
   ]
  },
  {
   "cell_type": "code",
   "execution_count": 14,
   "id": "811cd393",
   "metadata": {},
   "outputs": [],
   "source": [
    "y_train = trainSet.ActualGenerationMW\n",
    "y_valid = validSet.ActualGenerationMW\n",
    "y_test = testSet.ActualGenerationMW\t"
   ]
  },
  {
   "cell_type": "code",
   "execution_count": 15,
   "id": "b3cf3c79",
   "metadata": {},
   "outputs": [],
   "source": [
    "X_train = trainSet\n",
    "X_valid = validSet "
   ]
  },
  {
   "cell_type": "markdown",
   "id": "9ff054ba",
   "metadata": {},
   "source": [
    "## Random forest generation"
   ]
  },
  {
   "cell_type": "markdown",
   "id": "d7bc21e3",
   "metadata": {},
   "source": [
    "### Choosing Columns"
   ]
  },
  {
   "cell_type": "code",
   "execution_count": 16,
   "id": "09b9ada9",
   "metadata": {},
   "outputs": [],
   "source": [
    "#Version 1; Causing failures on kernel for ? reason\n",
    "X_train1 = X_train[['ForecastWind','dayOfWeek','dub_msl','hour','dub_wddir',]]\n",
    "X_valid1 = X_valid[['ForecastWind','dayOfWeek','dub_msl','hour','dub_wddir']]"
   ]
  },
  {
   "cell_type": "code",
   "execution_count": 17,
   "id": "e064343a",
   "metadata": {},
   "outputs": [],
   "source": [
    "#Version 1; Causing failures on kernel for ? reason\n",
    "X_train1 = X_train[['ForecastWind','sin_day','sin_hour','cos_day','cos_hour','dub_wddir','dub_wdsp','dub_msl']]\n",
    "X_valid1 = X_valid[['ForecastWind','sin_day','sin_hour','cos_day','cos_hour','dub_wddir','dub_wdsp','dub_msl']]"
   ]
  },
  {
   "cell_type": "code",
   "execution_count": 18,
   "id": "6b524998",
   "metadata": {},
   "outputs": [
    {
     "data": {
      "text/plain": [
       "\"print(X_train['ForecastWind'].isnull().values.any())\\nprint(X_train['dayOfWeek'].isnull().values.any())\\nprint(X_train['dub_msl'].isnull().values.any())\\nprint(X_train['hour'].isnull().values.any())\\nprint(X_train['don_wddir'].isnull().values.any())\\nprint(X_train['dub_wddir'].isnull().values.any())\""
      ]
     },
     "execution_count": 18,
     "metadata": {},
     "output_type": "execute_result"
    }
   ],
   "source": [
    "'''print(X_train['ForecastWind'].isnull().values.any())\n",
    "print(X_train['dayOfWeek'].isnull().values.any())\n",
    "print(X_train['dub_msl'].isnull().values.any())\n",
    "print(X_train['hour'].isnull().values.any())\n",
    "print(X_train['don_wddir'].isnull().values.any())\n",
    "print(X_train['dub_wddir'].isnull().values.any())'''"
   ]
  },
  {
   "cell_type": "code",
   "execution_count": 19,
   "id": "47320e91",
   "metadata": {},
   "outputs": [
    {
     "data": {
      "text/plain": [
       "'#Import Random Forest Model\\nfrom sklearn.ensemble import RandomForestClassifier\\n\\n#Create a Gaussian Classifier\\nclf=RandomForestClassifier(n_estimators=10)\\n\\n#Train the model using the training sets y_pred=clf.predict(X_test)\\nclf.fit(X_train1,y_train)'"
      ]
     },
     "execution_count": 19,
     "metadata": {},
     "output_type": "execute_result"
    }
   ],
   "source": [
    "'''#Import Random Forest Model\n",
    "from sklearn.ensemble import RandomForestClassifier\n",
    "\n",
    "#Create a Gaussian Classifier\n",
    "clf=RandomForestClassifier(n_estimators=10)\n",
    "\n",
    "#Train the model using the training sets y_pred=clf.predict(X_test)\n",
    "clf.fit(X_train1,y_train)'''"
   ]
  },
  {
   "cell_type": "code",
   "execution_count": 20,
   "id": "f1f7dede",
   "metadata": {},
   "outputs": [
    {
     "data": {
      "text/plain": [
       "'\\n#Import Random Forest \"Classifier\" Model\\nfrom sklearn.ensemble import RandomForestClassifier\\n\\n#Create a Gaussian Classifier\\n#clf=RandomForestClassifier(n_estimators=50,random_state = 42, max_depth=50, max_leaf_nodes=30)\\nclf=RandomForestClassifier(n_estimators=100,random_state = 42, max_depth=100, max_leaf_nodes=100)\\n#clf=RandomForestClassifier(n_estimators=100,random_state = 43)\\nprint(clf.get_params())\\n#Train the model using the training sets y_pred=clf.predict(X_test)\\n\\n# Training the model\\nclf.fit(X_train1,y_train)\\n\\n#Returning predicted data\\ny_pred=clf.predict(X_valid1)\\n\\n#Using test for training data will run into issues\\n\\n#X_test1 = X_test[[\\'ForecastWind\\',\\'dayOfWeek\\',\\'dub_msl\\',\\'hour\\',\\'dub_wddir\\']]\\n#y_testpred=clf.predict(X_test1)\\n\\n\\n# Plotting last week of data\\nimport matplotlib.pyplot as plt \\nfrom matplotlib.pyplot import figure\\n\\nplt.plot(X_valid[\\'date2\\'][-7*24:],y_pred[-7*24:],color = \\'blue\\')\\nplt.plot(X_valid[\\'date2\\'][-7*24:],y_valid[-7*24:],color = \\'red\\')\\nfig = plt.gcf()\\nfig.set_size_inches(18.5, 10.5)\\nfig.savefig(\\'test2png.png\\', dpi=100)\\n\\nfrom sklearn import metrics\\n\\nprint(\\'Mean Absolute Error:\\', metrics.mean_absolute_error(y_valid, y_pred))\\nprint(\\'Mean Squared Error:\\', metrics.mean_squared_error(y_valid, y_pred))\\nprint(\\'Root Mean Squared Error:\\', np.sqrt(metrics.mean_squared_error(y_valid, y_pred)))'"
      ]
     },
     "execution_count": 20,
     "metadata": {},
     "output_type": "execute_result"
    }
   ],
   "source": [
    "'''\n",
    "#Import Random Forest \"Classifier\" Model\n",
    "from sklearn.ensemble import RandomForestClassifier\n",
    "\n",
    "#Create a Gaussian Classifier\n",
    "#clf=RandomForestClassifier(n_estimators=50,random_state = 42, max_depth=50, max_leaf_nodes=30)\n",
    "clf=RandomForestClassifier(n_estimators=100,random_state = 42, max_depth=100, max_leaf_nodes=100)\n",
    "#clf=RandomForestClassifier(n_estimators=100,random_state = 43)\n",
    "print(clf.get_params())\n",
    "#Train the model using the training sets y_pred=clf.predict(X_test)\n",
    "\n",
    "# Training the model\n",
    "clf.fit(X_train1,y_train)\n",
    "\n",
    "#Returning predicted data\n",
    "y_pred=clf.predict(X_valid1)\n",
    "\n",
    "#Using test for training data will run into issues\n",
    "\n",
    "#X_test1 = X_test[['ForecastWind','dayOfWeek','dub_msl','hour','dub_wddir']]\n",
    "#y_testpred=clf.predict(X_test1)\n",
    "\n",
    "\n",
    "# Plotting last week of data\n",
    "import matplotlib.pyplot as plt \n",
    "from matplotlib.pyplot import figure\n",
    "\n",
    "plt.plot(X_valid['date2'][-7*24:],y_pred[-7*24:],color = 'blue')\n",
    "plt.plot(X_valid['date2'][-7*24:],y_valid[-7*24:],color = 'red')\n",
    "fig = plt.gcf()\n",
    "fig.set_size_inches(18.5, 10.5)\n",
    "fig.savefig('test2png.png', dpi=100)\n",
    "\n",
    "from sklearn import metrics\n",
    "\n",
    "print('Mean Absolute Error:', metrics.mean_absolute_error(y_valid, y_pred))\n",
    "print('Mean Squared Error:', metrics.mean_squared_error(y_valid, y_pred))\n",
    "print('Root Mean Squared Error:', np.sqrt(metrics.mean_squared_error(y_valid, y_pred)))'''"
   ]
  },
  {
   "cell_type": "markdown",
   "id": "ab523414",
   "metadata": {},
   "source": [
    "\n",
    "### Example Baselines \n",
    "\n",
    "clf=RandomForestClassifier(n_estimators=50,random_state = 42, max_depth=50, max_leaf_nodes=30)\n",
    "\n",
    "Using  [['ForecastWind','sin_day','sin_hour']]\n",
    "Mean Absolute Error: 574.4672045420589\n",
    "Mean Squared Error: 532948.2448827133\n",
    "Root Mean Squared Error: 730.0330436923477\n",
    "\n",
    "\n",
    "\n",
    "clf=RandomForestClassifier(n_estimators=50,random_state = 42, max_depth=50, max_leaf_nodes=30)\n",
    "\n",
    "Using [['ForecastWind','sin_day','sin_hour','dub_wddir','dub_wdsp','dub_msl']]\n",
    "Mean Absolute Error: 594.1552368145824\n",
    "Mean Squared Error: 585698.313312416\n",
    "Root Mean Squared Error: 765.3092925820357\n"
   ]
  },
  {
   "cell_type": "markdown",
   "id": "2d4b5cd6",
   "metadata": {},
   "source": [
    "### Reggresion model"
   ]
  },
  {
   "cell_type": "code",
   "execution_count": 21,
   "id": "e8849ed3",
   "metadata": {},
   "outputs": [],
   "source": [
    "from sklearn.ensemble import RandomForestRegressor\n",
    "\n",
    "#rrf=RandomForestRegressor(n_estimators=100,random_state = 42, max_depth=100, max_leaf_nodes=100)\n",
    "rrf=RandomForestRegressor(n_estimators=100,random_state = 42)\n",
    "\n",
    "#clf=RandomForestClassifier(n_estimators=100,random_state = 43)\n",
    "#print(clf.get_params())\n",
    "#Train the model using the training sets y_pred=clf.predict(X_test"
   ]
  },
  {
   "cell_type": "code",
   "execution_count": 22,
   "id": "05b597aa",
   "metadata": {},
   "outputs": [
    {
     "data": {
      "text/plain": [
       "{'bootstrap': True,\n",
       " 'ccp_alpha': 0.0,\n",
       " 'criterion': 'squared_error',\n",
       " 'max_depth': None,\n",
       " 'max_features': 1.0,\n",
       " 'max_leaf_nodes': None,\n",
       " 'max_samples': None,\n",
       " 'min_impurity_decrease': 0.0,\n",
       " 'min_samples_leaf': 1,\n",
       " 'min_samples_split': 2,\n",
       " 'min_weight_fraction_leaf': 0.0,\n",
       " 'n_estimators': 100,\n",
       " 'n_jobs': None,\n",
       " 'oob_score': False,\n",
       " 'random_state': 42,\n",
       " 'verbose': 0,\n",
       " 'warm_start': False}"
      ]
     },
     "execution_count": 22,
     "metadata": {},
     "output_type": "execute_result"
    }
   ],
   "source": [
    "rrf.get_params()"
   ]
  },
  {
   "cell_type": "code",
   "execution_count": 23,
   "id": "8b1d76b3",
   "metadata": {},
   "outputs": [
    {
     "data": {
      "text/html": [
       "<style>#sk-container-id-1 {color: black;background-color: white;}#sk-container-id-1 pre{padding: 0;}#sk-container-id-1 div.sk-toggleable {background-color: white;}#sk-container-id-1 label.sk-toggleable__label {cursor: pointer;display: block;width: 100%;margin-bottom: 0;padding: 0.3em;box-sizing: border-box;text-align: center;}#sk-container-id-1 label.sk-toggleable__label-arrow:before {content: \"▸\";float: left;margin-right: 0.25em;color: #696969;}#sk-container-id-1 label.sk-toggleable__label-arrow:hover:before {color: black;}#sk-container-id-1 div.sk-estimator:hover label.sk-toggleable__label-arrow:before {color: black;}#sk-container-id-1 div.sk-toggleable__content {max-height: 0;max-width: 0;overflow: hidden;text-align: left;background-color: #f0f8ff;}#sk-container-id-1 div.sk-toggleable__content pre {margin: 0.2em;color: black;border-radius: 0.25em;background-color: #f0f8ff;}#sk-container-id-1 input.sk-toggleable__control:checked~div.sk-toggleable__content {max-height: 200px;max-width: 100%;overflow: auto;}#sk-container-id-1 input.sk-toggleable__control:checked~label.sk-toggleable__label-arrow:before {content: \"▾\";}#sk-container-id-1 div.sk-estimator input.sk-toggleable__control:checked~label.sk-toggleable__label {background-color: #d4ebff;}#sk-container-id-1 div.sk-label input.sk-toggleable__control:checked~label.sk-toggleable__label {background-color: #d4ebff;}#sk-container-id-1 input.sk-hidden--visually {border: 0;clip: rect(1px 1px 1px 1px);clip: rect(1px, 1px, 1px, 1px);height: 1px;margin: -1px;overflow: hidden;padding: 0;position: absolute;width: 1px;}#sk-container-id-1 div.sk-estimator {font-family: monospace;background-color: #f0f8ff;border: 1px dotted black;border-radius: 0.25em;box-sizing: border-box;margin-bottom: 0.5em;}#sk-container-id-1 div.sk-estimator:hover {background-color: #d4ebff;}#sk-container-id-1 div.sk-parallel-item::after {content: \"\";width: 100%;border-bottom: 1px solid gray;flex-grow: 1;}#sk-container-id-1 div.sk-label:hover label.sk-toggleable__label {background-color: #d4ebff;}#sk-container-id-1 div.sk-serial::before {content: \"\";position: absolute;border-left: 1px solid gray;box-sizing: border-box;top: 0;bottom: 0;left: 50%;z-index: 0;}#sk-container-id-1 div.sk-serial {display: flex;flex-direction: column;align-items: center;background-color: white;padding-right: 0.2em;padding-left: 0.2em;position: relative;}#sk-container-id-1 div.sk-item {position: relative;z-index: 1;}#sk-container-id-1 div.sk-parallel {display: flex;align-items: stretch;justify-content: center;background-color: white;position: relative;}#sk-container-id-1 div.sk-item::before, #sk-container-id-1 div.sk-parallel-item::before {content: \"\";position: absolute;border-left: 1px solid gray;box-sizing: border-box;top: 0;bottom: 0;left: 50%;z-index: -1;}#sk-container-id-1 div.sk-parallel-item {display: flex;flex-direction: column;z-index: 1;position: relative;background-color: white;}#sk-container-id-1 div.sk-parallel-item:first-child::after {align-self: flex-end;width: 50%;}#sk-container-id-1 div.sk-parallel-item:last-child::after {align-self: flex-start;width: 50%;}#sk-container-id-1 div.sk-parallel-item:only-child::after {width: 0;}#sk-container-id-1 div.sk-dashed-wrapped {border: 1px dashed gray;margin: 0 0.4em 0.5em 0.4em;box-sizing: border-box;padding-bottom: 0.4em;background-color: white;}#sk-container-id-1 div.sk-label label {font-family: monospace;font-weight: bold;display: inline-block;line-height: 1.2em;}#sk-container-id-1 div.sk-label-container {text-align: center;}#sk-container-id-1 div.sk-container {/* jupyter's `normalize.less` sets `[hidden] { display: none; }` but bootstrap.min.css set `[hidden] { display: none !important; }` so we also need the `!important` here to be able to override the default hidden behavior on the sphinx rendered scikit-learn.org. See: https://github.com/scikit-learn/scikit-learn/issues/21755 */display: inline-block !important;position: relative;}#sk-container-id-1 div.sk-text-repr-fallback {display: none;}</style><div id=\"sk-container-id-1\" class=\"sk-top-container\"><div class=\"sk-text-repr-fallback\"><pre>RandomForestRegressor(random_state=42)</pre><b>In a Jupyter environment, please rerun this cell to show the HTML representation or trust the notebook. <br />On GitHub, the HTML representation is unable to render, please try loading this page with nbviewer.org.</b></div><div class=\"sk-container\" hidden><div class=\"sk-item\"><div class=\"sk-estimator sk-toggleable\"><input class=\"sk-toggleable__control sk-hidden--visually\" id=\"sk-estimator-id-1\" type=\"checkbox\" checked><label for=\"sk-estimator-id-1\" class=\"sk-toggleable__label sk-toggleable__label-arrow\">RandomForestRegressor</label><div class=\"sk-toggleable__content\"><pre>RandomForestRegressor(random_state=42)</pre></div></div></div></div></div>"
      ],
      "text/plain": [
       "RandomForestRegressor(random_state=42)"
      ]
     },
     "execution_count": 23,
     "metadata": {},
     "output_type": "execute_result"
    }
   ],
   "source": [
    "rrf.fit(X_train1,y_train)"
   ]
  },
  {
   "cell_type": "code",
   "execution_count": 24,
   "id": "6314ca82",
   "metadata": {},
   "outputs": [
    {
     "data": {
      "image/png": "[encoded data removed]",
      "text/plain": [
       "<Figure size 1332x756 with 1 Axes>"
      ]
     },
     "metadata": {
      "needs_background": "light"
     },
     "output_type": "display_data"
    }
   ],
   "source": [
    "y_pred=rrf.predict(X_valid1)\n",
    "import matplotlib.pyplot as plt \n",
    "from matplotlib.pyplot import figure\n",
    "\n",
    "plt.plot(X_valid['date2'][-7*24:],y_pred[-7*24:],color = 'blue')\n",
    "plt.plot(X_valid['date2'][-7*24:],y_valid[-7*24:],color = 'red')\n",
    "fig = plt.gcf()\n",
    "fig.set_size_inches(18.5, 10.5)\n",
    "fig.savefig('test2png.png', dpi=100)"
   ]
  },
  {
   "cell_type": "code",
   "execution_count": 25,
   "id": "e09ef186",
   "metadata": {},
   "outputs": [
    {
     "name": "stdout",
     "output_type": "stream",
     "text": [
      "Mean Absolute Error: 479.4909188704617\n",
      "Mean Squared Error: 362932.07708576124\n",
      "Root Mean Squared Error: 602.438442569663\n"
     ]
    }
   ],
   "source": [
    "from sklearn import metrics\n",
    "\n",
    "print('Mean Absolute Error:', metrics.mean_absolute_error(y_valid, y_pred))\n",
    "print('Mean Squared Error:', metrics.mean_squared_error(y_valid, y_pred))\n",
    "print('Root Mean Squared Error:', np.sqrt(metrics.mean_squared_error(y_valid, y_pred)))"
   ]
  },
  {
   "cell_type": "code",
   "execution_count": 26,
   "id": "3ded3073",
   "metadata": {},
   "outputs": [
    {
     "data": {
      "text/plain": [
       "<BarContainer object of 8 artists>"
      ]
     },
     "execution_count": 26,
     "metadata": {},
     "output_type": "execute_result"
    },
    {
     "data": {
      "image/png": "[encoded data removed]",
      "text/plain": [
       "<Figure size 432x288 with 1 Axes>"
      ]
     },
     "metadata": {
      "needs_background": "light"
     },
     "output_type": "display_data"
    }
   ],
   "source": [
    "plt.barh(X_valid1.columns, rrf.feature_importances_)"
   ]
  },
  {
   "cell_type": "markdown",
   "id": "3b54fc76",
   "metadata": {},
   "source": [
    "This:-\n",
    "rrf=RandomForestRegressor(n_estimators=100,random_state = 42, max_depth=100, max_leaf_nodes=100)\n",
    "\n",
    "Yields this:-\n",
    "Mean Absolute Error: 465.79800324008335\n",
    "Mean Squared Error: 332345.30211887945\n",
    "Root Mean Squared Error: 576.4939740525302\n",
    "\n",
    "This:-\n",
    "rrf=RandomForestRegressor(n_estimators=100,random_state = 42, max_depth=100, max_leaf_nodes=100)\n",
    "\n",
    "Yields this:-\n",
    "Mean Absolute Error: 479.4909188704617\n",
    "Mean Squared Error: 362932.07708576124\n",
    "Root Mean Squared Error: 602.438442569663"
   ]
  },
  {
   "cell_type": "markdown",
   "id": "cdbaa718",
   "metadata": {},
   "source": [
    "## Using Tenserflow"
   ]
  },
  {
   "cell_type": "code",
   "execution_count": 27,
   "id": "1514edd5",
   "metadata": {},
   "outputs": [
    {
     "name": "stderr",
     "output_type": "stream",
     "text": [
      "2022-06-28 18:48:24.125197: W tensorflow/stream_executor/platform/default/dso_loader.cc:64] Could not load dynamic library 'libcudart.so.11.0'; dlerror: libcudart.so.11.0: cannot open shared object file: No such file or directory\n",
      "2022-06-28 18:48:24.125251: I tensorflow/stream_executor/cuda/cudart_stub.cc:29] Ignore above cudart dlerror if you do not have a GPU set up on your machine.\n"
     ]
    }
   ],
   "source": [
    "import tensorflow_decision_forests as tfdf\n"
   ]
  },
  {
   "cell_type": "code",
   "execution_count": 28,
   "id": "e403d2de",
   "metadata": {},
   "outputs": [],
   "source": [
    "trainSetTF=trainSet\n",
    "validSetTF=validSet\n",
    "testSetTF=testSet"
   ]
  },
  {
   "cell_type": "code",
   "execution_count": 29,
   "id": "ea4a74eb",
   "metadata": {},
   "outputs": [
    {
     "name": "stderr",
     "output_type": "stream",
     "text": [
      "/tmp/ipykernel_76878/4217556139.py:2: FutureWarning: In a future version of pandas all arguments of DataFrame.drop except for the argument 'labels' will be keyword-only.\n",
      "  trainSetTF=trainSetTF.drop('date2',1)\n",
      "/tmp/ipykernel_76878/4217556139.py:3: FutureWarning: In a future version of pandas all arguments of DataFrame.drop except for the argument 'labels' will be keyword-only.\n",
      "  validSetTF=validSetTF.drop('date2',1)\n",
      "/tmp/ipykernel_76878/4217556139.py:4: FutureWarning: In a future version of pandas all arguments of DataFrame.drop except for the argument 'labels' will be keyword-only.\n",
      "  testSetTF=testSetTF.drop('date2',1)\n",
      "/tmp/ipykernel_76878/4217556139.py:5: FutureWarning: In a future version of pandas all arguments of DataFrame.drop except for the argument 'labels' will be keyword-only.\n",
      "  trainSetTF=trainSetTF.drop('dayInMonth',1)\n",
      "/tmp/ipykernel_76878/4217556139.py:6: FutureWarning: In a future version of pandas all arguments of DataFrame.drop except for the argument 'labels' will be keyword-only.\n",
      "  validSetTF=validSetTF.drop('dayInMonth',1)\n",
      "/tmp/ipykernel_76878/4217556139.py:7: FutureWarning: In a future version of pandas all arguments of DataFrame.drop except for the argument 'labels' will be keyword-only.\n",
      "  testSetTF=testSetTF.drop('dayInMonth',1)\n",
      "/tmp/ipykernel_76878/4217556139.py:8: FutureWarning: In a future version of pandas all arguments of DataFrame.drop except for the argument 'labels' will be keyword-only.\n",
      "  trainSetTF=trainSetTF.drop('dayOfWeek',1)\n",
      "/tmp/ipykernel_76878/4217556139.py:9: FutureWarning: In a future version of pandas all arguments of DataFrame.drop except for the argument 'labels' will be keyword-only.\n",
      "  validSetTF=validSetTF.drop('dayOfWeek',1)\n",
      "/tmp/ipykernel_76878/4217556139.py:10: FutureWarning: In a future version of pandas all arguments of DataFrame.drop except for the argument 'labels' will be keyword-only.\n",
      "  testSetTF=testSetTF.drop('dayOfWeek',1)\n",
      "/tmp/ipykernel_76878/4217556139.py:11: FutureWarning: In a future version of pandas all arguments of DataFrame.drop except for the argument 'labels' will be keyword-only.\n",
      "  trainSetTF=trainSetTF.drop('dayOfYear',1)\n",
      "/tmp/ipykernel_76878/4217556139.py:12: FutureWarning: In a future version of pandas all arguments of DataFrame.drop except for the argument 'labels' will be keyword-only.\n",
      "  validSetTF=validSetTF.drop('dayOfYear',1)\n",
      "/tmp/ipykernel_76878/4217556139.py:13: FutureWarning: In a future version of pandas all arguments of DataFrame.drop except for the argument 'labels' will be keyword-only.\n",
      "  testSetTF=testSetTF.drop('dayOfYear',1)\n",
      "/tmp/ipykernel_76878/4217556139.py:14: FutureWarning: In a future version of pandas all arguments of DataFrame.drop except for the argument 'labels' will be keyword-only.\n",
      "  trainSetTF=trainSetTF.drop('hour',1)\n",
      "/tmp/ipykernel_76878/4217556139.py:15: FutureWarning: In a future version of pandas all arguments of DataFrame.drop except for the argument 'labels' will be keyword-only.\n",
      "  validSetTF=validSetTF.drop('hour',1)\n",
      "/tmp/ipykernel_76878/4217556139.py:16: FutureWarning: In a future version of pandas all arguments of DataFrame.drop except for the argument 'labels' will be keyword-only.\n",
      "  testSetTF=testSetTF.drop('hour',1)\n"
     ]
    }
   ],
   "source": [
    "#Dropping time from the train and test columns\n",
    "trainSetTF=trainSetTF.drop('date2',1)\n",
    "validSetTF=validSetTF.drop('date2',1)\n",
    "testSetTF=testSetTF.drop('date2',1)\n",
    "trainSetTF=trainSetTF.drop('dayInMonth',1)\n",
    "validSetTF=validSetTF.drop('dayInMonth',1)\n",
    "testSetTF=testSetTF.drop('dayInMonth',1)\n",
    "trainSetTF=trainSetTF.drop('dayOfWeek',1)\n",
    "validSetTF=validSetTF.drop('dayOfWeek',1)\n",
    "testSetTF=testSetTF.drop('dayOfWeek',1)\n",
    "trainSetTF=trainSetTF.drop('dayOfYear',1)\n",
    "validSetTF=validSetTF.drop('dayOfYear',1)\n",
    "testSetTF=testSetTF.drop('dayOfYear',1)\n",
    "trainSetTF=trainSetTF.drop('hour',1)\n",
    "validSetTF=validSetTF.drop('hour',1)\n",
    "testSetTF=testSetTF.drop('hour',1)"
   ]
  },
  {
   "cell_type": "code",
   "execution_count": 30,
   "id": "95cd9d10",
   "metadata": {},
   "outputs": [
    {
     "data": {
      "text/plain": [
       "'\\ntrainSetTF = tfdf.keras.pd_dataframe_to_tf_dataset(trainSetTF, label=label, task=tfdf.keras.Task.REGRESSION)\\ntestSetTF = tfdf.keras.pd_dataframe_to_tf_dataset(testSetTF, label=label, task=tfdf.keras.Task.REGRESSION)\\n'"
      ]
     },
     "execution_count": 30,
     "metadata": {},
     "output_type": "execute_result"
    }
   ],
   "source": [
    "\n",
    "'''\n",
    "trainSetTF = tfdf.keras.pd_dataframe_to_tf_dataset(trainSetTF, label=label, task=tfdf.keras.Task.REGRESSION)\n",
    "testSetTF = tfdf.keras.pd_dataframe_to_tf_dataset(testSetTF, label=label, task=tfdf.keras.Task.REGRESSION)\n",
    "'''"
   ]
  },
  {
   "cell_type": "code",
   "execution_count": 31,
   "id": "239a42ef",
   "metadata": {},
   "outputs": [],
   "source": [
    "\n",
    "y_trainTF = trainSetTF.ActualGenerationMW\n",
    "y_validTF = validSetTF.ActualGenerationMW\n",
    "y_testTF = testSetTF.ActualGenerationMW\n",
    "\n",
    "#Version 1; Causing failures on kernel for ? reason\n",
    "X_trainTF = trainSetTF[['ForecastWind','sin_day','sin_hour','cos_day','cos_hour','dub_wddir','dub_wdsp','dub_msl','ActualGenerationMW']]\n",
    "X_validTF = validSetTF[['ForecastWind','sin_day','sin_hour','cos_day','cos_hour','dub_wddir','dub_wdsp','dub_msl','ActualGenerationMW']]\n"
   ]
  },
  {
   "cell_type": "code",
   "execution_count": 32,
   "id": "7530edb6",
   "metadata": {},
   "outputs": [
    {
     "name": "stderr",
     "output_type": "stream",
     "text": [
      "/home/ubuntu/.local/lib/python3.8/site-packages/tensorflow_decision_forests/keras/core.py:2542: FutureWarning: In a future version of pandas all arguments of DataFrame.drop except for the argument 'labels' will be keyword-only.\n",
      "  features_dataframe = dataframe.drop(label, 1)\n",
      "2022-06-28 18:48:27.095167: W tensorflow/stream_executor/platform/default/dso_loader.cc:64] Could not load dynamic library 'libcuda.so.1'; dlerror: libcuda.so.1: cannot open shared object file: No such file or directory\n",
      "2022-06-28 18:48:27.095235: W tensorflow/stream_executor/cuda/cuda_driver.cc:269] failed call to cuInit: UNKNOWN ERROR (303)\n",
      "2022-06-28 18:48:27.095276: I tensorflow/stream_executor/cuda/cuda_diagnostics.cc:156] kernel driver does not appear to be running on this host (x20217366): /proc/driver/nvidia/version does not exist\n",
      "/home/ubuntu/.local/lib/python3.8/site-packages/tensorflow_decision_forests/keras/core.py:2542: FutureWarning: In a future version of pandas all arguments of DataFrame.drop except for the argument 'labels' will be keyword-only.\n",
      "  features_dataframe = dataframe.drop(label, 1)\n"
     ]
    }
   ],
   "source": [
    "# Running into difficulty converting these columns, so I reset the value of X_train to include ActualGenerationMW\n",
    "label = \"ActualGenerationMW\"\n",
    "'''\n",
    "y_trainTF = tfdf.keras.pd_dataframe_to_tf_dataset(y_trainTF, label=label, task=tfdf.keras.Task.REGRESSION)\n",
    "y_validTF = tfdf.keras.pd_dataframe_to_tf_dataset(y_validTF, label=label, task=tfdf.keras.Task.REGRESSION)\n",
    "y_testTF = tfdf.keras.pd_dataframe_to_tf_dataset(y_testTF, label=label, task=tfdf.keras.Task.REGRESSION)\n",
    "'''\n",
    "\n",
    "X_trainTF = tfdf.keras.pd_dataframe_to_tf_dataset(X_trainTF, label=label, task=tfdf.keras.Task.REGRESSION)\n",
    "\n",
    "X_validTF = tfdf.keras.pd_dataframe_to_tf_dataset(X_validTF, label=label, task=tfdf.keras.Task.REGRESSION)"
   ]
  },
  {
   "cell_type": "code",
   "execution_count": 33,
   "id": "5dd5848b",
   "metadata": {},
   "outputs": [
    {
     "name": "stdout",
     "output_type": "stream",
     "text": [
      "Use /tmp/tmpdca28_rk as temporary training directory\n",
      "Reading training dataset...\n",
      "Training dataset read in 0:00:09.315185. Found 18975 examples.\n",
      "Training model...\n"
     ]
    },
    {
     "name": "stderr",
     "output_type": "stream",
     "text": [
      "[INFO kernel.cc:1176] Loading model from path /tmp/tmpdca28_rk/model/ with prefix 09dd509a20404297\n",
      "[INFO abstract_model.cc:1246] Engine \"RandomForestOptPred\" built\n",
      "[INFO kernel.cc:1022] Use fast generic engine\n"
     ]
    },
    {
     "name": "stdout",
     "output_type": "stream",
     "text": [
      "Model trained in 0:00:16.957158\n",
      "Compiling model...\n",
      "WARNING:tensorflow:AutoGraph could not transform <function simple_ml_inference_op_with_handle at 0x7fb1e20203a0> and will run it as-is.\n",
      "Please report this to the TensorFlow team. When filing the bug, set the verbosity to 10 (on Linux, `export AUTOGRAPH_VERBOSITY=10`) and attach the full output.\n",
      "Cause: could not get source code\n",
      "To silence this warning, decorate the function with @tf.autograph.experimental.do_not_convert\n"
     ]
    },
    {
     "name": "stderr",
     "output_type": "stream",
     "text": [
      "WARNING:tensorflow:AutoGraph could not transform <function simple_ml_inference_op_with_handle at 0x7fb1e20203a0> and will run it as-is.\n",
      "Please report this to the TensorFlow team. When filing the bug, set the verbosity to 10 (on Linux, `export AUTOGRAPH_VERBOSITY=10`) and attach the full output.\n",
      "Cause: could not get source code\n",
      "To silence this warning, decorate the function with @tf.autograph.experimental.do_not_convert\n"
     ]
    },
    {
     "name": "stdout",
     "output_type": "stream",
     "text": [
      "WARNING: AutoGraph could not transform <function simple_ml_inference_op_with_handle at 0x7fb1e20203a0> and will run it as-is.\n",
      "Please report this to the TensorFlow team. When filing the bug, set the verbosity to 10 (on Linux, `export AUTOGRAPH_VERBOSITY=10`) and attach the full output.\n",
      "Cause: could not get source code\n",
      "To silence this warning, decorate the function with @tf.autograph.experimental.do_not_convert\n",
      "Model compiled.\n"
     ]
    },
    {
     "data": {
      "text/plain": [
       "<keras.callbacks.History at 0x7fb1e2273340>"
      ]
     },
     "execution_count": 33,
     "metadata": {},
     "output_type": "execute_result"
    }
   ],
   "source": [
    "#Using keras\n",
    "model_7 = tfdf.keras.RandomForestModel(task = tfdf.keras.Task.REGRESSION)\n",
    "\n",
    "# Train the model.\n",
    "model_7.fit(x=X_trainTF)"
   ]
  },
  {
   "cell_type": "code",
   "execution_count": 34,
   "id": "878ce4be",
   "metadata": {},
   "outputs": [
    {
     "data": {
      "text/plain": [
       "'\\nimport math\\n# Evaluate the model on the test dataset.\\nmodel_7.compile(metrics=[\"mse\"])\\nevaluation = model_7.evaluate(test_ds, return_dict=True)\\n\\nprint(evaluation)\\nprint()\\nprint(f\"MSE: {evaluation[\\'mse\\']}\")\\nprint(f\"RMSE: {math.sqrt(evaluation[\\'mse\\'])}\")'"
      ]
     },
     "execution_count": 34,
     "metadata": {},
     "output_type": "execute_result"
    }
   ],
   "source": [
    "# Not sure what test_ds should be\n",
    "'''\n",
    "import math\n",
    "# Evaluate the model on the test dataset.\n",
    "model_7.compile(metrics=[\"mse\"])\n",
    "evaluation = model_7.evaluate(test_ds, return_dict=True)\n",
    "\n",
    "print(evaluation)\n",
    "print()\n",
    "print(f\"MSE: {evaluation['mse']}\")\n",
    "print(f\"RMSE: {math.sqrt(evaluation['mse'])}\")'''"
   ]
  },
  {
   "cell_type": "code",
   "execution_count": 36,
   "id": "7704be54",
   "metadata": {},
   "outputs": [
    {
     "ename": "ValueError",
     "evalue": "in user code:\n\n    File \"/home/ubuntu/.local/lib/python3.8/site-packages/tensorflow_decision_forests/keras/core.py\", line 725, in run_step  *\n        outputs = model.predict_step(data)\n    File \"/home/ubuntu/.local/lib/python3.8/site-packages/keras/engine/training.py\", line 1791, in predict_step  **\n        return self(x, training=False)\n    File \"/home/ubuntu/.local/lib/python3.8/site-packages/keras/utils/traceback_utils.py\", line 67, in error_handler\n        raise e.with_traceback(filtered_tb) from None\n    File \"/tmp/__autograph_generated_file70vf1u6h.py\", line 75, in tf__call\n        ag__.if_stmt((ag__.ld(self)._semantics is None), if_body_2, else_body_2, get_state_2, set_state_2, ('do_return', 'retval_'), 2)\n    File \"/tmp/__autograph_generated_file70vf1u6h.py\", line 33, in else_body_2\n        normalized_inputs = ag__.converted_call(ag__.ld(self)._build_normalized_inputs, (ag__.ld(inputs),), None, fscope)\n    File \"/tmp/__autograph_generated_file1039bkww.py\", line 88, in tf___build_normalized_inputs\n        ag__.if_stmt(ag__.converted_call(ag__.ld(isinstance), (ag__.ld(inputs), ag__.ld(dict)), None, fscope), if_body_4, else_body_4, get_state_4, set_state_4, ('inputs',), 1)\n    File \"/tmp/__autograph_generated_file1039bkww.py\", line 87, in else_body_4\n        ag__.if_stmt(ag__.converted_call(ag__.ld(isinstance), (ag__.ld(inputs), ag__.ld(tf).Tensor), None, fscope), if_body_3, else_body_3, get_state_3, set_state_3, ('inputs',), 1)\n    File \"/tmp/__autograph_generated_file1039bkww.py\", line 66, in if_body_3\n        ag__.if_stmt((ag__.converted_call(ag__.ld(len), (ag__.ld(self)._semantics,), None, fscope) != 1), if_body_1, else_body_1, get_state_1, set_state_1, (), 0)\n    File \"/tmp/__autograph_generated_file1039bkww.py\", line 62, in if_body_1\n        raise ag__.converted_call(ag__.ld(ValueError), (f'Calling model with input shape different from the input shape provided during training: Feeding a single array {ag__.ld(inputs)} while the model was trained on {ag__.ld(self)._semantics}.',), None, fscope)\n\n    ValueError: Exception encountered when calling layer \"random_forest_model\" (type RandomForestModel).\n    \n    in user code:\n    \n        File \"/home/ubuntu/.local/lib/python3.8/site-packages/tensorflow_decision_forests/keras/core.py\", line 896, in call  *\n            normalized_inputs = self._build_normalized_inputs(inputs)\n        File \"/home/ubuntu/.local/lib/python3.8/site-packages/tensorflow_decision_forests/keras/core.py\", line 849, in _build_normalized_inputs  *\n            raise ValueError(\n    \n        ValueError: Calling model with input shape different from the input shape provided during training: Feeding a single array Tensor(\"inputs:0\", shape=(None, 8), dtype=float32) while the model was trained on {'ForecastWind': <Semantic.NUMERICAL: 1>, 'sin_day': <Semantic.NUMERICAL: 1>, 'sin_hour': <Semantic.NUMERICAL: 1>, 'cos_day': <Semantic.NUMERICAL: 1>, 'cos_hour': <Semantic.NUMERICAL: 1>, 'dub_wddir': <Semantic.NUMERICAL: 1>, 'dub_wdsp': <Semantic.NUMERICAL: 1>, 'dub_msl': <Semantic.NUMERICAL: 1>}.\n    \n    \n    Call arguments received by layer \"random_forest_model\" (type RandomForestModel):\n      • inputs=tf.Tensor(shape=(None, 8), dtype=float32)\n      • training=False\n",
     "output_type": "error",
     "traceback": [
      "\u001b[0;31m---------------------------------------------------------------------------\u001b[0m",
      "\u001b[0;31mValueError\u001b[0m                                Traceback (most recent call last)",
      "Input \u001b[0;32mIn [36]\u001b[0m, in \u001b[0;36m<cell line: 1>\u001b[0;34m()\u001b[0m\n\u001b[0;32m----> 1\u001b[0m y_pred\u001b[38;5;241m=\u001b[39m\u001b[43mmodel_7\u001b[49m\u001b[38;5;241;43m.\u001b[39;49m\u001b[43mpredict\u001b[49m\u001b[43m(\u001b[49m\u001b[43mX_valid1\u001b[49m\u001b[43m)\u001b[49m\n\u001b[1;32m      2\u001b[0m \u001b[38;5;28;01mimport\u001b[39;00m \u001b[38;5;21;01mmatplotlib\u001b[39;00m\u001b[38;5;21;01m.\u001b[39;00m\u001b[38;5;21;01mpyplot\u001b[39;00m \u001b[38;5;28;01mas\u001b[39;00m \u001b[38;5;21;01mplt\u001b[39;00m \n\u001b[1;32m      3\u001b[0m \u001b[38;5;28;01mfrom\u001b[39;00m \u001b[38;5;21;01mmatplotlib\u001b[39;00m\u001b[38;5;21;01m.\u001b[39;00m\u001b[38;5;21;01mpyplot\u001b[39;00m \u001b[38;5;28;01mimport\u001b[39;00m figure\n",
      "File \u001b[0;32m~/.local/lib/python3.8/site-packages/keras/utils/traceback_utils.py:67\u001b[0m, in \u001b[0;36mfilter_traceback.<locals>.error_handler\u001b[0;34m(*args, **kwargs)\u001b[0m\n\u001b[1;32m     65\u001b[0m \u001b[38;5;28;01mexcept\u001b[39;00m \u001b[38;5;167;01mException\u001b[39;00m \u001b[38;5;28;01mas\u001b[39;00m e:  \u001b[38;5;66;03m# pylint: disable=broad-except\u001b[39;00m\n\u001b[1;32m     66\u001b[0m   filtered_tb \u001b[38;5;241m=\u001b[39m _process_traceback_frames(e\u001b[38;5;241m.\u001b[39m__traceback__)\n\u001b[0;32m---> 67\u001b[0m   \u001b[38;5;28;01mraise\u001b[39;00m e\u001b[38;5;241m.\u001b[39mwith_traceback(filtered_tb) \u001b[38;5;28;01mfrom\u001b[39;00m \u001b[38;5;28mNone\u001b[39m\n\u001b[1;32m     68\u001b[0m \u001b[38;5;28;01mfinally\u001b[39;00m:\n\u001b[1;32m     69\u001b[0m   \u001b[38;5;28;01mdel\u001b[39;00m filtered_tb\n",
      "File \u001b[0;32m/tmp/__autograph_generated_fileukxyowi_.py:31\u001b[0m, in \u001b[0;36mouter_factory.<locals>.inner_factory.<locals>.tf__predict_function_trained\u001b[0;34m(iterator, model)\u001b[0m\n\u001b[1;32m     29\u001b[0m \u001b[38;5;28;01mtry\u001b[39;00m:\n\u001b[1;32m     30\u001b[0m     do_return \u001b[38;5;241m=\u001b[39m \u001b[38;5;28;01mTrue\u001b[39;00m\n\u001b[0;32m---> 31\u001b[0m     retval_ \u001b[38;5;241m=\u001b[39m ag__\u001b[38;5;241m.\u001b[39mconverted_call(ag__\u001b[38;5;241m.\u001b[39mld(run_step), (ag__\u001b[38;5;241m.\u001b[39mld(data),), \u001b[38;5;28;01mNone\u001b[39;00m, fscope)\n\u001b[1;32m     32\u001b[0m \u001b[38;5;28;01mexcept\u001b[39;00m:\n\u001b[1;32m     33\u001b[0m     do_return \u001b[38;5;241m=\u001b[39m \u001b[38;5;28;01mFalse\u001b[39;00m\n",
      "File \u001b[0;32m/tmp/__autograph_generated_fileukxyowi_.py:18\u001b[0m, in \u001b[0;36mouter_factory.<locals>.inner_factory.<locals>.tf__predict_function_trained.<locals>.run_step\u001b[0;34m(data)\u001b[0m\n\u001b[1;32m     16\u001b[0m do_return_1 \u001b[38;5;241m=\u001b[39m \u001b[38;5;28;01mFalse\u001b[39;00m\n\u001b[1;32m     17\u001b[0m retval__1 \u001b[38;5;241m=\u001b[39m ag__\u001b[38;5;241m.\u001b[39mUndefinedReturnValue()\n\u001b[0;32m---> 18\u001b[0m outputs \u001b[38;5;241m=\u001b[39m ag__\u001b[38;5;241m.\u001b[39mconverted_call(ag__\u001b[38;5;241m.\u001b[39mld(model)\u001b[38;5;241m.\u001b[39mpredict_step, (ag__\u001b[38;5;241m.\u001b[39mld(data),), \u001b[38;5;28;01mNone\u001b[39;00m, fscope_1)\n\u001b[1;32m     19\u001b[0m \u001b[38;5;28;01mwith\u001b[39;00m ag__\u001b[38;5;241m.\u001b[39mld(tf)\u001b[38;5;241m.\u001b[39mcontrol_dependencies(ag__\u001b[38;5;241m.\u001b[39mld(_minimum_control_deps)(ag__\u001b[38;5;241m.\u001b[39mld(outputs))):\n\u001b[1;32m     20\u001b[0m     ag__\u001b[38;5;241m.\u001b[39mconverted_call(ag__\u001b[38;5;241m.\u001b[39mld(model)\u001b[38;5;241m.\u001b[39m_predict_counter\u001b[38;5;241m.\u001b[39massign_add, (\u001b[38;5;241m1\u001b[39m,), \u001b[38;5;28;01mNone\u001b[39;00m, fscope_1)\n",
      "File \u001b[0;32m/tmp/__autograph_generated_file70vf1u6h.py:75\u001b[0m, in \u001b[0;36mouter_factory.<locals>.inner_factory.<locals>.tf__call\u001b[0;34m(self, inputs, training)\u001b[0m\n\u001b[1;32m     73\u001b[0m predictions \u001b[38;5;241m=\u001b[39m ag__\u001b[38;5;241m.\u001b[39mUndefined(\u001b[38;5;124m'\u001b[39m\u001b[38;5;124mpredictions\u001b[39m\u001b[38;5;124m'\u001b[39m)\n\u001b[1;32m     74\u001b[0m normalized_inputs \u001b[38;5;241m=\u001b[39m ag__\u001b[38;5;241m.\u001b[39mUndefined(\u001b[38;5;124m'\u001b[39m\u001b[38;5;124mnormalized_inputs\u001b[39m\u001b[38;5;124m'\u001b[39m)\n\u001b[0;32m---> 75\u001b[0m ag__\u001b[38;5;241m.\u001b[39mif_stmt((ag__\u001b[38;5;241m.\u001b[39mld(\u001b[38;5;28mself\u001b[39m)\u001b[38;5;241m.\u001b[39m_semantics \u001b[38;5;129;01mis\u001b[39;00m \u001b[38;5;28;01mNone\u001b[39;00m), if_body_2, else_body_2, get_state_2, set_state_2, (\u001b[38;5;124m'\u001b[39m\u001b[38;5;124mdo_return\u001b[39m\u001b[38;5;124m'\u001b[39m, \u001b[38;5;124m'\u001b[39m\u001b[38;5;124mretval_\u001b[39m\u001b[38;5;124m'\u001b[39m), \u001b[38;5;241m2\u001b[39m)\n\u001b[1;32m     76\u001b[0m \u001b[38;5;28;01mreturn\u001b[39;00m fscope\u001b[38;5;241m.\u001b[39mret(retval_, do_return)\n",
      "File \u001b[0;32m/tmp/__autograph_generated_file70vf1u6h.py:33\u001b[0m, in \u001b[0;36mouter_factory.<locals>.inner_factory.<locals>.tf__call.<locals>.else_body_2\u001b[0;34m()\u001b[0m\n\u001b[1;32m     31\u001b[0m \u001b[38;5;28;01mdef\u001b[39;00m \u001b[38;5;21melse_body_2\u001b[39m():\n\u001b[1;32m     32\u001b[0m     \u001b[38;5;28;01mnonlocal\u001b[39;00m do_return, retval_\n\u001b[0;32m---> 33\u001b[0m     normalized_inputs \u001b[38;5;241m=\u001b[39m \u001b[43mag__\u001b[49m\u001b[38;5;241;43m.\u001b[39;49m\u001b[43mconverted_call\u001b[49m\u001b[43m(\u001b[49m\u001b[43mag__\u001b[49m\u001b[38;5;241;43m.\u001b[39;49m\u001b[43mld\u001b[49m\u001b[43m(\u001b[49m\u001b[38;5;28;43mself\u001b[39;49m\u001b[43m)\u001b[49m\u001b[38;5;241;43m.\u001b[39;49m\u001b[43m_build_normalized_inputs\u001b[49m\u001b[43m,\u001b[49m\u001b[43m \u001b[49m\u001b[43m(\u001b[49m\u001b[43mag__\u001b[49m\u001b[38;5;241;43m.\u001b[39;49m\u001b[43mld\u001b[49m\u001b[43m(\u001b[49m\u001b[43minputs\u001b[49m\u001b[43m)\u001b[49m\u001b[43m,\u001b[49m\u001b[43m)\u001b[49m\u001b[43m,\u001b[49m\u001b[43m \u001b[49m\u001b[38;5;28;43;01mNone\u001b[39;49;00m\u001b[43m,\u001b[49m\u001b[43m \u001b[49m\u001b[43mfscope\u001b[49m\u001b[43m)\u001b[49m\n\u001b[1;32m     34\u001b[0m     predictions \u001b[38;5;241m=\u001b[39m ag__\u001b[38;5;241m.\u001b[39mconverted_call(ag__\u001b[38;5;241m.\u001b[39mld(\u001b[38;5;28mself\u001b[39m)\u001b[38;5;241m.\u001b[39m_model\u001b[38;5;241m.\u001b[39mapply, (ag__\u001b[38;5;241m.\u001b[39mld(normalized_inputs),), \u001b[38;5;28;01mNone\u001b[39;00m, fscope)\n\u001b[1;32m     36\u001b[0m     \u001b[38;5;28;01mdef\u001b[39;00m \u001b[38;5;21mget_state\u001b[39m():\n",
      "File \u001b[0;32m/tmp/__autograph_generated_file1039bkww.py:88\u001b[0m, in \u001b[0;36mouter_factory.<locals>.inner_factory.<locals>.tf___build_normalized_inputs\u001b[0;34m(self, inputs)\u001b[0m\n\u001b[1;32m     86\u001b[0m         ag__\u001b[38;5;241m.\u001b[39mif_stmt(ag__\u001b[38;5;241m.\u001b[39mor_((\u001b[38;5;28;01mlambda\u001b[39;00m : ag__\u001b[38;5;241m.\u001b[39mconverted_call(ag__\u001b[38;5;241m.\u001b[39mld(\u001b[38;5;28misinstance\u001b[39m), (ag__\u001b[38;5;241m.\u001b[39mld(inputs), ag__\u001b[38;5;241m.\u001b[39mld(\u001b[38;5;28mlist\u001b[39m)), \u001b[38;5;28;01mNone\u001b[39;00m, fscope)), (\u001b[38;5;28;01mlambda\u001b[39;00m : ag__\u001b[38;5;241m.\u001b[39mconverted_call(ag__\u001b[38;5;241m.\u001b[39mld(\u001b[38;5;28misinstance\u001b[39m), (ag__\u001b[38;5;241m.\u001b[39mld(inputs), ag__\u001b[38;5;241m.\u001b[39mld(\u001b[38;5;28mtuple\u001b[39m)), \u001b[38;5;28;01mNone\u001b[39;00m, fscope))), if_body_2, else_body_2, get_state_2, set_state_2, (\u001b[38;5;124m'\u001b[39m\u001b[38;5;124minputs\u001b[39m\u001b[38;5;124m'\u001b[39m,), \u001b[38;5;241m1\u001b[39m)\n\u001b[1;32m     87\u001b[0m     ag__\u001b[38;5;241m.\u001b[39mif_stmt(ag__\u001b[38;5;241m.\u001b[39mconverted_call(ag__\u001b[38;5;241m.\u001b[39mld(\u001b[38;5;28misinstance\u001b[39m), (ag__\u001b[38;5;241m.\u001b[39mld(inputs), ag__\u001b[38;5;241m.\u001b[39mld(tf)\u001b[38;5;241m.\u001b[39mTensor), \u001b[38;5;28;01mNone\u001b[39;00m, fscope), if_body_3, else_body_3, get_state_3, set_state_3, (\u001b[38;5;124m'\u001b[39m\u001b[38;5;124minputs\u001b[39m\u001b[38;5;124m'\u001b[39m,), \u001b[38;5;241m1\u001b[39m)\n\u001b[0;32m---> 88\u001b[0m ag__\u001b[38;5;241m.\u001b[39mif_stmt(ag__\u001b[38;5;241m.\u001b[39mconverted_call(ag__\u001b[38;5;241m.\u001b[39mld(\u001b[38;5;28misinstance\u001b[39m), (ag__\u001b[38;5;241m.\u001b[39mld(inputs), ag__\u001b[38;5;241m.\u001b[39mld(\u001b[38;5;28mdict\u001b[39m)), \u001b[38;5;28;01mNone\u001b[39;00m, fscope), if_body_4, else_body_4, get_state_4, set_state_4, (\u001b[38;5;124m'\u001b[39m\u001b[38;5;124minputs\u001b[39m\u001b[38;5;124m'\u001b[39m,), \u001b[38;5;241m1\u001b[39m)\n\u001b[1;32m     89\u001b[0m semantic_inputs \u001b[38;5;241m=\u001b[39m ag__\u001b[38;5;241m.\u001b[39mconverted_call(ag__\u001b[38;5;241m.\u001b[39mld(tf_core)\u001b[38;5;241m.\u001b[39mcombine_tensors_and_semantics, (ag__\u001b[38;5;241m.\u001b[39mld(inputs), ag__\u001b[38;5;241m.\u001b[39mld(\u001b[38;5;28mself\u001b[39m)\u001b[38;5;241m.\u001b[39m_semantics), \u001b[38;5;28;01mNone\u001b[39;00m, fscope)\n\u001b[1;32m     90\u001b[0m normalized_semantic_inputs \u001b[38;5;241m=\u001b[39m ag__\u001b[38;5;241m.\u001b[39mconverted_call(ag__\u001b[38;5;241m.\u001b[39mld(tf_core)\u001b[38;5;241m.\u001b[39mnormalize_inputs, (ag__\u001b[38;5;241m.\u001b[39mld(semantic_inputs),), \u001b[38;5;28;01mNone\u001b[39;00m, fscope)\n",
      "File \u001b[0;32m/tmp/__autograph_generated_file1039bkww.py:87\u001b[0m, in \u001b[0;36mouter_factory.<locals>.inner_factory.<locals>.tf___build_normalized_inputs.<locals>.else_body_4\u001b[0;34m()\u001b[0m\n\u001b[1;32m     85\u001b[0m         \u001b[38;5;28;01mraise\u001b[39;00m ag__\u001b[38;5;241m.\u001b[39mconverted_call(ag__\u001b[38;5;241m.\u001b[39mld(\u001b[38;5;167;01mValueError\u001b[39;00m), (\u001b[38;5;124mf\u001b[39m\u001b[38;5;124m'\u001b[39m\u001b[38;5;124mThe inference input tensor is expected to be a tensor, list of tensors or a dictionary of tensors. Got \u001b[39m\u001b[38;5;132;01m{\u001b[39;00mag__\u001b[38;5;241m.\u001b[39mld(inputs)\u001b[38;5;132;01m}\u001b[39;00m\u001b[38;5;124m instead\u001b[39m\u001b[38;5;124m'\u001b[39m,), \u001b[38;5;28;01mNone\u001b[39;00m, fscope)\n\u001b[1;32m     86\u001b[0m     ag__\u001b[38;5;241m.\u001b[39mif_stmt(ag__\u001b[38;5;241m.\u001b[39mor_((\u001b[38;5;28;01mlambda\u001b[39;00m : ag__\u001b[38;5;241m.\u001b[39mconverted_call(ag__\u001b[38;5;241m.\u001b[39mld(\u001b[38;5;28misinstance\u001b[39m), (ag__\u001b[38;5;241m.\u001b[39mld(inputs), ag__\u001b[38;5;241m.\u001b[39mld(\u001b[38;5;28mlist\u001b[39m)), \u001b[38;5;28;01mNone\u001b[39;00m, fscope)), (\u001b[38;5;28;01mlambda\u001b[39;00m : ag__\u001b[38;5;241m.\u001b[39mconverted_call(ag__\u001b[38;5;241m.\u001b[39mld(\u001b[38;5;28misinstance\u001b[39m), (ag__\u001b[38;5;241m.\u001b[39mld(inputs), ag__\u001b[38;5;241m.\u001b[39mld(\u001b[38;5;28mtuple\u001b[39m)), \u001b[38;5;28;01mNone\u001b[39;00m, fscope))), if_body_2, else_body_2, get_state_2, set_state_2, (\u001b[38;5;124m'\u001b[39m\u001b[38;5;124minputs\u001b[39m\u001b[38;5;124m'\u001b[39m,), \u001b[38;5;241m1\u001b[39m)\n\u001b[0;32m---> 87\u001b[0m \u001b[43mag__\u001b[49m\u001b[38;5;241;43m.\u001b[39;49m\u001b[43mif_stmt\u001b[49m\u001b[43m(\u001b[49m\u001b[43mag__\u001b[49m\u001b[38;5;241;43m.\u001b[39;49m\u001b[43mconverted_call\u001b[49m\u001b[43m(\u001b[49m\u001b[43mag__\u001b[49m\u001b[38;5;241;43m.\u001b[39;49m\u001b[43mld\u001b[49m\u001b[43m(\u001b[49m\u001b[38;5;28;43misinstance\u001b[39;49m\u001b[43m)\u001b[49m\u001b[43m,\u001b[49m\u001b[43m \u001b[49m\u001b[43m(\u001b[49m\u001b[43mag__\u001b[49m\u001b[38;5;241;43m.\u001b[39;49m\u001b[43mld\u001b[49m\u001b[43m(\u001b[49m\u001b[43minputs\u001b[49m\u001b[43m)\u001b[49m\u001b[43m,\u001b[49m\u001b[43m \u001b[49m\u001b[43mag__\u001b[49m\u001b[38;5;241;43m.\u001b[39;49m\u001b[43mld\u001b[49m\u001b[43m(\u001b[49m\u001b[43mtf\u001b[49m\u001b[43m)\u001b[49m\u001b[38;5;241;43m.\u001b[39;49m\u001b[43mTensor\u001b[49m\u001b[43m)\u001b[49m\u001b[43m,\u001b[49m\u001b[43m \u001b[49m\u001b[38;5;28;43;01mNone\u001b[39;49;00m\u001b[43m,\u001b[49m\u001b[43m \u001b[49m\u001b[43mfscope\u001b[49m\u001b[43m)\u001b[49m\u001b[43m,\u001b[49m\u001b[43m \u001b[49m\u001b[43mif_body_3\u001b[49m\u001b[43m,\u001b[49m\u001b[43m \u001b[49m\u001b[43melse_body_3\u001b[49m\u001b[43m,\u001b[49m\u001b[43m \u001b[49m\u001b[43mget_state_3\u001b[49m\u001b[43m,\u001b[49m\u001b[43m \u001b[49m\u001b[43mset_state_3\u001b[49m\u001b[43m,\u001b[49m\u001b[43m \u001b[49m\u001b[43m(\u001b[49m\u001b[38;5;124;43m'\u001b[39;49m\u001b[38;5;124;43minputs\u001b[39;49m\u001b[38;5;124;43m'\u001b[39;49m\u001b[43m,\u001b[49m\u001b[43m)\u001b[49m\u001b[43m,\u001b[49m\u001b[43m \u001b[49m\u001b[38;5;241;43m1\u001b[39;49m\u001b[43m)\u001b[49m\n",
      "File \u001b[0;32m/tmp/__autograph_generated_file1039bkww.py:66\u001b[0m, in \u001b[0;36mouter_factory.<locals>.inner_factory.<locals>.tf___build_normalized_inputs.<locals>.else_body_4.<locals>.if_body_3\u001b[0;34m()\u001b[0m\n\u001b[1;32m     64\u001b[0m \u001b[38;5;28;01mdef\u001b[39;00m \u001b[38;5;21melse_body_1\u001b[39m():\n\u001b[1;32m     65\u001b[0m     \u001b[38;5;28;01mpass\u001b[39;00m\n\u001b[0;32m---> 66\u001b[0m \u001b[43mag__\u001b[49m\u001b[38;5;241;43m.\u001b[39;49m\u001b[43mif_stmt\u001b[49m\u001b[43m(\u001b[49m\u001b[43m(\u001b[49m\u001b[43mag__\u001b[49m\u001b[38;5;241;43m.\u001b[39;49m\u001b[43mconverted_call\u001b[49m\u001b[43m(\u001b[49m\u001b[43mag__\u001b[49m\u001b[38;5;241;43m.\u001b[39;49m\u001b[43mld\u001b[49m\u001b[43m(\u001b[49m\u001b[38;5;28;43mlen\u001b[39;49m\u001b[43m)\u001b[49m\u001b[43m,\u001b[49m\u001b[43m \u001b[49m\u001b[43m(\u001b[49m\u001b[43mag__\u001b[49m\u001b[38;5;241;43m.\u001b[39;49m\u001b[43mld\u001b[49m\u001b[43m(\u001b[49m\u001b[38;5;28;43mself\u001b[39;49m\u001b[43m)\u001b[49m\u001b[38;5;241;43m.\u001b[39;49m\u001b[43m_semantics\u001b[49m\u001b[43m,\u001b[49m\u001b[43m)\u001b[49m\u001b[43m,\u001b[49m\u001b[43m \u001b[49m\u001b[38;5;28;43;01mNone\u001b[39;49;00m\u001b[43m,\u001b[49m\u001b[43m \u001b[49m\u001b[43mfscope\u001b[49m\u001b[43m)\u001b[49m\u001b[43m \u001b[49m\u001b[38;5;241;43m!=\u001b[39;49m\u001b[43m \u001b[49m\u001b[38;5;241;43m1\u001b[39;49m\u001b[43m)\u001b[49m\u001b[43m,\u001b[49m\u001b[43m \u001b[49m\u001b[43mif_body_1\u001b[49m\u001b[43m,\u001b[49m\u001b[43m \u001b[49m\u001b[43melse_body_1\u001b[49m\u001b[43m,\u001b[49m\u001b[43m \u001b[49m\u001b[43mget_state_1\u001b[49m\u001b[43m,\u001b[49m\u001b[43m \u001b[49m\u001b[43mset_state_1\u001b[49m\u001b[43m,\u001b[49m\u001b[43m \u001b[49m\u001b[43m(\u001b[49m\u001b[43m)\u001b[49m\u001b[43m,\u001b[49m\u001b[43m \u001b[49m\u001b[38;5;241;43m0\u001b[39;49m\u001b[43m)\u001b[49m\n\u001b[1;32m     67\u001b[0m inputs \u001b[38;5;241m=\u001b[39m {ag__\u001b[38;5;241m.\u001b[39mconverted_call(ag__\u001b[38;5;241m.\u001b[39mld(\u001b[38;5;28mnext\u001b[39m), (ag__\u001b[38;5;241m.\u001b[39mconverted_call(ag__\u001b[38;5;241m.\u001b[39mld(\u001b[38;5;28miter\u001b[39m), (ag__\u001b[38;5;241m.\u001b[39mconverted_call(ag__\u001b[38;5;241m.\u001b[39mld(\u001b[38;5;28mself\u001b[39m)\u001b[38;5;241m.\u001b[39m_semantics\u001b[38;5;241m.\u001b[39mkeys, (), \u001b[38;5;28;01mNone\u001b[39;00m, fscope),), \u001b[38;5;28;01mNone\u001b[39;00m, fscope),), \u001b[38;5;28;01mNone\u001b[39;00m, fscope): ag__\u001b[38;5;241m.\u001b[39mld(inputs)}\n",
      "File \u001b[0;32m/tmp/__autograph_generated_file1039bkww.py:62\u001b[0m, in \u001b[0;36mouter_factory.<locals>.inner_factory.<locals>.tf___build_normalized_inputs.<locals>.else_body_4.<locals>.if_body_3.<locals>.if_body_1\u001b[0;34m()\u001b[0m\n\u001b[1;32m     61\u001b[0m \u001b[38;5;28;01mdef\u001b[39;00m \u001b[38;5;21mif_body_1\u001b[39m():\n\u001b[0;32m---> 62\u001b[0m     \u001b[38;5;28;01mraise\u001b[39;00m ag__\u001b[38;5;241m.\u001b[39mconverted_call(ag__\u001b[38;5;241m.\u001b[39mld(\u001b[38;5;167;01mValueError\u001b[39;00m), (\u001b[38;5;124mf\u001b[39m\u001b[38;5;124m'\u001b[39m\u001b[38;5;124mCalling model with input shape different from the input shape provided during training: Feeding a single array \u001b[39m\u001b[38;5;132;01m{\u001b[39;00mag__\u001b[38;5;241m.\u001b[39mld(inputs)\u001b[38;5;132;01m}\u001b[39;00m\u001b[38;5;124m while the model was trained on \u001b[39m\u001b[38;5;132;01m{\u001b[39;00mag__\u001b[38;5;241m.\u001b[39mld(\u001b[38;5;28mself\u001b[39m)\u001b[38;5;241m.\u001b[39m_semantics\u001b[38;5;132;01m}\u001b[39;00m\u001b[38;5;124m.\u001b[39m\u001b[38;5;124m'\u001b[39m,), \u001b[38;5;28;01mNone\u001b[39;00m, fscope)\n",
      "\u001b[0;31mValueError\u001b[0m: in user code:\n\n    File \"/home/ubuntu/.local/lib/python3.8/site-packages/tensorflow_decision_forests/keras/core.py\", line 725, in run_step  *\n        outputs = model.predict_step(data)\n    File \"/home/ubuntu/.local/lib/python3.8/site-packages/keras/engine/training.py\", line 1791, in predict_step  **\n        return self(x, training=False)\n    File \"/home/ubuntu/.local/lib/python3.8/site-packages/keras/utils/traceback_utils.py\", line 67, in error_handler\n        raise e.with_traceback(filtered_tb) from None\n    File \"/tmp/__autograph_generated_file70vf1u6h.py\", line 75, in tf__call\n        ag__.if_stmt((ag__.ld(self)._semantics is None), if_body_2, else_body_2, get_state_2, set_state_2, ('do_return', 'retval_'), 2)\n    File \"/tmp/__autograph_generated_file70vf1u6h.py\", line 33, in else_body_2\n        normalized_inputs = ag__.converted_call(ag__.ld(self)._build_normalized_inputs, (ag__.ld(inputs),), None, fscope)\n    File \"/tmp/__autograph_generated_file1039bkww.py\", line 88, in tf___build_normalized_inputs\n        ag__.if_stmt(ag__.converted_call(ag__.ld(isinstance), (ag__.ld(inputs), ag__.ld(dict)), None, fscope), if_body_4, else_body_4, get_state_4, set_state_4, ('inputs',), 1)\n    File \"/tmp/__autograph_generated_file1039bkww.py\", line 87, in else_body_4\n        ag__.if_stmt(ag__.converted_call(ag__.ld(isinstance), (ag__.ld(inputs), ag__.ld(tf).Tensor), None, fscope), if_body_3, else_body_3, get_state_3, set_state_3, ('inputs',), 1)\n    File \"/tmp/__autograph_generated_file1039bkww.py\", line 66, in if_body_3\n        ag__.if_stmt((ag__.converted_call(ag__.ld(len), (ag__.ld(self)._semantics,), None, fscope) != 1), if_body_1, else_body_1, get_state_1, set_state_1, (), 0)\n    File \"/tmp/__autograph_generated_file1039bkww.py\", line 62, in if_body_1\n        raise ag__.converted_call(ag__.ld(ValueError), (f'Calling model with input shape different from the input shape provided during training: Feeding a single array {ag__.ld(inputs)} while the model was trained on {ag__.ld(self)._semantics}.',), None, fscope)\n\n    ValueError: Exception encountered when calling layer \"random_forest_model\" (type RandomForestModel).\n    \n    in user code:\n    \n        File \"/home/ubuntu/.local/lib/python3.8/site-packages/tensorflow_decision_forests/keras/core.py\", line 896, in call  *\n            normalized_inputs = self._build_normalized_inputs(inputs)\n        File \"/home/ubuntu/.local/lib/python3.8/site-packages/tensorflow_decision_forests/keras/core.py\", line 849, in _build_normalized_inputs  *\n            raise ValueError(\n    \n        ValueError: Calling model with input shape different from the input shape provided during training: Feeding a single array Tensor(\"inputs:0\", shape=(None, 8), dtype=float32) while the model was trained on {'ForecastWind': <Semantic.NUMERICAL: 1>, 'sin_day': <Semantic.NUMERICAL: 1>, 'sin_hour': <Semantic.NUMERICAL: 1>, 'cos_day': <Semantic.NUMERICAL: 1>, 'cos_hour': <Semantic.NUMERICAL: 1>, 'dub_wddir': <Semantic.NUMERICAL: 1>, 'dub_wdsp': <Semantic.NUMERICAL: 1>, 'dub_msl': <Semantic.NUMERICAL: 1>}.\n    \n    \n    Call arguments received by layer \"random_forest_model\" (type RandomForestModel):\n      • inputs=tf.Tensor(shape=(None, 8), dtype=float32)\n      • training=False\n"
     ]
    }
   ],
   "source": [
    "# Not sure why, but this is\n",
    "'''y_pred=model_7.predict(X_valid1)\n",
    "import matplotlib.pyplot as plt \n",
    "from matplotlib.pyplot import figure\n",
    "\n",
    "plt.plot(X_valid['date2'][-7*24:],y_pred[-7*24:],color = 'blue')\n",
    "plt.plot(X_valid['date2'][-7*24:],y_valid[-7*24:],color = 'red')\n",
    "fig = plt.gcf()\n",
    "fig.set_size_inches(18.5, 10.5)\n",
    "fig.savefig('test2png.png', dpi=100)'''"
   ]
  },
  {
   "cell_type": "code",
   "execution_count": null,
   "id": "e78c304d",
   "metadata": {},
   "outputs": [],
   "source": [
    "### Another TF model\n",
    "\n",
    "using_col_list = ['ForecastWind','sin_day','sin_hour','cos_day','cos_hour','dub_wddir','dub_wdsp','dub_msl','ActualGenerationMW']\n",
    "using_col_list.remove('ActualGenerationMW')\n",
    "feature_list = []\n",
    "for col in using_col_list:\n",
    "    feature_list.append(tfdf.keras.FeatureUsage(name=col,semantic=tfdf.keras.FeatureSemantic.NUMERICAL))\n",
    "\n",
    "\n",
    "model8 = tfdf.keras.RandomForestModel(features = feature_list, task = tfdf.keras.Task.REGRESSION,\n",
    "    exclude_non_specified_features=True,\n",
    "    num_trees=1000, max_depth=16,\n",
    "    split_axis=\"SPARSE_OBLIQUE\",categorical_algorithm=\"RANDOM\",\n",
    "    missing_value_policy='RANDOM_LOCAL_IMPUTATION',\n",
    "    sparse_oblique_normalization='STANDARD_DEVIATION',\n",
    "    compute_oob_variable_importances=True,\n",
    "    winner_take_all=False)\n",
    "                                                \n",
    "\n",
    "#model8.compile(metrics=[\"Accuracy\"])\n"
   ]
  },
  {
   "cell_type": "code",
   "execution_count": null,
   "id": "3ee6b59c",
   "metadata": {},
   "outputs": [],
   "source": [
    "!pip install wurlitzer -q"
   ]
  },
  {
   "cell_type": "code",
   "execution_count": null,
   "id": "9a32c5b5",
   "metadata": {},
   "outputs": [],
   "source": [
    "from wurlitzer import sys_pipes\n",
    "with sys_pipes():\n",
    "    model8.fit(X_trainTF)"
   ]
  },
  {
   "cell_type": "code",
   "execution_count": null,
   "id": "6c795833",
   "metadata": {},
   "outputs": [],
   "source": [
    "# Not sure what test_ds should be\n",
    "'''\n",
    "# Evaluate the model on the test dataset.\n",
    "model8.compile(metrics=[\"mse\"])\n",
    "evaluation = model8.evaluate(test_ds, return_dict=True)\n",
    "\n",
    "print(evaluation)\n",
    "print()\n",
    "print(f\"MSE: {evaluation['mse']}\")\n",
    "print(f\"RMSE: {math.sqrt(evaluation['mse'])}\")\n",
    "#print(f\"MAE: {evaluation['mae']}\")\n",
    "'''"
   ]
  },
  {
   "cell_type": "markdown",
   "id": "fb4274bf",
   "metadata": {},
   "source": [
    "Not sure if I'll get much better then above"
   ]
  },
  {
   "cell_type": "markdown",
   "id": "6ce9ccad",
   "metadata": {},
   "source": [
    "## Convolutional Neural Network\n"
   ]
  },
  {
   "cell_type": "code",
   "execution_count": null,
   "id": "1dc39579",
   "metadata": {},
   "outputs": [],
   "source": [
    "import tensorflow as tf"
   ]
  },
  {
   "cell_type": "code",
   "execution_count": null,
   "id": "6abc7f81",
   "metadata": {},
   "outputs": [],
   "source": [
    "# I think this could be important,\n",
    "# If convulutional width is set to 3, then given 3 hours of inputs it predicts 1 hour into the future\n",
    "# We want for \n",
    "CONV_WIDTH = 3\n",
    "\n",
    "conv_window = WindowGenerator(\n",
    "    input_width=CONV_WIDTH,\n",
    "    label_width=1,\n",
    "    shift=1,\n",
    "    label_columns=['ActualGenerationMW'])\n",
    "\n",
    "conv_window"
   ]
  },
  {
   "cell_type": "code",
   "execution_count": null,
   "id": "d6534cce",
   "metadata": {},
   "outputs": [],
   "source": [
    "conv_model = tf.keras.Sequential([\n",
    "    tf.keras.layers.Conv1D(filters=32,\n",
    "                           kernel_size=(CONV_WIDTH,),\n",
    "                           activation='relu'),\n",
    "    tf.keras.layers.Dense(units=32, activation='relu'),\n",
    "    tf.keras.layers.Dense(units=1),\n",
    "])"
   ]
  },
  {
   "cell_type": "markdown",
   "id": "1518629d",
   "metadata": {},
   "source": [
    "## Artificial Neural Networks"
   ]
  },
  {
   "cell_type": "code",
   "execution_count": null,
   "id": "ca25cd9f",
   "metadata": {},
   "outputs": [],
   "source": [
    "import tensorflow as tf\n",
    "ann = tf.keras.models.Sequential([            \n",
    "          tf.keras.layers.Dense(units=111, activation='relu', name=\"Layer_1\"),\n",
    "          tf.keras.layers.Dropout(0.1), #drop-out layer to avoid overfit\n",
    "          tf.keras.layers.Dense(units=111, activation='relu', name=\"Layer_2\"),\n",
    "          tf.keras.layers.Dropout(0.1),\n",
    "          tf.keras.layers.Dense(units=111, activation='relu', name=\"Layer_3\"),\n",
    "          tf.keras.layers.Dropout(0.1),\n",
    "          tf.keras.layers.Dense(units=10, activation='relu', name=\"Layer_4\"),\n",
    "          tf.keras.layers.Dense(units=1, name=\"output_layer\")\n",
    "          ])\n",
    "\n",
    "ann.compile(loss=tf.keras.losses.mae, # mae is short for mean absolute error\n",
    "            optimizer=tf.keras.optimizers.Adam(lr=0.00002),\n",
    "            metrics=[\"mae\"])"
   ]
  },
  {
   "cell_type": "code",
   "execution_count": null,
   "id": "deb9bdd3",
   "metadata": {},
   "outputs": [],
   "source": [
    "#copying stuff from document...\n",
    "epochs=60\n",
    "learning_rate = 0.1\n",
    "decay_rate = learning_rate / epochs\n",
    "momentum = 0.8\n",
    "\n",
    "#sgd = SGD(lr=learning_rate, momentum=momentum, decay=decay_rate, nesterov=False)\n",
    "ann.compile(loss=tf.keras.losses.mae, # mae is short for mean absolute error\n",
    "            optimizer=tf.keras.optimizers.Adam(lr=0.00002),\n",
    "            metrics=[\"mae\"])"
   ]
  },
  {
   "cell_type": "code",
   "execution_count": null,
   "id": "e2282213",
   "metadata": {
    "scrolled": true
   },
   "outputs": [],
   "source": [
    "ann.fit(X_train1,y_train, batch_size=200, epochs=200)"
   ]
  },
  {
   "cell_type": "code",
   "execution_count": null,
   "id": "3f9f7228",
   "metadata": {},
   "outputs": [],
   "source": [
    "y_pred=ann.predict(X_valid1)"
   ]
  },
  {
   "cell_type": "code",
   "execution_count": null,
   "id": "ca9f358b",
   "metadata": {},
   "outputs": [],
   "source": [
    "from sklearn import metrics\n",
    "\n",
    "print('Mean Absolute Error:', metrics.mean_absolute_error(y_valid, y_pred))\n",
    "print('Mean Squared Error:', metrics.mean_squared_error(y_valid, y_pred))\n",
    "print('Root Mean Squared Error:', np.sqrt(metrics.mean_squared_error(y_valid, y_pred)))"
   ]
  },
  {
   "cell_type": "markdown",
   "id": "99240c2e",
   "metadata": {},
   "source": [
    "For lr=0.002 and  batch_size=200, epochs=100)\n",
    "\n",
    "Mean Absolute Error: 470.42779251935326\n",
    "Mean Squared Error: 353878.8971401352\n",
    "Root Mean Squared Error: 594.877211817813\n",
    "\n",
    "For lr=0.0002 and  batch_size=200, epochs=100)\n",
    "Mean Absolute Error: 478.03476671201486\n",
    "Mean Squared Error: 364369.589799041\n",
    "Root Mean Squared Error: 603.6303420132565\n",
    "\n",
    "For lr=0.0002 and  batch_size=200, epochs=150)\n",
    "Mean Absolute Error: 470.0360041216103\n",
    "Mean Squared Error: 354797.59158343874\n",
    "Root Mean Squared Error: 595.648882802141"
   ]
  },
  {
   "cell_type": "code",
   "execution_count": null,
   "id": "d458a2e4",
   "metadata": {},
   "outputs": [],
   "source": [
    "import matplotlib.pyplot as plt \n",
    "from matplotlib.pyplot import figure\n",
    "\n",
    "plt.plot(X_valid['date2'][-7*24:],y_pred[-7*24:])\n",
    "plt.plot(X_valid['date2'][-7*24:],y_valid[-7*24:])\n",
    "fig = plt.gcf()\n",
    "fig.set_size_inches(18.5, 10.5)\n",
    "fig.savefig('test2png.png', dpi=100)"
   ]
  },
  {
   "cell_type": "code",
   "execution_count": null,
   "id": "57a9cd86",
   "metadata": {},
   "outputs": [],
   "source": [
    "plt.barh(X_valid1.columns, ann.feature_importances_)"
   ]
  },
  {
   "cell_type": "markdown",
   "id": "4b461a12",
   "metadata": {},
   "source": [
    "## Muliple hour input Forecasting"
   ]
  },
  {
   "cell_type": "markdown",
   "id": "5cd698af",
   "metadata": {},
   "source": [
    "Below from https://www.tensorflow.org/tutorials/structured_data/time_series"
   ]
  },
  {
   "cell_type": "code",
   "execution_count": null,
   "id": "5d5e3ab9",
   "metadata": {},
   "outputs": [],
   "source": [
    "train_df3 = train_df[['ForecastWind','sin_day','sin_hour','cos_day','cos_hour','dub_wddir','dub_wdsp','dub_msl','ActualGenerationMW']]\n",
    "val_df3 = val_df[['ForecastWind','sin_day','sin_hour','cos_day','cos_hour','dub_wddir','dub_wdsp','dub_msl','ActualGenerationMW']]\n",
    "test_df3 = test_df[['ForecastWind','sin_day','sin_hour','cos_day','cos_hour','dub_wddir','dub_wdsp','dub_msl','ActualGenerationMW']]\n"
   ]
  },
  {
   "cell_type": "code",
   "execution_count": null,
   "id": "744e1fed",
   "metadata": {},
   "outputs": [],
   "source": [
    "class WindowGenerator():\n",
    "  def __init__(self, input_width, label_width, shift,\n",
    "               train_df=train_df, val_df=val_df, test_df=test_df,\n",
    "               label_columns=None):\n",
    "    # Store the raw data.\n",
    "    self.train_df3 = train_df3\n",
    "    self.val_df3 = val_df3\n",
    "    self.test_df3 = test_df3\n",
    "\n",
    "    # Work out the label column indices.\n",
    "    self.label_columns = label_columns\n",
    "    if label_columns is not None:\n",
    "      self.label_columns_indices = {name: i for i, name in\n",
    "                                    enumerate(label_columns)}\n",
    "    self.column_indices = {name: i for i, name in\n",
    "                           enumerate(train_df3.columns)}\n",
    "\n",
    "    # Work out the window parameters.\n",
    "    self.input_width = input_width\n",
    "    self.label_width = label_width\n",
    "    self.shift = shift\n",
    "\n",
    "    self.total_window_size = input_width + shift\n",
    "\n",
    "    self.input_slice = slice(0, input_width)\n",
    "    self.input_indices = np.arange(self.total_window_size)[self.input_slice]\n",
    "\n",
    "    self.label_start = self.total_window_size - self.label_width\n",
    "    self.labels_slice = slice(self.label_start, None)\n",
    "    self.label_indices = np.arange(self.total_window_size)[self.labels_slice]\n",
    "\n",
    "  def __repr__(self):\n",
    "    return '\\n'.join([\n",
    "        f'Total window size: {self.total_window_size}',\n",
    "        f'Input indices: {self.input_indices}',\n",
    "        f'Label indices: {self.label_indices}',\n",
    "        f'Label column name(s): {self.label_columns}'])"
   ]
  },
  {
   "cell_type": "code",
   "execution_count": null,
   "id": "2c584e63",
   "metadata": {},
   "outputs": [],
   "source": [
    "def split_window(self, features):\n",
    "  inputs = features[:, self.input_slice, :]\n",
    "  labels = features[:, self.labels_slice, :]\n",
    "  if self.label_columns is not None:\n",
    "    labels = tf.stack(\n",
    "        [labels[:, :, self.column_indices[name]] for name in self.label_columns],\n",
    "        axis=-1)\n",
    "\n",
    "  # Slicing doesn't preserve static shape information, so set the shapes\n",
    "  # manually. This way the `tf.data.Datasets` are easier to inspect.\n",
    "  inputs.set_shape([None, self.input_width, None])\n",
    "  labels.set_shape([None, self.label_width, None])\n",
    "\n",
    "  return inputs, labels\n",
    "\n",
    "WindowGenerator.split_window = split_window"
   ]
  },
  {
   "cell_type": "code",
   "execution_count": null,
   "id": "39d54596",
   "metadata": {},
   "outputs": [],
   "source": [
    "def plot(self, model=None, plot_col='ActualGenerationMW', max_subplots=3):\n",
    "  inputs, labels = self.example\n",
    "  plt.figure(figsize=(12, 8))\n",
    "  plot_col_index = self.column_indices[plot_col]\n",
    "  max_n = min(max_subplots, len(inputs))\n",
    "  for n in range(max_n):\n",
    "    plt.subplot(max_n, 1, n+1)\n",
    "    plt.ylabel(f'{plot_col} [normed]')\n",
    "    plt.plot(self.input_indices, inputs[n, :, plot_col_index],\n",
    "             label='Inputs', marker='.', zorder=-10)\n",
    "\n",
    "    if self.label_columns:\n",
    "      label_col_index = self.label_columns_indices.get(plot_col, None)\n",
    "    else:\n",
    "      label_col_index = plot_col_index\n",
    "\n",
    "    if label_col_index is None:\n",
    "      continue\n",
    "\n",
    "    plt.scatter(self.label_indices, labels[n, :, label_col_index],\n",
    "                edgecolors='k', label='Labels', c='#2ca02c', s=64)\n",
    "    if model is not None:\n",
    "      predictions = model(inputs)\n",
    "      plt.scatter(self.label_indices, predictions[n, :, label_col_index],\n",
    "                  marker='X', edgecolors='k', label='Predictions',\n",
    "                  c='#ff7f0e', s=64)\n",
    "\n",
    "    if n == 0:\n",
    "      plt.legend()\n",
    "\n",
    "  plt.xlabel('Time [h]')\n",
    "\n",
    "WindowGenerator.plot = plot"
   ]
  },
  {
   "cell_type": "code",
   "execution_count": null,
   "id": "a83a5f64",
   "metadata": {},
   "outputs": [],
   "source": [
    "def make_dataset(self, data):\n",
    "  data = np.array(data, dtype=np.float32)\n",
    "  ds = tf.keras.utils.timeseries_dataset_from_array(\n",
    "      data=data,\n",
    "      targets=None,\n",
    "      sequence_length=self.total_window_size,\n",
    "      sequence_stride=1,\n",
    "      shuffle=True,\n",
    "      batch_size=32,)\n",
    "\n",
    "  ds = ds.map(self.split_window)\n",
    "\n",
    "  return ds\n",
    "\n",
    "WindowGenerator.make_dataset = make_dataset"
   ]
  },
  {
   "cell_type": "code",
   "execution_count": null,
   "id": "c6d20554",
   "metadata": {},
   "outputs": [],
   "source": [
    "CONV_WIDTH = 3\n",
    "conv_window = WindowGenerator(\n",
    "    input_width=CONV_WIDTH,\n",
    "    label_width=1,\n",
    "    shift=1,\n",
    "    label_columns=['ActualGenerationMW'])\n",
    "\n",
    "conv_window"
   ]
  },
  {
   "cell_type": "code",
   "execution_count": null,
   "id": "0702cecf",
   "metadata": {},
   "outputs": [],
   "source": [
    "w2 = WindowGenerator(input_width=6, label_width=1, shift=1,\n",
    "                     label_columns=['ActualGenerationMW'])\n",
    "w2"
   ]
  },
  {
   "cell_type": "code",
   "execution_count": null,
   "id": "1c074192",
   "metadata": {},
   "outputs": [],
   "source": [
    "@property\n",
    "def train(self):\n",
    "  return self.make_dataset(self.train_df3)\n",
    "\n",
    "@property\n",
    "def val(self):\n",
    "  return self.make_dataset(self.val_df3)\n",
    "\n",
    "@property\n",
    "def test(self):\n",
    "  return self.make_dataset(self.test_df3)\n",
    "\n",
    "@property\n",
    "def example(self):\n",
    "  \"\"\"Get and cache an example batch of `inputs, labels` for plotting.\"\"\"\n",
    "  result = getattr(self, '_example', None)\n",
    "  if result is None:\n",
    "    # No example batch was found, so get one from the `.train` dataset\n",
    "    result = next(iter(self.train))\n",
    "    # And cache it for next time\n",
    "    self._example = result\n",
    "  return result\n",
    "\n",
    "WindowGenerator.train = train\n",
    "WindowGenerator.val = val\n",
    "WindowGenerator.test = test\n",
    "WindowGenerator.example = example"
   ]
  },
  {
   "cell_type": "code",
   "execution_count": null,
   "id": "54c68c70",
   "metadata": {},
   "outputs": [],
   "source": [
    "\n",
    "\n",
    "# Stack three slices, the length of the total window.\n",
    "example_window = tf.stack([np.array(train_df3[:w2.total_window_size]),\n",
    "                           np.array(train_df3[100:100+w2.total_window_size]),\n",
    "                           np.array(train_df3[200:200+w2.total_window_size])])\n",
    "\n",
    "example_inputs, example_labels = w2.split_window(example_window)\n",
    "\n",
    "print('All shapes are: (batch, time, features)')\n",
    "print(f'Window shape: {example_window.shape}')\n",
    "print(f'Inputs shape: {example_inputs.shape}')\n",
    "print(f'Labels shape: {example_labels.shape}')"
   ]
  },
  {
   "cell_type": "code",
   "execution_count": null,
   "id": "54664ef9",
   "metadata": {},
   "outputs": [],
   "source": [
    "CONV_WIDTH = 3\n",
    "conv_window = WindowGenerator(\n",
    "    input_width=CONV_WIDTH,\n",
    "    label_width=1,\n",
    "    shift=1,\n",
    "    label_columns=['ActualGenerationMW'])\n",
    "\n",
    "conv_window"
   ]
  },
  {
   "cell_type": "code",
   "execution_count": null,
   "id": "93296280",
   "metadata": {},
   "outputs": [],
   "source": [
    "conv_window.plot()\n",
    "plt.title(\"Given 3 hours of inputs, predict 1 hour into the future.\")"
   ]
  },
  {
   "cell_type": "markdown",
   "id": "3ce1451b",
   "metadata": {},
   "source": [
    "### Actually activating the models"
   ]
  },
  {
   "cell_type": "code",
   "execution_count": null,
   "id": "52572ae7",
   "metadata": {},
   "outputs": [],
   "source": [
    "multi_step_dense = tf.keras.Sequential([\n",
    "    # Shape: (time, features) => (time*features)\n",
    "    tf.keras.layers.Flatten(),\n",
    "    tf.keras.layers.Dense(units=32, activation='relu'),\n",
    "    tf.keras.layers.Dense(units=32, activation='relu'),\n",
    "    tf.keras.layers.Dense(units=1),\n",
    "    # Add back the time dimension.\n",
    "    # Shape: (outputs) => (1, outputs)\n",
    "    tf.keras.layers.Reshape([1, -1]),\n",
    "])"
   ]
  }
 ],
 "metadata": {
  "kernelspec": {
   "display_name": "Python 3 (ipykernel)",
   "language": "python",
   "name": "python3"
  },
  "language_info": {
   "codemirror_mode": {
    "name": "ipython",
    "version": 3
   },
   "file_extension": ".py",
   "mimetype": "text/x-python",
   "name": "python",
   "nbconvert_exporter": "python",
   "pygments_lexer": "ipython3",
   "version": "3.8.10"
  }
 },
 "nbformat": 4,
 "nbformat_minor": 5
}
