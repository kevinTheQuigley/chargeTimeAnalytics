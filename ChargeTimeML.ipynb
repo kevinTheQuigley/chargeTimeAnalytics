{
 "cells": [
  {
   "cell_type": "markdown",
   "id": "625f4b16",
   "metadata": {},
   "source": [
    "# Charge Time Machine Learning Algorithm Generation"
   ]
  },
  {
   "cell_type": "markdown",
   "id": "7efbcb81",
   "metadata": {},
   "source": [
    "## Splitting the data"
   ]
  },
  {
   "cell_type": "code",
   "execution_count": 1,
   "id": "8def5098",
   "metadata": {},
   "outputs": [],
   "source": [
    "import pandas as pd\n",
    "import datetime as td\n",
    "import  numpy as np\n",
    "import datetime \n",
    "import datetime as dt\n",
    "df = pd.read_csv('data/chargeML.csv')\n",
    "df=df._convert(numeric=True)\n",
    "df=df.dropna()\n",
    "#df['date2'] =  pd.to_datetime(df['date2'])\n",
    "#df.index.to_pydatetime() \n",
    "#df=df.date2.to_pydatetime() \n",
    "df['date2']=pd.to_datetime(df.date2)\n",
    "#df['date2'] =  pd.to_datetime(df['date2'])\n",
    "df[\"dayInMonth\"] =df['date2'].dt.day\n",
    "inData=dataSet=df"
   ]
  },
  {
   "cell_type": "code",
   "execution_count": 2,
   "id": "74a3d902",
   "metadata": {},
   "outputs": [],
   "source": [
    "## Need to add a cos function for day of week\n",
    "import math as ma\n",
    "df[\"cos_week\"] = np.cos(df[\"dayOfWeek\"]/7*2*ma.pi)\n",
    "df[\"sin_hour\"]=np.sin(df[\"dayOfWeek\"]/7*2*ma.pi)"
   ]
  },
  {
   "cell_type": "code",
   "execution_count": 3,
   "id": "d80decb1",
   "metadata": {},
   "outputs": [],
   "source": [
    "from sklearn.model_selection import train_test_split\n",
    "import numpy as np\n",
    "\n",
    "splitOption = 1 # split per day of the month\n",
    "\n",
    "#cutOffTestDate=2022.01.01\n",
    "cutOffTestDate = datetime.datetime(2022, 1, 1)\n",
    "testSet = dataSet.loc[(inData.date2 > cutOffTestDate), :]\n",
    "mainSet = dataSet.loc[(inData.date2 <= cutOffTestDate), :]\n"
   ]
  },
  {
   "cell_type": "code",
   "execution_count": 4,
   "id": "726610bc",
   "metadata": {},
   "outputs": [],
   "source": [
    "trainSet = dataSet.loc[(dataSet.dayInMonth > 0) & (dataSet.dayInMonth < 23), :]\n",
    "validSet = dataSet.loc[(dataSet.dayInMonth >= 23) & (inData.date2 <= cutOffTestDate), :]"
   ]
  },
  {
   "cell_type": "markdown",
   "id": "38d5ac9e",
   "metadata": {},
   "source": [
    "### Doing \"Data Windowing\""
   ]
  },
  {
   "cell_type": "code",
   "execution_count": 5,
   "id": "79e7dd24",
   "metadata": {},
   "outputs": [
    {
     "data": {
      "text/plain": [
       "\"def split_window(self, features):\\n  inputs = features[:, self.input_slice, :]\\n  labels = features[:, self.labels_slice, :]\\n  if self.label_columns is not None:\\n    labels = tf.stack(\\n        [labels[:, :, self.column_indices[name]] for name in self.label_columns],\\n        axis=-1)\\n\\n  # Slicing doesn't preserve static shape information, so set the shapes\\n  # manually. This way the `tf.data.Datasets` are easier to inspect.\\n  inputs.set_shape([None, self.input_width, None])\\n  labels.set_shape([None, self.label_width, None])\\n\\n  return inputs, labels\\n\\nWindowGenerator.split_window = split_window\""
      ]
     },
     "execution_count": 5,
     "metadata": {},
     "output_type": "execute_result"
    }
   ],
   "source": [
    "'''def split_window(self, features):\n",
    "  inputs = features[:, self.input_slice, :]\n",
    "  labels = features[:, self.labels_slice, :]\n",
    "  if self.label_columns is not None:\n",
    "    labels = tf.stack(\n",
    "        [labels[:, :, self.column_indices[name]] for name in self.label_columns],\n",
    "        axis=-1)\n",
    "\n",
    "  # Slicing doesn't preserve static shape information, so set the shapes\n",
    "  # manually. This way the `tf.data.Datasets` are easier to inspect.\n",
    "  inputs.set_shape([None, self.input_width, None])\n",
    "  labels.set_shape([None, self.label_width, None])\n",
    "\n",
    "  return inputs, labels\n",
    "\n",
    "WindowGenerator.split_window = split_window'''"
   ]
  },
  {
   "cell_type": "code",
   "execution_count": 6,
   "id": "01b9ec08",
   "metadata": {},
   "outputs": [],
   "source": [
    "# Above isn't used, I don't think it needs to be"
   ]
  },
  {
   "cell_type": "markdown",
   "id": "f8066827",
   "metadata": {},
   "source": [
    "### Normalising the data"
   ]
  },
  {
   "cell_type": "code",
   "execution_count": 7,
   "id": "4043a9ed",
   "metadata": {},
   "outputs": [],
   "source": [
    "trainDate=trainSet.date2\n",
    "validDate=validSet.date2\n",
    "testDate=testSet.date2"
   ]
  },
  {
   "cell_type": "code",
   "execution_count": 8,
   "id": "d7aa66ff",
   "metadata": {},
   "outputs": [
    {
     "name": "stderr",
     "output_type": "stream",
     "text": [
      "/tmp/ipykernel_366705/1176180537.py:1: FutureWarning: In a future version of pandas all arguments of DataFrame.drop except for the argument 'labels' will be keyword-only.\n",
      "  trainSet=trainSet.drop('date2',1)\n",
      "/tmp/ipykernel_366705/1176180537.py:2: FutureWarning: In a future version of pandas all arguments of DataFrame.drop except for the argument 'labels' will be keyword-only.\n",
      "  validSet=validSet.drop('date2',1)\n",
      "/tmp/ipykernel_366705/1176180537.py:3: FutureWarning: In a future version of pandas all arguments of DataFrame.drop except for the argument 'labels' will be keyword-only.\n",
      "  testSet=testSet.drop('date2',1)\n",
      "/tmp/ipykernel_366705/1176180537.py:4: FutureWarning: In a future version of pandas all arguments of DataFrame.drop except for the argument 'labels' will be keyword-only.\n",
      "  trainSet=trainSet.drop('dayInMonth',1)\n",
      "/tmp/ipykernel_366705/1176180537.py:5: FutureWarning: In a future version of pandas all arguments of DataFrame.drop except for the argument 'labels' will be keyword-only.\n",
      "  validSet=validSet.drop('dayInMonth',1)\n",
      "/tmp/ipykernel_366705/1176180537.py:6: FutureWarning: In a future version of pandas all arguments of DataFrame.drop except for the argument 'labels' will be keyword-only.\n",
      "  testSet=testSet.drop('dayInMonth',1)\n",
      "/tmp/ipykernel_366705/1176180537.py:7: FutureWarning: In a future version of pandas all arguments of DataFrame.drop except for the argument 'labels' will be keyword-only.\n",
      "  trainSet=trainSet.drop('dayOfWeek',1)\n",
      "/tmp/ipykernel_366705/1176180537.py:8: FutureWarning: In a future version of pandas all arguments of DataFrame.drop except for the argument 'labels' will be keyword-only.\n",
      "  validSet=validSet.drop('dayOfWeek',1)\n",
      "/tmp/ipykernel_366705/1176180537.py:9: FutureWarning: In a future version of pandas all arguments of DataFrame.drop except for the argument 'labels' will be keyword-only.\n",
      "  testSet=testSet.drop('dayOfWeek',1)\n",
      "/tmp/ipykernel_366705/1176180537.py:10: FutureWarning: In a future version of pandas all arguments of DataFrame.drop except for the argument 'labels' will be keyword-only.\n",
      "  trainSet=trainSet.drop('dayOfYear',1)\n",
      "/tmp/ipykernel_366705/1176180537.py:11: FutureWarning: In a future version of pandas all arguments of DataFrame.drop except for the argument 'labels' will be keyword-only.\n",
      "  validSet=validSet.drop('dayOfYear',1)\n",
      "/tmp/ipykernel_366705/1176180537.py:12: FutureWarning: In a future version of pandas all arguments of DataFrame.drop except for the argument 'labels' will be keyword-only.\n",
      "  testSet=testSet.drop('dayOfYear',1)\n",
      "/tmp/ipykernel_366705/1176180537.py:13: FutureWarning: In a future version of pandas all arguments of DataFrame.drop except for the argument 'labels' will be keyword-only.\n",
      "  trainSet=trainSet.drop('hour',1)\n",
      "/tmp/ipykernel_366705/1176180537.py:14: FutureWarning: In a future version of pandas all arguments of DataFrame.drop except for the argument 'labels' will be keyword-only.\n",
      "  validSet=validSet.drop('hour',1)\n",
      "/tmp/ipykernel_366705/1176180537.py:15: FutureWarning: In a future version of pandas all arguments of DataFrame.drop except for the argument 'labels' will be keyword-only.\n",
      "  testSet=testSet.drop('hour',1)\n"
     ]
    }
   ],
   "source": [
    "trainSet=trainSet.drop('date2',1)\n",
    "validSet=validSet.drop('date2',1)\n",
    "testSet=testSet.drop('date2',1)\n",
    "trainSet=trainSet.drop('dayInMonth',1)\n",
    "validSet=validSet.drop('dayInMonth',1)\n",
    "testSet=testSet.drop('dayInMonth',1)\n",
    "trainSet=trainSet.drop('dayOfWeek',1)\n",
    "validSet=validSet.drop('dayOfWeek',1)\n",
    "testSet=testSet.drop('dayOfWeek',1)\n",
    "trainSet=trainSet.drop('dayOfYear',1)\n",
    "validSet=validSet.drop('dayOfYear',1)\n",
    "testSet=testSet.drop('dayOfYear',1)\n",
    "trainSet=trainSet.drop('hour',1)\n",
    "validSet=validSet.drop('hour',1)\n",
    "testSet=testSet.drop('hour',1)"
   ]
  },
  {
   "cell_type": "code",
   "execution_count": 9,
   "id": "da933179",
   "metadata": {},
   "outputs": [],
   "source": [
    "usedColsForecast=['dub_temp','dub_wddir','dub_wdsp']"
   ]
  },
  {
   "cell_type": "code",
   "execution_count": 10,
   "id": "85053619",
   "metadata": {},
   "outputs": [],
   "source": [
    "train_mean = trainSet.mean()\n",
    "train_std = trainSet.std()\n",
    "\n"
   ]
  },
  {
   "cell_type": "code",
   "execution_count": 11,
   "id": "ffc9dcf8",
   "metadata": {},
   "outputs": [
    {
     "data": {
      "text/plain": [
       "['dub_temp', 'dub_wddir', 'dub_wdsp']"
      ]
     },
     "execution_count": 11,
     "metadata": {},
     "output_type": "execute_result"
    }
   ],
   "source": [
    "usedColsForecast"
   ]
  },
  {
   "cell_type": "code",
   "execution_count": 12,
   "id": "fa44dab6",
   "metadata": {},
   "outputs": [],
   "source": [
    "train_meanSave=train_mean[usedColsForecast]\n",
    "train_stdSave =train_std[usedColsForecast]\n",
    "np.savetxt(\"./models/train_meanSave.csv\", train_meanSave, delimiter=\",\")\n",
    "np.savetxt(\"./models/train_stdSave.csv\", train_meanSave, delimiter=\",\")"
   ]
  },
  {
   "cell_type": "code",
   "execution_count": 13,
   "id": "6c5375aa",
   "metadata": {},
   "outputs": [],
   "source": [
    "train_df = (trainSet - train_mean) / train_std\n",
    "val_df = (validSet - train_mean) / train_std\n",
    "test_df = (testSet - train_mean) / train_std"
   ]
  },
  {
   "cell_type": "code",
   "execution_count": 14,
   "id": "e2775a30",
   "metadata": {},
   "outputs": [
    {
     "data": {
      "text/plain": [
       "876.8203591605138"
      ]
     },
     "execution_count": 14,
     "metadata": {},
     "output_type": "execute_result"
    }
   ],
   "source": [
    "train_mean['ActualGenerationMW']\n",
    "train_std['ActualGenerationMW']"
   ]
  },
  {
   "cell_type": "code",
   "execution_count": 15,
   "id": "47333de7",
   "metadata": {},
   "outputs": [],
   "source": [
    "#re-creating date-column\n",
    "train_df['date2']=trainDate\n",
    "val_df['date2']=validDate\n",
    "test_df['date2']=testDate\n",
    "\n",
    "# Re-adding removed columns\n",
    "train_df['hour']=train_df['date2'].dt.hour\n",
    "train_df['dayOfWeek']=train_df['date2'].dt.day_of_week\n",
    "train_df['dayOfYear']=train_df['date2'].dt.day_of_year\n",
    "train_df[\"dayInMonth\"] =train_df['date2'].dt.day\n",
    "# Re-adding removed columns\n",
    "val_df['hour']=val_df['date2'].dt.hour\n",
    "val_df['dayOfWeek']=val_df['date2'].dt.day_of_week\n",
    "val_df['dayOfYear']=val_df['date2'].dt.day_of_year\n",
    "val_df[\"dayInMonth\"] =val_df['date2'].dt.day\n",
    "# Re-adding removed columns\n",
    "test_df['hour']=test_df['date2'].dt.hour\n",
    "test_df['dayOfWeek']=test_df['date2'].dt.day_of_week\n",
    "test_df['dayOfYear']=test_df['date2'].dt.day_of_year\n",
    "test_df[\"dayInMonth\"] =test_df['date2'].dt.day\n",
    "\n",
    "#Resetting the Actual Generation to be non-continuous\n",
    "train_df['ActualGenerationMW']=train_df['ActualGenerationMW']*train_std['ActualGenerationMW']+train_mean['ActualGenerationMW']\n",
    "val_df['ActualGenerationMW']=val_df['ActualGenerationMW']*train_std['ActualGenerationMW']+train_mean['ActualGenerationMW']\n",
    "test_df['ActualGenerationMW']=test_df['ActualGenerationMW']*train_std['ActualGenerationMW']+train_mean['ActualGenerationMW']\n",
    "# Re-setting the names of the columns\n",
    "trainSet=train_df\n",
    "validSet=val_df\n",
    "testSet=test_df"
   ]
  },
  {
   "cell_type": "code",
   "execution_count": 16,
   "id": "45f6c259",
   "metadata": {},
   "outputs": [
    {
     "data": {
      "text/plain": [
       "'\\nif (splitOption == 0):  # Standard SkLearn train test split, usually not good for time series\\n\\nelif (splitOption == 1):  # split before / after day of the month\\n  dataSet[\"dayInMonth\"] = 0\\n\\n  def setDayInMonth(row):\\n      row[\"dayInMonth\"] = row.date.day\\n      return row\\n\\n  dataSet = dataSet.apply(setDayInMonth, axis=1)\\n\\n  trainSet = dataSet.loc[(dataSet.dayInMonth > 0) & (dataSet.dayInMonth < 23), :]\\n  validSet = dataSet.loc[(dataSet.dayInMonth >= 23) & (inData.date <= cutOffTestDate), :]\\nelif (splitOption == 2):  # split per period\\n  trainSet = dataSet.loc[(inData.date <= cutOffValidationDate), :]\\n  validSet = dataSet.loc[(inData.date > cutOffValidationDate), :]  \\n  '"
      ]
     },
     "execution_count": 16,
     "metadata": {},
     "output_type": "execute_result"
    }
   ],
   "source": [
    "'''\n",
    "if (splitOption == 0):  # Standard SkLearn train test split, usually not good for time series\n",
    "\n",
    "elif (splitOption == 1):  # split before / after day of the month\n",
    "  dataSet[\"dayInMonth\"] = 0\n",
    "\n",
    "  def setDayInMonth(row):\n",
    "      row[\"dayInMonth\"] = row.date.day\n",
    "      return row\n",
    "\n",
    "  dataSet = dataSet.apply(setDayInMonth, axis=1)\n",
    "\n",
    "  trainSet = dataSet.loc[(dataSet.dayInMonth > 0) & (dataSet.dayInMonth < 23), :]\n",
    "  validSet = dataSet.loc[(dataSet.dayInMonth >= 23) & (inData.date <= cutOffTestDate), :]\n",
    "elif (splitOption == 2):  # split per period\n",
    "  trainSet = dataSet.loc[(inData.date <= cutOffValidationDate), :]\n",
    "  validSet = dataSet.loc[(inData.date > cutOffValidationDate), :]  \n",
    "  '''"
   ]
  },
  {
   "cell_type": "code",
   "execution_count": 17,
   "id": "811cd393",
   "metadata": {},
   "outputs": [],
   "source": [
    "y_train = trainSet.ActualGenerationMW\n",
    "y_valid = validSet.ActualGenerationMW\n",
    "y_test = testSet.ActualGenerationMW\t"
   ]
  },
  {
   "cell_type": "code",
   "execution_count": 18,
   "id": "b3cf3c79",
   "metadata": {},
   "outputs": [],
   "source": [
    "X_train = trainSet\n",
    "X_valid = validSet "
   ]
  },
  {
   "cell_type": "markdown",
   "id": "9ff054ba",
   "metadata": {},
   "source": [
    "## Random forest generation"
   ]
  },
  {
   "cell_type": "markdown",
   "id": "d7bc21e3",
   "metadata": {},
   "source": [
    "### Choosing Columns"
   ]
  },
  {
   "cell_type": "code",
   "execution_count": 19,
   "id": "09b9ada9",
   "metadata": {},
   "outputs": [],
   "source": [
    "#Version 1; Causing failures on kernel for ? reason\n",
    "X_train1 = X_train[['ForecastWind','dayOfWeek','dub_msl','hour','dub_wddir',]]\n",
    "X_valid1 = X_valid[['ForecastWind','dayOfWeek','dub_msl','hour','dub_wddir']]"
   ]
  },
  {
   "cell_type": "code",
   "execution_count": 20,
   "id": "e064343a",
   "metadata": {},
   "outputs": [],
   "source": [
    "#Version 1; Causing failures on kernel for ? reason\n",
    "X_train1 = X_train[['ForecastWind','sin_day','sin_hour','cos_day','cos_hour','dub_wddir','dub_wdsp','dub_msl']]\n",
    "X_valid1 = X_valid[['ForecastWind','sin_day','sin_hour','cos_day','cos_hour','dub_wddir','dub_wdsp','dub_msl']]"
   ]
  },
  {
   "cell_type": "code",
   "execution_count": 21,
   "id": "6b524998",
   "metadata": {},
   "outputs": [
    {
     "data": {
      "text/plain": [
       "\"print(X_train['ForecastWind'].isnull().values.any())\\nprint(X_train['dayOfWeek'].isnull().values.any())\\nprint(X_train['dub_msl'].isnull().values.any())\\nprint(X_train['hour'].isnull().values.any())\\nprint(X_train['don_wddir'].isnull().values.any())\\nprint(X_train['dub_wddir'].isnull().values.any())\""
      ]
     },
     "execution_count": 21,
     "metadata": {},
     "output_type": "execute_result"
    }
   ],
   "source": [
    "'''print(X_train['ForecastWind'].isnull().values.any())\n",
    "print(X_train['dayOfWeek'].isnull().values.any())\n",
    "print(X_train['dub_msl'].isnull().values.any())\n",
    "print(X_train['hour'].isnull().values.any())\n",
    "print(X_train['don_wddir'].isnull().values.any())\n",
    "print(X_train['dub_wddir'].isnull().values.any())'''"
   ]
  },
  {
   "cell_type": "code",
   "execution_count": 22,
   "id": "47320e91",
   "metadata": {},
   "outputs": [
    {
     "data": {
      "text/plain": [
       "'#Import Random Forest Model\\nfrom sklearn.ensemble import RandomForestClassifier\\n\\n#Create a Gaussian Classifier\\nclf=RandomForestClassifier(n_estimators=10)\\n\\n#Train the model using the training sets y_pred=clf.predict(X_test)\\nclf.fit(X_train1,y_train)'"
      ]
     },
     "execution_count": 22,
     "metadata": {},
     "output_type": "execute_result"
    }
   ],
   "source": [
    "'''#Import Random Forest Model\n",
    "from sklearn.ensemble import RandomForestClassifier\n",
    "\n",
    "#Create a Gaussian Classifier\n",
    "clf=RandomForestClassifier(n_estimators=10)\n",
    "\n",
    "#Train the model using the training sets y_pred=clf.predict(X_test)\n",
    "clf.fit(X_train1,y_train)'''"
   ]
  },
  {
   "cell_type": "code",
   "execution_count": 23,
   "id": "f1f7dede",
   "metadata": {},
   "outputs": [
    {
     "data": {
      "text/plain": [
       "'\\n#Import Random Forest \"Classifier\" Model\\nfrom sklearn.ensemble import RandomForestClassifier\\n\\n#Create a Gaussian Classifier\\n#clf=RandomForestClassifier(n_estimators=50,random_state = 42, max_depth=50, max_leaf_nodes=30)\\nclf=RandomForestClassifier(n_estimators=100,random_state = 42, max_depth=100, max_leaf_nodes=100)\\n#clf=RandomForestClassifier(n_estimators=100,random_state = 43)\\nprint(clf.get_params())\\n#Train the model using the training sets y_pred=clf.predict(X_test)\\n\\n# Training the model\\nclf.fit(X_train1,y_train)\\n\\n#Returning predicted data\\ny_pred=clf.predict(X_valid1)\\n\\n#Using test for training data will run into issues\\n\\n#X_test1 = X_test[[\\'ForecastWind\\',\\'dayOfWeek\\',\\'dub_msl\\',\\'hour\\',\\'dub_wddir\\']]\\n#y_testpred=clf.predict(X_test1)\\n\\n\\n# Plotting last week of data\\nimport matplotlib.pyplot as plt \\nfrom matplotlib.pyplot import figure\\n\\nplt.plot(X_valid[\\'date2\\'][-7*24:],y_pred[-7*24:],color = \\'blue\\')\\nplt.plot(X_valid[\\'date2\\'][-7*24:],y_valid[-7*24:],color = \\'red\\')\\nfig = plt.gcf()\\nfig.set_size_inches(18.5, 10.5)\\nfig.savefig(\\'test2png.png\\', dpi=100)\\n\\nfrom sklearn import metrics\\n\\nprint(\\'Mean Absolute Error:\\', metrics.mean_absolute_error(y_valid, y_pred))\\nprint(\\'Mean Squared Error:\\', metrics.mean_squared_error(y_valid, y_pred))\\nprint(\\'Root Mean Squared Error:\\', np.sqrt(metrics.mean_squared_error(y_valid, y_pred)))'"
      ]
     },
     "execution_count": 23,
     "metadata": {},
     "output_type": "execute_result"
    }
   ],
   "source": [
    "'''\n",
    "#Import Random Forest \"Classifier\" Model\n",
    "from sklearn.ensemble import RandomForestClassifier\n",
    "\n",
    "#Create a Gaussian Classifier\n",
    "#clf=RandomForestClassifier(n_estimators=50,random_state = 42, max_depth=50, max_leaf_nodes=30)\n",
    "clf=RandomForestClassifier(n_estimators=100,random_state = 42, max_depth=100, max_leaf_nodes=100)\n",
    "#clf=RandomForestClassifier(n_estimators=100,random_state = 43)\n",
    "print(clf.get_params())\n",
    "#Train the model using the training sets y_pred=clf.predict(X_test)\n",
    "\n",
    "# Training the model\n",
    "clf.fit(X_train1,y_train)\n",
    "\n",
    "#Returning predicted data\n",
    "y_pred=clf.predict(X_valid1)\n",
    "\n",
    "#Using test for training data will run into issues\n",
    "\n",
    "#X_test1 = X_test[['ForecastWind','dayOfWeek','dub_msl','hour','dub_wddir']]\n",
    "#y_testpred=clf.predict(X_test1)\n",
    "\n",
    "\n",
    "# Plotting last week of data\n",
    "import matplotlib.pyplot as plt \n",
    "from matplotlib.pyplot import figure\n",
    "\n",
    "plt.plot(X_valid['date2'][-7*24:],y_pred[-7*24:],color = 'blue')\n",
    "plt.plot(X_valid['date2'][-7*24:],y_valid[-7*24:],color = 'red')\n",
    "fig = plt.gcf()\n",
    "fig.set_size_inches(18.5, 10.5)\n",
    "fig.savefig('test2png.png', dpi=100)\n",
    "\n",
    "from sklearn import metrics\n",
    "\n",
    "print('Mean Absolute Error:', metrics.mean_absolute_error(y_valid, y_pred))\n",
    "print('Mean Squared Error:', metrics.mean_squared_error(y_valid, y_pred))\n",
    "print('Root Mean Squared Error:', np.sqrt(metrics.mean_squared_error(y_valid, y_pred)))'''"
   ]
  },
  {
   "cell_type": "markdown",
   "id": "ab523414",
   "metadata": {},
   "source": [
    "\n",
    "### Example Baselines \n",
    "\n",
    "clf=RandomForestClassifier(n_estimators=50,random_state = 42, max_depth=50, max_leaf_nodes=30)\n",
    "\n",
    "Using  [['ForecastWind','sin_day','sin_hour']]\n",
    "Mean Absolute Error: 574.4672045420589\n",
    "Mean Squared Error: 532948.2448827133\n",
    "Root Mean Squared Error: 730.0330436923477\n",
    "\n",
    "\n",
    "\n",
    "clf=RandomForestClassifier(n_estimators=50,random_state = 42, max_depth=50, max_leaf_nodes=30)\n",
    "\n",
    "Using [['ForecastWind','sin_day','sin_hour','dub_wddir','dub_wdsp','dub_msl']]\n",
    "Mean Absolute Error: 594.1552368145824\n",
    "Mean Squared Error: 585698.313312416\n",
    "Root Mean Squared Error: 765.3092925820357\n"
   ]
  },
  {
   "cell_type": "markdown",
   "id": "2d4b5cd6",
   "metadata": {},
   "source": [
    "### Reggresion model"
   ]
  },
  {
   "cell_type": "code",
   "execution_count": 24,
   "id": "e8849ed3",
   "metadata": {},
   "outputs": [],
   "source": [
    "from sklearn.ensemble import RandomForestRegressor\n",
    "\n",
    "#rrf=RandomForestRegressor(n_estimators=100,random_state = 42, max_depth=100, max_leaf_nodes=100)\n",
    "rrf=RandomForestRegressor(n_estimators=100,random_state = 42)\n",
    "\n",
    "#clf=RandomForestClassifier(n_estimators=100,random_state = 43)\n",
    "#print(clf.get_params())\n",
    "#Train the model using the training sets y_pred=clf.predict(X_test"
   ]
  },
  {
   "cell_type": "code",
   "execution_count": 25,
   "id": "05b597aa",
   "metadata": {},
   "outputs": [
    {
     "data": {
      "text/plain": [
       "{'bootstrap': True,\n",
       " 'ccp_alpha': 0.0,\n",
       " 'criterion': 'squared_error',\n",
       " 'max_depth': None,\n",
       " 'max_features': 1.0,\n",
       " 'max_leaf_nodes': None,\n",
       " 'max_samples': None,\n",
       " 'min_impurity_decrease': 0.0,\n",
       " 'min_samples_leaf': 1,\n",
       " 'min_samples_split': 2,\n",
       " 'min_weight_fraction_leaf': 0.0,\n",
       " 'n_estimators': 100,\n",
       " 'n_jobs': None,\n",
       " 'oob_score': False,\n",
       " 'random_state': 42,\n",
       " 'verbose': 0,\n",
       " 'warm_start': False}"
      ]
     },
     "execution_count": 25,
     "metadata": {},
     "output_type": "execute_result"
    }
   ],
   "source": [
    "rrf.get_params()"
   ]
  },
  {
   "cell_type": "code",
   "execution_count": 26,
   "id": "8b1d76b3",
   "metadata": {},
   "outputs": [
    {
     "data": {
      "text/html": [
       "<style>#sk-container-id-1 {color: black;background-color: white;}#sk-container-id-1 pre{padding: 0;}#sk-container-id-1 div.sk-toggleable {background-color: white;}#sk-container-id-1 label.sk-toggleable__label {cursor: pointer;display: block;width: 100%;margin-bottom: 0;padding: 0.3em;box-sizing: border-box;text-align: center;}#sk-container-id-1 label.sk-toggleable__label-arrow:before {content: \"▸\";float: left;margin-right: 0.25em;color: #696969;}#sk-container-id-1 label.sk-toggleable__label-arrow:hover:before {color: black;}#sk-container-id-1 div.sk-estimator:hover label.sk-toggleable__label-arrow:before {color: black;}#sk-container-id-1 div.sk-toggleable__content {max-height: 0;max-width: 0;overflow: hidden;text-align: left;background-color: #f0f8ff;}#sk-container-id-1 div.sk-toggleable__content pre {margin: 0.2em;color: black;border-radius: 0.25em;background-color: #f0f8ff;}#sk-container-id-1 input.sk-toggleable__control:checked~div.sk-toggleable__content {max-height: 200px;max-width: 100%;overflow: auto;}#sk-container-id-1 input.sk-toggleable__control:checked~label.sk-toggleable__label-arrow:before {content: \"▾\";}#sk-container-id-1 div.sk-estimator input.sk-toggleable__control:checked~label.sk-toggleable__label {background-color: #d4ebff;}#sk-container-id-1 div.sk-label input.sk-toggleable__control:checked~label.sk-toggleable__label {background-color: #d4ebff;}#sk-container-id-1 input.sk-hidden--visually {border: 0;clip: rect(1px 1px 1px 1px);clip: rect(1px, 1px, 1px, 1px);height: 1px;margin: -1px;overflow: hidden;padding: 0;position: absolute;width: 1px;}#sk-container-id-1 div.sk-estimator {font-family: monospace;background-color: #f0f8ff;border: 1px dotted black;border-radius: 0.25em;box-sizing: border-box;margin-bottom: 0.5em;}#sk-container-id-1 div.sk-estimator:hover {background-color: #d4ebff;}#sk-container-id-1 div.sk-parallel-item::after {content: \"\";width: 100%;border-bottom: 1px solid gray;flex-grow: 1;}#sk-container-id-1 div.sk-label:hover label.sk-toggleable__label {background-color: #d4ebff;}#sk-container-id-1 div.sk-serial::before {content: \"\";position: absolute;border-left: 1px solid gray;box-sizing: border-box;top: 0;bottom: 0;left: 50%;z-index: 0;}#sk-container-id-1 div.sk-serial {display: flex;flex-direction: column;align-items: center;background-color: white;padding-right: 0.2em;padding-left: 0.2em;position: relative;}#sk-container-id-1 div.sk-item {position: relative;z-index: 1;}#sk-container-id-1 div.sk-parallel {display: flex;align-items: stretch;justify-content: center;background-color: white;position: relative;}#sk-container-id-1 div.sk-item::before, #sk-container-id-1 div.sk-parallel-item::before {content: \"\";position: absolute;border-left: 1px solid gray;box-sizing: border-box;top: 0;bottom: 0;left: 50%;z-index: -1;}#sk-container-id-1 div.sk-parallel-item {display: flex;flex-direction: column;z-index: 1;position: relative;background-color: white;}#sk-container-id-1 div.sk-parallel-item:first-child::after {align-self: flex-end;width: 50%;}#sk-container-id-1 div.sk-parallel-item:last-child::after {align-self: flex-start;width: 50%;}#sk-container-id-1 div.sk-parallel-item:only-child::after {width: 0;}#sk-container-id-1 div.sk-dashed-wrapped {border: 1px dashed gray;margin: 0 0.4em 0.5em 0.4em;box-sizing: border-box;padding-bottom: 0.4em;background-color: white;}#sk-container-id-1 div.sk-label label {font-family: monospace;font-weight: bold;display: inline-block;line-height: 1.2em;}#sk-container-id-1 div.sk-label-container {text-align: center;}#sk-container-id-1 div.sk-container {/* jupyter's `normalize.less` sets `[hidden] { display: none; }` but bootstrap.min.css set `[hidden] { display: none !important; }` so we also need the `!important` here to be able to override the default hidden behavior on the sphinx rendered scikit-learn.org. See: https://github.com/scikit-learn/scikit-learn/issues/21755 */display: inline-block !important;position: relative;}#sk-container-id-1 div.sk-text-repr-fallback {display: none;}</style><div id=\"sk-container-id-1\" class=\"sk-top-container\"><div class=\"sk-text-repr-fallback\"><pre>RandomForestRegressor(random_state=42)</pre><b>In a Jupyter environment, please rerun this cell to show the HTML representation or trust the notebook. <br />On GitHub, the HTML representation is unable to render, please try loading this page with nbviewer.org.</b></div><div class=\"sk-container\" hidden><div class=\"sk-item\"><div class=\"sk-estimator sk-toggleable\"><input class=\"sk-toggleable__control sk-hidden--visually\" id=\"sk-estimator-id-1\" type=\"checkbox\" checked><label for=\"sk-estimator-id-1\" class=\"sk-toggleable__label sk-toggleable__label-arrow\">RandomForestRegressor</label><div class=\"sk-toggleable__content\"><pre>RandomForestRegressor(random_state=42)</pre></div></div></div></div></div>"
      ],
      "text/plain": [
       "RandomForestRegressor(random_state=42)"
      ]
     },
     "execution_count": 26,
     "metadata": {},
     "output_type": "execute_result"
    }
   ],
   "source": [
    "rrf.fit(X_train1,y_train)"
   ]
  },
  {
   "cell_type": "code",
   "execution_count": 27,
   "id": "6314ca82",
   "metadata": {},
   "outputs": [
    {
     "data": {
      "image/png": "[encoded data removed]",
      "text/plain": [
       "<Figure size 1332x756 with 1 Axes>"
      ]
     },
     "metadata": {
      "needs_background": "light"
     },
     "output_type": "display_data"
    }
   ],
   "source": [
    "y_pred=rrf.predict(X_valid1)\n",
    "import matplotlib.pyplot as plt \n",
    "from matplotlib.pyplot import figure\n",
    "\n",
    "plt.plot(X_valid['date2'][-7*24:],y_pred[-7*24:],color = 'blue')\n",
    "plt.plot(X_valid['date2'][-7*24:],y_valid[-7*24:],color = 'red')\n",
    "fig = plt.gcf()\n",
    "fig.set_size_inches(18.5, 10.5)\n",
    "fig.savefig('test2png.png', dpi=100)"
   ]
  },
  {
   "cell_type": "code",
   "execution_count": 28,
   "id": "e09ef186",
   "metadata": {},
   "outputs": [
    {
     "name": "stdout",
     "output_type": "stream",
     "text": [
      "Mean Absolute Error: 481.1981891528463\n",
      "Mean Squared Error: 363681.65168292244\n",
      "Root Mean Squared Error: 603.0602388509149\n"
     ]
    }
   ],
   "source": [
    "from sklearn import metrics\n",
    "\n",
    "print('Mean Absolute Error:', metrics.mean_absolute_error(y_valid, y_pred))\n",
    "print('Mean Squared Error:', metrics.mean_squared_error(y_valid, y_pred))\n",
    "print('Root Mean Squared Error:', np.sqrt(metrics.mean_squared_error(y_valid, y_pred)))"
   ]
  },
  {
   "cell_type": "code",
   "execution_count": 29,
   "id": "3ded3073",
   "metadata": {},
   "outputs": [
    {
     "data": {
      "text/plain": [
       "<BarContainer object of 8 artists>"
      ]
     },
     "execution_count": 29,
     "metadata": {},
     "output_type": "execute_result"
    },
    {
     "data": {
      "image/png": "[encoded data removed]",
      "text/plain": [
       "<Figure size 432x288 with 1 Axes>"
      ]
     },
     "metadata": {
      "needs_background": "light"
     },
     "output_type": "display_data"
    }
   ],
   "source": [
    "plt.barh(X_valid1.columns, rrf.feature_importances_)"
   ]
  },
  {
   "cell_type": "markdown",
   "id": "3b54fc76",
   "metadata": {},
   "source": [
    "This:-\n",
    "rrf=RandomForestRegressor(n_estimators=100,random_state = 42, max_depth=100, max_leaf_nodes=100)\n",
    "\n",
    "Yields this:-\n",
    "Mean Absolute Error: 465.79800324008335\n",
    "Mean Squared Error: 332345.30211887945\n",
    "Root Mean Squared Error: 576.4939740525302\n",
    "\n",
    "This:-\n",
    "rrf=RandomForestRegressor(n_estimators=100,random_state = 42, max_depth=100, max_leaf_nodes=100)\n",
    "\n",
    "Yields this:-\n",
    "Mean Absolute Error: 479.4909188704617\n",
    "Mean Squared Error: 362932.07708576124\n",
    "Root Mean Squared Error: 602.438442569663"
   ]
  },
  {
   "cell_type": "markdown",
   "id": "cdbaa718",
   "metadata": {},
   "source": [
    "## Using Tenserflow"
   ]
  },
  {
   "cell_type": "code",
   "execution_count": 30,
   "id": "1514edd5",
   "metadata": {},
   "outputs": [
    {
     "name": "stderr",
     "output_type": "stream",
     "text": [
      "2022-07-12 21:02:00.517887: W tensorflow/stream_executor/platform/default/dso_loader.cc:64] Could not load dynamic library 'libcudart.so.11.0'; dlerror: libcudart.so.11.0: cannot open shared object file: No such file or directory\n",
      "2022-07-12 21:02:00.517941: I tensorflow/stream_executor/cuda/cudart_stub.cc:29] Ignore above cudart dlerror if you do not have a GPU set up on your machine.\n"
     ]
    }
   ],
   "source": [
    "import tensorflow_decision_forests as tfdf\n"
   ]
  },
  {
   "cell_type": "code",
   "execution_count": 31,
   "id": "e403d2de",
   "metadata": {},
   "outputs": [],
   "source": [
    "trainSetTF=trainSet\n",
    "validSetTF=validSet\n",
    "testSetTF=testSet"
   ]
  },
  {
   "cell_type": "code",
   "execution_count": 32,
   "id": "ea4a74eb",
   "metadata": {},
   "outputs": [
    {
     "name": "stderr",
     "output_type": "stream",
     "text": [
      "/tmp/ipykernel_366705/4217556139.py:2: FutureWarning: In a future version of pandas all arguments of DataFrame.drop except for the argument 'labels' will be keyword-only.\n",
      "  trainSetTF=trainSetTF.drop('date2',1)\n",
      "/tmp/ipykernel_366705/4217556139.py:3: FutureWarning: In a future version of pandas all arguments of DataFrame.drop except for the argument 'labels' will be keyword-only.\n",
      "  validSetTF=validSetTF.drop('date2',1)\n",
      "/tmp/ipykernel_366705/4217556139.py:4: FutureWarning: In a future version of pandas all arguments of DataFrame.drop except for the argument 'labels' will be keyword-only.\n",
      "  testSetTF=testSetTF.drop('date2',1)\n",
      "/tmp/ipykernel_366705/4217556139.py:5: FutureWarning: In a future version of pandas all arguments of DataFrame.drop except for the argument 'labels' will be keyword-only.\n",
      "  trainSetTF=trainSetTF.drop('dayInMonth',1)\n",
      "/tmp/ipykernel_366705/4217556139.py:6: FutureWarning: In a future version of pandas all arguments of DataFrame.drop except for the argument 'labels' will be keyword-only.\n",
      "  validSetTF=validSetTF.drop('dayInMonth',1)\n",
      "/tmp/ipykernel_366705/4217556139.py:7: FutureWarning: In a future version of pandas all arguments of DataFrame.drop except for the argument 'labels' will be keyword-only.\n",
      "  testSetTF=testSetTF.drop('dayInMonth',1)\n",
      "/tmp/ipykernel_366705/4217556139.py:8: FutureWarning: In a future version of pandas all arguments of DataFrame.drop except for the argument 'labels' will be keyword-only.\n",
      "  trainSetTF=trainSetTF.drop('dayOfWeek',1)\n",
      "/tmp/ipykernel_366705/4217556139.py:9: FutureWarning: In a future version of pandas all arguments of DataFrame.drop except for the argument 'labels' will be keyword-only.\n",
      "  validSetTF=validSetTF.drop('dayOfWeek',1)\n",
      "/tmp/ipykernel_366705/4217556139.py:10: FutureWarning: In a future version of pandas all arguments of DataFrame.drop except for the argument 'labels' will be keyword-only.\n",
      "  testSetTF=testSetTF.drop('dayOfWeek',1)\n",
      "/tmp/ipykernel_366705/4217556139.py:11: FutureWarning: In a future version of pandas all arguments of DataFrame.drop except for the argument 'labels' will be keyword-only.\n",
      "  trainSetTF=trainSetTF.drop('dayOfYear',1)\n",
      "/tmp/ipykernel_366705/4217556139.py:12: FutureWarning: In a future version of pandas all arguments of DataFrame.drop except for the argument 'labels' will be keyword-only.\n",
      "  validSetTF=validSetTF.drop('dayOfYear',1)\n",
      "/tmp/ipykernel_366705/4217556139.py:13: FutureWarning: In a future version of pandas all arguments of DataFrame.drop except for the argument 'labels' will be keyword-only.\n",
      "  testSetTF=testSetTF.drop('dayOfYear',1)\n",
      "/tmp/ipykernel_366705/4217556139.py:14: FutureWarning: In a future version of pandas all arguments of DataFrame.drop except for the argument 'labels' will be keyword-only.\n",
      "  trainSetTF=trainSetTF.drop('hour',1)\n",
      "/tmp/ipykernel_366705/4217556139.py:15: FutureWarning: In a future version of pandas all arguments of DataFrame.drop except for the argument 'labels' will be keyword-only.\n",
      "  validSetTF=validSetTF.drop('hour',1)\n",
      "/tmp/ipykernel_366705/4217556139.py:16: FutureWarning: In a future version of pandas all arguments of DataFrame.drop except for the argument 'labels' will be keyword-only.\n",
      "  testSetTF=testSetTF.drop('hour',1)\n"
     ]
    }
   ],
   "source": [
    "#Dropping time from the train and test columns\n",
    "trainSetTF=trainSetTF.drop('date2',1)\n",
    "validSetTF=validSetTF.drop('date2',1)\n",
    "testSetTF=testSetTF.drop('date2',1)\n",
    "trainSetTF=trainSetTF.drop('dayInMonth',1)\n",
    "validSetTF=validSetTF.drop('dayInMonth',1)\n",
    "testSetTF=testSetTF.drop('dayInMonth',1)\n",
    "trainSetTF=trainSetTF.drop('dayOfWeek',1)\n",
    "validSetTF=validSetTF.drop('dayOfWeek',1)\n",
    "testSetTF=testSetTF.drop('dayOfWeek',1)\n",
    "trainSetTF=trainSetTF.drop('dayOfYear',1)\n",
    "validSetTF=validSetTF.drop('dayOfYear',1)\n",
    "testSetTF=testSetTF.drop('dayOfYear',1)\n",
    "trainSetTF=trainSetTF.drop('hour',1)\n",
    "validSetTF=validSetTF.drop('hour',1)\n",
    "testSetTF=testSetTF.drop('hour',1)"
   ]
  },
  {
   "cell_type": "code",
   "execution_count": 33,
   "id": "95cd9d10",
   "metadata": {},
   "outputs": [
    {
     "data": {
      "text/plain": [
       "'\\ntrainSetTF = tfdf.keras.pd_dataframe_to_tf_dataset(trainSetTF, label=label, task=tfdf.keras.Task.REGRESSION)\\ntestSetTF = tfdf.keras.pd_dataframe_to_tf_dataset(testSetTF, label=label, task=tfdf.keras.Task.REGRESSION)\\n'"
      ]
     },
     "execution_count": 33,
     "metadata": {},
     "output_type": "execute_result"
    }
   ],
   "source": [
    "\n",
    "'''\n",
    "trainSetTF = tfdf.keras.pd_dataframe_to_tf_dataset(trainSetTF, label=label, task=tfdf.keras.Task.REGRESSION)\n",
    "testSetTF = tfdf.keras.pd_dataframe_to_tf_dataset(testSetTF, label=label, task=tfdf.keras.Task.REGRESSION)\n",
    "'''"
   ]
  },
  {
   "cell_type": "code",
   "execution_count": 34,
   "id": "239a42ef",
   "metadata": {},
   "outputs": [],
   "source": [
    "\n",
    "y_trainTF = trainSetTF.ActualGenerationMW\n",
    "y_validTF = validSetTF.ActualGenerationMW\n",
    "y_testTF = testSetTF.ActualGenerationMW\n",
    "\n",
    "#Version 1; Causing failures on kernel for ? reason\n",
    "X_trainTF = trainSetTF[['ForecastWind','sin_day','sin_hour','cos_day','cos_hour','dub_wddir','dub_wdsp','dub_msl','ActualGenerationMW']]\n",
    "X_validTF = validSetTF[['ForecastWind','sin_day','sin_hour','cos_day','cos_hour','dub_wddir','dub_wdsp','dub_msl','ActualGenerationMW']]\n"
   ]
  },
  {
   "cell_type": "code",
   "execution_count": 35,
   "id": "7530edb6",
   "metadata": {},
   "outputs": [
    {
     "name": "stderr",
     "output_type": "stream",
     "text": [
      "/home/ubuntu/.local/lib/python3.8/site-packages/tensorflow_decision_forests/keras/core.py:2542: FutureWarning: In a future version of pandas all arguments of DataFrame.drop except for the argument 'labels' will be keyword-only.\n",
      "  features_dataframe = dataframe.drop(label, 1)\n",
      "2022-07-12 21:02:03.939180: W tensorflow/stream_executor/platform/default/dso_loader.cc:64] Could not load dynamic library 'libcuda.so.1'; dlerror: libcuda.so.1: cannot open shared object file: No such file or directory\n",
      "2022-07-12 21:02:03.939235: W tensorflow/stream_executor/cuda/cuda_driver.cc:269] failed call to cuInit: UNKNOWN ERROR (303)\n",
      "2022-07-12 21:02:03.939273: I tensorflow/stream_executor/cuda/cuda_diagnostics.cc:156] kernel driver does not appear to be running on this host (x20217366): /proc/driver/nvidia/version does not exist\n",
      "/home/ubuntu/.local/lib/python3.8/site-packages/tensorflow_decision_forests/keras/core.py:2542: FutureWarning: In a future version of pandas all arguments of DataFrame.drop except for the argument 'labels' will be keyword-only.\n",
      "  features_dataframe = dataframe.drop(label, 1)\n"
     ]
    }
   ],
   "source": [
    "# Running into difficulty converting these columns, so I reset the value of X_train to include ActualGenerationMW\n",
    "label = \"ActualGenerationMW\"\n",
    "'''\n",
    "y_trainTF = tfdf.keras.pd_dataframe_to_tf_dataset(y_trainTF, label=label, task=tfdf.keras.Task.REGRESSION)\n",
    "y_validTF = tfdf.keras.pd_dataframe_to_tf_dataset(y_validTF, label=label, task=tfdf.keras.Task.REGRESSION)\n",
    "y_testTF = tfdf.keras.pd_dataframe_to_tf_dataset(y_testTF, label=label, task=tfdf.keras.Task.REGRESSION)\n",
    "'''\n",
    "\n",
    "X_trainTF = tfdf.keras.pd_dataframe_to_tf_dataset(X_trainTF, label=label, task=tfdf.keras.Task.REGRESSION)\n",
    "\n",
    "X_validTF = tfdf.keras.pd_dataframe_to_tf_dataset(X_validTF, label=label, task=tfdf.keras.Task.REGRESSION)"
   ]
  },
  {
   "cell_type": "code",
   "execution_count": 36,
   "id": "5dd5848b",
   "metadata": {},
   "outputs": [
    {
     "name": "stdout",
     "output_type": "stream",
     "text": [
      "Use /tmp/tmpkzxjte6v as temporary training directory\n",
      "Reading training dataset...\n",
      "Training dataset read in 0:00:09.330621. Found 20032 examples.\n",
      "Training model...\n"
     ]
    },
    {
     "name": "stderr",
     "output_type": "stream",
     "text": [
      "[INFO kernel.cc:1176] Loading model from path /tmp/tmpkzxjte6v/model/ with prefix f866814bec894837\n",
      "[INFO abstract_model.cc:1246] Engine \"RandomForestOptPred\" built\n",
      "[INFO kernel.cc:1022] Use fast generic engine\n"
     ]
    },
    {
     "name": "stdout",
     "output_type": "stream",
     "text": [
      "Model trained in 0:00:18.132682\n",
      "Compiling model...\n",
      "WARNING:tensorflow:AutoGraph could not transform <function simple_ml_inference_op_with_handle at 0x7f7114c3ad30> and will run it as-is.\n",
      "Please report this to the TensorFlow team. When filing the bug, set the verbosity to 10 (on Linux, `export AUTOGRAPH_VERBOSITY=10`) and attach the full output.\n",
      "Cause: could not get source code\n",
      "To silence this warning, decorate the function with @tf.autograph.experimental.do_not_convert\n"
     ]
    },
    {
     "name": "stderr",
     "output_type": "stream",
     "text": [
      "WARNING:tensorflow:AutoGraph could not transform <function simple_ml_inference_op_with_handle at 0x7f7114c3ad30> and will run it as-is.\n",
      "Please report this to the TensorFlow team. When filing the bug, set the verbosity to 10 (on Linux, `export AUTOGRAPH_VERBOSITY=10`) and attach the full output.\n",
      "Cause: could not get source code\n",
      "To silence this warning, decorate the function with @tf.autograph.experimental.do_not_convert\n"
     ]
    },
    {
     "name": "stdout",
     "output_type": "stream",
     "text": [
      "WARNING: AutoGraph could not transform <function simple_ml_inference_op_with_handle at 0x7f7114c3ad30> and will run it as-is.\n",
      "Please report this to the TensorFlow team. When filing the bug, set the verbosity to 10 (on Linux, `export AUTOGRAPH_VERBOSITY=10`) and attach the full output.\n",
      "Cause: could not get source code\n",
      "To silence this warning, decorate the function with @tf.autograph.experimental.do_not_convert\n",
      "Model compiled.\n"
     ]
    },
    {
     "data": {
      "text/plain": [
       "<keras.callbacks.History at 0x7f7114ecf2b0>"
      ]
     },
     "execution_count": 36,
     "metadata": {},
     "output_type": "execute_result"
    }
   ],
   "source": [
    "#Using keras\n",
    "model_7 = tfdf.keras.RandomForestModel(task = tfdf.keras.Task.REGRESSION)\n",
    "\n",
    "# Train the model.\n",
    "model_7.fit(x=X_trainTF)"
   ]
  },
  {
   "cell_type": "code",
   "execution_count": 37,
   "id": "878ce4be",
   "metadata": {},
   "outputs": [
    {
     "data": {
      "text/plain": [
       "'\\nimport math\\n# Evaluate the model on the test dataset.\\nmodel_7.compile(metrics=[\"mse\"])\\nevaluation = model_7.evaluate(test_ds, return_dict=True)\\n\\nprint(evaluation)\\nprint()\\nprint(f\"MSE: {evaluation[\\'mse\\']}\")\\nprint(f\"RMSE: {math.sqrt(evaluation[\\'mse\\'])}\")'"
      ]
     },
     "execution_count": 37,
     "metadata": {},
     "output_type": "execute_result"
    }
   ],
   "source": [
    "# Not sure what test_ds should be\n",
    "'''\n",
    "import math\n",
    "# Evaluate the model on the test dataset.\n",
    "model_7.compile(metrics=[\"mse\"])\n",
    "evaluation = model_7.evaluate(test_ds, return_dict=True)\n",
    "\n",
    "print(evaluation)\n",
    "print()\n",
    "print(f\"MSE: {evaluation['mse']}\")\n",
    "print(f\"RMSE: {math.sqrt(evaluation['mse'])}\")'''"
   ]
  },
  {
   "cell_type": "code",
   "execution_count": 38,
   "id": "7704be54",
   "metadata": {},
   "outputs": [
    {
     "data": {
      "text/plain": [
       "\"y_pred=model_7.predict(X_valid1)\\nimport matplotlib.pyplot as plt \\nfrom matplotlib.pyplot import figure\\n\\nplt.plot(X_valid['date2'][-7*24:],y_pred[-7*24:],color = 'blue')\\nplt.plot(X_valid['date2'][-7*24:],y_valid[-7*24:],color = 'red')\\nfig = plt.gcf()\\nfig.set_size_inches(18.5, 10.5)\\nfig.savefig('test2png.png', dpi=100)\""
      ]
     },
     "execution_count": 38,
     "metadata": {},
     "output_type": "execute_result"
    }
   ],
   "source": [
    "# Not sure why, but this is\n",
    "'''y_pred=model_7.predict(X_valid1)\n",
    "import matplotlib.pyplot as plt \n",
    "from matplotlib.pyplot import figure\n",
    "\n",
    "plt.plot(X_valid['date2'][-7*24:],y_pred[-7*24:],color = 'blue')\n",
    "plt.plot(X_valid['date2'][-7*24:],y_valid[-7*24:],color = 'red')\n",
    "fig = plt.gcf()\n",
    "fig.set_size_inches(18.5, 10.5)\n",
    "fig.savefig('test2png.png', dpi=100)'''"
   ]
  },
  {
   "cell_type": "code",
   "execution_count": 39,
   "id": "e78c304d",
   "metadata": {},
   "outputs": [
    {
     "name": "stdout",
     "output_type": "stream",
     "text": [
      "Use /tmp/tmp_sufi_b8 as temporary training directory\n"
     ]
    }
   ],
   "source": [
    "### Another TF model\n",
    "\n",
    "using_col_list = ['ForecastWind','sin_day','sin_hour','cos_day','cos_hour','dub_wddir','dub_wdsp','dub_msl','ActualGenerationMW']\n",
    "using_col_list.remove('ActualGenerationMW')\n",
    "feature_list = []\n",
    "for col in using_col_list:\n",
    "    feature_list.append(tfdf.keras.FeatureUsage(name=col,semantic=tfdf.keras.FeatureSemantic.NUMERICAL))\n",
    "\n",
    "\n",
    "model8 = tfdf.keras.RandomForestModel(features = feature_list, task = tfdf.keras.Task.REGRESSION,\n",
    "    exclude_non_specified_features=True,\n",
    "    num_trees=1000, max_depth=16,\n",
    "    split_axis=\"SPARSE_OBLIQUE\",categorical_algorithm=\"RANDOM\",\n",
    "    missing_value_policy='RANDOM_LOCAL_IMPUTATION',\n",
    "    sparse_oblique_normalization='STANDARD_DEVIATION',\n",
    "    compute_oob_variable_importances=True,\n",
    "    winner_take_all=False)\n",
    "                                                \n",
    "\n",
    "#model8.compile(metrics=[\"Accuracy\"])\n"
   ]
  },
  {
   "cell_type": "code",
   "execution_count": 40,
   "id": "3ee6b59c",
   "metadata": {},
   "outputs": [],
   "source": [
    "!pip install wurlitzer -q"
   ]
  },
  {
   "cell_type": "code",
   "execution_count": 41,
   "id": "9a32c5b5",
   "metadata": {},
   "outputs": [
    {
     "name": "stdout",
     "output_type": "stream",
     "text": [
      "Reading training dataset...\n",
      "Training dataset read in 0:00:00.663912. Found 20032 examples.\n",
      "Training model...\n"
     ]
    },
    {
     "name": "stderr",
     "output_type": "stream",
     "text": [
      "[INFO kernel.cc:1176] Loading model from path /tmp/tmp_sufi_b8/model/ with prefix ee76a160e98a442e\n",
      "[INFO abstract_model.cc:1246] Engine \"RandomForestGeneric\" built\n",
      "[INFO kernel.cc:1022] Use fast generic engine\n"
     ]
    },
    {
     "name": "stdout",
     "output_type": "stream",
     "text": [
      "Model trained in 0:08:35.788835\n",
      "Compiling model...\n",
      "Model compiled.\n"
     ]
    }
   ],
   "source": [
    "from wurlitzer import sys_pipes\n",
    "with sys_pipes():\n",
    "    model8.fit(X_trainTF)"
   ]
  },
  {
   "cell_type": "code",
   "execution_count": 42,
   "id": "6c795833",
   "metadata": {},
   "outputs": [
    {
     "data": {
      "text/plain": [
       "'\\n# Evaluate the model on the test dataset.\\nmodel8.compile(metrics=[\"mse\"])\\nevaluation = model8.evaluate(test_ds, return_dict=True)\\n\\nprint(evaluation)\\nprint()\\nprint(f\"MSE: {evaluation[\\'mse\\']}\")\\nprint(f\"RMSE: {math.sqrt(evaluation[\\'mse\\'])}\")\\n#print(f\"MAE: {evaluation[\\'mae\\']}\")\\n'"
      ]
     },
     "execution_count": 42,
     "metadata": {},
     "output_type": "execute_result"
    }
   ],
   "source": [
    "# Not sure what test_ds should be\n",
    "'''\n",
    "# Evaluate the model on the test dataset.\n",
    "model8.compile(metrics=[\"mse\"])\n",
    "evaluation = model8.evaluate(test_ds, return_dict=True)\n",
    "\n",
    "print(evaluation)\n",
    "print()\n",
    "print(f\"MSE: {evaluation['mse']}\")\n",
    "print(f\"RMSE: {math.sqrt(evaluation['mse'])}\")\n",
    "#print(f\"MAE: {evaluation['mae']}\")\n",
    "'''"
   ]
  },
  {
   "cell_type": "markdown",
   "id": "fb4274bf",
   "metadata": {},
   "source": [
    "Not sure if I'll get much better then above"
   ]
  },
  {
   "cell_type": "markdown",
   "id": "05dcc2a2",
   "metadata": {},
   "source": [
    "## Tenserflow Setup"
   ]
  },
  {
   "cell_type": "code",
   "execution_count": 43,
   "id": "c75751e5",
   "metadata": {},
   "outputs": [
    {
     "data": {
      "text/html": [
       "<div>\n",
       "<style scoped>\n",
       "    .dataframe tbody tr th:only-of-type {\n",
       "        vertical-align: middle;\n",
       "    }\n",
       "\n",
       "    .dataframe tbody tr th {\n",
       "        vertical-align: top;\n",
       "    }\n",
       "\n",
       "    .dataframe thead th {\n",
       "        text-align: right;\n",
       "    }\n",
       "</style>\n",
       "<table border=\"1\" class=\"dataframe\">\n",
       "  <thead>\n",
       "    <tr style=\"text-align: right;\">\n",
       "      <th></th>\n",
       "      <th>ActualGenerationMW</th>\n",
       "      <th>ForecastWind</th>\n",
       "      <th>ActualWind</th>\n",
       "      <th>ActualDemand</th>\n",
       "      <th>ker_temp</th>\n",
       "      <th>dub_temp</th>\n",
       "      <th>dub_wddir</th>\n",
       "      <th>don_wddir</th>\n",
       "      <th>dub_wdsp</th>\n",
       "      <th>may_wdsp</th>\n",
       "      <th>...</th>\n",
       "      <th>cos_day</th>\n",
       "      <th>sin_wind</th>\n",
       "      <th>cos_wind</th>\n",
       "      <th>totalImbalance</th>\n",
       "      <th>cos_week</th>\n",
       "      <th>date2</th>\n",
       "      <th>hour</th>\n",
       "      <th>dayOfWeek</th>\n",
       "      <th>dayOfYear</th>\n",
       "      <th>dayInMonth</th>\n",
       "    </tr>\n",
       "  </thead>\n",
       "  <tbody>\n",
       "    <tr>\n",
       "      <th>0</th>\n",
       "      <td>2681.0</td>\n",
       "      <td>-1.047933</td>\n",
       "      <td>-0.835824</td>\n",
       "      <td>-1.026788</td>\n",
       "      <td>-1.258304</td>\n",
       "      <td>-0.297889</td>\n",
       "      <td>-1.364822</td>\n",
       "      <td>-0.575891</td>\n",
       "      <td>-1.005216</td>\n",
       "      <td>-0.776282</td>\n",
       "      <td>...</td>\n",
       "      <td>1.327940</td>\n",
       "      <td>0.942094</td>\n",
       "      <td>-1.679746</td>\n",
       "      <td>-1.430845</td>\n",
       "      <td>1.412591</td>\n",
       "      <td>2019-04-01 00:00:00</td>\n",
       "      <td>0</td>\n",
       "      <td>0</td>\n",
       "      <td>91</td>\n",
       "      <td>1</td>\n",
       "    </tr>\n",
       "    <tr>\n",
       "      <th>1</th>\n",
       "      <td>2696.0</td>\n",
       "      <td>-1.074345</td>\n",
       "      <td>-0.915625</td>\n",
       "      <td>-1.200459</td>\n",
       "      <td>-1.701154</td>\n",
       "      <td>-0.278044</td>\n",
       "      <td>-1.103840</td>\n",
       "      <td>-0.575891</td>\n",
       "      <td>-1.005216</td>\n",
       "      <td>-0.587556</td>\n",
       "      <td>...</td>\n",
       "      <td>1.327940</td>\n",
       "      <td>1.391258</td>\n",
       "      <td>-1.332510</td>\n",
       "      <td>-1.128395</td>\n",
       "      <td>1.412591</td>\n",
       "      <td>2019-04-01 01:00:00</td>\n",
       "      <td>1</td>\n",
       "      <td>0</td>\n",
       "      <td>91</td>\n",
       "      <td>1</td>\n",
       "    </tr>\n",
       "    <tr>\n",
       "      <th>2</th>\n",
       "      <td>2834.0</td>\n",
       "      <td>-1.090027</td>\n",
       "      <td>-1.007630</td>\n",
       "      <td>-1.354315</td>\n",
       "      <td>-1.649054</td>\n",
       "      <td>-0.238355</td>\n",
       "      <td>-0.842857</td>\n",
       "      <td>-0.689865</td>\n",
       "      <td>-1.180783</td>\n",
       "      <td>-0.587556</td>\n",
       "      <td>...</td>\n",
       "      <td>1.327940</td>\n",
       "      <td>1.649972</td>\n",
       "      <td>-0.894532</td>\n",
       "      <td>-0.630459</td>\n",
       "      <td>1.412591</td>\n",
       "      <td>2019-04-01 02:00:00</td>\n",
       "      <td>2</td>\n",
       "      <td>0</td>\n",
       "      <td>91</td>\n",
       "      <td>1</td>\n",
       "    </tr>\n",
       "    <tr>\n",
       "      <th>3</th>\n",
       "      <td>2886.0</td>\n",
       "      <td>-1.087551</td>\n",
       "      <td>-1.035794</td>\n",
       "      <td>-1.442899</td>\n",
       "      <td>-1.935604</td>\n",
       "      <td>-0.317733</td>\n",
       "      <td>-0.059911</td>\n",
       "      <td>-0.689865</td>\n",
       "      <td>-1.005216</td>\n",
       "      <td>-0.587556</td>\n",
       "      <td>...</td>\n",
       "      <td>1.327940</td>\n",
       "      <td>1.105585</td>\n",
       "      <td>0.419641</td>\n",
       "      <td>-0.394400</td>\n",
       "      <td>1.412591</td>\n",
       "      <td>2019-04-01 03:00:00</td>\n",
       "      <td>3</td>\n",
       "      <td>0</td>\n",
       "      <td>91</td>\n",
       "      <td>1</td>\n",
       "    </tr>\n",
       "    <tr>\n",
       "      <th>4</th>\n",
       "      <td>2891.0</td>\n",
       "      <td>-1.064441</td>\n",
       "      <td>-1.035794</td>\n",
       "      <td>-1.500012</td>\n",
       "      <td>-2.039804</td>\n",
       "      <td>-0.436801</td>\n",
       "      <td>1.636475</td>\n",
       "      <td>-0.575891</td>\n",
       "      <td>-1.356350</td>\n",
       "      <td>-0.965009</td>\n",
       "      <td>...</td>\n",
       "      <td>1.327940</td>\n",
       "      <td>-2.072596</td>\n",
       "      <td>-0.502609</td>\n",
       "      <td>-0.294813</td>\n",
       "      <td>1.412591</td>\n",
       "      <td>2019-04-01 04:00:00</td>\n",
       "      <td>4</td>\n",
       "      <td>0</td>\n",
       "      <td>91</td>\n",
       "      <td>1</td>\n",
       "    </tr>\n",
       "    <tr>\n",
       "      <th>...</th>\n",
       "      <td>...</td>\n",
       "      <td>...</td>\n",
       "      <td>...</td>\n",
       "      <td>...</td>\n",
       "      <td>...</td>\n",
       "      <td>...</td>\n",
       "      <td>...</td>\n",
       "      <td>...</td>\n",
       "      <td>...</td>\n",
       "      <td>...</td>\n",
       "      <td>...</td>\n",
       "      <td>...</td>\n",
       "      <td>...</td>\n",
       "      <td>...</td>\n",
       "      <td>...</td>\n",
       "      <td>...</td>\n",
       "      <td>...</td>\n",
       "      <td>...</td>\n",
       "      <td>...</td>\n",
       "      <td>...</td>\n",
       "      <td>...</td>\n",
       "    </tr>\n",
       "    <tr>\n",
       "      <th>27489</th>\n",
       "      <td>4992.0</td>\n",
       "      <td>0.002757</td>\n",
       "      <td>0.405306</td>\n",
       "      <td>-0.073346</td>\n",
       "      <td>0.174446</td>\n",
       "      <td>0.555426</td>\n",
       "      <td>0.331563</td>\n",
       "      <td>0.563851</td>\n",
       "      <td>-0.302948</td>\n",
       "      <td>-0.021377</td>\n",
       "      <td>...</td>\n",
       "      <td>0.828188</td>\n",
       "      <td>0.244664</td>\n",
       "      <td>0.755802</td>\n",
       "      <td>1.322558</td>\n",
       "      <td>0.879520</td>\n",
       "      <td>2022-05-22 20:00:00</td>\n",
       "      <td>20</td>\n",
       "      <td>6</td>\n",
       "      <td>142</td>\n",
       "      <td>22</td>\n",
       "    </tr>\n",
       "    <tr>\n",
       "      <th>27490</th>\n",
       "      <td>4659.0</td>\n",
       "      <td>-0.215964</td>\n",
       "      <td>0.131169</td>\n",
       "      <td>-0.209718</td>\n",
       "      <td>0.122346</td>\n",
       "      <td>0.436359</td>\n",
       "      <td>0.462054</td>\n",
       "      <td>0.563851</td>\n",
       "      <td>-0.302948</td>\n",
       "      <td>-0.021377</td>\n",
       "      <td>...</td>\n",
       "      <td>0.828188</td>\n",
       "      <td>-0.081019</td>\n",
       "      <td>0.790091</td>\n",
       "      <td>0.924209</td>\n",
       "      <td>0.879520</td>\n",
       "      <td>2022-05-22 21:00:00</td>\n",
       "      <td>21</td>\n",
       "      <td>6</td>\n",
       "      <td>142</td>\n",
       "      <td>22</td>\n",
       "    </tr>\n",
       "    <tr>\n",
       "      <th>27491</th>\n",
       "      <td>4339.0</td>\n",
       "      <td>-0.374435</td>\n",
       "      <td>-0.115743</td>\n",
       "      <td>-0.279653</td>\n",
       "      <td>0.148396</td>\n",
       "      <td>0.218069</td>\n",
       "      <td>0.462054</td>\n",
       "      <td>0.221929</td>\n",
       "      <td>0.048186</td>\n",
       "      <td>-0.587556</td>\n",
       "      <td>...</td>\n",
       "      <td>0.828188</td>\n",
       "      <td>-0.081019</td>\n",
       "      <td>0.790091</td>\n",
       "      <td>0.444715</td>\n",
       "      <td>0.879520</td>\n",
       "      <td>2022-05-22 22:00:00</td>\n",
       "      <td>22</td>\n",
       "      <td>6</td>\n",
       "      <td>142</td>\n",
       "      <td>22</td>\n",
       "    </tr>\n",
       "    <tr>\n",
       "      <th>27492</th>\n",
       "      <td>3757.0</td>\n",
       "      <td>-0.381038</td>\n",
       "      <td>-0.111988</td>\n",
       "      <td>-0.677115</td>\n",
       "      <td>0.122346</td>\n",
       "      <td>0.059313</td>\n",
       "      <td>0.592545</td>\n",
       "      <td>0.107955</td>\n",
       "      <td>0.399320</td>\n",
       "      <td>-0.210103</td>\n",
       "      <td>...</td>\n",
       "      <td>0.828188</td>\n",
       "      <td>-0.409943</td>\n",
       "      <td>0.782745</td>\n",
       "      <td>0.000261</td>\n",
       "      <td>0.879520</td>\n",
       "      <td>2022-05-22 23:00:00</td>\n",
       "      <td>23</td>\n",
       "      <td>6</td>\n",
       "      <td>142</td>\n",
       "      <td>22</td>\n",
       "    </tr>\n",
       "    <tr>\n",
       "      <th>27709</th>\n",
       "      <td>3856.0</td>\n",
       "      <td>-0.872956</td>\n",
       "      <td>-0.931585</td>\n",
       "      <td>-0.681777</td>\n",
       "      <td>0.148396</td>\n",
       "      <td>-0.258200</td>\n",
       "      <td>0.853528</td>\n",
       "      <td>1.589619</td>\n",
       "      <td>-0.478515</td>\n",
       "      <td>-0.965009</td>\n",
       "      <td>...</td>\n",
       "      <td>0.631584</td>\n",
       "      <td>-1.037748</td>\n",
       "      <td>0.645298</td>\n",
       "      <td>0.190214</td>\n",
       "      <td>-0.318280</td>\n",
       "      <td>2022-06-01 00:00:00</td>\n",
       "      <td>0</td>\n",
       "      <td>2</td>\n",
       "      <td>152</td>\n",
       "      <td>1</td>\n",
       "    </tr>\n",
       "  </tbody>\n",
       "</table>\n",
       "<p>20032 rows × 24 columns</p>\n",
       "</div>"
      ],
      "text/plain": [
       "       ActualGenerationMW  ForecastWind  ActualWind  ActualDemand  ker_temp  \\\n",
       "0                  2681.0     -1.047933   -0.835824     -1.026788 -1.258304   \n",
       "1                  2696.0     -1.074345   -0.915625     -1.200459 -1.701154   \n",
       "2                  2834.0     -1.090027   -1.007630     -1.354315 -1.649054   \n",
       "3                  2886.0     -1.087551   -1.035794     -1.442899 -1.935604   \n",
       "4                  2891.0     -1.064441   -1.035794     -1.500012 -2.039804   \n",
       "...                   ...           ...         ...           ...       ...   \n",
       "27489              4992.0      0.002757    0.405306     -0.073346  0.174446   \n",
       "27490              4659.0     -0.215964    0.131169     -0.209718  0.122346   \n",
       "27491              4339.0     -0.374435   -0.115743     -0.279653  0.148396   \n",
       "27492              3757.0     -0.381038   -0.111988     -0.677115  0.122346   \n",
       "27709              3856.0     -0.872956   -0.931585     -0.681777  0.148396   \n",
       "\n",
       "       dub_temp  dub_wddir  don_wddir  dub_wdsp  may_wdsp  ...   cos_day  \\\n",
       "0     -0.297889  -1.364822  -0.575891 -1.005216 -0.776282  ...  1.327940   \n",
       "1     -0.278044  -1.103840  -0.575891 -1.005216 -0.587556  ...  1.327940   \n",
       "2     -0.238355  -0.842857  -0.689865 -1.180783 -0.587556  ...  1.327940   \n",
       "3     -0.317733  -0.059911  -0.689865 -1.005216 -0.587556  ...  1.327940   \n",
       "4     -0.436801   1.636475  -0.575891 -1.356350 -0.965009  ...  1.327940   \n",
       "...         ...        ...        ...       ...       ...  ...       ...   \n",
       "27489  0.555426   0.331563   0.563851 -0.302948 -0.021377  ...  0.828188   \n",
       "27490  0.436359   0.462054   0.563851 -0.302948 -0.021377  ...  0.828188   \n",
       "27491  0.218069   0.462054   0.221929  0.048186 -0.587556  ...  0.828188   \n",
       "27492  0.059313   0.592545   0.107955  0.399320 -0.210103  ...  0.828188   \n",
       "27709 -0.258200   0.853528   1.589619 -0.478515 -0.965009  ...  0.631584   \n",
       "\n",
       "       sin_wind  cos_wind  totalImbalance  cos_week               date2  hour  \\\n",
       "0      0.942094 -1.679746       -1.430845  1.412591 2019-04-01 00:00:00     0   \n",
       "1      1.391258 -1.332510       -1.128395  1.412591 2019-04-01 01:00:00     1   \n",
       "2      1.649972 -0.894532       -0.630459  1.412591 2019-04-01 02:00:00     2   \n",
       "3      1.105585  0.419641       -0.394400  1.412591 2019-04-01 03:00:00     3   \n",
       "4     -2.072596 -0.502609       -0.294813  1.412591 2019-04-01 04:00:00     4   \n",
       "...         ...       ...             ...       ...                 ...   ...   \n",
       "27489  0.244664  0.755802        1.322558  0.879520 2022-05-22 20:00:00    20   \n",
       "27490 -0.081019  0.790091        0.924209  0.879520 2022-05-22 21:00:00    21   \n",
       "27491 -0.081019  0.790091        0.444715  0.879520 2022-05-22 22:00:00    22   \n",
       "27492 -0.409943  0.782745        0.000261  0.879520 2022-05-22 23:00:00    23   \n",
       "27709 -1.037748  0.645298        0.190214 -0.318280 2022-06-01 00:00:00     0   \n",
       "\n",
       "       dayOfWeek  dayOfYear dayInMonth  \n",
       "0              0         91          1  \n",
       "1              0         91          1  \n",
       "2              0         91          1  \n",
       "3              0         91          1  \n",
       "4              0         91          1  \n",
       "...          ...        ...        ...  \n",
       "27489          6        142         22  \n",
       "27490          6        142         22  \n",
       "27491          6        142         22  \n",
       "27492          6        142         22  \n",
       "27709          2        152          1  \n",
       "\n",
       "[20032 rows x 24 columns]"
      ]
     },
     "execution_count": 43,
     "metadata": {},
     "output_type": "execute_result"
    }
   ],
   "source": [
    "train_df"
   ]
  },
  {
   "cell_type": "code",
   "execution_count": 44,
   "id": "c4be52e2",
   "metadata": {},
   "outputs": [],
   "source": [
    "usedCols=['sin_day','sin_hour','cos_day','cos_hour','dub_wddir','dub_wdsp','dub_temp','ActualGenerationMW']\n",
    "train_df3 = train_df[usedCols]\n",
    "val_df3 = val_df[usedCols]\n",
    "test_df3 = test_df[usedCols]"
   ]
  },
  {
   "cell_type": "code",
   "execution_count": 45,
   "id": "05af7a91",
   "metadata": {},
   "outputs": [],
   "source": [
    "class WindowGenerator():\n",
    "  def __init__(self, input_width, label_width, shift,\n",
    "               train_df=train_df, val_df=val_df, test_df=test_df,\n",
    "               label_columns=None):\n",
    "    # Store the raw data.\n",
    "    self.train_df3 = train_df3\n",
    "    self.val_df3 = val_df3\n",
    "    self.test_df3 = test_df3\n",
    "\n",
    "    # Work out the label column indices.\n",
    "    self.label_columns = label_columns\n",
    "    if label_columns is not None:\n",
    "      self.label_columns_indices = {name: i for i, name in\n",
    "                                    enumerate(label_columns)}\n",
    "    self.column_indices = {name: i for i, name in\n",
    "                           enumerate(train_df3.columns)}\n",
    "\n",
    "    # Work out the window parameters.\n",
    "    self.input_width = input_width\n",
    "    self.label_width = label_width\n",
    "    self.shift = shift\n",
    "\n",
    "    self.total_window_size = input_width + shift\n",
    "\n",
    "    self.input_slice = slice(0, input_width)\n",
    "    self.input_indices = np.arange(self.total_window_size)[self.input_slice]\n",
    "\n",
    "    self.label_start = self.total_window_size - self.label_width\n",
    "    self.labels_slice = slice(self.label_start, None)\n",
    "    self.label_indices = np.arange(self.total_window_size)[self.labels_slice]\n",
    "\n",
    "  def __repr__(self):\n",
    "    return '\\n'.join([\n",
    "        f'Total window size: {self.total_window_size}',\n",
    "        f'Input indices: {self.input_indices}',\n",
    "        f'Label indices: {self.label_indices}',\n",
    "        f'Label column name(s): {self.label_columns}'])\n",
    "\n"
   ]
  },
  {
   "cell_type": "code",
   "execution_count": 46,
   "id": "e050a88e",
   "metadata": {},
   "outputs": [
    {
     "data": {
      "text/html": [
       "<div>\n",
       "<style scoped>\n",
       "    .dataframe tbody tr th:only-of-type {\n",
       "        vertical-align: middle;\n",
       "    }\n",
       "\n",
       "    .dataframe tbody tr th {\n",
       "        vertical-align: top;\n",
       "    }\n",
       "\n",
       "    .dataframe thead th {\n",
       "        text-align: right;\n",
       "    }\n",
       "</style>\n",
       "<table border=\"1\" class=\"dataframe\">\n",
       "  <thead>\n",
       "    <tr style=\"text-align: right;\">\n",
       "      <th></th>\n",
       "      <th>sin_day</th>\n",
       "      <th>sin_hour</th>\n",
       "      <th>cos_day</th>\n",
       "      <th>cos_hour</th>\n",
       "      <th>dub_wddir</th>\n",
       "      <th>dub_wdsp</th>\n",
       "      <th>dub_temp</th>\n",
       "      <th>ActualGenerationMW</th>\n",
       "    </tr>\n",
       "  </thead>\n",
       "  <tbody>\n",
       "    <tr>\n",
       "      <th>528</th>\n",
       "      <td>1.231230</td>\n",
       "      <td>1.103801</td>\n",
       "      <td>1.231230</td>\n",
       "      <td>0.000242</td>\n",
       "      <td>-0.451384</td>\n",
       "      <td>-1.180783</td>\n",
       "      <td>0.356981</td>\n",
       "      <td>2829.0</td>\n",
       "    </tr>\n",
       "    <tr>\n",
       "      <th>529</th>\n",
       "      <td>1.231230</td>\n",
       "      <td>1.103801</td>\n",
       "      <td>1.231230</td>\n",
       "      <td>0.366281</td>\n",
       "      <td>2.027948</td>\n",
       "      <td>-1.180783</td>\n",
       "      <td>0.456203</td>\n",
       "      <td>2898.0</td>\n",
       "    </tr>\n",
       "    <tr>\n",
       "      <th>530</th>\n",
       "      <td>1.231230</td>\n",
       "      <td>1.103801</td>\n",
       "      <td>1.231230</td>\n",
       "      <td>0.707376</td>\n",
       "      <td>-2.408751</td>\n",
       "      <td>-1.356350</td>\n",
       "      <td>0.277602</td>\n",
       "      <td>2894.0</td>\n",
       "    </tr>\n",
       "    <tr>\n",
       "      <th>531</th>\n",
       "      <td>1.231230</td>\n",
       "      <td>1.103801</td>\n",
       "      <td>1.231230</td>\n",
       "      <td>1.000280</td>\n",
       "      <td>-1.886787</td>\n",
       "      <td>-1.180783</td>\n",
       "      <td>0.099002</td>\n",
       "      <td>2803.0</td>\n",
       "    </tr>\n",
       "    <tr>\n",
       "      <th>532</th>\n",
       "      <td>1.231230</td>\n",
       "      <td>1.103801</td>\n",
       "      <td>1.231230</td>\n",
       "      <td>1.225033</td>\n",
       "      <td>-1.364822</td>\n",
       "      <td>-1.005216</td>\n",
       "      <td>0.118846</td>\n",
       "      <td>2775.0</td>\n",
       "    </tr>\n",
       "    <tr>\n",
       "      <th>...</th>\n",
       "      <td>...</td>\n",
       "      <td>...</td>\n",
       "      <td>...</td>\n",
       "      <td>...</td>\n",
       "      <td>...</td>\n",
       "      <td>...</td>\n",
       "      <td>...</td>\n",
       "      <td>...</td>\n",
       "    </tr>\n",
       "    <tr>\n",
       "      <th>24081</th>\n",
       "      <td>-0.068253</td>\n",
       "      <td>-0.613456</td>\n",
       "      <td>-0.068253</td>\n",
       "      <td>-1.365834</td>\n",
       "      <td>0.070581</td>\n",
       "      <td>0.926022</td>\n",
       "      <td>0.575270</td>\n",
       "      <td>5705.0</td>\n",
       "    </tr>\n",
       "    <tr>\n",
       "      <th>24082</th>\n",
       "      <td>-0.068253</td>\n",
       "      <td>-0.613456</td>\n",
       "      <td>-0.068253</td>\n",
       "      <td>-1.224548</td>\n",
       "      <td>-0.059911</td>\n",
       "      <td>0.574888</td>\n",
       "      <td>0.595115</td>\n",
       "      <td>5501.0</td>\n",
       "    </tr>\n",
       "    <tr>\n",
       "      <th>24083</th>\n",
       "      <td>-0.068253</td>\n",
       "      <td>-0.613456</td>\n",
       "      <td>-0.068253</td>\n",
       "      <td>-0.999795</td>\n",
       "      <td>-0.190402</td>\n",
       "      <td>0.750455</td>\n",
       "      <td>0.773716</td>\n",
       "      <td>5235.0</td>\n",
       "    </tr>\n",
       "    <tr>\n",
       "      <th>24084</th>\n",
       "      <td>-0.068253</td>\n",
       "      <td>-0.613456</td>\n",
       "      <td>-0.068253</td>\n",
       "      <td>-0.706891</td>\n",
       "      <td>-0.190402</td>\n",
       "      <td>1.452723</td>\n",
       "      <td>0.753871</td>\n",
       "      <td>4964.0</td>\n",
       "    </tr>\n",
       "    <tr>\n",
       "      <th>24085</th>\n",
       "      <td>-0.068253</td>\n",
       "      <td>-0.613456</td>\n",
       "      <td>-0.068253</td>\n",
       "      <td>-0.365797</td>\n",
       "      <td>-0.320893</td>\n",
       "      <td>1.803857</td>\n",
       "      <td>0.674493</td>\n",
       "      <td>4785.0</td>\n",
       "    </tr>\n",
       "  </tbody>\n",
       "</table>\n",
       "<p>6693 rows × 8 columns</p>\n",
       "</div>"
      ],
      "text/plain": [
       "        sin_day  sin_hour   cos_day  cos_hour  dub_wddir  dub_wdsp  dub_temp  \\\n",
       "528    1.231230  1.103801  1.231230  0.000242  -0.451384 -1.180783  0.356981   \n",
       "529    1.231230  1.103801  1.231230  0.366281   2.027948 -1.180783  0.456203   \n",
       "530    1.231230  1.103801  1.231230  0.707376  -2.408751 -1.356350  0.277602   \n",
       "531    1.231230  1.103801  1.231230  1.000280  -1.886787 -1.180783  0.099002   \n",
       "532    1.231230  1.103801  1.231230  1.225033  -1.364822 -1.005216  0.118846   \n",
       "...         ...       ...       ...       ...        ...       ...       ...   \n",
       "24081 -0.068253 -0.613456 -0.068253 -1.365834   0.070581  0.926022  0.575270   \n",
       "24082 -0.068253 -0.613456 -0.068253 -1.224548  -0.059911  0.574888  0.595115   \n",
       "24083 -0.068253 -0.613456 -0.068253 -0.999795  -0.190402  0.750455  0.773716   \n",
       "24084 -0.068253 -0.613456 -0.068253 -0.706891  -0.190402  1.452723  0.753871   \n",
       "24085 -0.068253 -0.613456 -0.068253 -0.365797  -0.320893  1.803857  0.674493   \n",
       "\n",
       "       ActualGenerationMW  \n",
       "528                2829.0  \n",
       "529                2898.0  \n",
       "530                2894.0  \n",
       "531                2803.0  \n",
       "532                2775.0  \n",
       "...                   ...  \n",
       "24081              5705.0  \n",
       "24082              5501.0  \n",
       "24083              5235.0  \n",
       "24084              4964.0  \n",
       "24085              4785.0  \n",
       "\n",
       "[6693 rows x 8 columns]"
      ]
     },
     "execution_count": 46,
     "metadata": {},
     "output_type": "execute_result"
    }
   ],
   "source": [
    "val_df3"
   ]
  },
  {
   "cell_type": "code",
   "execution_count": 47,
   "id": "cb6b880b",
   "metadata": {},
   "outputs": [],
   "source": [
    "@property\n",
    "def train(self):\n",
    "  return self.make_dataset(self.train_df3)\n",
    "\n",
    "@property\n",
    "def val(self):\n",
    "  return self.make_dataset(self.val_df3)\n",
    "\n",
    "@property\n",
    "def test(self):\n",
    "  return self.make_dataset(self.test_df3)\n",
    "\n",
    "@property\n",
    "def example(self):\n",
    "  \"\"\"Get and cache an example batch of `inputs, labels` for plotting.\"\"\"\n",
    "  result = getattr(self, '_example', None)\n",
    "  if result is None:\n",
    "    # No example batch was found, so get one from the `.train` dataset\n",
    "    result = next(iter(self.train))\n",
    "    # And cache it for next time\n",
    "    self._example = result\n",
    "  return result\n",
    "\n",
    "WindowGenerator.train = train\n",
    "WindowGenerator.val = val\n",
    "WindowGenerator.test = test\n",
    "WindowGenerator.example = example\n",
    "\n"
   ]
  },
  {
   "cell_type": "code",
   "execution_count": 48,
   "id": "60de4a23",
   "metadata": {},
   "outputs": [],
   "source": [
    "def split_window(self, features):\n",
    "  inputs = features[:, self.input_slice, :]\n",
    "  labels = features[:, self.labels_slice, :]\n",
    "  if self.label_columns is not None:\n",
    "    labels = tf.stack(\n",
    "        [labels[:, :, self.column_indices[name]] for name in self.label_columns],\n",
    "        axis=-1)\n",
    "\n",
    "  # Slicing doesn't preserve static shape information, so set the shapes\n",
    "  # manually. This way the `tf.data.Datasets` are easier to inspect.\n",
    "  inputs.set_shape([None, self.input_width, None])\n",
    "  labels.set_shape([None, self.label_width, None])\n",
    "\n",
    "  return inputs, labels\n",
    "\n",
    "WindowGenerator.split_window = split_window"
   ]
  },
  {
   "cell_type": "code",
   "execution_count": 49,
   "id": "3d35ed52",
   "metadata": {},
   "outputs": [],
   "source": [
    "def plot(self, model=None, plot_col='ActualGenerationMW', max_subplots=3):\n",
    "  inputs, labels = self.example\n",
    "  plt.figure(figsize=(12, 8))\n",
    "  plot_col_index = self.column_indices[plot_col]\n",
    "  max_n = min(max_subplots, len(inputs))\n",
    "  for n in range(max_n):\n",
    "    plt.subplot(max_n, 1, n+1)\n",
    "    plt.ylabel(f'{plot_col} [normed]')\n",
    "    plt.plot(self.input_indices, inputs[n, :, plot_col_index],\n",
    "             label='Inputs', marker='.', zorder=-10)\n",
    "\n",
    "    if self.label_columns:\n",
    "      label_col_index = self.label_columns_indices.get(plot_col, None)\n",
    "    else:\n",
    "      label_col_index = plot_col_index\n",
    "\n",
    "    if label_col_index is None:\n",
    "      continue\n",
    "\n",
    "    plt.scatter(self.label_indices, labels[n, :, label_col_index],\n",
    "                edgecolors='k', label='Labels', c='#2ca02c', s=64)\n",
    "    if model is not None:\n",
    "      predictions = model(inputs)\n",
    "      plt.scatter(self.label_indices, predictions[n, :, label_col_index],\n",
    "                  marker='X', edgecolors='k', label='Predictions',\n",
    "                  c='#ff7f0e', s=64)\n",
    "\n",
    "    if n == 0:\n",
    "      plt.legend()\n",
    "\n",
    "  plt.xlabel('Time [h]')\n",
    "\n",
    "WindowGenerator.plot = plot"
   ]
  },
  {
   "cell_type": "markdown",
   "id": "517a1a17",
   "metadata": {},
   "source": [
    "\n",
    "# Baseline Model"
   ]
  },
  {
   "cell_type": "code",
   "execution_count": 50,
   "id": "e28f09a4",
   "metadata": {},
   "outputs": [],
   "source": [
    "import tensorflow as tf"
   ]
  },
  {
   "cell_type": "code",
   "execution_count": 51,
   "id": "9887656c",
   "metadata": {},
   "outputs": [
    {
     "data": {
      "text/plain": [
       "Total window size: 2\n",
       "Input indices: [0]\n",
       "Label indices: [1]\n",
       "Label column name(s): ['ActualGenerationMW']"
      ]
     },
     "execution_count": 51,
     "metadata": {},
     "output_type": "execute_result"
    }
   ],
   "source": [
    "column_indices = {name: i for i, name in enumerate(df.columns)}\n",
    "\n",
    "n = len(df)\n",
    "train_df = df[0:int(n*0.7)]\n",
    "val_df = df[int(n*0.7):int(n*0.9)]\n",
    "test_df = df[int(n*0.9):]\n",
    "\n",
    "num_features = df.shape[1]\n",
    "single_step_window = WindowGenerator(\n",
    "    input_width=1, label_width=1, shift=1,\n",
    "    label_columns=['ActualGenerationMW'])\n",
    "single_step_window"
   ]
  },
  {
   "cell_type": "code",
   "execution_count": 52,
   "id": "78460d89",
   "metadata": {},
   "outputs": [],
   "source": [
    "def make_dataset(self, data):\n",
    "  data = np.array(data, dtype=np.float32)\n",
    "  ds = tf.keras.utils.timeseries_dataset_from_array(\n",
    "      data=data,\n",
    "      targets=None,\n",
    "      sequence_length=self.total_window_size,\n",
    "      sequence_stride=1,\n",
    "      shuffle=True,\n",
    "      batch_size=32,)\n",
    "\n",
    "  ds = ds.map(self.split_window)\n",
    "\n",
    "  return ds\n",
    "\n",
    "WindowGenerator.make_dataset = make_dataset"
   ]
  },
  {
   "cell_type": "code",
   "execution_count": 53,
   "id": "a80ba1df",
   "metadata": {},
   "outputs": [
    {
     "name": "stdout",
     "output_type": "stream",
     "text": [
      "210/210 [==============================] - 2s 6ms/step - loss: 18385690.0000 - mean_absolute_error: 4205.3291\n"
     ]
    }
   ],
   "source": [
    "class Baseline(tf.keras.Model):\n",
    "  def __init__(self, label_index=None):\n",
    "    super().__init__()\n",
    "    self.label_index = label_index\n",
    "\n",
    "  def call(self, inputs):\n",
    "    if self.label_index is None:\n",
    "      return inputs\n",
    "    result = inputs[:, :, self.label_index]\n",
    "    return result[:, :, tf.newaxis]\n",
    "\n",
    "baseline = Baseline(label_index=column_indices['ActualGenerationMW'])\n",
    "\n",
    "baseline.compile(loss=tf.keras.losses.MeanSquaredError(),\n",
    "                 metrics=[tf.keras.metrics.MeanAbsoluteError()])\n",
    "\n",
    "val_performance = {}\n",
    "performance = {}\n",
    "val_performance['Baseline'] = baseline.evaluate(single_step_window.val)\n",
    "performance['Baseline'] = baseline.evaluate(single_step_window.test, verbose=0)"
   ]
  },
  {
   "cell_type": "code",
   "execution_count": 54,
   "id": "174b9413",
   "metadata": {},
   "outputs": [
    {
     "data": {
      "text/plain": [
       "Total window size: 25\n",
       "Input indices: [ 0  1  2  3  4  5  6  7  8  9 10 11 12 13 14 15 16 17 18 19 20 21 22 23]\n",
       "Label indices: [ 1  2  3  4  5  6  7  8  9 10 11 12 13 14 15 16 17 18 19 20 21 22 23 24]\n",
       "Label column name(s): ['ActualGenerationMW']"
      ]
     },
     "execution_count": 54,
     "metadata": {},
     "output_type": "execute_result"
    }
   ],
   "source": [
    "wide_window = WindowGenerator(\n",
    "    input_width=24, label_width=24, shift=1,\n",
    "    label_columns=['ActualGenerationMW'])\n",
    "\n",
    "wide_window"
   ]
  },
  {
   "cell_type": "code",
   "execution_count": 55,
   "id": "6fd6bdf5",
   "metadata": {},
   "outputs": [
    {
     "name": "stdout",
     "output_type": "stream",
     "text": [
      "Input shape: (32, 24, 8)\n",
      "Output shape: (32, 24, 1)\n"
     ]
    },
    {
     "data": {
      "image/png": "[encoded data removed]",
      "text/plain": [
       "<Figure size 864x576 with 3 Axes>"
      ]
     },
     "metadata": {
      "needs_background": "light"
     },
     "output_type": "display_data"
    }
   ],
   "source": [
    "print('Input shape:', wide_window.example[0].shape)\n",
    "print('Output shape:', baseline(wide_window.example[0]).shape)\n",
    "wide_window.plot(baseline)"
   ]
  },
  {
   "cell_type": "markdown",
   "id": "6ce9ccad",
   "metadata": {},
   "source": [
    "## Convolutional Neural Network\n"
   ]
  },
  {
   "cell_type": "code",
   "execution_count": null,
   "id": "1dc39579",
   "metadata": {},
   "outputs": [],
   "source": []
  },
  {
   "cell_type": "code",
   "execution_count": 56,
   "id": "6abc7f81",
   "metadata": {},
   "outputs": [
    {
     "data": {
      "text/plain": [
       "\"# I think this could be important,\\n# If convulutional width is set to 3, then given 3 hours of inputs it predicts 1 hour into the future\\n# We want for \\nCONV_WIDTH = 3\\n\\nconv_window = WindowGenerator(\\n    input_width=CONV_WIDTH,\\n    label_width=1,\\n    shift=1,\\n    label_columns=['ActualGenerationMW'])\\n\\nconv_window\""
      ]
     },
     "execution_count": 56,
     "metadata": {},
     "output_type": "execute_result"
    }
   ],
   "source": [
    "'''# I think this could be important,\n",
    "# If convulutional width is set to 3, then given 3 hours of inputs it predicts 1 hour into the future\n",
    "# We want for \n",
    "CONV_WIDTH = 3\n",
    "\n",
    "conv_window = WindowGenerator(\n",
    "    input_width=CONV_WIDTH,\n",
    "    label_width=1,\n",
    "    shift=1,\n",
    "    label_columns=['ActualGenerationMW'])\n",
    "\n",
    "conv_window'''"
   ]
  },
  {
   "cell_type": "code",
   "execution_count": 57,
   "id": "d6534cce",
   "metadata": {},
   "outputs": [
    {
     "data": {
      "text/plain": [
       "\"conv_model = tf.keras.Sequential([\\n    tf.keras.layers.Conv1D(filters=32,\\n                           kernel_size=(CONV_WIDTH,),\\n                           activation='relu'),\\n    tf.keras.layers.Dense(units=32, activation='relu'),\\n    tf.keras.layers.Dense(units=1),\\n])\""
      ]
     },
     "execution_count": 57,
     "metadata": {},
     "output_type": "execute_result"
    }
   ],
   "source": [
    "'''conv_model = tf.keras.Sequential([\n",
    "    tf.keras.layers.Conv1D(filters=32,\n",
    "                           kernel_size=(CONV_WIDTH,),\n",
    "                           activation='relu'),\n",
    "    tf.keras.layers.Dense(units=32, activation='relu'),\n",
    "    tf.keras.layers.Dense(units=1),\n",
    "])'''"
   ]
  },
  {
   "cell_type": "markdown",
   "id": "1518629d",
   "metadata": {},
   "source": [
    "## Artificial Neural Networks"
   ]
  },
  {
   "cell_type": "code",
   "execution_count": 58,
   "id": "ca25cd9f",
   "metadata": {},
   "outputs": [
    {
     "name": "stderr",
     "output_type": "stream",
     "text": [
      "/home/ubuntu/.local/lib/python3.8/site-packages/keras/optimizers/optimizer_v2/adam.py:110: UserWarning: The `lr` argument is deprecated, use `learning_rate` instead.\n",
      "  super(Adam, self).__init__(name, **kwargs)\n"
     ]
    }
   ],
   "source": [
    "import tensorflow as tf\n",
    "ann = tf.keras.models.Sequential([            \n",
    "          tf.keras.layers.Dense(units=111, activation='relu', name=\"Layer_1\"),\n",
    "          tf.keras.layers.Dropout(0.1), #drop-out layer to avoid overfit\n",
    "          tf.keras.layers.Dense(units=111, activation='relu', name=\"Layer_2\"),\n",
    "          tf.keras.layers.Dropout(0.1),\n",
    "          tf.keras.layers.Dense(units=111, activation='relu', name=\"Layer_3\"),\n",
    "          tf.keras.layers.Dropout(0.1),\n",
    "          tf.keras.layers.Dense(units=10, activation='relu', name=\"Layer_4\"),\n",
    "          tf.keras.layers.Dense(units=1, name=\"output_layer\")\n",
    "          ])\n",
    "\n",
    "ann.compile(loss=tf.keras.losses.mae, # mae is short for mean absolute error\n",
    "            optimizer=tf.keras.optimizers.Adam(lr=0.00002),\n",
    "            metrics=[\"mae\"])"
   ]
  },
  {
   "cell_type": "code",
   "execution_count": 59,
   "id": "deb9bdd3",
   "metadata": {},
   "outputs": [],
   "source": [
    "#copying stuff from document...\n",
    "epochs=60\n",
    "learning_rate = 0.1\n",
    "decay_rate = learning_rate / epochs\n",
    "momentum = 0.8\n",
    "\n",
    "#sgd = SGD(lr=learning_rate, momentum=momentum, decay=decay_rate, nesterov=False)\n",
    "ann.compile(loss=tf.keras.losses.mae, # mae is short for mean absolute error\n",
    "            optimizer=tf.keras.optimizers.Adam(lr=0.00002),\n",
    "            metrics=[\"mae\"])"
   ]
  },
  {
   "cell_type": "code",
   "execution_count": 60,
   "id": "e2282213",
   "metadata": {
    "scrolled": true
   },
   "outputs": [
    {
     "name": "stdout",
     "output_type": "stream",
     "text": [
      "Epoch 1/20\n",
      "101/101 [==============================] - 2s 7ms/step - loss: 4337.8403 - mae: 4337.8403\n",
      "Epoch 2/20\n",
      "101/101 [==============================] - 1s 7ms/step - loss: 4337.6494 - mae: 4337.6494\n",
      "Epoch 3/20\n",
      "101/101 [==============================] - 1s 7ms/step - loss: 4337.4331 - mae: 4337.4331\n",
      "Epoch 4/20\n",
      "101/101 [==============================] - 1s 7ms/step - loss: 4337.1270 - mae: 4337.1260\n",
      "Epoch 5/20\n",
      "101/101 [==============================] - 1s 7ms/step - loss: 4336.6489 - mae: 4336.6489\n",
      "Epoch 6/20\n",
      "101/101 [==============================] - 1s 7ms/step - loss: 4335.8740 - mae: 4335.8740\n",
      "Epoch 7/20\n",
      "101/101 [==============================] - 1s 7ms/step - loss: 4334.7515 - mae: 4334.7515\n",
      "Epoch 8/20\n",
      "101/101 [==============================] - 1s 8ms/step - loss: 4333.1611 - mae: 4333.1611\n",
      "Epoch 9/20\n",
      "101/101 [==============================] - 1s 7ms/step - loss: 4330.9375 - mae: 4330.9375\n",
      "Epoch 10/20\n",
      "101/101 [==============================] - 1s 7ms/step - loss: 4327.9395 - mae: 4327.9395\n",
      "Epoch 11/20\n",
      "101/101 [==============================] - 1s 8ms/step - loss: 4324.0029 - mae: 4324.0029\n",
      "Epoch 12/20\n",
      "101/101 [==============================] - 1s 8ms/step - loss: 4318.9814 - mae: 4318.9814\n",
      "Epoch 13/20\n",
      "101/101 [==============================] - 1s 8ms/step - loss: 4312.5762 - mae: 4312.5762\n",
      "Epoch 14/20\n",
      "101/101 [==============================] - 1s 7ms/step - loss: 4304.7632 - mae: 4304.7632\n",
      "Epoch 15/20\n",
      "101/101 [==============================] - 1s 7ms/step - loss: 4295.2363 - mae: 4295.2368\n",
      "Epoch 16/20\n",
      "101/101 [==============================] - 1s 7ms/step - loss: 4283.8574 - mae: 4283.8569\n",
      "Epoch 17/20\n",
      "101/101 [==============================] - 1s 7ms/step - loss: 4270.2930 - mae: 4270.2930\n",
      "Epoch 18/20\n",
      "101/101 [==============================] - 1s 7ms/step - loss: 4254.5176 - mae: 4254.5176\n",
      "Epoch 19/20\n",
      "101/101 [==============================] - 1s 7ms/step - loss: 4236.3457 - mae: 4236.3462\n",
      "Epoch 20/20\n",
      "101/101 [==============================] - 1s 7ms/step - loss: 4215.2979 - mae: 4215.2974\n"
     ]
    },
    {
     "data": {
      "text/plain": [
       "<keras.callbacks.History at 0x7f7110337e50>"
      ]
     },
     "execution_count": 60,
     "metadata": {},
     "output_type": "execute_result"
    }
   ],
   "source": [
    "ann.fit(X_train1,y_train, batch_size=200, epochs=20)"
   ]
  },
  {
   "cell_type": "code",
   "execution_count": 61,
   "id": "3f9f7228",
   "metadata": {},
   "outputs": [
    {
     "name": "stdout",
     "output_type": "stream",
     "text": [
      "210/210 [==============================] - 1s 2ms/step\n"
     ]
    }
   ],
   "source": [
    "y_pred=ann.predict(X_valid1)"
   ]
  },
  {
   "cell_type": "code",
   "execution_count": 62,
   "id": "ca9f358b",
   "metadata": {},
   "outputs": [
    {
     "name": "stdout",
     "output_type": "stream",
     "text": [
      "Mean Absolute Error: 4070.77846229584\n",
      "Mean Squared Error: 17274793.112148765\n",
      "Root Mean Squared Error: 4156.295599707601\n"
     ]
    }
   ],
   "source": [
    "from sklearn import metrics\n",
    "\n",
    "print('Mean Absolute Error:', metrics.mean_absolute_error(y_valid, y_pred))\n",
    "print('Mean Squared Error:', metrics.mean_squared_error(y_valid, y_pred))\n",
    "print('Root Mean Squared Error:', np.sqrt(metrics.mean_squared_error(y_valid, y_pred)))"
   ]
  },
  {
   "cell_type": "markdown",
   "id": "99240c2e",
   "metadata": {},
   "source": [
    "For lr=0.002 and  batch_size=200, epochs=100)\n",
    "\n",
    "Mean Absolute Error: 470.42779251935326\n",
    "Mean Squared Error: 353878.8971401352\n",
    "Root Mean Squared Error: 594.877211817813\n",
    "\n",
    "For lr=0.0002 and  batch_size=200, epochs=100)\n",
    "Mean Absolute Error: 478.03476671201486\n",
    "Mean Squared Error: 364369.589799041\n",
    "Root Mean Squared Error: 603.6303420132565\n",
    "\n",
    "For lr=0.0002 and  batch_size=200, epochs=150)\n",
    "Mean Absolute Error: 470.0360041216103\n",
    "Mean Squared Error: 354797.59158343874\n",
    "Root Mean Squared Error: 595.648882802141"
   ]
  },
  {
   "cell_type": "code",
   "execution_count": 63,
   "id": "d458a2e4",
   "metadata": {},
   "outputs": [
    {
     "data": {
      "image/png": "[encoded data removed]",
      "text/plain": [
       "<Figure size 1332x756 with 1 Axes>"
      ]
     },
     "metadata": {
      "needs_background": "light"
     },
     "output_type": "display_data"
    }
   ],
   "source": [
    "import matplotlib.pyplot as plt \n",
    "from matplotlib.pyplot import figure\n",
    "\n",
    "plt.plot(X_valid['date2'][-7*24:],y_pred[-7*24:])\n",
    "plt.plot(X_valid['date2'][-7*24:],y_valid[-7*24:])\n",
    "fig = plt.gcf()\n",
    "fig.set_size_inches(18.5, 10.5)\n",
    "fig.savefig('test2png.png', dpi=100)"
   ]
  },
  {
   "cell_type": "code",
   "execution_count": 64,
   "id": "57a9cd86",
   "metadata": {},
   "outputs": [],
   "source": [
    "#plt.barh(X_valid1.columns, ann.feature_importances_)"
   ]
  },
  {
   "cell_type": "markdown",
   "id": "4b461a12",
   "metadata": {},
   "source": [
    "## Muliple hour input Forecasting"
   ]
  },
  {
   "cell_type": "markdown",
   "id": "5cd698af",
   "metadata": {},
   "source": [
    "Below from https://www.tensorflow.org/tutorials/structured_data/time_series"
   ]
  },
  {
   "cell_type": "code",
   "execution_count": 65,
   "id": "ed3abd90",
   "metadata": {},
   "outputs": [],
   "source": [
    "import IPython\n",
    "import IPython.display"
   ]
  },
  {
   "cell_type": "code",
   "execution_count": 66,
   "id": "c6d20554",
   "metadata": {},
   "outputs": [
    {
     "data": {
      "text/plain": [
       "Total window size: 4\n",
       "Input indices: [0 1 2]\n",
       "Label indices: [3]\n",
       "Label column name(s): ['ActualGenerationMW']"
      ]
     },
     "execution_count": 66,
     "metadata": {},
     "output_type": "execute_result"
    }
   ],
   "source": [
    "CONV_WIDTH = 3\n",
    "conv_window = WindowGenerator(\n",
    "    input_width=CONV_WIDTH,\n",
    "    label_width=1,\n",
    "    shift=1,\n",
    "    label_columns=['ActualGenerationMW'])\n",
    "\n",
    "conv_window"
   ]
  },
  {
   "cell_type": "code",
   "execution_count": 67,
   "id": "0702cecf",
   "metadata": {},
   "outputs": [
    {
     "data": {
      "text/plain": [
       "Total window size: 7\n",
       "Input indices: [0 1 2 3 4 5]\n",
       "Label indices: [6]\n",
       "Label column name(s): ['ActualGenerationMW']"
      ]
     },
     "execution_count": 67,
     "metadata": {},
     "output_type": "execute_result"
    }
   ],
   "source": [
    "w2 = WindowGenerator(input_width=6, label_width=1, shift=1,\n",
    "                     label_columns=['ActualGenerationMW'])\n",
    "w2"
   ]
  },
  {
   "cell_type": "code",
   "execution_count": 68,
   "id": "54c68c70",
   "metadata": {},
   "outputs": [
    {
     "name": "stdout",
     "output_type": "stream",
     "text": [
      "All shapes are: (batch, time, features)\n",
      "Window shape: (3, 7, 8)\n",
      "Inputs shape: (3, 6, 8)\n",
      "Labels shape: (3, 1, 1)\n"
     ]
    }
   ],
   "source": [
    "\n",
    "\n",
    "# Stack three slices, the length of the total window.\n",
    "example_window = tf.stack([np.array(train_df3[:w2.total_window_size]),\n",
    "                           np.array(train_df3[100:100+w2.total_window_size]),\n",
    "                           np.array(train_df3[200:200+w2.total_window_size])])\n",
    "\n",
    "example_inputs, example_labels = w2.split_window(example_window)\n",
    "\n",
    "print('All shapes are: (batch, time, features)')\n",
    "print(f'Window shape: {example_window.shape}')\n",
    "print(f'Inputs shape: {example_inputs.shape}')\n",
    "print(f'Labels shape: {example_labels.shape}')"
   ]
  },
  {
   "cell_type": "code",
   "execution_count": 69,
   "id": "54664ef9",
   "metadata": {},
   "outputs": [
    {
     "data": {
      "text/plain": [
       "Total window size: 4\n",
       "Input indices: [0 1 2]\n",
       "Label indices: [3]\n",
       "Label column name(s): ['ActualGenerationMW']"
      ]
     },
     "execution_count": 69,
     "metadata": {},
     "output_type": "execute_result"
    }
   ],
   "source": [
    "CONV_WIDTH = 3\n",
    "conv_window = WindowGenerator(\n",
    "    input_width=CONV_WIDTH,\n",
    "    label_width=1,\n",
    "    shift=1,\n",
    "    label_columns=['ActualGenerationMW'])\n",
    "\n",
    "conv_window"
   ]
  },
  {
   "cell_type": "code",
   "execution_count": 70,
   "id": "93296280",
   "metadata": {},
   "outputs": [
    {
     "data": {
      "text/plain": [
       "Text(0.5, 1.0, 'Given 3 hours of inputs, predict 1 hour into the future.')"
      ]
     },
     "execution_count": 70,
     "metadata": {},
     "output_type": "execute_result"
    },
    {
     "data": {
      "image/png": "[encoded data removed]",
      "text/plain": [
       "<Figure size 864x576 with 3 Axes>"
      ]
     },
     "metadata": {
      "needs_background": "light"
     },
     "output_type": "display_data"
    }
   ],
   "source": [
    "conv_window.plot()\n",
    "plt.title(\"Given 3 hours of inputs, predict 1 hour into the future.\")"
   ]
  },
  {
   "cell_type": "markdown",
   "id": "3ce1451b",
   "metadata": {},
   "source": [
    "### Actually activating the models"
   ]
  },
  {
   "cell_type": "code",
   "execution_count": 71,
   "id": "52572ae7",
   "metadata": {},
   "outputs": [],
   "source": [
    "multi_step_dense = tf.keras.Sequential([\n",
    "    # Shape: (time, features) => (time*features)\n",
    "    tf.keras.layers.Flatten(),\n",
    "    tf.keras.layers.Dense(units=32, activation='relu'),\n",
    "    tf.keras.layers.Dense(units=32, activation='relu'),\n",
    "    tf.keras.layers.Dense(units=1),\n",
    "    # Add back the time dimension.\n",
    "    # Shape: (outputs) => (1, outputs)\n",
    "    tf.keras.layers.Reshape([1, -1]),\n",
    "])"
   ]
  },
  {
   "cell_type": "code",
   "execution_count": 72,
   "id": "941a890e",
   "metadata": {},
   "outputs": [],
   "source": [
    "MAX_EPOCHS = 20\n",
    "\n",
    "def compile_and_fit(model, window, patience=2):\n",
    "  early_stopping = tf.keras.callbacks.EarlyStopping(monitor='val_loss',\n",
    "                                                    patience=patience,\n",
    "                                                    mode='min')\n",
    "\n",
    "  model.compile(loss=tf.keras.losses.MeanSquaredError(),\n",
    "                optimizer=tf.keras.optimizers.Adam(),\n",
    "                metrics=[tf.keras.metrics.MeanAbsoluteError()])\n",
    "\n",
    "  history = model.fit(window.train, epochs=MAX_EPOCHS,\n",
    "                      validation_data=window.val,\n",
    "                      callbacks=[early_stopping])\n",
    "  return history"
   ]
  },
  {
   "cell_type": "code",
   "execution_count": 73,
   "id": "90eba86e",
   "metadata": {},
   "outputs": [],
   "source": [
    "conv_model = tf.keras.Sequential([\n",
    "    tf.keras.layers.Conv1D(filters=32,\n",
    "                           kernel_size=(CONV_WIDTH,),\n",
    "                           activation='relu'),\n",
    "    tf.keras.layers.Dense(units=32, activation='relu'),\n",
    "    tf.keras.layers.Dense(units=1),\n",
    "])"
   ]
  },
  {
   "cell_type": "code",
   "execution_count": null,
   "id": "2395463d",
   "metadata": {},
   "outputs": [],
   "source": []
  },
  {
   "cell_type": "code",
   "execution_count": null,
   "id": "25fb8f42",
   "metadata": {},
   "outputs": [
    {
     "name": "stdout",
     "output_type": "stream",
     "text": [
      "Epoch 1/20\n",
      "626/626 [==============================] - 6s 8ms/step - loss: 934317.0625 - mean_absolute_error: 488.2895 - val_loss: 58002.0820 - val_mean_absolute_error: 181.0971\n",
      "Epoch 2/20\n",
      "626/626 [==============================] - 5s 8ms/step - loss: 56031.9297 - mean_absolute_error: 178.9188 - val_loss: 52388.6641 - val_mean_absolute_error: 172.3269\n",
      "Epoch 3/20\n",
      "626/626 [==============================] - 5s 7ms/step - loss: 52135.7695 - mean_absolute_error: 172.3177 - val_loss: 50980.9375 - val_mean_absolute_error: 169.5261\n",
      "Epoch 4/20\n",
      "626/626 [==============================] - 5s 8ms/step - loss: 49982.1719 - mean_absolute_error: 168.7559 - val_loss: 46715.3203 - val_mean_absolute_error: 161.9879\n",
      "Epoch 5/20\n",
      "626/626 [==============================] - 5s 7ms/step - loss: 48244.8008 - mean_absolute_error: 165.4519 - val_loss: 44378.9805 - val_mean_absolute_error: 157.2759\n",
      "Epoch 6/20\n",
      "626/626 [==============================] - 5s 7ms/step - loss: 45286.3984 - mean_absolute_error: 159.8096 - val_loss: 43249.4414 - val_mean_absolute_error: 154.3977\n",
      "Epoch 7/20\n",
      "626/626 [==============================] - 5s 8ms/step - loss: 44487.5742 - mean_absolute_error: 158.6001 - val_loss: 43418.9531 - val_mean_absolute_error: 156.8037\n"
     ]
    }
   ],
   "source": [
    "history = compile_and_fit(conv_model, conv_window)\n",
    "\n",
    "IPython.display.clear_output()\n",
    "val_performance['Conv'] = conv_model.evaluate(conv_window.val)\n",
    "performance['Conv'] = conv_model.evaluate(conv_window.test, verbose=0)"
   ]
  },
  {
   "cell_type": "code",
   "execution_count": null,
   "id": "c6963254",
   "metadata": {},
   "outputs": [],
   "source": [
    "LABEL_WIDTH = 24\n",
    "INPUT_WIDTH = LABEL_WIDTH + (CONV_WIDTH - 1)\n",
    "wide_conv_window = WindowGenerator(\n",
    "    input_width=INPUT_WIDTH,\n",
    "    label_width=LABEL_WIDTH,\n",
    "    shift=1,\n",
    "    label_columns=['ActualGenerationMW'])\n",
    "\n",
    "wide_conv_window\n",
    "\n",
    "wide_conv_window.plot(conv_model)"
   ]
  },
  {
   "cell_type": "markdown",
   "id": "9affe71d",
   "metadata": {},
   "source": [
    "### Transforming new data for the model"
   ]
  },
  {
   "cell_type": "code",
   "execution_count": null,
   "id": "e4528168",
   "metadata": {},
   "outputs": [],
   "source": [
    "train_df3"
   ]
  },
  {
   "cell_type": "code",
   "execution_count": null,
   "id": "0a59b4b7",
   "metadata": {},
   "outputs": [],
   "source": [
    "1"
   ]
  },
  {
   "cell_type": "markdown",
   "id": "49d2469d",
   "metadata": {},
   "source": [
    "### Saving the model in a directory"
   ]
  },
  {
   "cell_type": "code",
   "execution_count": null,
   "id": "b944b53a",
   "metadata": {},
   "outputs": [],
   "source": [
    "conv_model.save('models/conv_model')"
   ]
  }
 ],
 "metadata": {
  "kernelspec": {
   "display_name": "Python 3 (ipykernel)",
   "language": "python",
   "name": "python3"
  },
  "language_info": {
   "codemirror_mode": {
    "name": "ipython",
    "version": 3
   },
   "file_extension": ".py",
   "mimetype": "text/x-python",
   "name": "python",
   "nbconvert_exporter": "python",
   "pygments_lexer": "ipython3",
   "version": "3.8.10"
  }
 },
 "nbformat": 4,
 "nbformat_minor": 5
}
